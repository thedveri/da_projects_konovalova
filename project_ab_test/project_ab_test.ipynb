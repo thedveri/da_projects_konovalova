{
 "cells": [
  {
   "cell_type": "markdown",
   "id": "1ce4df9a",
   "metadata": {},
   "source": [
    "# Приоритизация гипотез и анализ A/B-теста\n",
    "\n",
    "Цель работы - выбрать изменение, которое приведет к росту выручки интернет-магазина. В первой части исследования проводится приоритизация гипотез и выбирается наиболее перспективная для тестирования. Затем для проверки гипотезы проводится А/B-тест.\n",
    "\n",
    "Результаты A/B-теста перед анализом прошли необходимую обработку (работа с пропусками, дубликатами, типом данных). Проверка гипотезы проведена при помощи статистического теста как на изначальных, так и на отфильтрованных данных. В конце работы даны выводы и рекомендации."
   ]
  },
  {
   "cell_type": "code",
   "execution_count": 1,
   "id": "0e42a5d1",
   "metadata": {},
   "outputs": [],
   "source": [
    "# импорт необходимых библиотек\n",
    "import warnings\n",
    "warnings.simplefilter(action='ignore', category=FutureWarning)\n",
    "import pandas as pd\n",
    "pd.set_option('max_colwidth', 400)\n",
    "import numpy as np\n",
    "import matplotlib.pyplot as plt\n",
    "import os\n",
    "import datetime as dt\n",
    "import scipy.stats as stats"
   ]
  },
  {
   "cell_type": "code",
   "execution_count": 2,
   "id": "8c9a2a9f",
   "metadata": {},
   "outputs": [],
   "source": [
    "def load_csv_choose_path(filename):\n",
    "    \"\"\"\n",
    "    Функция читает csv файл, проверяя 2 пути,\n",
    "    чтобы не требовалось править код перед отправкой ревьюверу.\n",
    "    Созданна коллективно в da_24_teamwork\n",
    "    \"\"\"\n",
    "    path1 = filename\n",
    "    path2 = '/datasets/' + filename\n",
    "    if os.path.exists(path1):\n",
    "        data = pd.read_csv(path1)\n",
    "    elif os.path.exists(path2):\n",
    "        data = pd.read_csv(path2)\n",
    "    else:\n",
    "        raise FileNotFoundError(filename)\n",
    "    return data"
   ]
  },
  {
   "cell_type": "markdown",
   "id": "04828fc9",
   "metadata": {},
   "source": [
    "## Часть 1. Приоритизация гипотез."
   ]
  },
  {
   "cell_type": "markdown",
   "id": "54724120",
   "metadata": {},
   "source": [
    "Выведем на экран информацию о гипотезах:"
   ]
  },
  {
   "cell_type": "code",
   "execution_count": 3,
   "id": "7fcb8c4a",
   "metadata": {},
   "outputs": [
    {
     "data": {
      "text/html": [
       "<div>\n",
       "<style scoped>\n",
       "    .dataframe tbody tr th:only-of-type {\n",
       "        vertical-align: middle;\n",
       "    }\n",
       "\n",
       "    .dataframe tbody tr th {\n",
       "        vertical-align: top;\n",
       "    }\n",
       "\n",
       "    .dataframe thead th {\n",
       "        text-align: right;\n",
       "    }\n",
       "</style>\n",
       "<table border=\"1\" class=\"dataframe\">\n",
       "  <thead>\n",
       "    <tr style=\"text-align: right;\">\n",
       "      <th></th>\n",
       "      <th>Hypothesis</th>\n",
       "      <th>Reach</th>\n",
       "      <th>Impact</th>\n",
       "      <th>Confidence</th>\n",
       "      <th>Efforts</th>\n",
       "    </tr>\n",
       "  </thead>\n",
       "  <tbody>\n",
       "    <tr>\n",
       "      <td>0</td>\n",
       "      <td>Добавить два новых канала привлечения трафика, что позволит привлекать на 30% больше пользователей</td>\n",
       "      <td>3</td>\n",
       "      <td>10</td>\n",
       "      <td>8</td>\n",
       "      <td>6</td>\n",
       "    </tr>\n",
       "    <tr>\n",
       "      <td>1</td>\n",
       "      <td>Запустить собственную службу доставки, что сократит срок доставки заказов</td>\n",
       "      <td>2</td>\n",
       "      <td>5</td>\n",
       "      <td>4</td>\n",
       "      <td>10</td>\n",
       "    </tr>\n",
       "    <tr>\n",
       "      <td>2</td>\n",
       "      <td>Добавить блоки рекомендаций товаров на сайт интернет магазина, чтобы повысить конверсию и средний чек заказа</td>\n",
       "      <td>8</td>\n",
       "      <td>3</td>\n",
       "      <td>7</td>\n",
       "      <td>3</td>\n",
       "    </tr>\n",
       "    <tr>\n",
       "      <td>3</td>\n",
       "      <td>Изменить структура категорий, что увеличит конверсию, т.к. пользователи быстрее найдут нужный товар</td>\n",
       "      <td>8</td>\n",
       "      <td>3</td>\n",
       "      <td>3</td>\n",
       "      <td>8</td>\n",
       "    </tr>\n",
       "    <tr>\n",
       "      <td>4</td>\n",
       "      <td>Изменить цвет фона главной страницы, чтобы увеличить вовлеченность пользователей</td>\n",
       "      <td>3</td>\n",
       "      <td>1</td>\n",
       "      <td>1</td>\n",
       "      <td>1</td>\n",
       "    </tr>\n",
       "    <tr>\n",
       "      <td>5</td>\n",
       "      <td>Добавить страницу отзывов клиентов о магазине, что позволит увеличить количество заказов</td>\n",
       "      <td>3</td>\n",
       "      <td>2</td>\n",
       "      <td>2</td>\n",
       "      <td>3</td>\n",
       "    </tr>\n",
       "    <tr>\n",
       "      <td>6</td>\n",
       "      <td>Показать на главной странице баннеры с актуальными акциями и распродажами, чтобы увеличить конверсию</td>\n",
       "      <td>5</td>\n",
       "      <td>3</td>\n",
       "      <td>8</td>\n",
       "      <td>3</td>\n",
       "    </tr>\n",
       "    <tr>\n",
       "      <td>7</td>\n",
       "      <td>Добавить форму подписки на все основные страницы, чтобы собрать базу клиентов для email-рассылок</td>\n",
       "      <td>10</td>\n",
       "      <td>7</td>\n",
       "      <td>8</td>\n",
       "      <td>5</td>\n",
       "    </tr>\n",
       "    <tr>\n",
       "      <td>8</td>\n",
       "      <td>Запустить акцию, дающую скидку на товар в день рождения</td>\n",
       "      <td>1</td>\n",
       "      <td>9</td>\n",
       "      <td>9</td>\n",
       "      <td>5</td>\n",
       "    </tr>\n",
       "  </tbody>\n",
       "</table>\n",
       "</div>"
      ],
      "text/plain": [
       "                                                                                                     Hypothesis  \\\n",
       "0            Добавить два новых канала привлечения трафика, что позволит привлекать на 30% больше пользователей   \n",
       "1                                     Запустить собственную службу доставки, что сократит срок доставки заказов   \n",
       "2  Добавить блоки рекомендаций товаров на сайт интернет магазина, чтобы повысить конверсию и средний чек заказа   \n",
       "3           Изменить структура категорий, что увеличит конверсию, т.к. пользователи быстрее найдут нужный товар   \n",
       "4                              Изменить цвет фона главной страницы, чтобы увеличить вовлеченность пользователей   \n",
       "5                      Добавить страницу отзывов клиентов о магазине, что позволит увеличить количество заказов   \n",
       "6          Показать на главной странице баннеры с актуальными акциями и распродажами, чтобы увеличить конверсию   \n",
       "7              Добавить форму подписки на все основные страницы, чтобы собрать базу клиентов для email-рассылок   \n",
       "8                                                       Запустить акцию, дающую скидку на товар в день рождения   \n",
       "\n",
       "   Reach  Impact  Confidence  Efforts  \n",
       "0      3      10           8        6  \n",
       "1      2       5           4       10  \n",
       "2      8       3           7        3  \n",
       "3      8       3           3        8  \n",
       "4      3       1           1        1  \n",
       "5      3       2           2        3  \n",
       "6      5       3           8        3  \n",
       "7     10       7           8        5  \n",
       "8      1       9           9        5  "
      ]
     },
     "execution_count": 3,
     "metadata": {},
     "output_type": "execute_result"
    }
   ],
   "source": [
    "hypothesis = load_csv_choose_path('hypothesis.csv')\n",
    "hypothesis"
   ]
  },
  {
   "cell_type": "markdown",
   "id": "40aa5481",
   "metadata": {},
   "source": [
    "Каждый параметр гипотез оценен по 10-балльной шкале. Оценим каждую гипотезу при помощи фреймворка ICE:"
   ]
  },
  {
   "cell_type": "code",
   "execution_count": 4,
   "id": "7f1897d5",
   "metadata": {},
   "outputs": [
    {
     "data": {
      "text/html": [
       "<div>\n",
       "<style scoped>\n",
       "    .dataframe tbody tr th:only-of-type {\n",
       "        vertical-align: middle;\n",
       "    }\n",
       "\n",
       "    .dataframe tbody tr th {\n",
       "        vertical-align: top;\n",
       "    }\n",
       "\n",
       "    .dataframe thead th {\n",
       "        text-align: right;\n",
       "    }\n",
       "</style>\n",
       "<table border=\"1\" class=\"dataframe\">\n",
       "  <thead>\n",
       "    <tr style=\"text-align: right;\">\n",
       "      <th></th>\n",
       "      <th>hypothesis</th>\n",
       "      <th>ICE</th>\n",
       "    </tr>\n",
       "  </thead>\n",
       "  <tbody>\n",
       "    <tr>\n",
       "      <td>8</td>\n",
       "      <td>Запустить акцию, дающую скидку на товар в день рождения</td>\n",
       "      <td>16.200000</td>\n",
       "    </tr>\n",
       "    <tr>\n",
       "      <td>0</td>\n",
       "      <td>Добавить два новых канала привлечения трафика, что позволит привлекать на 30% больше пользователей</td>\n",
       "      <td>13.333333</td>\n",
       "    </tr>\n",
       "    <tr>\n",
       "      <td>7</td>\n",
       "      <td>Добавить форму подписки на все основные страницы, чтобы собрать базу клиентов для email-рассылок</td>\n",
       "      <td>11.200000</td>\n",
       "    </tr>\n",
       "    <tr>\n",
       "      <td>6</td>\n",
       "      <td>Показать на главной странице баннеры с актуальными акциями и распродажами, чтобы увеличить конверсию</td>\n",
       "      <td>8.000000</td>\n",
       "    </tr>\n",
       "    <tr>\n",
       "      <td>2</td>\n",
       "      <td>Добавить блоки рекомендаций товаров на сайт интернет магазина, чтобы повысить конверсию и средний чек заказа</td>\n",
       "      <td>7.000000</td>\n",
       "    </tr>\n",
       "    <tr>\n",
       "      <td>1</td>\n",
       "      <td>Запустить собственную службу доставки, что сократит срок доставки заказов</td>\n",
       "      <td>2.000000</td>\n",
       "    </tr>\n",
       "    <tr>\n",
       "      <td>5</td>\n",
       "      <td>Добавить страницу отзывов клиентов о магазине, что позволит увеличить количество заказов</td>\n",
       "      <td>1.333333</td>\n",
       "    </tr>\n",
       "    <tr>\n",
       "      <td>3</td>\n",
       "      <td>Изменить структура категорий, что увеличит конверсию, т.к. пользователи быстрее найдут нужный товар</td>\n",
       "      <td>1.125000</td>\n",
       "    </tr>\n",
       "    <tr>\n",
       "      <td>4</td>\n",
       "      <td>Изменить цвет фона главной страницы, чтобы увеличить вовлеченность пользователей</td>\n",
       "      <td>1.000000</td>\n",
       "    </tr>\n",
       "  </tbody>\n",
       "</table>\n",
       "</div>"
      ],
      "text/plain": [
       "                                                                                                     hypothesis  \\\n",
       "8                                                       Запустить акцию, дающую скидку на товар в день рождения   \n",
       "0            Добавить два новых канала привлечения трафика, что позволит привлекать на 30% больше пользователей   \n",
       "7              Добавить форму подписки на все основные страницы, чтобы собрать базу клиентов для email-рассылок   \n",
       "6          Показать на главной странице баннеры с актуальными акциями и распродажами, чтобы увеличить конверсию   \n",
       "2  Добавить блоки рекомендаций товаров на сайт интернет магазина, чтобы повысить конверсию и средний чек заказа   \n",
       "1                                     Запустить собственную службу доставки, что сократит срок доставки заказов   \n",
       "5                      Добавить страницу отзывов клиентов о магазине, что позволит увеличить количество заказов   \n",
       "3           Изменить структура категорий, что увеличит конверсию, т.к. пользователи быстрее найдут нужный товар   \n",
       "4                              Изменить цвет фона главной страницы, чтобы увеличить вовлеченность пользователей   \n",
       "\n",
       "         ICE  \n",
       "8  16.200000  \n",
       "0  13.333333  \n",
       "7  11.200000  \n",
       "6   8.000000  \n",
       "2   7.000000  \n",
       "1   2.000000  \n",
       "5   1.333333  \n",
       "3   1.125000  \n",
       "4   1.000000  "
      ]
     },
     "execution_count": 4,
     "metadata": {},
     "output_type": "execute_result"
    }
   ],
   "source": [
    "hypothesis.columns= hypothesis.columns.str.lower()\n",
    "hypothesis['ICE'] = hypothesis['impact']*hypothesis['confidence']/hypothesis['efforts']\n",
    "hypothesis[['hypothesis', 'ICE']].sort_values(by='ICE', ascending=False)"
   ]
  },
  {
   "cell_type": "markdown",
   "id": "a7d9bd3f",
   "metadata": {},
   "source": [
    "Наиболее перспективные гипотезы - 8, 0 и 7. Посмотрим, даст ли фреймворк RICE такой же результат."
   ]
  },
  {
   "cell_type": "code",
   "execution_count": 5,
   "id": "7d5f0f91",
   "metadata": {},
   "outputs": [
    {
     "data": {
      "text/html": [
       "<div>\n",
       "<style scoped>\n",
       "    .dataframe tbody tr th:only-of-type {\n",
       "        vertical-align: middle;\n",
       "    }\n",
       "\n",
       "    .dataframe tbody tr th {\n",
       "        vertical-align: top;\n",
       "    }\n",
       "\n",
       "    .dataframe thead th {\n",
       "        text-align: right;\n",
       "    }\n",
       "</style>\n",
       "<table border=\"1\" class=\"dataframe\">\n",
       "  <thead>\n",
       "    <tr style=\"text-align: right;\">\n",
       "      <th></th>\n",
       "      <th>hypothesis</th>\n",
       "      <th>RICE</th>\n",
       "    </tr>\n",
       "  </thead>\n",
       "  <tbody>\n",
       "    <tr>\n",
       "      <td>7</td>\n",
       "      <td>Добавить форму подписки на все основные страницы, чтобы собрать базу клиентов для email-рассылок</td>\n",
       "      <td>112.0</td>\n",
       "    </tr>\n",
       "    <tr>\n",
       "      <td>2</td>\n",
       "      <td>Добавить блоки рекомендаций товаров на сайт интернет магазина, чтобы повысить конверсию и средний чек заказа</td>\n",
       "      <td>56.0</td>\n",
       "    </tr>\n",
       "    <tr>\n",
       "      <td>0</td>\n",
       "      <td>Добавить два новых канала привлечения трафика, что позволит привлекать на 30% больше пользователей</td>\n",
       "      <td>40.0</td>\n",
       "    </tr>\n",
       "    <tr>\n",
       "      <td>6</td>\n",
       "      <td>Показать на главной странице баннеры с актуальными акциями и распродажами, чтобы увеличить конверсию</td>\n",
       "      <td>40.0</td>\n",
       "    </tr>\n",
       "    <tr>\n",
       "      <td>8</td>\n",
       "      <td>Запустить акцию, дающую скидку на товар в день рождения</td>\n",
       "      <td>16.2</td>\n",
       "    </tr>\n",
       "    <tr>\n",
       "      <td>3</td>\n",
       "      <td>Изменить структура категорий, что увеличит конверсию, т.к. пользователи быстрее найдут нужный товар</td>\n",
       "      <td>9.0</td>\n",
       "    </tr>\n",
       "    <tr>\n",
       "      <td>1</td>\n",
       "      <td>Запустить собственную службу доставки, что сократит срок доставки заказов</td>\n",
       "      <td>4.0</td>\n",
       "    </tr>\n",
       "    <tr>\n",
       "      <td>5</td>\n",
       "      <td>Добавить страницу отзывов клиентов о магазине, что позволит увеличить количество заказов</td>\n",
       "      <td>4.0</td>\n",
       "    </tr>\n",
       "    <tr>\n",
       "      <td>4</td>\n",
       "      <td>Изменить цвет фона главной страницы, чтобы увеличить вовлеченность пользователей</td>\n",
       "      <td>3.0</td>\n",
       "    </tr>\n",
       "  </tbody>\n",
       "</table>\n",
       "</div>"
      ],
      "text/plain": [
       "                                                                                                     hypothesis  \\\n",
       "7              Добавить форму подписки на все основные страницы, чтобы собрать базу клиентов для email-рассылок   \n",
       "2  Добавить блоки рекомендаций товаров на сайт интернет магазина, чтобы повысить конверсию и средний чек заказа   \n",
       "0            Добавить два новых канала привлечения трафика, что позволит привлекать на 30% больше пользователей   \n",
       "6          Показать на главной странице баннеры с актуальными акциями и распродажами, чтобы увеличить конверсию   \n",
       "8                                                       Запустить акцию, дающую скидку на товар в день рождения   \n",
       "3           Изменить структура категорий, что увеличит конверсию, т.к. пользователи быстрее найдут нужный товар   \n",
       "1                                     Запустить собственную службу доставки, что сократит срок доставки заказов   \n",
       "5                      Добавить страницу отзывов клиентов о магазине, что позволит увеличить количество заказов   \n",
       "4                              Изменить цвет фона главной страницы, чтобы увеличить вовлеченность пользователей   \n",
       "\n",
       "    RICE  \n",
       "7  112.0  \n",
       "2   56.0  \n",
       "0   40.0  \n",
       "6   40.0  \n",
       "8   16.2  \n",
       "3    9.0  \n",
       "1    4.0  \n",
       "5    4.0  \n",
       "4    3.0  "
      ]
     },
     "execution_count": 5,
     "metadata": {},
     "output_type": "execute_result"
    }
   ],
   "source": [
    "hypothesis['RICE'] = (hypothesis['reach']*hypothesis['impact']*hypothesis['confidence'])/hypothesis['efforts']\n",
    "hypothesis[['hypothesis', 'RICE']].sort_values(by='RICE', ascending=False)"
   ]
  },
  {
   "cell_type": "markdown",
   "id": "0611cee5",
   "metadata": {},
   "source": [
    "Теперь самая перспективная гипотеза для проверки - 7, причем ее рейтинг в две раза больше следующей по убыванию гипотезы. В свою очередь гипотеза 8 спустилась с 1ого места на 5ое. Причина в том, что во фреймворке RICE мы принимаем во внимание парамет reach или охват, то есть сколько пользователей затронет изменение. Reach 7ой гипотезы максимальный, а у 8ой - минимальный. Несмотря на то, что остальные параметры 7ой гипотезы чуть ниже, чем у 8ой, она является боле перспективной из-за максимального охавата. По этой же причине изменился порядок приоритетов у остальных гипотез."
   ]
  },
  {
   "cell_type": "markdown",
   "id": "07660cb3",
   "metadata": {},
   "source": [
    "## Часть 2. Анализ A/B-теста\n",
    "### 2.1. Знакомство с данными и предобработка\n",
    "\n",
    "Мы провели А/B-тест выбранной гипотезы. Загрузим данные и выведем на экран первые 5 строк вместе с основной информацией о датафрейме."
   ]
  },
  {
   "cell_type": "code",
   "execution_count": 6,
   "id": "abae7108",
   "metadata": {},
   "outputs": [],
   "source": [
    "orders = load_csv_choose_path('orders.csv')\n",
    "visitors = load_csv_choose_path('visitors.csv')"
   ]
  },
  {
   "cell_type": "code",
   "execution_count": 7,
   "id": "6a0e7829",
   "metadata": {},
   "outputs": [
    {
     "data": {
      "text/html": [
       "<div>\n",
       "<style scoped>\n",
       "    .dataframe tbody tr th:only-of-type {\n",
       "        vertical-align: middle;\n",
       "    }\n",
       "\n",
       "    .dataframe tbody tr th {\n",
       "        vertical-align: top;\n",
       "    }\n",
       "\n",
       "    .dataframe thead th {\n",
       "        text-align: right;\n",
       "    }\n",
       "</style>\n",
       "<table border=\"1\" class=\"dataframe\">\n",
       "  <thead>\n",
       "    <tr style=\"text-align: right;\">\n",
       "      <th></th>\n",
       "      <th>transactionId</th>\n",
       "      <th>visitorId</th>\n",
       "      <th>date</th>\n",
       "      <th>revenue</th>\n",
       "      <th>group</th>\n",
       "    </tr>\n",
       "  </thead>\n",
       "  <tbody>\n",
       "    <tr>\n",
       "      <td>0</td>\n",
       "      <td>3667963787</td>\n",
       "      <td>3312258926</td>\n",
       "      <td>2019-08-15</td>\n",
       "      <td>1650</td>\n",
       "      <td>B</td>\n",
       "    </tr>\n",
       "    <tr>\n",
       "      <td>1</td>\n",
       "      <td>2804400009</td>\n",
       "      <td>3642806036</td>\n",
       "      <td>2019-08-15</td>\n",
       "      <td>730</td>\n",
       "      <td>B</td>\n",
       "    </tr>\n",
       "    <tr>\n",
       "      <td>2</td>\n",
       "      <td>2961555356</td>\n",
       "      <td>4069496402</td>\n",
       "      <td>2019-08-15</td>\n",
       "      <td>400</td>\n",
       "      <td>A</td>\n",
       "    </tr>\n",
       "    <tr>\n",
       "      <td>3</td>\n",
       "      <td>3797467345</td>\n",
       "      <td>1196621759</td>\n",
       "      <td>2019-08-15</td>\n",
       "      <td>9759</td>\n",
       "      <td>B</td>\n",
       "    </tr>\n",
       "    <tr>\n",
       "      <td>4</td>\n",
       "      <td>2282983706</td>\n",
       "      <td>2322279887</td>\n",
       "      <td>2019-08-15</td>\n",
       "      <td>2308</td>\n",
       "      <td>B</td>\n",
       "    </tr>\n",
       "  </tbody>\n",
       "</table>\n",
       "</div>"
      ],
      "text/plain": [
       "   transactionId   visitorId        date  revenue group\n",
       "0     3667963787  3312258926  2019-08-15     1650     B\n",
       "1     2804400009  3642806036  2019-08-15      730     B\n",
       "2     2961555356  4069496402  2019-08-15      400     A\n",
       "3     3797467345  1196621759  2019-08-15     9759     B\n",
       "4     2282983706  2322279887  2019-08-15     2308     B"
      ]
     },
     "execution_count": 7,
     "metadata": {},
     "output_type": "execute_result"
    }
   ],
   "source": [
    "orders.head()"
   ]
  },
  {
   "cell_type": "code",
   "execution_count": 8,
   "id": "e9a6ece5",
   "metadata": {},
   "outputs": [
    {
     "name": "stdout",
     "output_type": "stream",
     "text": [
      "<class 'pandas.core.frame.DataFrame'>\n",
      "RangeIndex: 1197 entries, 0 to 1196\n",
      "Data columns (total 5 columns):\n",
      "transactionId    1197 non-null int64\n",
      "visitorId        1197 non-null int64\n",
      "date             1197 non-null object\n",
      "revenue          1197 non-null int64\n",
      "group            1197 non-null object\n",
      "dtypes: int64(3), object(2)\n",
      "memory usage: 46.9+ KB\n"
     ]
    }
   ],
   "source": [
    "orders.info()"
   ]
  },
  {
   "cell_type": "markdown",
   "id": "652a0843",
   "metadata": {},
   "source": [
    "В таблице orders представлены данные о заказах в интернет-магазине. Во всех столбцах одинаковое количество строк - значит, пропусков нет.\n",
    "\n",
    "Столбцы с уникальным номером заказа и посетителя принадлежат к целочисленному типу данных int. В данном случае логичнее будет преобразовать эти столбцы к типу object (по аналогии со столбцом group). В свою очередь столбец с датой преобразуем к типу datetime для корректной работы с данными о дате заказа. Данные о выручке уже принадлежат к корректному типу int.\n",
    "\n",
    "Выборочно преобразуем столбцы к нужному типу данных при помощи метода .astype()."
   ]
  },
  {
   "cell_type": "code",
   "execution_count": 9,
   "id": "fada2f2d",
   "metadata": {},
   "outputs": [],
   "source": [
    "orders = orders.astype({'transactionId' : 'object', \n",
    "                        'visitorId': 'object', \n",
    "                        'group': 'object', \n",
    "                        'date': 'datetime64'})"
   ]
  },
  {
   "cell_type": "markdown",
   "id": "0ce74281",
   "metadata": {},
   "source": [
    "Проверка:"
   ]
  },
  {
   "cell_type": "code",
   "execution_count": 10,
   "id": "c7e6d1da",
   "metadata": {},
   "outputs": [
    {
     "name": "stdout",
     "output_type": "stream",
     "text": [
      "<class 'pandas.core.frame.DataFrame'>\n",
      "RangeIndex: 1197 entries, 0 to 1196\n",
      "Data columns (total 5 columns):\n",
      "transactionId    1197 non-null object\n",
      "visitorId        1197 non-null object\n",
      "date             1197 non-null datetime64[ns]\n",
      "revenue          1197 non-null int64\n",
      "group            1197 non-null object\n",
      "dtypes: datetime64[ns](1), int64(1), object(3)\n",
      "memory usage: 46.9+ KB\n"
     ]
    }
   ],
   "source": [
    "orders.info()"
   ]
  },
  {
   "cell_type": "markdown",
   "id": "2394b23c",
   "metadata": {},
   "source": [
    "Убедимся, что данные выгрузились правильно и в них нет дубликатов. Единственный столбец, где значения не должны повторяться - это transactionId. Применим к столбцу метод .duplicated():"
   ]
  },
  {
   "cell_type": "code",
   "execution_count": 11,
   "id": "3492e004",
   "metadata": {},
   "outputs": [
    {
     "data": {
      "text/html": [
       "<div>\n",
       "<style scoped>\n",
       "    .dataframe tbody tr th:only-of-type {\n",
       "        vertical-align: middle;\n",
       "    }\n",
       "\n",
       "    .dataframe tbody tr th {\n",
       "        vertical-align: top;\n",
       "    }\n",
       "\n",
       "    .dataframe thead th {\n",
       "        text-align: right;\n",
       "    }\n",
       "</style>\n",
       "<table border=\"1\" class=\"dataframe\">\n",
       "  <thead>\n",
       "    <tr style=\"text-align: right;\">\n",
       "      <th></th>\n",
       "      <th>transactionId</th>\n",
       "      <th>visitorId</th>\n",
       "      <th>date</th>\n",
       "      <th>revenue</th>\n",
       "      <th>group</th>\n",
       "    </tr>\n",
       "  </thead>\n",
       "  <tbody>\n",
       "  </tbody>\n",
       "</table>\n",
       "</div>"
      ],
      "text/plain": [
       "Empty DataFrame\n",
       "Columns: [transactionId, visitorId, date, revenue, group]\n",
       "Index: []"
      ]
     },
     "execution_count": 11,
     "metadata": {},
     "output_type": "execute_result"
    }
   ],
   "source": [
    "orders[orders['transactionId'].duplicated()]"
   ]
  },
  {
   "cell_type": "markdown",
   "id": "a3300a43",
   "metadata": {},
   "source": [
    "В результате получили пустой датафрейм - значит, дубликатов нет.\n",
    "\n",
    "Изучим данные о посетителях в таблице visitors."
   ]
  },
  {
   "cell_type": "code",
   "execution_count": 12,
   "id": "74513c0c",
   "metadata": {},
   "outputs": [
    {
     "data": {
      "text/html": [
       "<div>\n",
       "<style scoped>\n",
       "    .dataframe tbody tr th:only-of-type {\n",
       "        vertical-align: middle;\n",
       "    }\n",
       "\n",
       "    .dataframe tbody tr th {\n",
       "        vertical-align: top;\n",
       "    }\n",
       "\n",
       "    .dataframe thead th {\n",
       "        text-align: right;\n",
       "    }\n",
       "</style>\n",
       "<table border=\"1\" class=\"dataframe\">\n",
       "  <thead>\n",
       "    <tr style=\"text-align: right;\">\n",
       "      <th></th>\n",
       "      <th>date</th>\n",
       "      <th>group</th>\n",
       "      <th>visitors</th>\n",
       "    </tr>\n",
       "  </thead>\n",
       "  <tbody>\n",
       "    <tr>\n",
       "      <td>0</td>\n",
       "      <td>2019-08-01</td>\n",
       "      <td>A</td>\n",
       "      <td>719</td>\n",
       "    </tr>\n",
       "    <tr>\n",
       "      <td>1</td>\n",
       "      <td>2019-08-02</td>\n",
       "      <td>A</td>\n",
       "      <td>619</td>\n",
       "    </tr>\n",
       "    <tr>\n",
       "      <td>2</td>\n",
       "      <td>2019-08-03</td>\n",
       "      <td>A</td>\n",
       "      <td>507</td>\n",
       "    </tr>\n",
       "    <tr>\n",
       "      <td>3</td>\n",
       "      <td>2019-08-04</td>\n",
       "      <td>A</td>\n",
       "      <td>717</td>\n",
       "    </tr>\n",
       "    <tr>\n",
       "      <td>4</td>\n",
       "      <td>2019-08-05</td>\n",
       "      <td>A</td>\n",
       "      <td>756</td>\n",
       "    </tr>\n",
       "  </tbody>\n",
       "</table>\n",
       "</div>"
      ],
      "text/plain": [
       "         date group  visitors\n",
       "0  2019-08-01     A       719\n",
       "1  2019-08-02     A       619\n",
       "2  2019-08-03     A       507\n",
       "3  2019-08-04     A       717\n",
       "4  2019-08-05     A       756"
      ]
     },
     "execution_count": 12,
     "metadata": {},
     "output_type": "execute_result"
    }
   ],
   "source": [
    "visitors.head()"
   ]
  },
  {
   "cell_type": "code",
   "execution_count": 13,
   "id": "31a7d21a",
   "metadata": {},
   "outputs": [
    {
     "name": "stdout",
     "output_type": "stream",
     "text": [
      "<class 'pandas.core.frame.DataFrame'>\n",
      "RangeIndex: 62 entries, 0 to 61\n",
      "Data columns (total 3 columns):\n",
      "date        62 non-null object\n",
      "group       62 non-null object\n",
      "visitors    62 non-null int64\n",
      "dtypes: int64(1), object(2)\n",
      "memory usage: 1.6+ KB\n"
     ]
    }
   ],
   "source": [
    "visitors.info()"
   ]
  },
  {
   "cell_type": "markdown",
   "id": "c0da7937",
   "metadata": {},
   "source": [
    "Пропусков нет, а типы данных соответствуют данным по смыслу - кроме столбца date. Преобразуем его к типу datetime:"
   ]
  },
  {
   "cell_type": "code",
   "execution_count": 14,
   "id": "0d522d0f",
   "metadata": {},
   "outputs": [],
   "source": [
    "visitors['date'] = visitors['date'].astype('datetime64[ns]')"
   ]
  },
  {
   "cell_type": "markdown",
   "id": "ce6b5106",
   "metadata": {},
   "source": [
    "Проверка:"
   ]
  },
  {
   "cell_type": "code",
   "execution_count": 15,
   "id": "08768333",
   "metadata": {},
   "outputs": [
    {
     "name": "stdout",
     "output_type": "stream",
     "text": [
      "<class 'pandas.core.frame.DataFrame'>\n",
      "RangeIndex: 62 entries, 0 to 61\n",
      "Data columns (total 3 columns):\n",
      "date        62 non-null datetime64[ns]\n",
      "group       62 non-null object\n",
      "visitors    62 non-null int64\n",
      "dtypes: datetime64[ns](1), int64(1), object(1)\n",
      "memory usage: 1.6+ KB\n"
     ]
    }
   ],
   "source": [
    "visitors.info()"
   ]
  },
  {
   "cell_type": "markdown",
   "id": "9ee58bb5",
   "metadata": {},
   "source": [
    "Проверим на дубликаты. Т.к. в таблице нам дано количество посетителей двух групп на каждую дату эксперимента, то каждая дата должна встречаться по одному разу в каждой группе. Применим метод .duplicated() одновременно к столбцу date и group:"
   ]
  },
  {
   "cell_type": "code",
   "execution_count": 16,
   "id": "7470ab09",
   "metadata": {},
   "outputs": [
    {
     "data": {
      "text/html": [
       "<div>\n",
       "<style scoped>\n",
       "    .dataframe tbody tr th:only-of-type {\n",
       "        vertical-align: middle;\n",
       "    }\n",
       "\n",
       "    .dataframe tbody tr th {\n",
       "        vertical-align: top;\n",
       "    }\n",
       "\n",
       "    .dataframe thead th {\n",
       "        text-align: right;\n",
       "    }\n",
       "</style>\n",
       "<table border=\"1\" class=\"dataframe\">\n",
       "  <thead>\n",
       "    <tr style=\"text-align: right;\">\n",
       "      <th></th>\n",
       "      <th>date</th>\n",
       "      <th>group</th>\n",
       "      <th>visitors</th>\n",
       "    </tr>\n",
       "  </thead>\n",
       "  <tbody>\n",
       "  </tbody>\n",
       "</table>\n",
       "</div>"
      ],
      "text/plain": [
       "Empty DataFrame\n",
       "Columns: [date, group, visitors]\n",
       "Index: []"
      ]
     },
     "execution_count": 16,
     "metadata": {},
     "output_type": "execute_result"
    }
   ],
   "source": [
    "visitors[visitors[['date', 'group']].duplicated()]"
   ]
  },
  {
   "cell_type": "markdown",
   "id": "e48ba978",
   "metadata": {},
   "source": [
    "Получили пустой датафрейм - следовательно, дубликатов нет.\n",
    "\n",
    "Наконец, убедимся, что в обеих таблицах собраны данные за одинаковый период:"
   ]
  },
  {
   "cell_type": "code",
   "execution_count": 17,
   "id": "ebcd4234",
   "metadata": {},
   "outputs": [
    {
     "data": {
      "text/plain": [
       "count                    1197\n",
       "unique                     31\n",
       "top       2019-08-05 00:00:00\n",
       "freq                       48\n",
       "first     2019-08-01 00:00:00\n",
       "last      2019-08-31 00:00:00\n",
       "Name: date, dtype: object"
      ]
     },
     "execution_count": 17,
     "metadata": {},
     "output_type": "execute_result"
    }
   ],
   "source": [
    "orders['date'].describe()"
   ]
  },
  {
   "cell_type": "code",
   "execution_count": 18,
   "id": "3aff50ff",
   "metadata": {},
   "outputs": [
    {
     "data": {
      "text/plain": [
       "count                      62\n",
       "unique                     31\n",
       "top       2019-08-02 00:00:00\n",
       "freq                        2\n",
       "first     2019-08-01 00:00:00\n",
       "last      2019-08-31 00:00:00\n",
       "Name: date, dtype: object"
      ]
     },
     "execution_count": 18,
     "metadata": {},
     "output_type": "execute_result"
    }
   ],
   "source": [
    "visitors['date'].describe()"
   ]
  },
  {
   "cell_type": "markdown",
   "id": "9ba79689",
   "metadata": {},
   "source": [
    "Исследуемый период - август 2019 года - в таблицах совпадает.\n",
    "\n",
    "Чтобы результаты теста были точными, группы А и В не должны сильно отличаться по размеру. Сравним количество посетителей групп А и В:"
   ]
  },
  {
   "cell_type": "code",
   "execution_count": 19,
   "id": "a9b79421",
   "metadata": {},
   "outputs": [
    {
     "data": {
      "text/html": [
       "<div>\n",
       "<style scoped>\n",
       "    .dataframe tbody tr th:only-of-type {\n",
       "        vertical-align: middle;\n",
       "    }\n",
       "\n",
       "    .dataframe tbody tr th {\n",
       "        vertical-align: top;\n",
       "    }\n",
       "\n",
       "    .dataframe thead th {\n",
       "        text-align: right;\n",
       "    }\n",
       "</style>\n",
       "<table border=\"1\" class=\"dataframe\">\n",
       "  <thead>\n",
       "    <tr style=\"text-align: right;\">\n",
       "      <th></th>\n",
       "      <th>visitors</th>\n",
       "    </tr>\n",
       "    <tr>\n",
       "      <th>group</th>\n",
       "      <th></th>\n",
       "    </tr>\n",
       "  </thead>\n",
       "  <tbody>\n",
       "    <tr>\n",
       "      <td>A</td>\n",
       "      <td>18736</td>\n",
       "    </tr>\n",
       "    <tr>\n",
       "      <td>B</td>\n",
       "      <td>18916</td>\n",
       "    </tr>\n",
       "  </tbody>\n",
       "</table>\n",
       "</div>"
      ],
      "text/plain": [
       "       visitors\n",
       "group          \n",
       "A         18736\n",
       "B         18916"
      ]
     },
     "execution_count": 19,
     "metadata": {},
     "output_type": "execute_result"
    }
   ],
   "source": [
    "visitors.groupby('group').sum()"
   ]
  },
  {
   "cell_type": "markdown",
   "id": "5ba647c1",
   "metadata": {},
   "source": [
    "Размер групп отличается незначительно, поэтому можно приступать к проверке гипотезы."
   ]
  },
  {
   "cell_type": "markdown",
   "id": "97ecd83d",
   "metadata": {},
   "source": [
    "### 2.2. Исследование куммулятивных данных\n",
    "\n",
    "#### 2.2.1 Анализ выручки и среднего чека\n",
    "\n",
    "Для анализа динамики показателей удобнее смотреть на куммулятивные данные - это позволяет сгладить \"скачки\" на графике и оценить общую тенденцию. \n",
    "\n",
    "Посчитаем накопительные значения выручки, количества посетителей и заказов на каждую дату эксперимента. Полученные данные соберем в одну таблицу.\n",
    "\n",
    "Для расчета накопительных значений сначала создами датафрейм dateGroups, в котором предтавлена каждая дата эксперимента и группа. К нему применем метод .apply() с функцией lambda x, которая на каждой итерации будет брать данные из таблицы orders  соответсвующей группы, по каждую дату включительно. Метод .agg() аггрегирует данные и вернет сумму выручки и количество уникальных значений заказов и посетителей. Результат сохраним в датафрейм ordersAggregated."
   ]
  },
  {
   "cell_type": "code",
   "execution_count": 20,
   "id": "4c1bb001",
   "metadata": {},
   "outputs": [],
   "source": [
    "dateGroups = orders[['date', 'group']].drop_duplicates()"
   ]
  },
  {
   "cell_type": "code",
   "execution_count": 21,
   "id": "f0b2b92b",
   "metadata": {},
   "outputs": [],
   "source": [
    "ordersAggregated = dateGroups.apply(\n",
    "    lambda x: orders[\n",
    "        np.logical_and(orders[\"date\"] <= x[\"date\"], orders[\"group\"] == x[\"group\"])\n",
    "    ].agg(\n",
    "        {\n",
    "            \"date\": \"max\",\n",
    "            \"group\": \"max\",\n",
    "            \"transactionId\": pd.Series.nunique,\n",
    "            \"visitorId\": pd.Series.nunique,\n",
    "            \"revenue\": \"sum\",\n",
    "        }\n",
    "    ),\n",
    "    axis=1,\n",
    ").sort_values(by=[\"date\", \"group\"])\n"
   ]
  },
  {
   "cell_type": "markdown",
   "id": "65c263c7",
   "metadata": {},
   "source": [
    "Накопительное количество посетителей visitorsAggregated считаем по аналогии с ordersAggregated."
   ]
  },
  {
   "cell_type": "code",
   "execution_count": 22,
   "id": "aebc7f67",
   "metadata": {},
   "outputs": [],
   "source": [
    "visitorsAggregated = dateGroups.apply(\n",
    "    lambda x: visitors[\n",
    "        np.logical_and(visitors[\"date\"] <= x[\"date\"], visitors[\"group\"] == x[\"group\"])\n",
    "    ].agg({\"date\": \"max\", \"group\": \"max\", \"visitors\": \"sum\"}),\n",
    "    axis=1,\n",
    ").sort_values(by=[\"date\", \"group\"])\n"
   ]
  },
  {
   "cell_type": "markdown",
   "id": "f5589689",
   "metadata": {},
   "source": [
    "Объединим полученные датафреймы методом .merge() и переименуем столбы."
   ]
  },
  {
   "cell_type": "code",
   "execution_count": 23,
   "id": "0649c958",
   "metadata": {},
   "outputs": [],
   "source": [
    "cumulativeData = ordersAggregated.merge(visitorsAggregated, left_on=['date', 'group'], right_on=['date', 'group'])\n",
    "cumulativeData.columns = ['date', 'group', 'orders', 'buyers', 'revenue', 'visitors']"
   ]
  },
  {
   "cell_type": "markdown",
   "id": "345fb60f",
   "metadata": {},
   "source": [
    "Посмотрим на результат:"
   ]
  },
  {
   "cell_type": "code",
   "execution_count": 24,
   "id": "591157e5",
   "metadata": {},
   "outputs": [
    {
     "data": {
      "text/html": [
       "<div>\n",
       "<style scoped>\n",
       "    .dataframe tbody tr th:only-of-type {\n",
       "        vertical-align: middle;\n",
       "    }\n",
       "\n",
       "    .dataframe tbody tr th {\n",
       "        vertical-align: top;\n",
       "    }\n",
       "\n",
       "    .dataframe thead th {\n",
       "        text-align: right;\n",
       "    }\n",
       "</style>\n",
       "<table border=\"1\" class=\"dataframe\">\n",
       "  <thead>\n",
       "    <tr style=\"text-align: right;\">\n",
       "      <th></th>\n",
       "      <th>date</th>\n",
       "      <th>group</th>\n",
       "      <th>orders</th>\n",
       "      <th>buyers</th>\n",
       "      <th>revenue</th>\n",
       "      <th>visitors</th>\n",
       "    </tr>\n",
       "  </thead>\n",
       "  <tbody>\n",
       "    <tr>\n",
       "      <td>0</td>\n",
       "      <td>2019-08-01</td>\n",
       "      <td>A</td>\n",
       "      <td>24</td>\n",
       "      <td>20</td>\n",
       "      <td>148579</td>\n",
       "      <td>719</td>\n",
       "    </tr>\n",
       "    <tr>\n",
       "      <td>1</td>\n",
       "      <td>2019-08-01</td>\n",
       "      <td>B</td>\n",
       "      <td>21</td>\n",
       "      <td>20</td>\n",
       "      <td>101217</td>\n",
       "      <td>713</td>\n",
       "    </tr>\n",
       "    <tr>\n",
       "      <td>2</td>\n",
       "      <td>2019-08-02</td>\n",
       "      <td>A</td>\n",
       "      <td>44</td>\n",
       "      <td>38</td>\n",
       "      <td>242401</td>\n",
       "      <td>1338</td>\n",
       "    </tr>\n",
       "    <tr>\n",
       "      <td>3</td>\n",
       "      <td>2019-08-02</td>\n",
       "      <td>B</td>\n",
       "      <td>45</td>\n",
       "      <td>43</td>\n",
       "      <td>266748</td>\n",
       "      <td>1294</td>\n",
       "    </tr>\n",
       "    <tr>\n",
       "      <td>4</td>\n",
       "      <td>2019-08-03</td>\n",
       "      <td>A</td>\n",
       "      <td>68</td>\n",
       "      <td>62</td>\n",
       "      <td>354874</td>\n",
       "      <td>1845</td>\n",
       "    </tr>\n",
       "  </tbody>\n",
       "</table>\n",
       "</div>"
      ],
      "text/plain": [
       "        date group  orders  buyers  revenue  visitors\n",
       "0 2019-08-01     A      24      20   148579       719\n",
       "1 2019-08-01     B      21      20   101217       713\n",
       "2 2019-08-02     A      44      38   242401      1338\n",
       "3 2019-08-02     B      45      43   266748      1294\n",
       "4 2019-08-03     A      68      62   354874      1845"
      ]
     },
     "execution_count": 24,
     "metadata": {},
     "output_type": "execute_result"
    }
   ],
   "source": [
    "cumulativeData.head(5)"
   ]
  },
  {
   "cell_type": "markdown",
   "id": "c9863da8",
   "metadata": {},
   "source": [
    "Теперь построим графики."
   ]
  },
  {
   "cell_type": "code",
   "execution_count": 25,
   "id": "7a52920f",
   "metadata": {},
   "outputs": [
    {
     "data": {
      "image/png": "[encoded data removed]",
      "text/plain": [
       "<Figure size 432x288 with 1 Axes>"
      ]
     },
     "metadata": {
      "needs_background": "light"
     },
     "output_type": "display_data"
    }
   ],
   "source": [
    "# датафрейм с кумулятивным количеством заказов и кумулятивной выручкой по дням в группе А\n",
    "cumulativeRevenueA = cumulativeData[cumulativeData['group']=='A'][['date','revenue', 'orders']]\n",
    "\n",
    "# датафрейм с кумулятивным количеством заказов и кумулятивной выручкой по дням в группе B\n",
    "cumulativeRevenueB = cumulativeData[cumulativeData['group']=='B'][['date','revenue', 'orders']]\n",
    "\n",
    "# Строим график выручки группы А\n",
    "plt.plot(cumulativeRevenueA['date'], cumulativeRevenueA['revenue'], label='A')\n",
    "\n",
    "# Строим график выручки группы B\n",
    "plt.plot(cumulativeRevenueB['date'], cumulativeRevenueB['revenue'], label='B')\n",
    "plt.xticks(rotation='vertical')\n",
    "plt.legend();\n",
    "plt.title('Накопительная выручка в группах А и В за август 2019, у.е.');\n",
    "plt.xlabel('Дата');\n",
    "plt.ylabel('Выручка');"
   ]
  },
  {
   "cell_type": "markdown",
   "id": "3415481a",
   "metadata": {},
   "source": [
    "Выручка группы А равномерно увеличивается в течение всего теста. Выручка группы В превышает выручку группы А с 05 августа и затем увеличивается более резкими темпами. Скачок выручки группы В наблюдается после 17 августа. Это может сигнализировать о всплесках числа заказов, либо о появлении очень дорогих заказов в выборке. Такие выбросы нужно проанализировать, т.к. это может исказить результаты теста.\n",
    "\n",
    "Построим график кумулятивного среднего чека - то есть отношения выручки к количеству заказов."
   ]
  },
  {
   "cell_type": "code",
   "execution_count": 26,
   "id": "2f88a2f1",
   "metadata": {},
   "outputs": [
    {
     "data": {
      "image/png": "[encoded data removed]",
      "text/plain": [
       "<Figure size 432x288 with 1 Axes>"
      ]
     },
     "metadata": {
      "needs_background": "light"
     },
     "output_type": "display_data"
    }
   ],
   "source": [
    "plt.plot(cumulativeRevenueA['date'], cumulativeRevenueA['revenue']/cumulativeRevenueA['orders'], label='A')\n",
    "plt.plot(cumulativeRevenueB['date'], cumulativeRevenueB['revenue']/cumulativeRevenueB['orders'], label='B')\n",
    "plt.xticks(rotation='vertical');\n",
    "plt.legend();\n",
    "plt.title('Накопительный средний чек в группах А и В за август 2019, у.е.');\n",
    "plt.xlabel('Дата');\n",
    "plt.ylabel('Средний чек');"
   ]
  },
  {
   "cell_type": "markdown",
   "id": "d604b6c2",
   "metadata": {},
   "source": [
    "На предыдущем графике мы видели, что выручка обеих групп росла равномерно в первой половине месяца. График среднего чека (напомним, это отношение выручки к количеству покупателей) сильно \"скачет\" в первой половине месяца, из чего можно сделать вывод, что значительно менялось количество покупателей. Во второй половине месяца средний чек группы В резко вырос и затем почти установился для обеих групп (наблюдается небольшой рост для группы А и тенденция к снижению для группы В)."
   ]
  },
  {
   "cell_type": "markdown",
   "id": "36fe9e25",
   "metadata": {},
   "source": [
    "Построим график относительного изменения кумулятивного среднего чека группы B к группе A."
   ]
  },
  {
   "cell_type": "code",
   "execution_count": 27,
   "id": "2e9bc010",
   "metadata": {},
   "outputs": [
    {
     "data": {
      "image/png": "[encoded data removed]",
      "text/plain": [
       "<Figure size 432x288 with 1 Axes>"
      ]
     },
     "metadata": {
      "needs_background": "light"
     },
     "output_type": "display_data"
    }
   ],
   "source": [
    "# собираем данные в одном датафрейме\n",
    "mergedCumulativeRevenue = cumulativeRevenueA.merge(cumulativeRevenueB, left_on='date', right_on='date', how='left', suffixes=['A', 'B'])\n",
    "\n",
    "# cтроим отношение средних чеков\n",
    "plt.plot(\n",
    "    mergedCumulativeRevenue['date'], \n",
    "    (mergedCumulativeRevenue['revenueB']/mergedCumulativeRevenue['ordersB'])\n",
    "    /(mergedCumulativeRevenue['revenueA']/mergedCumulativeRevenue['ordersA'])-1)\n",
    "\n",
    "# добавляем ось X\n",
    "plt.axhline(y=0, color='black', linestyle='--');\n",
    "plt.axhline(y=0.25, color='gray', linestyle='--');\n",
    "plt.xticks(rotation='vertical');\n",
    "plt.title('Изменение среднего чека группы В относительно группы А за август 2019');\n",
    "plt.xlabel('Дата');\n",
    "plt.ylabel('Относительное изменение среднего чека');"
   ]
  },
  {
   "cell_type": "markdown",
   "id": "601a33f8",
   "metadata": {},
   "source": [
    "В нескольких точках график различия между сегментами резко «скачет», что тоже свидетельствует о наличии выбросов в данных. После резкого роста 17 августа, относительный прирост среднего чека снижается. К концу периода средний чек группы В примерно на 25% выше среднего чека группы А, но пока нельзя сказать, что значение зафиксировалось."
   ]
  },
  {
   "cell_type": "markdown",
   "id": "ca3a7373",
   "metadata": {},
   "source": [
    "#### 2.2.2. Анализ куммулятивной конверсии\n",
    "\n",
    "Конверсия - это отношение количества покупателей к количеству посетителей. То есть доля посетителей, которая совершила покупку."
   ]
  },
  {
   "cell_type": "code",
   "execution_count": 28,
   "id": "ed0791ca",
   "metadata": {},
   "outputs": [
    {
     "data": {
      "image/png": "[encoded data removed]",
      "text/plain": [
       "<Figure size 432x288 with 1 Axes>"
      ]
     },
     "metadata": {
      "needs_background": "light"
     },
     "output_type": "display_data"
    }
   ],
   "source": [
    "# считаем кумулятивную конверсию\n",
    "cumulativeData['conversion'] = cumulativeData['orders']/cumulativeData['visitors']\n",
    "\n",
    "# отделяем данные по группе A\n",
    "cumulativeDataA = cumulativeData[cumulativeData['group']=='A']\n",
    "\n",
    "# отделяем данные по группе B\n",
    "cumulativeDataB = cumulativeData[cumulativeData['group']=='B']\n",
    "\n",
    "# строим графики\n",
    "plt.plot(cumulativeDataA['date'], cumulativeDataA['conversion'], label='A')\n",
    "plt.plot(cumulativeDataB['date'], cumulativeDataB['conversion'], label='B')\n",
    "plt.xticks(rotation='vertical');\n",
    "plt.legend();\n",
    "plt.title('Кумулятивная конверсия групп А и В за август 2019');\n",
    "plt.xlabel('Дата');\n",
    "plt.ylabel('Кумулятивная конверсия');"
   ]
  },
  {
   "cell_type": "markdown",
   "id": "85aa9cd6",
   "metadata": {},
   "source": [
    "Группы колебались около одного значения, но затем конверсия группы В вырвалась вперёд, а конверсия группы А просела. Нельзя сказать, что показатели зафиксировались - значения все еще \"скачут\" по дням. Но во второй половине месяца скачки становятся менее резкими."
   ]
  },
  {
   "cell_type": "markdown",
   "id": "8c7f9f93",
   "metadata": {},
   "source": [
    "Построим график относительного изменения кумулятивной конверсии группы B к группе A. "
   ]
  },
  {
   "cell_type": "code",
   "execution_count": 29,
   "id": "27ac61c5",
   "metadata": {},
   "outputs": [],
   "source": [
    "mergedCumulativeConversions = (\n",
    "    cumulativeDataA[['date','conversion']].merge(cumulativeDataB[['date','conversion']], \n",
    "    left_on='date', right_on='date', how='left', suffixes=['A', 'B'])\n",
    ")"
   ]
  },
  {
   "cell_type": "code",
   "execution_count": 30,
   "id": "cd7301cd",
   "metadata": {},
   "outputs": [
    {
     "data": {
      "image/png": "[encoded data removed]",
      "text/plain": [
       "<Figure size 432x288 with 1 Axes>"
      ]
     },
     "metadata": {
      "needs_background": "light"
     },
     "output_type": "display_data"
    }
   ],
   "source": [
    "plt.plot(\n",
    "    mergedCumulativeConversions['date'], \n",
    "    mergedCumulativeConversions['conversionB']/mergedCumulativeConversions['conversionA']-1)\n",
    "plt.axhline(y=0, color='black', linestyle='--')\n",
    "plt.xticks(rotation='vertical');\n",
    "plt.title(\"Относительный прирост конверсии группы B относительно группы A\");\n",
    "plt.xlabel('Дата');\n",
    "plt.ylabel('Относительное изменение конверсии');"
   ]
  },
  {
   "cell_type": "markdown",
   "id": "157bbf0a",
   "metadata": {},
   "source": [
    "В целом отношение конверсии ещё не установилось, и сейчас делать какие-либо выводы по тесту нельзя. Впрочем, сперва стоит проанализировать аномалии, возможно, они изменят картину. "
   ]
  },
  {
   "cell_type": "markdown",
   "id": "79161b6f",
   "metadata": {},
   "source": [
    "#### 2.2.3. Поиск аномальных значений.\n",
    "Выявить аномальные значения можно при помощи точечного графика. Построим график количества заказов каждого юзера."
   ]
  },
  {
   "cell_type": "code",
   "execution_count": 31,
   "id": "89e3037c",
   "metadata": {},
   "outputs": [],
   "source": [
    "#группируем заказы по посетителям\n",
    "orders_by_visitor = orders.groupby('visitorId').agg({'transactionId': 'count'})"
   ]
  },
  {
   "cell_type": "code",
   "execution_count": 32,
   "id": "16855482",
   "metadata": {},
   "outputs": [
    {
     "data": {
      "image/png": "[encoded data removed]",
      "text/plain": [
       "<Figure size 432x288 with 1 Axes>"
      ]
     },
     "metadata": {
      "needs_background": "light"
     },
     "output_type": "display_data"
    }
   ],
   "source": [
    "x_values = pd.Series(range(0,len(orders_by_visitor))) #ось х - это диапазон чисел от 0 до общего количества покупателей\n",
    "plt.scatter(x_values, orders_by_visitor['transactionId']);\n",
    "plt.title('Количество заказов по пользователям');\n",
    "plt.xlabel('Количество покупателей');\n",
    "plt.ylabel('Количество заказов');"
   ]
  },
  {
   "cell_type": "markdown",
   "id": "3ed4b352",
   "metadata": {},
   "source": [
    "В основном 1 заказ на пользователя, но и много пользователей с 2-4 заказами. Их точная доля не ясна — непонятно, считать их аномалиями или нет.\n",
    "Посчитаем выборочные перцентили количества заказов на одного пользователя:"
   ]
  },
  {
   "cell_type": "code",
   "execution_count": 33,
   "id": "5d8d2329",
   "metadata": {},
   "outputs": [
    {
     "data": {
      "text/plain": [
       "array([2., 4.])"
      ]
     },
     "execution_count": 33,
     "metadata": {},
     "output_type": "execute_result"
    }
   ],
   "source": [
    "np.percentile(orders_by_visitor['transactionId'], [95, 99])"
   ]
  },
  {
   "cell_type": "markdown",
   "id": "65c77ec6",
   "metadata": {},
   "source": [
    "Не более 1% пользователей делали больше 4 заказов, не более 5% делали больше 2 заказов. Предлагаем считать два закааз границей для отсеивания аномалий."
   ]
  },
  {
   "cell_type": "markdown",
   "id": "7d04c678",
   "metadata": {},
   "source": [
    "Аналогично проанализируем стоимость заказов."
   ]
  },
  {
   "cell_type": "code",
   "execution_count": 34,
   "id": "b330a2b6",
   "metadata": {},
   "outputs": [
    {
     "data": {
      "image/png": "[encoded data removed]",
      "text/plain": [
       "<Figure size 432x288 with 1 Axes>"
      ]
     },
     "metadata": {
      "needs_background": "light"
     },
     "output_type": "display_data"
    }
   ],
   "source": [
    "x_values = pd.Series(range(0,len(orders)))\n",
    "plt.scatter(x_values, orders['revenue']);\n",
    "plt.title('Распределение количества заказов разной стоимости');\n",
    "plt.xlabel('Количество заказов');\n",
    "plt.ylabel('Сумма заказа');"
   ]
  },
  {
   "cell_type": "code",
   "execution_count": 35,
   "id": "06452cb9",
   "metadata": {},
   "outputs": [
    {
     "data": {
      "text/plain": [
       "array([28000. , 58233.2])"
      ]
     },
     "execution_count": 35,
     "metadata": {},
     "output_type": "execute_result"
    }
   ],
   "source": [
    "np.percentile(orders['revenue'], [95, 99])"
   ]
  },
  {
   "cell_type": "markdown",
   "id": "6a38a273",
   "metadata": {},
   "source": [
    "Не более 5% заказов стоимостью от 28 000 и не более 1% стоимостью от 58 233.2 Выберем 28 000 верхней границей."
   ]
  },
  {
   "cell_type": "markdown",
   "id": "147bed7f",
   "metadata": {},
   "source": [
    "### 2.3. Статистическая проверка гипотез\n",
    "#### 2.3.1. Исходные данные\n",
    "\n",
    "Чтобы найти статистическую значимость различий в конверсии между группами, сформулируем гипотезы:\n",
    "* Н0: между конверсией группы А и конверсией группы В нет статистически значимых различий;\n",
    "* Н1: конверсия группы А и конверсия группы В различается, различие статистически значимо\n",
    "\n",
    "Для проверки гипотезы здесь и далее используем уровень статистической значимости α = 0,05.\n",
    "\n",
    "Подготовим выборки для сравнения. Выборка будет представлять собой список постетителей и число заказов у каждого. Если посетитель не делал покупок, то ему будет соответствновать 0.\n",
    "Для каждой категории покупателей группируем заказы по visitorId и посчитаем количество заказов. Затем к полученному датафрейму методом pd.concat() добавим series, состоящий из нулей. Размер series определим как разность между количеством посетителей и покупателей."
   ]
  },
  {
   "cell_type": "code",
   "execution_count": 36,
   "id": "2543336c",
   "metadata": {},
   "outputs": [],
   "source": [
    "#расчет количества заказов на пользователя\n",
    "orders_per_user_A = orders[orders['group'] == 'A'].groupby('visitorId').agg({'transactionId': 'nunique'})\n",
    "orders_per_user_B = orders[orders['group'] == 'B'].groupby('visitorId').agg({'transactionId': 'nunique'})"
   ]
  },
  {
   "cell_type": "code",
   "execution_count": 37,
   "id": "a1eda616",
   "metadata": {},
   "outputs": [],
   "source": [
    "total_visitors_A = visitors[visitors['group'] == 'A']['visitors'].sum() #количество посетителей группы А\n",
    "total_buyers_A = len(orders_per_user_A['transactionId']) #количество покупателей группы А\n",
    "total_visitors_B = visitors[visitors['group'] == 'B']['visitors'].sum() #количество посетителей группы В\n",
    "total_buyers_B = len(orders_per_user_B['transactionId']) #количество покупателей группы В"
   ]
  },
  {
   "cell_type": "code",
   "execution_count": 38,
   "id": "a640c793",
   "metadata": {},
   "outputs": [],
   "source": [
    "#создаем выборки\n",
    "sample_A = pd.concat(\n",
    "    [orders_per_user_A['transactionId'],\n",
    "     pd.Series(0, index=np.arange(total_visitors_A - total_buyers_A), name='orders')],axis=0\n",
    ")\n",
    "sample_B = pd.concat(\n",
    "    [orders_per_user_B['transactionId'],\n",
    "     pd.Series(0, index=np.arange(total_visitors_B - total_buyers_B), name='orders')],axis=0\n",
    ")\n",
    "\n"
   ]
  },
  {
   "cell_type": "markdown",
   "id": "903496ae",
   "metadata": {},
   "source": [
    "Так как в данных были выборсы, различия в конверсии полученных выборок проверим непараметрический тестом Уилкоксона-Манна-Уитни.\n",
    "\n",
    "Чтобы получить конверсию в группе, поделим сумму заказов на число пользователей — найдём среднее в выборке sampleA методом mean(). Аналогично найдём конверсию группы B: SampleB.mean(). \n",
    "\n",
    "Выведем на экран p-value и относительное изменение конверсии"
   ]
  },
  {
   "cell_type": "code",
   "execution_count": 39,
   "id": "4786e98d",
   "metadata": {},
   "outputs": [
    {
     "name": "stdout",
     "output_type": "stream",
     "text": [
      "Уровень значимости: 0.05\n",
      "P-value: 0.017\n",
      "Относительное изменение конверсии: 13.81%\n"
     ]
    }
   ],
   "source": [
    "print('Уровень значимости: 0.05')\n",
    "\n",
    "print(\"P-value: {0:.3f}\".format(stats.mannwhitneyu(sample_A, sample_B, alternative='two-sided')[1]))\n",
    "\n",
    "print(\"Относительное изменение конверсии: {0:.2%}\".format(sample_B.mean() / sample_A.mean() - 1))"
   ]
  },
  {
   "cell_type": "markdown",
   "id": "d3d9bba7",
   "metadata": {},
   "source": [
    "Конверсия в группе В оказалась на 13,81% больше, чем в группе А. Значение p-value 0,008 говорит о том, что с вероятностью 0,8% полученные различия в конверсии являются случайными. Это значение меньше, чем общеприятый уровень значимости 0,05. Следовательно, у нас есть основания отклонить нулевую гипотезу - скорее всего, конверсия в группе В действительно повысилась из-за эксперимента, а не случайно.\n",
    "\n",
    "Проверим гипотезу о различии среднего чека:\n",
    "* Н0: средний чек группы А и группы В не различается, либо различие статистически незначимо\n",
    "* Н1: средний чек группы А и группы В различается (различие статистически значимо)"
   ]
  },
  {
   "cell_type": "code",
   "execution_count": 40,
   "id": "653eae03",
   "metadata": {},
   "outputs": [
    {
     "name": "stdout",
     "output_type": "stream",
     "text": [
      "Уровень значимости: 0.05\n",
      "P-value: 0.729\n",
      "Относительное изменение среднего чека: 25.87%\n"
     ]
    }
   ],
   "source": [
    "print('Уровень значимости: 0.05')\n",
    "print((\n",
    "    'P-value: {0:.3f}'.format(stats.mannwhitneyu(orders[orders['group']=='A']['revenue'], \n",
    "                                                 orders[orders['group']=='B']['revenue'],\n",
    "                                                 alternative='two-sided')[1]))\n",
    ")\n",
    "\n",
    "print((\n",
    "    'Относительное изменение среднего чека: {0:.2%}'.format(orders[orders['group']=='B']['revenue'].mean()\n",
    "                                                            /orders[orders['group']=='A']['revenue'].mean()-1))\n",
    ")"
   ]
  },
  {
   "cell_type": "markdown",
   "id": "eb1ad138",
   "metadata": {},
   "source": [
    "Средний чек группы В на 26% выше, чем в группе А. Но скорее всего данное различие получено случайно: p-value гораздо больше уровня значимости 0.05. Вероятность ошибочно отклонить нулевую гипотезу составляет 36,5%. Результат проверки не позволяет предполагать, что различие между средними чеками есть.\n"
   ]
  },
  {
   "cell_type": "markdown",
   "id": "8c3f4deb",
   "metadata": {},
   "source": [
    "#### 2.3.2. Проверка гипотезы по фильтрованным данным.\n",
    "\n",
    "Проверим, оказывают ли выбросы влияние на результаты проверки. Как мы выявили ранее, очень редко встречаются пользователи, которые сделали более 2 заказов. Стоимость заказа также редко превышает 28 000. Получим соответствущие срезы данных для каждой группы и объединим их в датафрейм abnormalUsers."
   ]
  },
  {
   "cell_type": "code",
   "execution_count": 41,
   "id": "d95605ee",
   "metadata": {},
   "outputs": [],
   "source": [
    "#список пользователей с количеством заказов больше 2\n",
    "usersWithManyOrders = pd.concat(\n",
    "    [\n",
    "        orders_per_user_A[orders_per_user_A['transactionId'] > 2],\n",
    "        orders_per_user_B[orders_per_user_B['transactionId'] > 2],\n",
    "    ],\n",
    "    axis=0,\n",
    ").reset_index()"
   ]
  },
  {
   "cell_type": "code",
   "execution_count": 42,
   "id": "21d64d2c",
   "metadata": {},
   "outputs": [],
   "source": [
    "#список пользователей с дорогими заказами\n",
    "usersWithExpensiveOrders = orders[orders['revenue'] > 28000]['visitorId']"
   ]
  },
  {
   "cell_type": "code",
   "execution_count": 43,
   "id": "8459d5ef",
   "metadata": {},
   "outputs": [
    {
     "name": "stdout",
     "output_type": "stream",
     "text": [
      "0     199603092\n",
      "1     237748145\n",
      "2     611059232\n",
      "3    1230306981\n",
      "4    1614305549\n",
      "Name: visitorId, dtype: object\n",
      "(74,)\n"
     ]
    }
   ],
   "source": [
    "#список \"аномальных пользователей\"\n",
    "abnormalUsers = (\n",
    "    pd.concat([usersWithManyOrders['visitorId'], usersWithExpensiveOrders], axis=0)\n",
    "    .drop_duplicates()\n",
    ")\n",
    "print(abnormalUsers.head(5))\n",
    "print(abnormalUsers.shape)"
   ]
  },
  {
   "cell_type": "markdown",
   "id": "62037d9d",
   "metadata": {},
   "source": [
    "В нашем эксперименте 74 пользователя совершали аномально много покупок или аномально дорогие покупки.\n",
    "Теперь создадим выборки А и В по аналогии с \"сырыми\" данными - но возьмем только пользователей, которые не встречаются в датафрейме abnormalUsers. Это можно сделать при помощи метода .isin() с оператором ~."
   ]
  },
  {
   "cell_type": "code",
   "execution_count": 44,
   "id": "2873ceaa",
   "metadata": {},
   "outputs": [
    {
     "name": "stdout",
     "output_type": "stream",
     "text": [
      "P-value: 0.007\n",
      "Относительное изменение конверсии: 17.27%\n"
     ]
    }
   ],
   "source": [
    "sample_A_filtered = pd.concat(\n",
    "    [orders_per_user_A[~orders_per_user_A.index.isin(abnormalUsers)]['transactionId'],\n",
    "     pd.Series(0, index=np.arange(total_visitors_A - total_buyers_A), name='orders')],axis=0\n",
    ")\n",
    "sample_B_filtered = pd.concat(\n",
    "    [orders_per_user_B[~orders_per_user_B.index.isin(abnormalUsers)]['transactionId'],\n",
    "     pd.Series(0, index=np.arange(total_visitors_B - total_buyers_B), name='orders')],axis=0\n",
    ")\n",
    "\n",
    "print(\"P-value: {0:.3f}\".format(stats.mannwhitneyu(sample_A_filtered, sample_B_filtered)[1]))\n",
    "\n",
    "print(\"Относительное изменение конверсии: {0:.2%}\".format(sample_B_filtered.mean() / sample_A_filtered.mean() - 1))"
   ]
  },
  {
   "cell_type": "markdown",
   "id": "cd3c2866",
   "metadata": {},
   "source": [
    "Избавившись от выбросов, мы получили еще более выраженные и более значимые различия в конверсии. Конверсия в группе В стала больше на 17,27%, а вероятность ошибочно отвергнуть нулевую гипотезу уменьшилась и составила 0,7%.\n",
    "Теперь проверим гипотезу о различии среднего чека по \"очищенным\" данным."
   ]
  },
  {
   "cell_type": "code",
   "execution_count": 45,
   "id": "cc45593c",
   "metadata": {},
   "outputs": [],
   "source": [
    "revenue_A = orders[(~orders['visitorId'].isin(abnormalUsers))&(orders['group']=='A')]['revenue']\n",
    "revenue_B = orders[(~orders['visitorId'].isin(abnormalUsers))&(orders['group']=='B')]['revenue']"
   ]
  },
  {
   "cell_type": "code",
   "execution_count": 46,
   "id": "5464b007",
   "metadata": {},
   "outputs": [
    {
     "name": "stdout",
     "output_type": "stream",
     "text": [
      "P-value: 0.738\n",
      "Относительное изменение среднего чека: -1.96%\n"
     ]
    }
   ],
   "source": [
    "print(\"P-value: {0:.3f}\".format(stats.mannwhitneyu(revenue_A, revenue_B, alternative='two-sided')[1]))\n",
    "print(\"Относительное изменение среднего чека: {0:.2%}\".format(revenue_B.mean() / revenue_A.mean() - 1))"
   ]
  },
  {
   "cell_type": "markdown",
   "id": "8fabdc68",
   "metadata": {},
   "source": [
    "В данных без выбросов средниц чек группы В оказался не больше, а даже меньше, чем в группе В. Но данные различия все равно нельзя считать значимыми, т.к. p-value получился слишком большой, и мы не можем отвергнуть нулевую гипотезу о том, что средние чеки двух групп равны."
   ]
  },
  {
   "cell_type": "markdown",
   "id": "cb81ae41",
   "metadata": {},
   "source": [
    "## 4. Выводы\n",
    "* График различия среднего чека колеблется, что предпологает наличие аномалий в выборках. Сделать из этого графика определённые выводы нельзя.\n",
    "* И по сырым, и по очищенным данным нет статистически значимого различия по среднему чеку между группами. \n",
    "* В группе В наблюдается более высока конверсия, чем в группе А. Данное различие статистически значимо. \n",
    "* После того, как мы отфильтровали аномальные значения, различие стало более ярко выраженным, а его статистическая значимость повысилась.\n",
    "* Различие в конверсии, но не в среднем чеке говорит о том, что в группе В доля покупателей больше, чем в группе А, но сумма среднего заказа при этом не увеличилась.  \n",
    "* График различия конверсии между группами показывает, что результаты группы B лучше группы A и имеют тенденцию к росту, в то время как результаты группы А снижаются. К концу периода результаты не зафикисировались, но скачки стали менее резкими, график начинает \"сглаживаться\". Поэтому мы предполагаем, что можно зафиксировать победу группы В и остановить тест.\n"
   ]
  },
  {
   "cell_type": "code",
   "execution_count": null,
   "id": "77097536",
   "metadata": {},
   "outputs": [],
   "source": []
  }
 ],
 "metadata": {
  "ExecuteTimeLog": [
   {
    "duration": 1409,
    "start_time": "2021-07-24T14:29:47.084Z"
   },
   {
    "duration": 5,
    "start_time": "2021-07-24T14:29:48.496Z"
   },
   {
    "duration": 163,
    "start_time": "2021-07-24T14:29:48.504Z"
   },
   {
    "duration": 20,
    "start_time": "2021-07-24T14:29:48.671Z"
   },
   {
    "duration": 16,
    "start_time": "2021-07-24T14:29:48.694Z"
   },
   {
    "duration": 329,
    "start_time": "2021-07-24T14:29:48.713Z"
   },
   {
    "duration": 12,
    "start_time": "2021-07-24T14:29:49.045Z"
   },
   {
    "duration": 11,
    "start_time": "2021-07-24T14:29:49.061Z"
   },
   {
    "duration": 12,
    "start_time": "2021-07-24T14:29:49.076Z"
   },
   {
    "duration": 11,
    "start_time": "2021-07-24T14:29:49.091Z"
   },
   {
    "duration": 23,
    "start_time": "2021-07-24T14:29:49.105Z"
   },
   {
    "duration": 13,
    "start_time": "2021-07-24T14:29:49.163Z"
   },
   {
    "duration": 14,
    "start_time": "2021-07-24T14:29:49.179Z"
   },
   {
    "duration": 21,
    "start_time": "2021-07-24T14:29:49.197Z"
   },
   {
    "duration": 22,
    "start_time": "2021-07-24T14:29:49.221Z"
   },
   {
    "duration": 29,
    "start_time": "2021-07-24T14:29:49.247Z"
   },
   {
    "duration": 21,
    "start_time": "2021-07-24T14:29:49.280Z"
   },
   {
    "duration": 19,
    "start_time": "2021-07-24T14:29:49.305Z"
   },
   {
    "duration": 54,
    "start_time": "2021-07-24T14:29:49.327Z"
   },
   {
    "duration": 30,
    "start_time": "2021-07-24T14:29:49.385Z"
   },
   {
    "duration": 687,
    "start_time": "2021-07-24T14:29:49.418Z"
   },
   {
    "duration": 429,
    "start_time": "2021-07-24T14:29:50.109Z"
   },
   {
    "duration": 25,
    "start_time": "2021-07-24T14:29:50.546Z"
   },
   {
    "duration": 21,
    "start_time": "2021-07-24T14:29:50.574Z"
   },
   {
    "duration": 377,
    "start_time": "2021-07-24T14:29:50.597Z"
   },
   {
    "duration": 365,
    "start_time": "2021-07-24T14:29:50.977Z"
   },
   {
    "duration": 475,
    "start_time": "2021-07-24T14:29:51.344Z"
   },
   {
    "duration": 379,
    "start_time": "2021-07-24T14:29:51.821Z"
   },
   {
    "duration": 12,
    "start_time": "2021-07-24T14:29:52.202Z"
   },
   {
    "duration": 465,
    "start_time": "2021-07-24T14:29:52.216Z"
   },
   {
    "duration": 10,
    "start_time": "2021-07-24T14:29:52.684Z"
   },
   {
    "duration": 554,
    "start_time": "2021-07-24T14:29:52.697Z"
   },
   {
    "duration": 12,
    "start_time": "2021-07-24T14:29:53.253Z"
   },
   {
    "duration": 428,
    "start_time": "2021-07-24T14:29:53.267Z"
   },
   {
    "duration": 7,
    "start_time": "2021-07-24T14:29:53.698Z"
   },
   {
    "duration": 25,
    "start_time": "2021-07-24T14:29:53.707Z"
   },
   {
    "duration": 29,
    "start_time": "2021-07-24T14:29:53.735Z"
   },
   {
    "duration": 28,
    "start_time": "2021-07-24T14:29:53.767Z"
   },
   {
    "duration": 38,
    "start_time": "2021-07-24T14:29:53.797Z"
   },
   {
    "duration": 22,
    "start_time": "2021-07-24T14:29:53.837Z"
   },
   {
    "duration": 10,
    "start_time": "2021-07-24T14:29:53.862Z"
   },
   {
    "duration": 20,
    "start_time": "2021-07-24T14:29:53.874Z"
   },
   {
    "duration": 25,
    "start_time": "2021-07-24T14:29:53.897Z"
   },
   {
    "duration": 18,
    "start_time": "2021-07-24T14:29:53.925Z"
   },
   {
    "duration": 18,
    "start_time": "2021-07-24T14:29:53.946Z"
   },
   {
    "duration": 13,
    "start_time": "2021-07-24T14:29:53.966Z"
   },
   {
    "duration": 1366,
    "start_time": "2021-07-26T04:57:08.484Z"
   },
   {
    "duration": 5,
    "start_time": "2021-07-26T04:57:09.853Z"
   },
   {
    "duration": 129,
    "start_time": "2021-07-26T04:57:09.999Z"
   },
   {
    "duration": 25,
    "start_time": "2021-07-26T04:57:18.652Z"
   },
   {
    "duration": 19,
    "start_time": "2021-07-26T04:57:20.676Z"
   },
   {
    "duration": 1695,
    "start_time": "2021-07-26T04:58:19.356Z"
   },
   {
    "duration": 6,
    "start_time": "2021-07-26T04:58:21.055Z"
   },
   {
    "duration": 130,
    "start_time": "2021-07-26T04:58:21.064Z"
   },
   {
    "duration": 19,
    "start_time": "2021-07-26T04:58:21.197Z"
   },
   {
    "duration": 17,
    "start_time": "2021-07-26T04:58:21.218Z"
   },
   {
    "duration": 259,
    "start_time": "2021-07-26T04:58:21.238Z"
   },
   {
    "duration": 13,
    "start_time": "2021-07-26T04:58:21.499Z"
   },
   {
    "duration": 12,
    "start_time": "2021-07-26T04:58:21.514Z"
   },
   {
    "duration": 10,
    "start_time": "2021-07-26T04:58:21.531Z"
   },
   {
    "duration": 13,
    "start_time": "2021-07-26T04:58:21.545Z"
   },
   {
    "duration": 12,
    "start_time": "2021-07-26T04:58:21.587Z"
   },
   {
    "duration": 11,
    "start_time": "2021-07-26T04:58:21.602Z"
   },
   {
    "duration": 9,
    "start_time": "2021-07-26T04:58:21.616Z"
   },
   {
    "duration": 9,
    "start_time": "2021-07-26T04:58:21.628Z"
   },
   {
    "duration": 47,
    "start_time": "2021-07-26T04:58:21.640Z"
   },
   {
    "duration": 16,
    "start_time": "2021-07-26T04:58:21.690Z"
   },
   {
    "duration": 13,
    "start_time": "2021-07-26T04:58:21.709Z"
   },
   {
    "duration": 11,
    "start_time": "2021-07-26T04:58:21.725Z"
   },
   {
    "duration": 52,
    "start_time": "2021-07-26T04:58:21.740Z"
   },
   {
    "duration": 7,
    "start_time": "2021-07-26T04:58:21.795Z"
   },
   {
    "duration": 401,
    "start_time": "2021-07-26T04:58:21.805Z"
   },
   {
    "duration": 299,
    "start_time": "2021-07-26T04:58:22.208Z"
   },
   {
    "duration": 11,
    "start_time": "2021-07-26T04:58:22.511Z"
   },
   {
    "duration": 21,
    "start_time": "2021-07-26T04:58:22.525Z"
   },
   {
    "duration": 800,
    "start_time": "2021-07-26T04:58:22.550Z"
   },
   {
    "duration": 347,
    "start_time": "2021-07-26T05:04:11.152Z"
   },
   {
    "duration": 348,
    "start_time": "2021-07-26T05:04:28.991Z"
   },
   {
    "duration": 1443,
    "start_time": "2021-07-26T05:04:43.882Z"
   },
   {
    "duration": 7,
    "start_time": "2021-07-26T05:04:45.327Z"
   },
   {
    "duration": 129,
    "start_time": "2021-07-26T05:04:45.337Z"
   },
   {
    "duration": 18,
    "start_time": "2021-07-26T05:04:45.470Z"
   },
   {
    "duration": 16,
    "start_time": "2021-07-26T05:04:45.491Z"
   },
   {
    "duration": 302,
    "start_time": "2021-07-26T05:04:45.510Z"
   },
   {
    "duration": 13,
    "start_time": "2021-07-26T05:04:45.814Z"
   },
   {
    "duration": 11,
    "start_time": "2021-07-26T05:04:45.831Z"
   },
   {
    "duration": 11,
    "start_time": "2021-07-26T05:04:45.845Z"
   },
   {
    "duration": 12,
    "start_time": "2021-07-26T05:04:45.859Z"
   },
   {
    "duration": 22,
    "start_time": "2021-07-26T05:04:45.873Z"
   },
   {
    "duration": 11,
    "start_time": "2021-07-26T05:04:45.898Z"
   },
   {
    "duration": 13,
    "start_time": "2021-07-26T05:04:45.911Z"
   },
   {
    "duration": 10,
    "start_time": "2021-07-26T05:04:45.927Z"
   },
   {
    "duration": 12,
    "start_time": "2021-07-26T05:04:45.940Z"
   },
   {
    "duration": 13,
    "start_time": "2021-07-26T05:04:45.986Z"
   },
   {
    "duration": 13,
    "start_time": "2021-07-26T05:04:46.001Z"
   },
   {
    "duration": 13,
    "start_time": "2021-07-26T05:04:46.017Z"
   },
   {
    "duration": 21,
    "start_time": "2021-07-26T05:04:46.032Z"
   },
   {
    "duration": 9,
    "start_time": "2021-07-26T05:04:46.086Z"
   },
   {
    "duration": 382,
    "start_time": "2021-07-26T05:04:46.097Z"
   },
   {
    "duration": 305,
    "start_time": "2021-07-26T05:04:46.481Z"
   },
   {
    "duration": 13,
    "start_time": "2021-07-26T05:04:46.792Z"
   },
   {
    "duration": 22,
    "start_time": "2021-07-26T05:04:46.809Z"
   },
   {
    "duration": 375,
    "start_time": "2021-07-26T05:04:46.834Z"
   },
   {
    "duration": 333,
    "start_time": "2021-07-26T05:04:47.211Z"
   },
   {
    "duration": 480,
    "start_time": "2021-07-26T05:04:47.547Z"
   },
   {
    "duration": 368,
    "start_time": "2021-07-26T05:04:48.031Z"
   },
   {
    "duration": 16,
    "start_time": "2021-07-26T05:04:48.402Z"
   },
   {
    "duration": 425,
    "start_time": "2021-07-26T05:04:48.421Z"
   },
   {
    "duration": 8,
    "start_time": "2021-07-26T05:04:48.848Z"
   },
   {
    "duration": 415,
    "start_time": "2021-07-26T05:04:48.858Z"
   },
   {
    "duration": 11,
    "start_time": "2021-07-26T05:04:49.275Z"
   },
   {
    "duration": 409,
    "start_time": "2021-07-26T05:04:49.288Z"
   },
   {
    "duration": 7,
    "start_time": "2021-07-26T05:04:49.700Z"
   },
   {
    "duration": 28,
    "start_time": "2021-07-26T05:04:49.710Z"
   },
   {
    "duration": 13,
    "start_time": "2021-07-26T05:04:49.741Z"
   },
   {
    "duration": 35,
    "start_time": "2021-07-26T05:04:49.757Z"
   },
   {
    "duration": 23,
    "start_time": "2021-07-26T05:04:49.795Z"
   },
   {
    "duration": 22,
    "start_time": "2021-07-26T05:04:49.822Z"
   },
   {
    "duration": 43,
    "start_time": "2021-07-26T05:04:49.847Z"
   },
   {
    "duration": 13,
    "start_time": "2021-07-26T05:04:49.893Z"
   },
   {
    "duration": 23,
    "start_time": "2021-07-26T05:04:49.910Z"
   },
   {
    "duration": 37,
    "start_time": "2021-07-26T05:04:49.936Z"
   },
   {
    "duration": 16,
    "start_time": "2021-07-26T05:04:49.976Z"
   },
   {
    "duration": 13,
    "start_time": "2021-07-26T05:04:49.996Z"
   },
   {
    "duration": 547,
    "start_time": "2021-07-26T05:05:25.877Z"
   },
   {
    "duration": 1441,
    "start_time": "2021-07-26T05:15:48.854Z"
   },
   {
    "duration": 7,
    "start_time": "2021-07-26T05:15:50.298Z"
   },
   {
    "duration": 154,
    "start_time": "2021-07-26T05:15:50.308Z"
   },
   {
    "duration": 18,
    "start_time": "2021-07-26T05:15:50.465Z"
   },
   {
    "duration": 17,
    "start_time": "2021-07-26T05:15:50.485Z"
   },
   {
    "duration": 253,
    "start_time": "2021-07-26T05:15:50.504Z"
   },
   {
    "duration": 11,
    "start_time": "2021-07-26T05:15:50.760Z"
   },
   {
    "duration": 13,
    "start_time": "2021-07-26T05:15:50.776Z"
   },
   {
    "duration": 12,
    "start_time": "2021-07-26T05:15:50.792Z"
   },
   {
    "duration": 13,
    "start_time": "2021-07-26T05:15:50.807Z"
   },
   {
    "duration": 16,
    "start_time": "2021-07-26T05:15:50.823Z"
   },
   {
    "duration": 25,
    "start_time": "2021-07-26T05:15:50.842Z"
   },
   {
    "duration": 24,
    "start_time": "2021-07-26T05:15:50.870Z"
   },
   {
    "duration": 12,
    "start_time": "2021-07-26T05:15:50.897Z"
   },
   {
    "duration": 24,
    "start_time": "2021-07-26T05:15:50.911Z"
   },
   {
    "duration": 17,
    "start_time": "2021-07-26T05:15:50.938Z"
   },
   {
    "duration": 34,
    "start_time": "2021-07-26T05:15:50.957Z"
   },
   {
    "duration": 15,
    "start_time": "2021-07-26T05:15:50.994Z"
   },
   {
    "duration": 16,
    "start_time": "2021-07-26T05:15:51.012Z"
   },
   {
    "duration": 15,
    "start_time": "2021-07-26T05:15:51.030Z"
   },
   {
    "duration": 396,
    "start_time": "2021-07-26T05:15:51.047Z"
   },
   {
    "duration": 290,
    "start_time": "2021-07-26T05:15:51.446Z"
   },
   {
    "duration": 11,
    "start_time": "2021-07-26T05:15:51.741Z"
   },
   {
    "duration": 36,
    "start_time": "2021-07-26T05:15:51.754Z"
   },
   {
    "duration": 387,
    "start_time": "2021-07-26T05:15:51.792Z"
   },
   {
    "duration": 374,
    "start_time": "2021-07-26T05:15:52.186Z"
   },
   {
    "duration": 465,
    "start_time": "2021-07-26T05:15:52.562Z"
   },
   {
    "duration": 378,
    "start_time": "2021-07-26T05:15:53.029Z"
   },
   {
    "duration": 13,
    "start_time": "2021-07-26T05:15:53.409Z"
   },
   {
    "duration": 435,
    "start_time": "2021-07-26T05:15:53.425Z"
   },
   {
    "duration": 8,
    "start_time": "2021-07-26T05:15:53.862Z"
   },
   {
    "duration": 408,
    "start_time": "2021-07-26T05:15:53.873Z"
   },
   {
    "duration": 7,
    "start_time": "2021-07-26T05:15:54.286Z"
   },
   {
    "duration": 422,
    "start_time": "2021-07-26T05:15:54.296Z"
   },
   {
    "duration": 7,
    "start_time": "2021-07-26T05:15:54.720Z"
   },
   {
    "duration": 18,
    "start_time": "2021-07-26T05:15:54.729Z"
   },
   {
    "duration": 35,
    "start_time": "2021-07-26T05:15:54.750Z"
   },
   {
    "duration": 8,
    "start_time": "2021-07-26T05:15:54.788Z"
   },
   {
    "duration": 18,
    "start_time": "2021-07-26T05:15:54.798Z"
   },
   {
    "duration": 16,
    "start_time": "2021-07-26T05:15:54.818Z"
   },
   {
    "duration": 7,
    "start_time": "2021-07-26T05:15:54.837Z"
   },
   {
    "duration": 43,
    "start_time": "2021-07-26T05:15:54.847Z"
   },
   {
    "duration": 15,
    "start_time": "2021-07-26T05:15:54.894Z"
   },
   {
    "duration": 24,
    "start_time": "2021-07-26T05:15:54.912Z"
   },
   {
    "duration": 49,
    "start_time": "2021-07-26T05:15:54.939Z"
   },
   {
    "duration": 23,
    "start_time": "2021-07-26T05:15:54.992Z"
   },
   {
    "duration": 1391,
    "start_time": "2021-07-26T05:20:45.856Z"
   },
   {
    "duration": 6,
    "start_time": "2021-07-26T05:20:47.250Z"
   },
   {
    "duration": 161,
    "start_time": "2021-07-26T05:20:47.259Z"
   },
   {
    "duration": 18,
    "start_time": "2021-07-26T05:20:47.423Z"
   },
   {
    "duration": 17,
    "start_time": "2021-07-26T05:20:47.443Z"
   },
   {
    "duration": 329,
    "start_time": "2021-07-26T05:20:47.462Z"
   },
   {
    "duration": 12,
    "start_time": "2021-07-26T05:20:47.793Z"
   },
   {
    "duration": 11,
    "start_time": "2021-07-26T05:20:47.809Z"
   },
   {
    "duration": 13,
    "start_time": "2021-07-26T05:20:47.823Z"
   },
   {
    "duration": 50,
    "start_time": "2021-07-26T05:20:47.839Z"
   },
   {
    "duration": 14,
    "start_time": "2021-07-26T05:20:47.892Z"
   },
   {
    "duration": 12,
    "start_time": "2021-07-26T05:20:47.909Z"
   },
   {
    "duration": 12,
    "start_time": "2021-07-26T05:20:47.923Z"
   },
   {
    "duration": 49,
    "start_time": "2021-07-26T05:20:47.937Z"
   },
   {
    "duration": 12,
    "start_time": "2021-07-26T05:20:47.988Z"
   },
   {
    "duration": 15,
    "start_time": "2021-07-26T05:20:48.002Z"
   },
   {
    "duration": 17,
    "start_time": "2021-07-26T05:20:48.020Z"
   },
   {
    "duration": 48,
    "start_time": "2021-07-26T05:20:48.039Z"
   },
   {
    "duration": 13,
    "start_time": "2021-07-26T05:20:48.089Z"
   },
   {
    "duration": 13,
    "start_time": "2021-07-26T05:20:48.105Z"
   },
   {
    "duration": 414,
    "start_time": "2021-07-26T05:20:48.120Z"
   },
   {
    "duration": 307,
    "start_time": "2021-07-26T05:20:48.536Z"
   },
   {
    "duration": 11,
    "start_time": "2021-07-26T05:20:48.848Z"
   },
   {
    "duration": 37,
    "start_time": "2021-07-26T05:20:48.863Z"
   },
   {
    "duration": 371,
    "start_time": "2021-07-26T05:20:48.903Z"
   },
   {
    "duration": 349,
    "start_time": "2021-07-26T05:20:49.277Z"
   },
   {
    "duration": 495,
    "start_time": "2021-07-26T05:20:49.628Z"
   },
   {
    "duration": 383,
    "start_time": "2021-07-26T05:20:50.125Z"
   },
   {
    "duration": 12,
    "start_time": "2021-07-26T05:20:50.511Z"
   },
   {
    "duration": 656,
    "start_time": "2021-07-26T05:20:50.527Z"
   },
   {
    "duration": 12,
    "start_time": "2021-07-26T05:20:51.187Z"
   },
   {
    "duration": 404,
    "start_time": "2021-07-26T05:20:51.202Z"
   },
   {
    "duration": 7,
    "start_time": "2021-07-26T05:20:51.608Z"
   },
   {
    "duration": 415,
    "start_time": "2021-07-26T05:20:51.618Z"
   },
   {
    "duration": 6,
    "start_time": "2021-07-26T05:20:52.036Z"
   },
   {
    "duration": 20,
    "start_time": "2021-07-26T05:20:52.045Z"
   },
   {
    "duration": 9,
    "start_time": "2021-07-26T05:20:52.085Z"
   },
   {
    "duration": 12,
    "start_time": "2021-07-26T05:20:52.097Z"
   },
   {
    "duration": 20,
    "start_time": "2021-07-26T05:20:52.112Z"
   },
   {
    "duration": 17,
    "start_time": "2021-07-26T05:20:52.135Z"
   },
   {
    "duration": 32,
    "start_time": "2021-07-26T05:20:52.155Z"
   },
   {
    "duration": 25,
    "start_time": "2021-07-26T05:20:52.191Z"
   },
   {
    "duration": 18,
    "start_time": "2021-07-26T05:20:52.219Z"
   },
   {
    "duration": 19,
    "start_time": "2021-07-26T05:20:52.239Z"
   },
   {
    "duration": 11,
    "start_time": "2021-07-26T05:20:52.260Z"
   },
   {
    "duration": 18,
    "start_time": "2021-07-26T05:20:52.273Z"
   }
  ],
  "kernelspec": {
   "display_name": "Python 3",
   "language": "python",
   "name": "python3"
  },
  "language_info": {
   "codemirror_mode": {
    "name": "ipython",
    "version": 3
   },
   "file_extension": ".py",
   "mimetype": "text/x-python",
   "name": "python",
   "nbconvert_exporter": "python",
   "pygments_lexer": "ipython3",
   "version": "3.7.10"
  },
  "toc": {
   "base_numbering": 1,
   "nav_menu": {},
   "number_sections": true,
   "sideBar": true,
   "skip_h1_title": true,
   "title_cell": "Table of Contents",
   "title_sidebar": "Contents",
   "toc_cell": false,
   "toc_position": {},
   "toc_section_display": true,
   "toc_window_display": false
  }
 },
 "nbformat": 4,
 "nbformat_minor": 5
}
