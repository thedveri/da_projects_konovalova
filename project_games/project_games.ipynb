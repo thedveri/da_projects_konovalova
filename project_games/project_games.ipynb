{
 "cells": [
  {
   "cell_type": "markdown",
   "metadata": {},
   "source": [
    "# Исследование рынка компьютерных игр\n",
    "\n",
    "Данная работа посвящена исследованию продаж компьютерных игр. Цель проекта - выявить закономерности, определяющие успешность игры.\n",
    "Были изучены такие данные, как оценки пользователей и экспертов, жанры и платформы. Данные прошли необходимую предобработку.\n",
    "\n",
    "На этапе исследовательского анализа данных были выполнены следующие задачи: \n",
    "* определен актуальный период, который можно взять за основу для дальнейшего прогноза продаж;\n",
    "* выявлены несколько потенциально прибыльных платформ;\n",
    "* дана оценка распределению глобальных продаж;\n",
    "* проверено наличие взаимосвязи между продажами и оценками критиков и пользователей;\n",
    "* проанализировано общее распределение игр по жанрам.\n",
    "\n",
    "Также был составлен портрет каждого региона продаж и выявлены:\n",
    "* Самые популярные платформы (топ-5);\n",
    "* Самые популярные жанры (топ-5);\n",
    "* Влияние рейтинга ESRB на продажи в разных регионах.\n",
    "\n",
    "Кроме того, мы выдвинули гипотезы и провели их статистическую проверку:\n",
    "* Средние пользовательские рейтинги платформ Xbox One и PC одинаковые;\n",
    "* Средние пользовательские рейтинги жанров Action и Sports разные.\n",
    "\n",
    "В общем выводе сформулированы основные результаты и рекомендации, которые помогут выбрать потенциально популярный продукт и спланировать рекламные кампании."
   ]
  },
  {
   "cell_type": "markdown",
   "metadata": {},
   "source": [
    "## Основная информация о данных"
   ]
  },
  {
   "cell_type": "code",
   "execution_count": 1,
   "metadata": {
    "scrolled": true
   },
   "outputs": [],
   "source": [
    "# импорт необходимых библиотек\n",
    "import pandas as pd\n",
    "import numpy as np\n",
    "import matplotlib.pyplot as plt\n",
    "from scipy import stats as st\n",
    "# импорт данных\n",
    "games = pd.read_csv('games.csv')"
   ]
  },
  {
   "cell_type": "code",
   "execution_count": 2,
   "metadata": {},
   "outputs": [
    {
     "data": {
      "text/html": [
       "<div>\n",
       "<style scoped>\n",
       "    .dataframe tbody tr th:only-of-type {\n",
       "        vertical-align: middle;\n",
       "    }\n",
       "\n",
       "    .dataframe tbody tr th {\n",
       "        vertical-align: top;\n",
       "    }\n",
       "\n",
       "    .dataframe thead th {\n",
       "        text-align: right;\n",
       "    }\n",
       "</style>\n",
       "<table border=\"1\" class=\"dataframe\">\n",
       "  <thead>\n",
       "    <tr style=\"text-align: right;\">\n",
       "      <th></th>\n",
       "      <th>Name</th>\n",
       "      <th>Platform</th>\n",
       "      <th>Year_of_Release</th>\n",
       "      <th>Genre</th>\n",
       "      <th>NA_sales</th>\n",
       "      <th>EU_sales</th>\n",
       "      <th>JP_sales</th>\n",
       "      <th>Other_sales</th>\n",
       "      <th>Critic_Score</th>\n",
       "      <th>User_Score</th>\n",
       "      <th>Rating</th>\n",
       "    </tr>\n",
       "  </thead>\n",
       "  <tbody>\n",
       "    <tr>\n",
       "      <td>0</td>\n",
       "      <td>Wii Sports</td>\n",
       "      <td>Wii</td>\n",
       "      <td>2006.0</td>\n",
       "      <td>Sports</td>\n",
       "      <td>41.36</td>\n",
       "      <td>28.96</td>\n",
       "      <td>3.77</td>\n",
       "      <td>8.45</td>\n",
       "      <td>76.0</td>\n",
       "      <td>8</td>\n",
       "      <td>E</td>\n",
       "    </tr>\n",
       "    <tr>\n",
       "      <td>1</td>\n",
       "      <td>Super Mario Bros.</td>\n",
       "      <td>NES</td>\n",
       "      <td>1985.0</td>\n",
       "      <td>Platform</td>\n",
       "      <td>29.08</td>\n",
       "      <td>3.58</td>\n",
       "      <td>6.81</td>\n",
       "      <td>0.77</td>\n",
       "      <td>NaN</td>\n",
       "      <td>NaN</td>\n",
       "      <td>NaN</td>\n",
       "    </tr>\n",
       "    <tr>\n",
       "      <td>2</td>\n",
       "      <td>Mario Kart Wii</td>\n",
       "      <td>Wii</td>\n",
       "      <td>2008.0</td>\n",
       "      <td>Racing</td>\n",
       "      <td>15.68</td>\n",
       "      <td>12.76</td>\n",
       "      <td>3.79</td>\n",
       "      <td>3.29</td>\n",
       "      <td>82.0</td>\n",
       "      <td>8.3</td>\n",
       "      <td>E</td>\n",
       "    </tr>\n",
       "    <tr>\n",
       "      <td>3</td>\n",
       "      <td>Wii Sports Resort</td>\n",
       "      <td>Wii</td>\n",
       "      <td>2009.0</td>\n",
       "      <td>Sports</td>\n",
       "      <td>15.61</td>\n",
       "      <td>10.93</td>\n",
       "      <td>3.28</td>\n",
       "      <td>2.95</td>\n",
       "      <td>80.0</td>\n",
       "      <td>8</td>\n",
       "      <td>E</td>\n",
       "    </tr>\n",
       "    <tr>\n",
       "      <td>4</td>\n",
       "      <td>Pokemon Red/Pokemon Blue</td>\n",
       "      <td>GB</td>\n",
       "      <td>1996.0</td>\n",
       "      <td>Role-Playing</td>\n",
       "      <td>11.27</td>\n",
       "      <td>8.89</td>\n",
       "      <td>10.22</td>\n",
       "      <td>1.00</td>\n",
       "      <td>NaN</td>\n",
       "      <td>NaN</td>\n",
       "      <td>NaN</td>\n",
       "    </tr>\n",
       "    <tr>\n",
       "      <td>...</td>\n",
       "      <td>...</td>\n",
       "      <td>...</td>\n",
       "      <td>...</td>\n",
       "      <td>...</td>\n",
       "      <td>...</td>\n",
       "      <td>...</td>\n",
       "      <td>...</td>\n",
       "      <td>...</td>\n",
       "      <td>...</td>\n",
       "      <td>...</td>\n",
       "      <td>...</td>\n",
       "    </tr>\n",
       "    <tr>\n",
       "      <td>16710</td>\n",
       "      <td>Samurai Warriors: Sanada Maru</td>\n",
       "      <td>PS3</td>\n",
       "      <td>2016.0</td>\n",
       "      <td>Action</td>\n",
       "      <td>0.00</td>\n",
       "      <td>0.00</td>\n",
       "      <td>0.01</td>\n",
       "      <td>0.00</td>\n",
       "      <td>NaN</td>\n",
       "      <td>NaN</td>\n",
       "      <td>NaN</td>\n",
       "    </tr>\n",
       "    <tr>\n",
       "      <td>16711</td>\n",
       "      <td>LMA Manager 2007</td>\n",
       "      <td>X360</td>\n",
       "      <td>2006.0</td>\n",
       "      <td>Sports</td>\n",
       "      <td>0.00</td>\n",
       "      <td>0.01</td>\n",
       "      <td>0.00</td>\n",
       "      <td>0.00</td>\n",
       "      <td>NaN</td>\n",
       "      <td>NaN</td>\n",
       "      <td>NaN</td>\n",
       "    </tr>\n",
       "    <tr>\n",
       "      <td>16712</td>\n",
       "      <td>Haitaka no Psychedelica</td>\n",
       "      <td>PSV</td>\n",
       "      <td>2016.0</td>\n",
       "      <td>Adventure</td>\n",
       "      <td>0.00</td>\n",
       "      <td>0.00</td>\n",
       "      <td>0.01</td>\n",
       "      <td>0.00</td>\n",
       "      <td>NaN</td>\n",
       "      <td>NaN</td>\n",
       "      <td>NaN</td>\n",
       "    </tr>\n",
       "    <tr>\n",
       "      <td>16713</td>\n",
       "      <td>Spirits &amp; Spells</td>\n",
       "      <td>GBA</td>\n",
       "      <td>2003.0</td>\n",
       "      <td>Platform</td>\n",
       "      <td>0.01</td>\n",
       "      <td>0.00</td>\n",
       "      <td>0.00</td>\n",
       "      <td>0.00</td>\n",
       "      <td>NaN</td>\n",
       "      <td>NaN</td>\n",
       "      <td>NaN</td>\n",
       "    </tr>\n",
       "    <tr>\n",
       "      <td>16714</td>\n",
       "      <td>Winning Post 8 2016</td>\n",
       "      <td>PSV</td>\n",
       "      <td>2016.0</td>\n",
       "      <td>Simulation</td>\n",
       "      <td>0.00</td>\n",
       "      <td>0.00</td>\n",
       "      <td>0.01</td>\n",
       "      <td>0.00</td>\n",
       "      <td>NaN</td>\n",
       "      <td>NaN</td>\n",
       "      <td>NaN</td>\n",
       "    </tr>\n",
       "  </tbody>\n",
       "</table>\n",
       "<p>16715 rows × 11 columns</p>\n",
       "</div>"
      ],
      "text/plain": [
       "                                Name Platform  Year_of_Release         Genre  \\\n",
       "0                         Wii Sports      Wii           2006.0        Sports   \n",
       "1                  Super Mario Bros.      NES           1985.0      Platform   \n",
       "2                     Mario Kart Wii      Wii           2008.0        Racing   \n",
       "3                  Wii Sports Resort      Wii           2009.0        Sports   \n",
       "4           Pokemon Red/Pokemon Blue       GB           1996.0  Role-Playing   \n",
       "...                              ...      ...              ...           ...   \n",
       "16710  Samurai Warriors: Sanada Maru      PS3           2016.0        Action   \n",
       "16711               LMA Manager 2007     X360           2006.0        Sports   \n",
       "16712        Haitaka no Psychedelica      PSV           2016.0     Adventure   \n",
       "16713               Spirits & Spells      GBA           2003.0      Platform   \n",
       "16714            Winning Post 8 2016      PSV           2016.0    Simulation   \n",
       "\n",
       "       NA_sales  EU_sales  JP_sales  Other_sales  Critic_Score User_Score  \\\n",
       "0         41.36     28.96      3.77         8.45          76.0          8   \n",
       "1         29.08      3.58      6.81         0.77           NaN        NaN   \n",
       "2         15.68     12.76      3.79         3.29          82.0        8.3   \n",
       "3         15.61     10.93      3.28         2.95          80.0          8   \n",
       "4         11.27      8.89     10.22         1.00           NaN        NaN   \n",
       "...         ...       ...       ...          ...           ...        ...   \n",
       "16710      0.00      0.00      0.01         0.00           NaN        NaN   \n",
       "16711      0.00      0.01      0.00         0.00           NaN        NaN   \n",
       "16712      0.00      0.00      0.01         0.00           NaN        NaN   \n",
       "16713      0.01      0.00      0.00         0.00           NaN        NaN   \n",
       "16714      0.00      0.00      0.01         0.00           NaN        NaN   \n",
       "\n",
       "      Rating  \n",
       "0          E  \n",
       "1        NaN  \n",
       "2          E  \n",
       "3          E  \n",
       "4        NaN  \n",
       "...      ...  \n",
       "16710    NaN  \n",
       "16711    NaN  \n",
       "16712    NaN  \n",
       "16713    NaN  \n",
       "16714    NaN  \n",
       "\n",
       "[16715 rows x 11 columns]"
      ]
     },
     "execution_count": 2,
     "metadata": {},
     "output_type": "execute_result"
    }
   ],
   "source": [
    "games # вывод первых и последних строк на экран"
   ]
  },
  {
   "cell_type": "code",
   "execution_count": 3,
   "metadata": {},
   "outputs": [
    {
     "name": "stdout",
     "output_type": "stream",
     "text": [
      "<class 'pandas.core.frame.DataFrame'>\n",
      "RangeIndex: 16715 entries, 0 to 16714\n",
      "Data columns (total 11 columns):\n",
      "Name               16713 non-null object\n",
      "Platform           16715 non-null object\n",
      "Year_of_Release    16446 non-null float64\n",
      "Genre              16713 non-null object\n",
      "NA_sales           16715 non-null float64\n",
      "EU_sales           16715 non-null float64\n",
      "JP_sales           16715 non-null float64\n",
      "Other_sales        16715 non-null float64\n",
      "Critic_Score       8137 non-null float64\n",
      "User_Score         10014 non-null object\n",
      "Rating             9949 non-null object\n",
      "dtypes: float64(6), object(5)\n",
      "memory usage: 1.4+ MB\n"
     ]
    }
   ],
   "source": [
    "games.info() # получение основной ифнормации о датафрейме"
   ]
  },
  {
   "cell_type": "markdown",
   "metadata": {},
   "source": [
    "Наши данные представлены типами float и object. \n",
    "\n",
    "Тип object имеют столбцы с названием игры, платформы, жанром и рейтингом, который представляет собой аббревиатуру. Это корректный тип для таких данных.\n",
    "\n",
    "В некоторых случаях тип float нужно будет преобразовать в целочисленный тип int. Например, год выпуска или оценка критиков - это целое число. В свою очередь количетсво продаж и оценка пользователей даны в виде десятичной дроби. Такие значения округлять не будем, чтобы не терять точность вычислений.\n",
    "\n",
    "В датафрейме 16 715 строк и 11 столбцов, но в них разное количество значений. Это значит, что в данных есть пропуски.\n",
    "Посмотрим, в каких строках нет данных о названии игры."
   ]
  },
  {
   "cell_type": "code",
   "execution_count": 4,
   "metadata": {},
   "outputs": [
    {
     "data": {
      "text/html": [
       "<div>\n",
       "<style scoped>\n",
       "    .dataframe tbody tr th:only-of-type {\n",
       "        vertical-align: middle;\n",
       "    }\n",
       "\n",
       "    .dataframe tbody tr th {\n",
       "        vertical-align: top;\n",
       "    }\n",
       "\n",
       "    .dataframe thead th {\n",
       "        text-align: right;\n",
       "    }\n",
       "</style>\n",
       "<table border=\"1\" class=\"dataframe\">\n",
       "  <thead>\n",
       "    <tr style=\"text-align: right;\">\n",
       "      <th></th>\n",
       "      <th>Name</th>\n",
       "      <th>Platform</th>\n",
       "      <th>Year_of_Release</th>\n",
       "      <th>Genre</th>\n",
       "      <th>NA_sales</th>\n",
       "      <th>EU_sales</th>\n",
       "      <th>JP_sales</th>\n",
       "      <th>Other_sales</th>\n",
       "      <th>Critic_Score</th>\n",
       "      <th>User_Score</th>\n",
       "      <th>Rating</th>\n",
       "    </tr>\n",
       "  </thead>\n",
       "  <tbody>\n",
       "    <tr>\n",
       "      <td>659</td>\n",
       "      <td>NaN</td>\n",
       "      <td>GEN</td>\n",
       "      <td>1993.0</td>\n",
       "      <td>NaN</td>\n",
       "      <td>1.78</td>\n",
       "      <td>0.53</td>\n",
       "      <td>0.00</td>\n",
       "      <td>0.08</td>\n",
       "      <td>NaN</td>\n",
       "      <td>NaN</td>\n",
       "      <td>NaN</td>\n",
       "    </tr>\n",
       "    <tr>\n",
       "      <td>14244</td>\n",
       "      <td>NaN</td>\n",
       "      <td>GEN</td>\n",
       "      <td>1993.0</td>\n",
       "      <td>NaN</td>\n",
       "      <td>0.00</td>\n",
       "      <td>0.00</td>\n",
       "      <td>0.03</td>\n",
       "      <td>0.00</td>\n",
       "      <td>NaN</td>\n",
       "      <td>NaN</td>\n",
       "      <td>NaN</td>\n",
       "    </tr>\n",
       "  </tbody>\n",
       "</table>\n",
       "</div>"
      ],
      "text/plain": [
       "      Name Platform  Year_of_Release Genre  NA_sales  EU_sales  JP_sales  \\\n",
       "659    NaN      GEN           1993.0   NaN      1.78      0.53      0.00   \n",
       "14244  NaN      GEN           1993.0   NaN      0.00      0.00      0.03   \n",
       "\n",
       "       Other_sales  Critic_Score User_Score Rating  \n",
       "659           0.08           NaN        NaN    NaN  \n",
       "14244         0.00           NaN        NaN    NaN  "
      ]
     },
     "execution_count": 4,
     "metadata": {},
     "output_type": "execute_result"
    }
   ],
   "source": [
    "games[games['Name'].isna()]"
   ]
  },
  {
   "cell_type": "markdown",
   "metadata": {},
   "source": [
    "Название игры и ее жанр остутствуют всего в двух сторках. Эти данные могли пропасть из-за технической ошибки в ходе выгрузки. \n",
    "Если бы были известные названия игр, можно было бы заполнить и их жанр. Но т.к. этой информации нет и таких строк всего две, можно их удалить. \n",
    "\n",
    "Не для всех игр известен год выпуска. Можно обратиться к коллегам, чтобы они проверили и доработали выгрузку данных, т.к. такая информация наверняка есть в открытом доступе. Но если строк с пропусками в этом столбце немного, то можно их удалить без потерь для анализа и сэкономить время."
   ]
  },
  {
   "cell_type": "code",
   "execution_count": 5,
   "metadata": {},
   "outputs": [
    {
     "name": "stdout",
     "output_type": "stream",
     "text": [
      "Доля пропусков в столбце \"Год выпуска\": 1.61%\n"
     ]
    }
   ],
   "source": [
    "missing_values = len(games[games['Year_of_Release'].isna()])/len(games)\n",
    "print('Доля пропусков в столбце \"Год выпуска\": {:.2%}'.format(missing_values))"
   ]
  },
  {
   "cell_type": "markdown",
   "metadata": {},
   "source": [
    "Строк с пропусками в годе выпуска меньше 2%, поэтому для экономии времени можно их удалить, потеря данных не будет существенной.\n",
    "\n",
    "Также есть пропуски данных об оценках критиков, пользователей и рейтинге. Вероятнее всего этих данных не было в  открытом доступе - например, игра не была оценена пользователями. Таких пропусков довольно много, поэтому не будем их удалять, чтобы не потерять слишком много данных. \n",
    "\n",
    "Проверим, есть ли среди дубликаты среди названий игр. Методом duplicated() выведем на экран повторяющиеся названия на одних и тех же платформах, c одинаковым годом выпуска."
   ]
  },
  {
   "cell_type": "code",
   "execution_count": 6,
   "metadata": {},
   "outputs": [
    {
     "data": {
      "text/html": [
       "<div>\n",
       "<style scoped>\n",
       "    .dataframe tbody tr th:only-of-type {\n",
       "        vertical-align: middle;\n",
       "    }\n",
       "\n",
       "    .dataframe tbody tr th {\n",
       "        vertical-align: top;\n",
       "    }\n",
       "\n",
       "    .dataframe thead th {\n",
       "        text-align: right;\n",
       "    }\n",
       "</style>\n",
       "<table border=\"1\" class=\"dataframe\">\n",
       "  <thead>\n",
       "    <tr style=\"text-align: right;\">\n",
       "      <th></th>\n",
       "      <th>Name</th>\n",
       "      <th>Platform</th>\n",
       "      <th>Year_of_Release</th>\n",
       "      <th>Genre</th>\n",
       "      <th>NA_sales</th>\n",
       "      <th>EU_sales</th>\n",
       "      <th>JP_sales</th>\n",
       "      <th>Other_sales</th>\n",
       "      <th>Critic_Score</th>\n",
       "      <th>User_Score</th>\n",
       "      <th>Rating</th>\n",
       "    </tr>\n",
       "  </thead>\n",
       "  <tbody>\n",
       "    <tr>\n",
       "      <td>14244</td>\n",
       "      <td>NaN</td>\n",
       "      <td>GEN</td>\n",
       "      <td>1993.0</td>\n",
       "      <td>NaN</td>\n",
       "      <td>0.0</td>\n",
       "      <td>0.00</td>\n",
       "      <td>0.03</td>\n",
       "      <td>0.0</td>\n",
       "      <td>NaN</td>\n",
       "      <td>NaN</td>\n",
       "      <td>NaN</td>\n",
       "    </tr>\n",
       "    <tr>\n",
       "      <td>16230</td>\n",
       "      <td>Madden NFL 13</td>\n",
       "      <td>PS3</td>\n",
       "      <td>2012.0</td>\n",
       "      <td>Sports</td>\n",
       "      <td>0.0</td>\n",
       "      <td>0.01</td>\n",
       "      <td>0.00</td>\n",
       "      <td>0.0</td>\n",
       "      <td>83.0</td>\n",
       "      <td>5.5</td>\n",
       "      <td>E</td>\n",
       "    </tr>\n",
       "  </tbody>\n",
       "</table>\n",
       "</div>"
      ],
      "text/plain": [
       "                Name Platform  Year_of_Release   Genre  NA_sales  EU_sales  \\\n",
       "14244            NaN      GEN           1993.0     NaN       0.0      0.00   \n",
       "16230  Madden NFL 13      PS3           2012.0  Sports       0.0      0.01   \n",
       "\n",
       "       JP_sales  Other_sales  Critic_Score User_Score Rating  \n",
       "14244      0.03          0.0           NaN        NaN    NaN  \n",
       "16230      0.00          0.0          83.0        5.5      E  "
      ]
     },
     "execution_count": 6,
     "metadata": {},
     "output_type": "execute_result"
    }
   ],
   "source": [
    "games[games[['Name', 'Platform', 'Year_of_Release']].duplicated()]"
   ]
  },
  {
   "cell_type": "markdown",
   "metadata": {},
   "source": [
    "Найдено всего два дубликата. Скорее всего, они возникли из-за ошибки ввода или задвоились при выгрузке. Таких данных немного, проэтому удалим их."
   ]
  },
  {
   "cell_type": "markdown",
   "metadata": {},
   "source": [
    "### Вывод\n",
    "\n",
    "Первое знакомство с данными показывает, что необходимо провести их предобработку, а именно:\n",
    "* привести названия столбцов к нижнему регистру для удобства работы с датафреймом;\n",
    "* удалить строки с пропусками в столбцах Name, Genre и Year_of_Release;\n",
    "* заполнить пропуски в столбцах Critic_score, User_score и Rating;\n",
    "* удалить дубликаты;\n",
    "* преобразовать данные в удобный для работы тип."
   ]
  },
  {
   "cell_type": "markdown",
   "metadata": {},
   "source": [
    "## Подготовка данных\n",
    "\n",
    "### Замена названий столбцов\n",
    "\n",
    "Приведем названия столбцов к нижнему регистру методом str.lower():"
   ]
  },
  {
   "cell_type": "code",
   "execution_count": 7,
   "metadata": {},
   "outputs": [
    {
     "data": {
      "text/plain": [
       "Index(['name', 'platform', 'year_of_release', 'genre', 'na_sales', 'eu_sales',\n",
       "       'jp_sales', 'other_sales', 'critic_score', 'user_score', 'rating'],\n",
       "      dtype='object')"
      ]
     },
     "execution_count": 7,
     "metadata": {},
     "output_type": "execute_result"
    }
   ],
   "source": [
    "games.columns = games.columns.str.lower()\n",
    "games.columns"
   ]
  },
  {
   "cell_type": "markdown",
   "metadata": {},
   "source": [
    "### Обработка пропусков, дубликатов и преобразование типа данных\n",
    "\n",
    "Удалим пропуски в столбцах 'year_of_release', 'genre'"
   ]
  },
  {
   "cell_type": "code",
   "execution_count": 8,
   "metadata": {},
   "outputs": [],
   "source": [
    "games.dropna(subset = ['year_of_release', 'genre'], inplace = True)"
   ]
  },
  {
   "cell_type": "markdown",
   "metadata": {},
   "source": [
    "Теперь можно преобразовать год выпуска в тип данных int."
   ]
  },
  {
   "cell_type": "code",
   "execution_count": 9,
   "metadata": {},
   "outputs": [
    {
     "data": {
      "text/html": [
       "<div>\n",
       "<style scoped>\n",
       "    .dataframe tbody tr th:only-of-type {\n",
       "        vertical-align: middle;\n",
       "    }\n",
       "\n",
       "    .dataframe tbody tr th {\n",
       "        vertical-align: top;\n",
       "    }\n",
       "\n",
       "    .dataframe thead th {\n",
       "        text-align: right;\n",
       "    }\n",
       "</style>\n",
       "<table border=\"1\" class=\"dataframe\">\n",
       "  <thead>\n",
       "    <tr style=\"text-align: right;\">\n",
       "      <th></th>\n",
       "      <th>name</th>\n",
       "      <th>platform</th>\n",
       "      <th>year_of_release</th>\n",
       "      <th>genre</th>\n",
       "      <th>na_sales</th>\n",
       "      <th>eu_sales</th>\n",
       "      <th>jp_sales</th>\n",
       "      <th>other_sales</th>\n",
       "      <th>critic_score</th>\n",
       "      <th>user_score</th>\n",
       "      <th>rating</th>\n",
       "    </tr>\n",
       "  </thead>\n",
       "  <tbody>\n",
       "    <tr>\n",
       "      <td>0</td>\n",
       "      <td>Wii Sports</td>\n",
       "      <td>Wii</td>\n",
       "      <td>2006</td>\n",
       "      <td>Sports</td>\n",
       "      <td>41.36</td>\n",
       "      <td>28.96</td>\n",
       "      <td>3.77</td>\n",
       "      <td>8.45</td>\n",
       "      <td>76.0</td>\n",
       "      <td>8</td>\n",
       "      <td>E</td>\n",
       "    </tr>\n",
       "    <tr>\n",
       "      <td>1</td>\n",
       "      <td>Super Mario Bros.</td>\n",
       "      <td>NES</td>\n",
       "      <td>1985</td>\n",
       "      <td>Platform</td>\n",
       "      <td>29.08</td>\n",
       "      <td>3.58</td>\n",
       "      <td>6.81</td>\n",
       "      <td>0.77</td>\n",
       "      <td>NaN</td>\n",
       "      <td>NaN</td>\n",
       "      <td>NaN</td>\n",
       "    </tr>\n",
       "    <tr>\n",
       "      <td>2</td>\n",
       "      <td>Mario Kart Wii</td>\n",
       "      <td>Wii</td>\n",
       "      <td>2008</td>\n",
       "      <td>Racing</td>\n",
       "      <td>15.68</td>\n",
       "      <td>12.76</td>\n",
       "      <td>3.79</td>\n",
       "      <td>3.29</td>\n",
       "      <td>82.0</td>\n",
       "      <td>8.3</td>\n",
       "      <td>E</td>\n",
       "    </tr>\n",
       "    <tr>\n",
       "      <td>3</td>\n",
       "      <td>Wii Sports Resort</td>\n",
       "      <td>Wii</td>\n",
       "      <td>2009</td>\n",
       "      <td>Sports</td>\n",
       "      <td>15.61</td>\n",
       "      <td>10.93</td>\n",
       "      <td>3.28</td>\n",
       "      <td>2.95</td>\n",
       "      <td>80.0</td>\n",
       "      <td>8</td>\n",
       "      <td>E</td>\n",
       "    </tr>\n",
       "    <tr>\n",
       "      <td>4</td>\n",
       "      <td>Pokemon Red/Pokemon Blue</td>\n",
       "      <td>GB</td>\n",
       "      <td>1996</td>\n",
       "      <td>Role-Playing</td>\n",
       "      <td>11.27</td>\n",
       "      <td>8.89</td>\n",
       "      <td>10.22</td>\n",
       "      <td>1.00</td>\n",
       "      <td>NaN</td>\n",
       "      <td>NaN</td>\n",
       "      <td>NaN</td>\n",
       "    </tr>\n",
       "  </tbody>\n",
       "</table>\n",
       "</div>"
      ],
      "text/plain": [
       "                       name platform  year_of_release         genre  na_sales  \\\n",
       "0                Wii Sports      Wii             2006        Sports     41.36   \n",
       "1         Super Mario Bros.      NES             1985      Platform     29.08   \n",
       "2            Mario Kart Wii      Wii             2008        Racing     15.68   \n",
       "3         Wii Sports Resort      Wii             2009        Sports     15.61   \n",
       "4  Pokemon Red/Pokemon Blue       GB             1996  Role-Playing     11.27   \n",
       "\n",
       "   eu_sales  jp_sales  other_sales  critic_score user_score rating  \n",
       "0     28.96      3.77         8.45          76.0          8      E  \n",
       "1      3.58      6.81         0.77           NaN        NaN    NaN  \n",
       "2     12.76      3.79         3.29          82.0        8.3      E  \n",
       "3     10.93      3.28         2.95          80.0          8      E  \n",
       "4      8.89     10.22         1.00           NaN        NaN    NaN  "
      ]
     },
     "execution_count": 9,
     "metadata": {},
     "output_type": "execute_result"
    }
   ],
   "source": [
    "games['year_of_release'] = games['year_of_release'].astype(int)\n",
    "games.head()"
   ]
  },
  {
   "cell_type": "markdown",
   "metadata": {},
   "source": [
    "Удалим дубликаты:"
   ]
  },
  {
   "cell_type": "code",
   "execution_count": 10,
   "metadata": {},
   "outputs": [],
   "source": [
    "games = games.drop_duplicates(subset=('name', 'platform', 'year_of_release'))"
   ]
  },
  {
   "cell_type": "markdown",
   "metadata": {},
   "source": [
    "Обработаем пропуски в столбцах с оценкой критиков. Для начала найдем минимальную оценку:"
   ]
  },
  {
   "cell_type": "code",
   "execution_count": 11,
   "metadata": {},
   "outputs": [
    {
     "data": {
      "text/plain": [
       "13.0"
      ]
     },
     "execution_count": 11,
     "metadata": {},
     "output_type": "execute_result"
    }
   ],
   "source": [
    "games['critic_score'].min()"
   ]
  },
  {
   "cell_type": "markdown",
   "metadata": {},
   "source": [
    "Минимальная оценка - 13 баллов. Т.к. у нас нет оценки 0, можно заменить пропуски нулем и далее во время анализа понимать, что 0 означает отстуствие данных. Затем преобразуем все значения в тип int."
   ]
  },
  {
   "cell_type": "code",
   "execution_count": 69,
   "metadata": {},
   "outputs": [],
   "source": [
    "games.loc[:'critic_score'] = games['critic_score'].fillna(0) # заполнение пропусков 0"
   ]
  },
  {
   "cell_type": "code",
   "execution_count": 13,
   "metadata": {},
   "outputs": [],
   "source": [
    "games.loc[:, 'critic_score'] = games['critic_score'].astype(int) # преобразование типа данных"
   ]
  },
  {
   "cell_type": "markdown",
   "metadata": {},
   "source": [
    "Посмотрим на значения пользовательских оценок, отсортированных по возрастанию."
   ]
  },
  {
   "cell_type": "code",
   "execution_count": 14,
   "metadata": {},
   "outputs": [
    {
     "data": {
      "text/plain": [
       "9.7       1\n",
       "0         1\n",
       "0.7       2\n",
       "0.3       2\n",
       "1.5       2\n",
       "       ... \n",
       "8.3     252\n",
       "8.2     276\n",
       "8       285\n",
       "7.8     322\n",
       "tbd    2376\n",
       "Name: user_score, Length: 96, dtype: int64"
      ]
     },
     "execution_count": 14,
     "metadata": {},
     "output_type": "execute_result"
    }
   ],
   "source": [
    "games['user_score'].value_counts().sort_values()"
   ]
  },
  {
   "cell_type": "markdown",
   "metadata": {},
   "source": [
    "Среди оценок пользователей всего 1 ноль, поэтому предлагаем пропуски заполнить нулями как и в случае с оценкой критиков, и считать, что это обозначает отсутствие данных. \n",
    "\n",
    "В некоторых случаях вместо оценки проставлена аббревиатура tbd - это значит, что оценка будет добавлена позже. Т.к. на момент исследования оценки нет, заменим tbd на ноль."
   ]
  },
  {
   "cell_type": "code",
   "execution_count": 15,
   "metadata": {},
   "outputs": [],
   "source": [
    "games.loc[:, 'user_score'] = games['user_score'].fillna(0)\n",
    "games.loc[:, 'user_score'] = games['user_score'].replace('tbd', 0)"
   ]
  },
  {
   "cell_type": "markdown",
   "metadata": {},
   "source": [
    "Из-за наличия аббревиатуры тип данных столбца user_score был object. Чтобы в дальнейшем мы могли проводить расчеты с участием этого столбца, преобразуем его во float."
   ]
  },
  {
   "cell_type": "code",
   "execution_count": 16,
   "metadata": {},
   "outputs": [],
   "source": [
    "games.loc[:, 'user_score'] = games['user_score'].astype(float)"
   ]
  },
  {
   "cell_type": "markdown",
   "metadata": {},
   "source": [
    "Посомтрим на уникальные значения рейтинга ESRB:"
   ]
  },
  {
   "cell_type": "code",
   "execution_count": 17,
   "metadata": {},
   "outputs": [
    {
     "data": {
      "text/plain": [
       "array(['E', nan, 'M', 'T', 'E10+', 'K-A', 'AO', 'EC', 'RP'], dtype=object)"
      ]
     },
     "execution_count": 17,
     "metadata": {},
     "output_type": "execute_result"
    }
   ],
   "source": [
    "games['rating'].unique()"
   ]
  },
  {
   "cell_type": "markdown",
   "metadata": {},
   "source": [
    "Рейтинг представлен аббревиатурами:\n",
    "* E - everyone (для всех)\n",
    "* M - mature 17+ (для взрослых от 17 лет)\n",
    "* T - teen (для подростков)\n",
    "* E10+ - everyone 10+ (для всех, старше 10 лет)\n",
    "* К-А - kids to adults (для детей и взрослых, данный рейтинг был заменен на E в 1998 году)\n",
    "* АО - adults only (только для взрослых)\n",
    "* RP - rating pending (рейтинг ожидается)\n",
    "* EC - early childhood (для детей от 3 лет)\n",
    "* nan - пропуски в данных\n",
    "\n",
    "Вероятно, пропуски в рейтинге возникли из-за того, что в используемых открытых источниках не было этой информации. Для более точного анализа рекомендуется найти дополнительные источники, чтобы заполнить пропуски. Мы заменим пропуски аббревиатурой NR (not rated, нет рейтинга), чтобы данные было удобнее групировать по рейтингу."
   ]
  },
  {
   "cell_type": "code",
   "execution_count": 18,
   "metadata": {},
   "outputs": [],
   "source": [
    "games.loc[:, 'rating'] = games['rating'].fillna('NR')"
   ]
  },
  {
   "cell_type": "markdown",
   "metadata": {},
   "source": [
    "Проверим результаты предобработки."
   ]
  },
  {
   "cell_type": "code",
   "execution_count": 19,
   "metadata": {},
   "outputs": [
    {
     "name": "stdout",
     "output_type": "stream",
     "text": [
      "<class 'pandas.core.frame.DataFrame'>\n",
      "Int64Index: 16443 entries, 0 to 16714\n",
      "Data columns (total 11 columns):\n",
      "name               16443 non-null object\n",
      "platform           16443 non-null object\n",
      "year_of_release    16443 non-null int32\n",
      "genre              16443 non-null object\n",
      "na_sales           16443 non-null float64\n",
      "eu_sales           16443 non-null float64\n",
      "jp_sales           16443 non-null float64\n",
      "other_sales        16443 non-null float64\n",
      "critic_score       16443 non-null int32\n",
      "user_score         16443 non-null float64\n",
      "rating             16443 non-null object\n",
      "dtypes: float64(5), int32(2), object(4)\n",
      "memory usage: 1.4+ MB\n"
     ]
    }
   ],
   "source": [
    "games.info()"
   ]
  },
  {
   "cell_type": "markdown",
   "metadata": {},
   "source": [
    "Теперь все данные имеют корректный тип. Пропуски были удалены или заполенны."
   ]
  },
  {
   "cell_type": "markdown",
   "metadata": {},
   "source": [
    "На следующем шаге будут изучены продажи игр. Для этого добавим столбец с общими продажами total_sales."
   ]
  },
  {
   "cell_type": "code",
   "execution_count": 73,
   "metadata": {},
   "outputs": [],
   "source": [
    "games['total_sales'] = games['na_sales']+games['eu_sales']+games['jp_sales']+games['other_sales']"
   ]
  },
  {
   "cell_type": "code",
   "execution_count": 21,
   "metadata": {},
   "outputs": [
    {
     "data": {
      "text/html": [
       "<div>\n",
       "<style scoped>\n",
       "    .dataframe tbody tr th:only-of-type {\n",
       "        vertical-align: middle;\n",
       "    }\n",
       "\n",
       "    .dataframe tbody tr th {\n",
       "        vertical-align: top;\n",
       "    }\n",
       "\n",
       "    .dataframe thead th {\n",
       "        text-align: right;\n",
       "    }\n",
       "</style>\n",
       "<table border=\"1\" class=\"dataframe\">\n",
       "  <thead>\n",
       "    <tr style=\"text-align: right;\">\n",
       "      <th></th>\n",
       "      <th>name</th>\n",
       "      <th>platform</th>\n",
       "      <th>year_of_release</th>\n",
       "      <th>genre</th>\n",
       "      <th>na_sales</th>\n",
       "      <th>eu_sales</th>\n",
       "      <th>jp_sales</th>\n",
       "      <th>other_sales</th>\n",
       "      <th>critic_score</th>\n",
       "      <th>user_score</th>\n",
       "      <th>rating</th>\n",
       "      <th>total_sales</th>\n",
       "    </tr>\n",
       "  </thead>\n",
       "  <tbody>\n",
       "    <tr>\n",
       "      <td>0</td>\n",
       "      <td>Wii Sports</td>\n",
       "      <td>Wii</td>\n",
       "      <td>2006</td>\n",
       "      <td>Sports</td>\n",
       "      <td>41.36</td>\n",
       "      <td>28.96</td>\n",
       "      <td>3.77</td>\n",
       "      <td>8.45</td>\n",
       "      <td>76</td>\n",
       "      <td>8.0</td>\n",
       "      <td>E</td>\n",
       "      <td>82.54</td>\n",
       "    </tr>\n",
       "    <tr>\n",
       "      <td>1</td>\n",
       "      <td>Super Mario Bros.</td>\n",
       "      <td>NES</td>\n",
       "      <td>1985</td>\n",
       "      <td>Platform</td>\n",
       "      <td>29.08</td>\n",
       "      <td>3.58</td>\n",
       "      <td>6.81</td>\n",
       "      <td>0.77</td>\n",
       "      <td>0</td>\n",
       "      <td>0.0</td>\n",
       "      <td>NR</td>\n",
       "      <td>40.24</td>\n",
       "    </tr>\n",
       "    <tr>\n",
       "      <td>2</td>\n",
       "      <td>Mario Kart Wii</td>\n",
       "      <td>Wii</td>\n",
       "      <td>2008</td>\n",
       "      <td>Racing</td>\n",
       "      <td>15.68</td>\n",
       "      <td>12.76</td>\n",
       "      <td>3.79</td>\n",
       "      <td>3.29</td>\n",
       "      <td>82</td>\n",
       "      <td>8.3</td>\n",
       "      <td>E</td>\n",
       "      <td>35.52</td>\n",
       "    </tr>\n",
       "    <tr>\n",
       "      <td>3</td>\n",
       "      <td>Wii Sports Resort</td>\n",
       "      <td>Wii</td>\n",
       "      <td>2009</td>\n",
       "      <td>Sports</td>\n",
       "      <td>15.61</td>\n",
       "      <td>10.93</td>\n",
       "      <td>3.28</td>\n",
       "      <td>2.95</td>\n",
       "      <td>80</td>\n",
       "      <td>8.0</td>\n",
       "      <td>E</td>\n",
       "      <td>32.77</td>\n",
       "    </tr>\n",
       "    <tr>\n",
       "      <td>4</td>\n",
       "      <td>Pokemon Red/Pokemon Blue</td>\n",
       "      <td>GB</td>\n",
       "      <td>1996</td>\n",
       "      <td>Role-Playing</td>\n",
       "      <td>11.27</td>\n",
       "      <td>8.89</td>\n",
       "      <td>10.22</td>\n",
       "      <td>1.00</td>\n",
       "      <td>0</td>\n",
       "      <td>0.0</td>\n",
       "      <td>NR</td>\n",
       "      <td>31.38</td>\n",
       "    </tr>\n",
       "  </tbody>\n",
       "</table>\n",
       "</div>"
      ],
      "text/plain": [
       "                       name platform  year_of_release         genre  na_sales  \\\n",
       "0                Wii Sports      Wii             2006        Sports     41.36   \n",
       "1         Super Mario Bros.      NES             1985      Platform     29.08   \n",
       "2            Mario Kart Wii      Wii             2008        Racing     15.68   \n",
       "3         Wii Sports Resort      Wii             2009        Sports     15.61   \n",
       "4  Pokemon Red/Pokemon Blue       GB             1996  Role-Playing     11.27   \n",
       "\n",
       "   eu_sales  jp_sales  other_sales  critic_score  user_score rating  \\\n",
       "0     28.96      3.77         8.45            76         8.0      E   \n",
       "1      3.58      6.81         0.77             0         0.0     NR   \n",
       "2     12.76      3.79         3.29            82         8.3      E   \n",
       "3     10.93      3.28         2.95            80         8.0      E   \n",
       "4      8.89     10.22         1.00             0         0.0     NR   \n",
       "\n",
       "   total_sales  \n",
       "0        82.54  \n",
       "1        40.24  \n",
       "2        35.52  \n",
       "3        32.77  \n",
       "4        31.38  "
      ]
     },
     "execution_count": 21,
     "metadata": {},
     "output_type": "execute_result"
    }
   ],
   "source": [
    "games.head()"
   ]
  },
  {
   "cell_type": "markdown",
   "metadata": {},
   "source": [
    "Теперь можно приступать к исследовательскому анализу данных."
   ]
  },
  {
   "cell_type": "markdown",
   "metadata": {},
   "source": [
    "## Исследовательский анализ данных\n",
    "\n",
    "\n",
    "### Анализ общего выпуска игр."
   ]
  },
  {
   "cell_type": "markdown",
   "metadata": {},
   "source": [
    "\n",
    "Построим график общего выпуска игр по годам."
   ]
  },
  {
   "cell_type": "code",
   "execution_count": 22,
   "metadata": {},
   "outputs": [
    {
     "data": {
      "image/png": "[encoded data removed]",
      "text/plain": [
       "<Figure size 432x288 with 1 Axes>"
      ]
     },
     "metadata": {
      "needs_background": "light"
     },
     "output_type": "display_data"
    }
   ],
   "source": [
    "games.pivot_table(index='year_of_release', values='name', aggfunc='count').plot(grid=True, legend=False, title='Динамика количества выпущенных игр, шт');"
   ]
  },
  {
   "cell_type": "markdown",
   "metadata": {},
   "source": [
    "Судя по графику, за период с 1980 по 1994 год игр выпускалось немного и объемы выпуска почти не менялись. Затем по мере развития технологий количество игр начинает расти, особенно резкий рост наблюдается с 2000 года. В 2007-2008 году после непродолжительного плато выпуск игр начинает резко падать - вероятно, по индустрии ударил Мировой экономический кризис.\n",
    "\n",
    "Для анализа целесобразно рассматривать период, начиная с 2000 года, когда выпуск игр стал более существенным и продолжал расти."
   ]
  },
  {
   "cell_type": "markdown",
   "metadata": {},
   "source": [
    "Найдем платформы с наибольшими суммарными продажами начиная с 2000 года при помощи сводной таблицы."
   ]
  },
  {
   "cell_type": "code",
   "execution_count": 23,
   "metadata": {},
   "outputs": [
    {
     "data": {
      "text/html": [
       "<div>\n",
       "<style scoped>\n",
       "    .dataframe tbody tr th:only-of-type {\n",
       "        vertical-align: middle;\n",
       "    }\n",
       "\n",
       "    .dataframe tbody tr th {\n",
       "        vertical-align: top;\n",
       "    }\n",
       "\n",
       "    .dataframe thead th {\n",
       "        text-align: right;\n",
       "    }\n",
       "</style>\n",
       "<table border=\"1\" class=\"dataframe\">\n",
       "  <thead>\n",
       "    <tr style=\"text-align: right;\">\n",
       "      <th></th>\n",
       "      <th>total_sales</th>\n",
       "    </tr>\n",
       "    <tr>\n",
       "      <th>platform</th>\n",
       "      <th></th>\n",
       "    </tr>\n",
       "  </thead>\n",
       "  <tbody>\n",
       "    <tr>\n",
       "      <td>PS2</td>\n",
       "      <td>1194.39</td>\n",
       "    </tr>\n",
       "    <tr>\n",
       "      <td>X360</td>\n",
       "      <td>961.24</td>\n",
       "    </tr>\n",
       "    <tr>\n",
       "      <td>PS3</td>\n",
       "      <td>931.33</td>\n",
       "    </tr>\n",
       "    <tr>\n",
       "      <td>Wii</td>\n",
       "      <td>891.18</td>\n",
       "    </tr>\n",
       "    <tr>\n",
       "      <td>DS</td>\n",
       "      <td>802.76</td>\n",
       "    </tr>\n",
       "    <tr>\n",
       "      <td>PS4</td>\n",
       "      <td>314.14</td>\n",
       "    </tr>\n",
       "    <tr>\n",
       "      <td>GBA</td>\n",
       "      <td>312.81</td>\n",
       "    </tr>\n",
       "    <tr>\n",
       "      <td>PSP</td>\n",
       "      <td>289.53</td>\n",
       "    </tr>\n",
       "    <tr>\n",
       "      <td>3DS</td>\n",
       "      <td>257.81</td>\n",
       "    </tr>\n",
       "    <tr>\n",
       "      <td>XB</td>\n",
       "      <td>250.58</td>\n",
       "    </tr>\n",
       "  </tbody>\n",
       "</table>\n",
       "</div>"
      ],
      "text/plain": [
       "          total_sales\n",
       "platform             \n",
       "PS2           1194.39\n",
       "X360           961.24\n",
       "PS3            931.33\n",
       "Wii            891.18\n",
       "DS             802.76\n",
       "PS4            314.14\n",
       "GBA            312.81\n",
       "PSP            289.53\n",
       "3DS            257.81\n",
       "XB             250.58"
      ]
     },
     "execution_count": 23,
     "metadata": {},
     "output_type": "execute_result"
    }
   ],
   "source": [
    "# сводная таблица с суммарными продажами игр по платформам, сортировка по убыванию продаж\n",
    "(games.query('year_of_release > 2000').pivot_table(index='platform', \n",
    "                                                  values='total_sales', \n",
    "                                                  aggfunc='sum')\n",
    "                                        .sort_values(by='total_sales', ascending=False).head(10))\n"
   ]
  },
  {
   "cell_type": "markdown",
   "metadata": {},
   "source": [
    "Построим график продаж по 5 самым прибыльным платформам."
   ]
  },
  {
   "cell_type": "code",
   "execution_count": 24,
   "metadata": {},
   "outputs": [],
   "source": [
    "# топ-5 платформ\n",
    "top_platforms = games.query('year_of_release > 2000').pivot_table(index='platform', values='total_sales', aggfunc='sum').sort_values(by='total_sales', ascending=False).reset_index().head(5)"
   ]
  },
  {
   "cell_type": "code",
   "execution_count": 25,
   "metadata": {},
   "outputs": [],
   "source": [
    "# названия платформ\n",
    "top_platforms_list = list(top_platforms['platform'].unique())"
   ]
  },
  {
   "cell_type": "code",
   "execution_count": 26,
   "metadata": {},
   "outputs": [
    {
     "data": {
      "image/png": "[encoded data removed]",
      "text/plain": [
       "<Figure size 432x288 with 1 Axes>"
      ]
     },
     "metadata": {
      "needs_background": "light"
     },
     "output_type": "display_data"
    }
   ],
   "source": [
    "# функция, которая берет название платформы из списка выше и строит график продаж\n",
    "for element in top_platforms_list:\n",
    "    games_subest = games.query('year_of_release > 2000')\n",
    "    graph = games_subest[games_subest['platform'] == element].pivot_table(index='year_of_release', values='total_sales', aggfunc='sum')\n",
    "    graph['total_sales'].plot(label=element, grid=True);\n",
    "    plt.legend()\n",
    "    plt.title('Суммарные продажи по платформам, млн шт')"
   ]
  },
  {
   "cell_type": "markdown",
   "metadata": {},
   "source": [
    "Можно заметить, что жизненный цикл платформы составляет около 10 лет. В период с 2004 по 2006 год новые платформы появлялись каждый год, друг за другом: DS, X360, Wii, PS3. \n",
    "\n",
    "Платформа PS2 появилась в 2000 году и просуществовала 11 лет, но уже с 2004 года объем продаж снижался, а в 2006 году была выпущена платформа следующего поколения - PS3.\n",
    "\n",
    "Интересно отметить платформу Wii, которая вышла в 2006 году практически с рекордным количеством продаж. Эта платформа - лидер по продажам в 2009 году (чуть больше 200 млн копий).\n",
    "\n",
    "Как было отмечено на графике общих продаж, в послекризисные годы объемы пподаж падают для каждой платформы.\n",
    "\n",
    "Из пяти крупнейшних платформ потенциально прибыльными считаем Wii, X360 и PS3, т.к. по остальным платформам продаж не наблюдается с 2013 года."
   ]
  },
  {
   "cell_type": "markdown",
   "metadata": {},
   "source": [
    "Мы считаем, что в качестве актуального периода для анализа и прогноза следует взять 2013-2016 год, чтобы в данные для прогноза не попали платформы, которые к началу периода прекратили свою деятельность. Также в этот период у трех крупнейших платформ уже пройден пик жизненного цикла и наблюдается похожий тренд по уменьшению объема продаж.\n",
    "\n",
    "Посмотрим на сводную таблицу по продажам в разрезе платформ с 2013 года."
   ]
  },
  {
   "cell_type": "code",
   "execution_count": 27,
   "metadata": {},
   "outputs": [
    {
     "data": {
      "text/html": [
       "<div>\n",
       "<style scoped>\n",
       "    .dataframe tbody tr th:only-of-type {\n",
       "        vertical-align: middle;\n",
       "    }\n",
       "\n",
       "    .dataframe tbody tr th {\n",
       "        vertical-align: top;\n",
       "    }\n",
       "\n",
       "    .dataframe thead th {\n",
       "        text-align: right;\n",
       "    }\n",
       "</style>\n",
       "<table border=\"1\" class=\"dataframe\">\n",
       "  <thead>\n",
       "    <tr style=\"text-align: right;\">\n",
       "      <th></th>\n",
       "      <th>total_sales</th>\n",
       "    </tr>\n",
       "    <tr>\n",
       "      <th>platform</th>\n",
       "      <th></th>\n",
       "    </tr>\n",
       "  </thead>\n",
       "  <tbody>\n",
       "    <tr>\n",
       "      <td>PS4</td>\n",
       "      <td>288.15</td>\n",
       "    </tr>\n",
       "    <tr>\n",
       "      <td>XOne</td>\n",
       "      <td>140.36</td>\n",
       "    </tr>\n",
       "    <tr>\n",
       "      <td>3DS</td>\n",
       "      <td>86.68</td>\n",
       "    </tr>\n",
       "    <tr>\n",
       "      <td>PS3</td>\n",
       "      <td>68.18</td>\n",
       "    </tr>\n",
       "    <tr>\n",
       "      <td>X360</td>\n",
       "      <td>48.22</td>\n",
       "    </tr>\n",
       "    <tr>\n",
       "      <td>WiiU</td>\n",
       "      <td>42.98</td>\n",
       "    </tr>\n",
       "    <tr>\n",
       "      <td>PC</td>\n",
       "      <td>27.05</td>\n",
       "    </tr>\n",
       "    <tr>\n",
       "      <td>PSV</td>\n",
       "      <td>22.40</td>\n",
       "    </tr>\n",
       "    <tr>\n",
       "      <td>Wii</td>\n",
       "      <td>5.07</td>\n",
       "    </tr>\n",
       "    <tr>\n",
       "      <td>PSP</td>\n",
       "      <td>0.36</td>\n",
       "    </tr>\n",
       "  </tbody>\n",
       "</table>\n",
       "</div>"
      ],
      "text/plain": [
       "          total_sales\n",
       "platform             \n",
       "PS4            288.15\n",
       "XOne           140.36\n",
       "3DS             86.68\n",
       "PS3             68.18\n",
       "X360            48.22\n",
       "WiiU            42.98\n",
       "PC              27.05\n",
       "PSV             22.40\n",
       "Wii              5.07\n",
       "PSP              0.36"
      ]
     },
     "execution_count": 27,
     "metadata": {},
     "output_type": "execute_result"
    }
   ],
   "source": [
    "games_subset = games.query('year_of_release > 2013') # срез данных с 2013 года\n",
    "games_subset.pivot_table(index='platform', values='total_sales', aggfunc='sum').sort_values(by='total_sales', ascending=False).head(10)"
   ]
  },
  {
   "cell_type": "markdown",
   "metadata": {},
   "source": [
    "В рассматриваемом актуальном периоде тройка лидеров изменилась и представлена PS4, XOne и 3DS."
   ]
  },
  {
   "cell_type": "markdown",
   "metadata": {},
   "source": [
    "Посмотрим, как распределены общие продажи на графике боксплот, а также получим описательную статистику методом describe()."
   ]
  },
  {
   "cell_type": "code",
   "execution_count": 28,
   "metadata": {},
   "outputs": [
    {
     "data": {
      "image/png": "[encoded data removed]",
      "text/plain": [
       "<Figure size 432x288 with 1 Axes>"
      ]
     },
     "metadata": {
      "needs_background": "light"
     },
     "output_type": "display_data"
    }
   ],
   "source": [
    "games_subset.sort_values(by='total_sales').boxplot('total_sales', by='platform');"
   ]
  },
  {
   "cell_type": "markdown",
   "metadata": {},
   "source": [
    "На графике боксплот видно большое наличие выбросов в данных почти по каждой платформе. Одной из причин может быть то, что данные были взяты из открытых источников, в каждом из которых могли использоваться разные единицы измерения количства проданных игр. В таком случае для оценки серднего лучше использовать медиану. Для более точных результатов анализа рекомендуется проверить выгрузку.\n",
    "\n",
    "На следующем боксплоте ограничим ось У значением 1,5 млн копий, чтобы ближе рассмотреть квартили продаж."
   ]
  },
  {
   "cell_type": "code",
   "execution_count": 29,
   "metadata": {},
   "outputs": [
    {
     "data": {
      "image/png": "[encoded data removed]",
      "text/plain": [
       "<Figure size 360x504 with 1 Axes>"
      ]
     },
     "metadata": {
      "needs_background": "light"
     },
     "output_type": "display_data"
    }
   ],
   "source": [
    "games_subset.sort_values(by='total_sales').boxplot('total_sales', by='platform', figsize=(5,7));\n",
    "plt.ylim(0,1.5);"
   ]
  },
  {
   "cell_type": "markdown",
   "metadata": {},
   "source": [
    "Наличие выбросов может исказить результаты анализа, поэтому далее при расчетах будем использовать срез данных - такой диапазон, в котором находится основная часть продаж. Например, для платформы 3DS это диапазон от 57,5 тыс до 690 тыс проданных копий (точные значения квартилей получены методом describe() ниже)."
   ]
  },
  {
   "cell_type": "code",
   "execution_count": 30,
   "metadata": {},
   "outputs": [
    {
     "data": {
      "text/plain": [
       "count    376.000000\n",
       "mean       0.766356\n",
       "std        1.614969\n",
       "min        0.010000\n",
       "25%        0.057500\n",
       "50%        0.185000\n",
       "75%        0.690000\n",
       "max       14.630000\n",
       "Name: total_sales, dtype: float64"
      ]
     },
     "execution_count": 30,
     "metadata": {},
     "output_type": "execute_result"
    }
   ],
   "source": [
    "games_subset.query('platform == \"PS4\"')['total_sales'].describe()"
   ]
  },
  {
   "cell_type": "markdown",
   "metadata": {},
   "source": [
    "### Анализ влияния оценок на продажи.\n",
    "\n",
    "Взаимосвязь между продажами и оценками критиков и пользователей поможет оценить коэффициент корреляции. Методом corr() получим попарные коэффициенты корреляции на примере платформы PS4, а для визуальной оценки построим диаграммы рассеяния. Расчеты проведены с учетом недочетов в данных (т.е. мы не рассматриваем игры без оценко, а также ограничиваем диапазон продаж, чтобы не захватывать выбросы)."
   ]
  },
  {
   "cell_type": "code",
   "execution_count": 31,
   "metadata": {},
   "outputs": [],
   "source": [
    "(\n",
    "    games_scores = games_subset.query(\n",
    "        'platform == \"PS4\" & critic_score > 0 & user_score > 0 & 0.057 < total_sales < 0.69')\n",
    "        .loc[:, ['critic_score', 'user_score', 'total_sales']]\n",
    ")\n",
    "# срез данных по платформе PS4. Нас интересуют только общие продажи, оценка критиков и пользователей."
   ]
  },
  {
   "cell_type": "code",
   "execution_count": 32,
   "metadata": {
    "scrolled": true
   },
   "outputs": [
    {
     "data": {
      "text/html": [
       "<div>\n",
       "<style scoped>\n",
       "    .dataframe tbody tr th:only-of-type {\n",
       "        vertical-align: middle;\n",
       "    }\n",
       "\n",
       "    .dataframe tbody tr th {\n",
       "        vertical-align: top;\n",
       "    }\n",
       "\n",
       "    .dataframe thead th {\n",
       "        text-align: right;\n",
       "    }\n",
       "</style>\n",
       "<table border=\"1\" class=\"dataframe\">\n",
       "  <thead>\n",
       "    <tr style=\"text-align: right;\">\n",
       "      <th></th>\n",
       "      <th>critic_score</th>\n",
       "      <th>user_score</th>\n",
       "      <th>total_sales</th>\n",
       "    </tr>\n",
       "  </thead>\n",
       "  <tbody>\n",
       "    <tr>\n",
       "      <td>critic_score</td>\n",
       "      <td>1.000000</td>\n",
       "      <td>0.673617</td>\n",
       "      <td>0.198024</td>\n",
       "    </tr>\n",
       "    <tr>\n",
       "      <td>user_score</td>\n",
       "      <td>0.673617</td>\n",
       "      <td>1.000000</td>\n",
       "      <td>-0.042704</td>\n",
       "    </tr>\n",
       "    <tr>\n",
       "      <td>total_sales</td>\n",
       "      <td>0.198024</td>\n",
       "      <td>-0.042704</td>\n",
       "      <td>1.000000</td>\n",
       "    </tr>\n",
       "  </tbody>\n",
       "</table>\n",
       "</div>"
      ],
      "text/plain": [
       "              critic_score  user_score  total_sales\n",
       "critic_score      1.000000    0.673617     0.198024\n",
       "user_score        0.673617    1.000000    -0.042704\n",
       "total_sales       0.198024   -0.042704     1.000000"
      ]
     },
     "execution_count": 32,
     "metadata": {},
     "output_type": "execute_result"
    }
   ],
   "source": [
    "games_scores.corr()"
   ]
  },
  {
   "cell_type": "markdown",
   "metadata": {},
   "source": [
    "Коэффициент корреляции продаж и оценки критиков составляет 0.19. Это означает, что связь положительная, но слабовыраженная. Если обратиться к диаграмме рассеяния ниже, видно, что данные довольно сильно рассредоточены и не складываются в какой-либо явный тренд: почти каждой оценке соответствует разное количество продаж.\n",
    "Корреляция продаж с оценкой пользователей получилась отрицательной, но само значение настолько мало, что вряд ли существует какая-либо взаимосвязь между этими переменными. "
   ]
  },
  {
   "cell_type": "code",
   "execution_count": 33,
   "metadata": {},
   "outputs": [
    {
     "data": {
      "image/png": "[encoded data removed]",
      "text/plain": [
       "<Figure size 432x288 with 9 Axes>"
      ]
     },
     "metadata": {
      "needs_background": "light"
     },
     "output_type": "display_data"
    }
   ],
   "source": [
    "pd.plotting.scatter_matrix(games_scores);"
   ]
  },
  {
   "cell_type": "markdown",
   "metadata": {},
   "source": [
    "Получим коэффициенты корреляции для остальных крупных платформ."
   ]
  },
  {
   "cell_type": "code",
   "execution_count": 34,
   "metadata": {},
   "outputs": [
    {
     "data": {
      "text/html": [
       "<div>\n",
       "<style scoped>\n",
       "    .dataframe tbody tr th:only-of-type {\n",
       "        vertical-align: middle;\n",
       "    }\n",
       "\n",
       "    .dataframe tbody tr th {\n",
       "        vertical-align: top;\n",
       "    }\n",
       "\n",
       "    .dataframe thead th {\n",
       "        text-align: right;\n",
       "    }\n",
       "</style>\n",
       "<table border=\"1\" class=\"dataframe\">\n",
       "  <thead>\n",
       "    <tr style=\"text-align: right;\">\n",
       "      <th></th>\n",
       "      <th>critic_score</th>\n",
       "      <th>user_score</th>\n",
       "      <th>total_sales</th>\n",
       "    </tr>\n",
       "  </thead>\n",
       "  <tbody>\n",
       "    <tr>\n",
       "      <td>critic_score</td>\n",
       "      <td>1.000000</td>\n",
       "      <td>0.583325</td>\n",
       "      <td>0.199441</td>\n",
       "    </tr>\n",
       "    <tr>\n",
       "      <td>user_score</td>\n",
       "      <td>0.583325</td>\n",
       "      <td>1.000000</td>\n",
       "      <td>-0.084316</td>\n",
       "    </tr>\n",
       "    <tr>\n",
       "      <td>total_sales</td>\n",
       "      <td>0.199441</td>\n",
       "      <td>-0.084316</td>\n",
       "      <td>1.000000</td>\n",
       "    </tr>\n",
       "  </tbody>\n",
       "</table>\n",
       "</div>"
      ],
      "text/plain": [
       "              critic_score  user_score  total_sales\n",
       "critic_score      1.000000    0.583325     0.199441\n",
       "user_score        0.583325    1.000000    -0.084316\n",
       "total_sales       0.199441   -0.084316     1.000000"
      ]
     },
     "execution_count": 34,
     "metadata": {},
     "output_type": "execute_result"
    }
   ],
   "source": [
    "(\n",
    "    games_subset.query(\n",
    "        'platform == \"XOne\" & critic_score > 0 & user_score > 0 & 0.05 < total_sales < 0.63')\n",
    "    .loc[:, ['critic_score', 'user_score', 'total_sales']].corr()\n",
    ")"
   ]
  },
  {
   "cell_type": "code",
   "execution_count": 35,
   "metadata": {},
   "outputs": [
    {
     "data": {
      "text/html": [
       "<div>\n",
       "<style scoped>\n",
       "    .dataframe tbody tr th:only-of-type {\n",
       "        vertical-align: middle;\n",
       "    }\n",
       "\n",
       "    .dataframe tbody tr th {\n",
       "        vertical-align: top;\n",
       "    }\n",
       "\n",
       "    .dataframe thead th {\n",
       "        text-align: right;\n",
       "    }\n",
       "</style>\n",
       "<table border=\"1\" class=\"dataframe\">\n",
       "  <thead>\n",
       "    <tr style=\"text-align: right;\">\n",
       "      <th></th>\n",
       "      <th>critic_score</th>\n",
       "      <th>user_score</th>\n",
       "      <th>total_sales</th>\n",
       "    </tr>\n",
       "  </thead>\n",
       "  <tbody>\n",
       "    <tr>\n",
       "      <td>critic_score</td>\n",
       "      <td>1.000000</td>\n",
       "      <td>0.708293</td>\n",
       "      <td>0.111724</td>\n",
       "    </tr>\n",
       "    <tr>\n",
       "      <td>user_score</td>\n",
       "      <td>0.708293</td>\n",
       "      <td>1.000000</td>\n",
       "      <td>0.339277</td>\n",
       "    </tr>\n",
       "    <tr>\n",
       "      <td>total_sales</td>\n",
       "      <td>0.111724</td>\n",
       "      <td>0.339277</td>\n",
       "      <td>1.000000</td>\n",
       "    </tr>\n",
       "  </tbody>\n",
       "</table>\n",
       "</div>"
      ],
      "text/plain": [
       "              critic_score  user_score  total_sales\n",
       "critic_score      1.000000    0.708293     0.111724\n",
       "user_score        0.708293    1.000000     0.339277\n",
       "total_sales       0.111724    0.339277     1.000000"
      ]
     },
     "execution_count": 35,
     "metadata": {},
     "output_type": "execute_result"
    }
   ],
   "source": [
    "(\n",
    "    games_subset.query(\n",
    "        'platform == \"3DS\" & critic_score > 0 & user_score > 0 & 0.03 < total_sales < 0.25')\n",
    "    .loc[:, ['critic_score', 'user_score', 'total_sales']].corr()\n",
    ")"
   ]
  },
  {
   "cell_type": "markdown",
   "metadata": {},
   "source": [
    "В целом результаты похожи на значения по платформе PS4. Ни на одной из крупнейших платформ не наблюдается значимой зависимости между продажами и оценками критиков и пользователей. "
   ]
  },
  {
   "cell_type": "markdown",
   "metadata": {},
   "source": [
    "### Анализ распределения игр по жанрам\n",
    "\n",
    "Посмотрим на распределение продаж по жанрам при помощи сводной таблицы."
   ]
  },
  {
   "cell_type": "code",
   "execution_count": 36,
   "metadata": {},
   "outputs": [
    {
     "data": {
      "text/html": [
       "<div>\n",
       "<style scoped>\n",
       "    .dataframe tbody tr th:only-of-type {\n",
       "        vertical-align: middle;\n",
       "    }\n",
       "\n",
       "    .dataframe tbody tr th {\n",
       "        vertical-align: top;\n",
       "    }\n",
       "\n",
       "    .dataframe thead th {\n",
       "        text-align: right;\n",
       "    }\n",
       "</style>\n",
       "<table border=\"1\" class=\"dataframe\">\n",
       "  <thead>\n",
       "    <tr style=\"text-align: right;\">\n",
       "      <th></th>\n",
       "      <th>total_sales</th>\n",
       "      <th>games_amount</th>\n",
       "      <th>median_sales</th>\n",
       "    </tr>\n",
       "    <tr>\n",
       "      <th>genre</th>\n",
       "      <th></th>\n",
       "      <th></th>\n",
       "      <th></th>\n",
       "    </tr>\n",
       "  </thead>\n",
       "  <tbody>\n",
       "    <tr>\n",
       "      <td>Shooter</td>\n",
       "      <td>170.94</td>\n",
       "      <td>128</td>\n",
       "      <td>0.515</td>\n",
       "    </tr>\n",
       "    <tr>\n",
       "      <td>Sports</td>\n",
       "      <td>109.48</td>\n",
       "      <td>161</td>\n",
       "      <td>0.180</td>\n",
       "    </tr>\n",
       "    <tr>\n",
       "      <td>Platform</td>\n",
       "      <td>18.09</td>\n",
       "      <td>38</td>\n",
       "      <td>0.140</td>\n",
       "    </tr>\n",
       "    <tr>\n",
       "      <td>Fighting</td>\n",
       "      <td>28.22</td>\n",
       "      <td>60</td>\n",
       "      <td>0.125</td>\n",
       "    </tr>\n",
       "    <tr>\n",
       "      <td>Role-Playing</td>\n",
       "      <td>101.44</td>\n",
       "      <td>221</td>\n",
       "      <td>0.110</td>\n",
       "    </tr>\n",
       "    <tr>\n",
       "      <td>Simulation</td>\n",
       "      <td>13.13</td>\n",
       "      <td>44</td>\n",
       "      <td>0.100</td>\n",
       "    </tr>\n",
       "    <tr>\n",
       "      <td>Action</td>\n",
       "      <td>199.36</td>\n",
       "      <td>619</td>\n",
       "      <td>0.090</td>\n",
       "    </tr>\n",
       "    <tr>\n",
       "      <td>Misc</td>\n",
       "      <td>37.55</td>\n",
       "      <td>113</td>\n",
       "      <td>0.090</td>\n",
       "    </tr>\n",
       "    <tr>\n",
       "      <td>Racing</td>\n",
       "      <td>27.52</td>\n",
       "      <td>69</td>\n",
       "      <td>0.090</td>\n",
       "    </tr>\n",
       "    <tr>\n",
       "      <td>Strategy</td>\n",
       "      <td>3.96</td>\n",
       "      <td>37</td>\n",
       "      <td>0.060</td>\n",
       "    </tr>\n",
       "    <tr>\n",
       "      <td>Puzzle</td>\n",
       "      <td>2.21</td>\n",
       "      <td>14</td>\n",
       "      <td>0.045</td>\n",
       "    </tr>\n",
       "    <tr>\n",
       "      <td>Adventure</td>\n",
       "      <td>17.55</td>\n",
       "      <td>185</td>\n",
       "      <td>0.030</td>\n",
       "    </tr>\n",
       "  </tbody>\n",
       "</table>\n",
       "</div>"
      ],
      "text/plain": [
       "              total_sales  games_amount  median_sales\n",
       "genre                                                \n",
       "Shooter            170.94           128         0.515\n",
       "Sports             109.48           161         0.180\n",
       "Platform            18.09            38         0.140\n",
       "Fighting            28.22            60         0.125\n",
       "Role-Playing       101.44           221         0.110\n",
       "Simulation          13.13            44         0.100\n",
       "Action             199.36           619         0.090\n",
       "Misc                37.55           113         0.090\n",
       "Racing              27.52            69         0.090\n",
       "Strategy             3.96            37         0.060\n",
       "Puzzle               2.21            14         0.045\n",
       "Adventure           17.55           185         0.030"
      ]
     },
     "execution_count": 36,
     "metadata": {},
     "output_type": "execute_result"
    }
   ],
   "source": [
    "genres = games_subset.pivot_table(index='genre', values='total_sales', aggfunc=['sum', 'count', 'median'])\n",
    "genres.columns = ['total_sales', 'games_amount', 'median_sales']\n",
    "genres.sort_values(by='median_sales', ascending=False)"
   ]
  },
  {
   "cell_type": "markdown",
   "metadata": {},
   "source": [
    "Т.к. количество игр каждого жанра сильно различается, корректнее будет сравнить медианный объем продаж. По этому показателю с большим отрывом лидирует жанр Shooter. Кроме того можно выделить такие жанры, как Sports, Platform, Fighting. Наименее продаваемы жанры - Adventrue, Puzzle и Strategy.\n",
    "\n",
    "### Вывод\n",
    "\n",
    "В данном этапе можно выделить следующие закономерности на рынке компьютерных игр:\n",
    "* Расцвет индустрии приходится на 2004-2007 годы, когда стали появлятся новые платформы и выпускалось все больше игр;\n",
    "* В период мирового экономического кризиса объемы выпуска перестали расти, а в последующем стали резко снижаться и по состоянию на 2016 год больше не увеличиваются;\n",
    "* К 2016 году среди платформ можно выделить трех лидеров по продажам: PS4, XOne и 3DS;\n",
    "* Cущественной взаимосвязи между продажами и оценками критиков или пользователей не обнаружено;\n",
    "* Самые продаваемы жанры - Sports, Platform, Fighting. Наименее популярные - Adventrue, Puzzle и Strategy."
   ]
  },
  {
   "cell_type": "markdown",
   "metadata": {},
   "source": [
    "## Портрет пользователя каждого региона\n",
    "\n",
    "В исходном датафреме представлены данные для регионов: Северная Америка, Европа и Япония.\n",
    "\n",
    "Найдем и сравним самые популярные платформы (топ-5) в каждом регионе. Результаты представлены в сводной таблице."
   ]
  },
  {
   "cell_type": "code",
   "execution_count": 37,
   "metadata": {},
   "outputs": [],
   "source": [
    "region_pivot = games_subset.pivot_table(index='platform', values=['na_sales', 'eu_sales', 'jp_sales'], aggfunc='sum')"
   ]
  },
  {
   "cell_type": "code",
   "execution_count": 38,
   "metadata": {},
   "outputs": [
    {
     "data": {
      "text/html": [
       "<div>\n",
       "<style scoped>\n",
       "    .dataframe tbody tr th:only-of-type {\n",
       "        vertical-align: middle;\n",
       "    }\n",
       "\n",
       "    .dataframe tbody tr th {\n",
       "        vertical-align: top;\n",
       "    }\n",
       "\n",
       "    .dataframe thead th {\n",
       "        text-align: right;\n",
       "    }\n",
       "</style>\n",
       "<table border=\"1\" class=\"dataframe\">\n",
       "  <thead>\n",
       "    <tr style=\"text-align: right;\">\n",
       "      <th></th>\n",
       "      <th>eu_sales</th>\n",
       "      <th>jp_sales</th>\n",
       "      <th>na_sales</th>\n",
       "    </tr>\n",
       "    <tr>\n",
       "      <th>platform</th>\n",
       "      <th></th>\n",
       "      <th></th>\n",
       "      <th></th>\n",
       "    </tr>\n",
       "  </thead>\n",
       "  <tbody>\n",
       "    <tr>\n",
       "      <td>3DS</td>\n",
       "      <td>16.12</td>\n",
       "      <td>44.24</td>\n",
       "      <td>22.64</td>\n",
       "    </tr>\n",
       "    <tr>\n",
       "      <td>PC</td>\n",
       "      <td>17.97</td>\n",
       "      <td>0.00</td>\n",
       "      <td>7.23</td>\n",
       "    </tr>\n",
       "    <tr>\n",
       "      <td>PS3</td>\n",
       "      <td>25.54</td>\n",
       "      <td>11.22</td>\n",
       "      <td>22.05</td>\n",
       "    </tr>\n",
       "    <tr>\n",
       "      <td>PS4</td>\n",
       "      <td>130.04</td>\n",
       "      <td>15.02</td>\n",
       "      <td>98.61</td>\n",
       "    </tr>\n",
       "    <tr>\n",
       "      <td>PSP</td>\n",
       "      <td>0.00</td>\n",
       "      <td>0.36</td>\n",
       "      <td>0.00</td>\n",
       "    </tr>\n",
       "  </tbody>\n",
       "</table>\n",
       "</div>"
      ],
      "text/plain": [
       "          eu_sales  jp_sales  na_sales\n",
       "platform                              \n",
       "3DS          16.12     44.24     22.64\n",
       "PC           17.97      0.00      7.23\n",
       "PS3          25.54     11.22     22.05\n",
       "PS4         130.04     15.02     98.61\n",
       "PSP           0.00      0.36      0.00"
      ]
     },
     "execution_count": 38,
     "metadata": {},
     "output_type": "execute_result"
    }
   ],
   "source": [
    "region_pivot.head()"
   ]
  },
  {
   "cell_type": "markdown",
   "metadata": {},
   "source": [
    "Сравнить продажи в разрезе платорм удобно при помощи круговой диаграммы. Напишем функцию pie(region, df), которая будет строить диаграмму для указанного региона. Вместо df будем подставлять сводную таблицу - продажи по платформам или жанрам и т.п."
   ]
  },
  {
   "cell_type": "code",
   "execution_count": 39,
   "metadata": {},
   "outputs": [],
   "source": [
    "def pie(region, df):\n",
    "    piechart = df[region].sort_values(ascending=False).head()\n",
    "    fig, ax = plt.subplots()\n",
    "    ax.pie(piechart, labels=piechart.index, autopct='%1.1f%%');\n",
    "    ax.axis(\"equal\");\n",
    "    ax.set_title(region.upper())"
   ]
  },
  {
   "cell_type": "markdown",
   "metadata": {},
   "source": [
    "Построим круговую диаграмму для продаж в Европе в разрезе по платформам."
   ]
  },
  {
   "cell_type": "code",
   "execution_count": 40,
   "metadata": {},
   "outputs": [
    {
     "data": {
      "image/png": "[encoded data removed]",
      "text/plain": [
       "<Figure size 432x288 with 1 Axes>"
      ]
     },
     "metadata": {},
     "output_type": "display_data"
    }
   ],
   "source": [
    "pie('eu_sales', region_pivot)"
   ]
  },
  {
   "cell_type": "markdown",
   "metadata": {},
   "source": [
    "* Самые популярная платформа в Европе - PS4. На нее приходится чуть больше половины продаж топ-5.\n",
    "* Вторая крупная платформа - XOne (19,6% продаж).\n",
    "* Меньше всего продаж у 3DS (6,8%).\n",
    "* Среди топ-5 платформ в Европе XOne - единственная американская платформа, остальные платформы японские.\n",
    "\n",
    "Ниже представлена круговая диаграмма продаж по платформам в Японии."
   ]
  },
  {
   "cell_type": "code",
   "execution_count": 41,
   "metadata": {},
   "outputs": [
    {
     "data": {
      "image/png": "[encoded data removed]",
      "text/plain": [
       "<Figure size 432x288 with 1 Axes>"
      ]
     },
     "metadata": {},
     "output_type": "display_data"
    }
   ],
   "source": [
    "pie('jp_sales', region_pivot)"
   ]
  },
  {
   "cell_type": "markdown",
   "metadata": {},
   "source": [
    "* Самые крупная платформа - 3DS, на нее приходится почти половина продаж из 5 лидеров. \n",
    "* Следом на близких позициях находятся PS4 и PSV.\n",
    "* Все платформы из пятерки лидеров по продажам принадлежат японским компаниям.\n",
    "\n",
    "Наконец построим диаграмму продаж в Северной Америке."
   ]
  },
  {
   "cell_type": "code",
   "execution_count": 42,
   "metadata": {},
   "outputs": [
    {
     "data": {
      "image/png": "[encoded data removed]",
      "text/plain": [
       "<Figure size 432x288 with 1 Axes>"
      ]
     },
     "metadata": {},
     "output_type": "display_data"
    }
   ],
   "source": [
    "pie('na_sales', region_pivot)"
   ]
  },
  {
   "cell_type": "markdown",
   "metadata": {},
   "source": [
    "* Основная часть продаж приходится на японскую PS4 (39%) и американскую XOne (32,1%)\n",
    "* Меньше всего продаж у PS3 (8,7%)"
   ]
  },
  {
   "cell_type": "markdown",
   "metadata": {},
   "source": [
    "### Анализ самых популярных жанров\n",
    "\n",
    "Для построения круговых диаграмм по жанрам будем передавать функции pie сводную таблицу genres_pivot.\n",
    "Т.к. рынок представлен разным количеством игр каждого жанра, будем сранивать медианные продажи."
   ]
  },
  {
   "cell_type": "code",
   "execution_count": 43,
   "metadata": {},
   "outputs": [],
   "source": [
    "games_subset_temp = games_subset.replace(0, np.nan) \n",
    "# временно заменим 0 на Nan, чтобы в сводной таблице медиана посчиталась без учета 0"
   ]
  },
  {
   "cell_type": "code",
   "execution_count": 44,
   "metadata": {},
   "outputs": [],
   "source": [
    "genres_pivot = games_subset_temp.pivot_table(index='genre', values=['na_sales', 'eu_sales', 'jp_sales'], aggfunc='median')\n",
    "genres_pivot = genres_pivot.apply(lambda x: x*1000000).astype(int)"
   ]
  },
  {
   "cell_type": "code",
   "execution_count": 45,
   "metadata": {},
   "outputs": [
    {
     "data": {
      "image/png": "[encoded data removed]",
      "text/plain": [
       "<Figure size 432x288 with 1 Axes>"
      ]
     },
     "metadata": {},
     "output_type": "display_data"
    }
   ],
   "source": [
    "pie('eu_sales', genres_pivot)"
   ]
  },
  {
   "cell_type": "markdown",
   "metadata": {},
   "source": [
    "В Европе жанр Shooter лидирует по продажам (41%), остальные продажи самых продаваемых жанров разделились между ними почти поровну."
   ]
  },
  {
   "cell_type": "code",
   "execution_count": 46,
   "metadata": {},
   "outputs": [
    {
     "data": {
      "image/png": "[encoded data removed]",
      "text/plain": [
       "<Figure size 432x288 with 1 Axes>"
      ]
     },
     "metadata": {},
     "output_type": "display_data"
    }
   ],
   "source": [
    "pie('na_sales', genres_pivot)"
   ]
  },
  {
   "cell_type": "markdown",
   "metadata": {},
   "source": [
    "Самые популярные жанры в Северной Америке - Shooter и Sports."
   ]
  },
  {
   "cell_type": "code",
   "execution_count": 47,
   "metadata": {},
   "outputs": [
    {
     "data": {
      "image/png": "[encoded data removed]",
      "text/plain": [
       "<Figure size 432x288 with 1 Axes>"
      ]
     },
     "metadata": {},
     "output_type": "display_data"
    }
   ],
   "source": [
    "pie('jp_sales', genres_pivot)"
   ]
  },
  {
   "cell_type": "markdown",
   "metadata": {},
   "source": [
    "В Японии топ-5 жанров в среднем продаются с  одинаковой частотой. Этот регион отличается от остальных популярностью таких жанров, как Role-Playing и Puzzle."
   ]
  },
  {
   "cell_type": "markdown",
   "metadata": {},
   "source": [
    "### Влияние рейтинга ESRB на продажи в отдельном регионе"
   ]
  },
  {
   "cell_type": "markdown",
   "metadata": {},
   "source": [
    "Посомтрим, как менялись по годам продажи игр с разными рейтингами в регионах. \n",
    "График построим по аналогии с графиком продаж по платформам при помощи цикла. Чтобы построить график по очереди для разных регионов, напишем функцию, которая будет подставлять название нужного столбца в цикл. \n",
    "Мы будем рассматривать медианны продажи, т.к. количество игр каждого рейтинга отличается. Медиану будем считать только по проданным играм, чтобы наличие нулей в суммарных продажах не исказило медиану."
   ]
  },
  {
   "cell_type": "code",
   "execution_count": 48,
   "metadata": {},
   "outputs": [],
   "source": [
    "ratings = games_subset['rating'].unique()"
   ]
  },
  {
   "cell_type": "code",
   "execution_count": 49,
   "metadata": {},
   "outputs": [],
   "source": [
    "def graph(column):\n",
    "    for element in ratings:\n",
    "        data = games_subset[(games_subset['rating'] == element) & (games_subset[column] > 0)].pivot_table(index='year_of_release', values=column, aggfunc='median')\n",
    "        data.index = data.index.astype(str)\n",
    "        data[column].plot(label=element, grid=True);\n",
    "        plt.legend()\n",
    "        plt.title('Медианные продажи по рейтингам, млн шт')"
   ]
  },
  {
   "cell_type": "markdown",
   "metadata": {},
   "source": [
    "Применим функцию к столбцу 'na_sales', чтобы получить график для продаж в Северной Америке."
   ]
  },
  {
   "cell_type": "code",
   "execution_count": 50,
   "metadata": {},
   "outputs": [
    {
     "data": {
      "image/png": "[encoded data removed]",
      "text/plain": [
       "<Figure size 432x288 with 1 Axes>"
      ]
     },
     "metadata": {
      "needs_background": "light"
     },
     "output_type": "display_data"
    }
   ],
   "source": [
    "graph('na_sales')"
   ]
  },
  {
   "cell_type": "markdown",
   "metadata": {},
   "source": [
    "Больше всего продаж приходится на игры с рейтингом M, т.е. для совершеннолетних, либо E10+ (для пользователей, старше 10 лет). Игры для подростков продаются меньше всего.\n",
    "\n",
    "Рассмотрим график продаж в Европе."
   ]
  },
  {
   "cell_type": "code",
   "execution_count": 51,
   "metadata": {},
   "outputs": [
    {
     "data": {
      "image/png": "[encoded data removed]",
      "text/plain": [
       "<Figure size 432x288 with 1 Axes>"
      ]
     },
     "metadata": {
      "needs_background": "light"
     },
     "output_type": "display_data"
    }
   ],
   "source": [
    "graph('eu_sales')"
   ]
  },
  {
   "cell_type": "markdown",
   "metadata": {},
   "source": [
    "Здесь картина в целом похожа на продажи в Северной Америке. \n",
    "\n",
    "График продаж в Японии представлен ниже."
   ]
  },
  {
   "cell_type": "code",
   "execution_count": 52,
   "metadata": {},
   "outputs": [
    {
     "data": {
      "image/png": "[encoded data removed]",
      "text/plain": [
       "<Figure size 432x288 with 1 Axes>"
      ]
     },
     "metadata": {
      "needs_background": "light"
     },
     "output_type": "display_data"
    }
   ],
   "source": [
    "graph('jp_sales')"
   ]
  },
  {
   "cell_type": "markdown",
   "metadata": {},
   "source": [
    "Для большей части проданных игр в Японии нет информации о рейтинге. В остальном, самые продаваемые игры не имеют возрастных ограничений, либо относятся к категории 18+. "
   ]
  },
  {
   "cell_type": "markdown",
   "metadata": {},
   "source": [
    "### Вывод\n",
    "\n",
    "Для выбранных регионов можно составить следующий портрет:\n",
    "\n",
    "Европа:\n",
    "* Самые популярные платформы: PS4 (55,1%) и XOne (19,6% продаж);\n",
    "* Меньше всего продаж у 3DS (6,8%);\n",
    "* Среди топ-5 платформ в Европе XOne - единственная американская платформа, остальные платформы японские;\n",
    "* В Европе жанр Shooter лидирует по продажам (41%), остальные продажи самых продаваемых жанров разделились между ними почти поровну;\n",
    "* В основном продаются игры для совершеннолетних, либо для пользователей, старше 10 лет;\n",
    "* Игры для подростков продаются меньше всего.\n",
    "\n",
    "Япония:\n",
    "* Самые крупная платформа - 3DS (47,9%);\n",
    "* Все платформы из пятерки лидеров по продажам принадлежат японским компаниям;\n",
    "* Самые продаваемые игры не имеют возрастных ограничений, либо относятся к категории 18+. \n",
    "* Этот регион отличается от остальных популярностью таких жанров, как Role-Playing и Puzzle;\n",
    "\n",
    "Северная Америка:\n",
    "* Основная часть продаж приходится на японскую PS4 (39%) и американскую XOne (32,1%);\n",
    "* Меньше всего продаж у PS3 (8,7%);\n",
    "* Самые популярные жанры в Северной Америке - Shooter и Sports;\n",
    "* Жанр Strategy популярен только в этом регионе; \n",
    "* Больше всего продаж приходится на игры с рейтингом M и E10+."
   ]
  },
  {
   "cell_type": "markdown",
   "metadata": {},
   "source": [
    "## Проверка гипотез\n",
    "### Средние пользовательские рейтинги платформ Xbox One и PC одинаковые.\n",
    "\n",
    "Чтобы корректно провести статистический тест для проверки гипотезы, необходимо оценить распределение значений.\n",
    "Построим для каждой платформы гистограмму оценок пользователей и боксплот."
   ]
  },
  {
   "cell_type": "code",
   "execution_count": 53,
   "metadata": {},
   "outputs": [
    {
     "data": {
      "image/png": "[encoded data removed]",
      "text/plain": [
       "<Figure size 432x288 with 1 Axes>"
      ]
     },
     "metadata": {
      "needs_background": "light"
     },
     "output_type": "display_data"
    }
   ],
   "source": [
    "games_subset.query('platform == \"XOne\" & user_score > 0')['user_score'].hist();\n",
    "plt.title('Распределение пользовательских оценок на XOne');"
   ]
  },
  {
   "cell_type": "code",
   "execution_count": 54,
   "metadata": {},
   "outputs": [
    {
     "data": {
      "image/png": "[encoded data removed]",
      "text/plain": [
       "<Figure size 432x288 with 1 Axes>"
      ]
     },
     "metadata": {
      "needs_background": "light"
     },
     "output_type": "display_data"
    }
   ],
   "source": [
    "games_subset.query('platform == \"XOne\" & user_score > 0').boxplot('user_score');"
   ]
  },
  {
   "cell_type": "markdown",
   "metadata": {},
   "source": [
    "Распределение напоминает нормальное, но есть несколько выбросов - оценки ниже 4 баллов встречаются крайне редко."
   ]
  },
  {
   "cell_type": "code",
   "execution_count": 55,
   "metadata": {},
   "outputs": [
    {
     "data": {
      "image/png": "[encoded data removed]",
      "text/plain": [
       "<Figure size 432x288 with 1 Axes>"
      ]
     },
     "metadata": {
      "needs_background": "light"
     },
     "output_type": "display_data"
    }
   ],
   "source": [
    "games_subset.query('platform == \"PC\" & user_score > 0')['user_score'].hist();\n",
    "plt.title('Распределение пользовательских оценок на PC');"
   ]
  },
  {
   "cell_type": "code",
   "execution_count": 56,
   "metadata": {},
   "outputs": [
    {
     "data": {
      "image/png": "[encoded data removed]",
      "text/plain": [
       "<Figure size 432x288 with 1 Axes>"
      ]
     },
     "metadata": {
      "needs_background": "light"
     },
     "output_type": "display_data"
    }
   ],
   "source": [
    "games_subset.query('platform == \"PC\" & user_score > 0').boxplot('user_score');"
   ]
  },
  {
   "cell_type": "code",
   "execution_count": 57,
   "metadata": {},
   "outputs": [
    {
     "name": "stdout",
     "output_type": "stream",
     "text": [
      "Дисперсия оценок на PC: 2.88\n",
      "Дисперсия оценок на XOne: 1.88\n"
     ]
    }
   ],
   "source": [
    "print('Дисперсия оценок на PC: {:.2f}'.format(np.var(games_subset.query('platform == \"PC\" & user_score > 0')['user_score'])))\n",
    "print('Дисперсия оценок на XOne: {:.2f}'.format(np.var(games_subset.query('platform == \"XOne\" & user_score > 0')['user_score'])))"
   ]
  },
  {
   "cell_type": "markdown",
   "metadata": {},
   "source": [
    "Распределение оценок на платформе PC немного напоминает нормальное, но колокол сильно скошен вправо. Есть выбросы - редкие оценки меньше 3 баллов. \n",
    "\n",
    "Для проверки гипотезы t-тестом необходимо избавиться от выбросов. Поэтому сравнивать будем две выборки: оценки на XOne выше 4 баллов и оценки на PC выше 3 баллов.\n",
    "\n",
    "Дисперсии распределение сильно отличаются - разброс значений оценок вокруг среднего на платформе PC больше, чем на XOne. Укажем параметр equal_var = False.\n",
    "\n",
    "Для проверки данной гипотезы сформулируем нулевую и альтернативную гипотезу:\n",
    "* H0: средние рейтинги игр на Xbox One и PC равны\n",
    "* H1: средние рейтинги игр на Xbox One и PC отличаются"
   ]
  },
  {
   "cell_type": "code",
   "execution_count": 58,
   "metadata": {},
   "outputs": [
    {
     "name": "stdout",
     "output_type": "stream",
     "text": [
      "p-значение: 0.17196754848344567\n",
      "Не получилось отвергнуть нулевую гипотезу\n"
     ]
    }
   ],
   "source": [
    "xone = games_subset.query('platform == \"XOne\" & user_score > 4')['user_score']\n",
    "pc = games_subset.query('platform == \"PC\" & user_score > 3')['user_score']\n",
    "\n",
    "alpha = 0.05  # критический уровень статистической значимости\n",
    "# если p-value окажется меньше него - отвергнем гипотезу\n",
    "\n",
    "results = st.ttest_ind(xone, pc, equal_var = False)\n",
    "\n",
    "print('p-значение:', results.pvalue)\n",
    "\n",
    "if results.pvalue < alpha:\n",
    "    print('Отвергаем нулевую гипотезу')\n",
    "else:\n",
    "    print('Не получилось отвергнуть нулевую гипотезу') "
   ]
  },
  {
   "cell_type": "markdown",
   "metadata": {},
   "source": [
    "Мы получили довольно большое значение p-value: 0.13. Это значит, что вероятность ошибочно отвергнуть гипотезу о равенстве средних составляет 13%. Поэтому мы предполагаем, что в действительности рейтинг пользователей не зависит от платформы, которую они используют."
   ]
  },
  {
   "cell_type": "markdown",
   "metadata": {},
   "source": [
    "### Средние пользовательские рейтинги жанров Action и Sports разные.\n",
    "\n",
    "Посмотрим на гистограммы распределения пользовательских оценок для жанров Action и Sports."
   ]
  },
  {
   "cell_type": "code",
   "execution_count": 59,
   "metadata": {},
   "outputs": [
    {
     "data": {
      "image/png": "[encoded data removed]",
      "text/plain": [
       "<Figure size 432x288 with 1 Axes>"
      ]
     },
     "metadata": {
      "needs_background": "light"
     },
     "output_type": "display_data"
    }
   ],
   "source": [
    "games_subset.query('genre == \"Action\" & user_score > 0')['user_score'].hist();\n",
    "plt.title('Распределение оценок пользователей в жанре Action');"
   ]
  },
  {
   "cell_type": "code",
   "execution_count": 60,
   "metadata": {},
   "outputs": [
    {
     "data": {
      "image/png": "[encoded data removed]",
      "text/plain": [
       "<Figure size 432x288 with 1 Axes>"
      ]
     },
     "metadata": {
      "needs_background": "light"
     },
     "output_type": "display_data"
    }
   ],
   "source": [
    "games_subset.query('genre == \"Action\" & user_score > 0').boxplot('user_score');"
   ]
  },
  {
   "cell_type": "code",
   "execution_count": 61,
   "metadata": {},
   "outputs": [
    {
     "data": {
      "image/png": "[encoded data removed]",
      "text/plain": [
       "<Figure size 432x288 with 1 Axes>"
      ]
     },
     "metadata": {
      "needs_background": "light"
     },
     "output_type": "display_data"
    }
   ],
   "source": [
    "games_subset.query('genre == \"Sports\" & user_score > 0')['user_score'].hist();\n",
    "plt.title('Распределение оценок пользователей в жанре Sports');"
   ]
  },
  {
   "cell_type": "code",
   "execution_count": 62,
   "metadata": {},
   "outputs": [
    {
     "data": {
      "image/png": "[encoded data removed]",
      "text/plain": [
       "<Figure size 432x288 with 1 Axes>"
      ]
     },
     "metadata": {
      "needs_background": "light"
     },
     "output_type": "display_data"
    }
   ],
   "source": [
    "games_subset.query('genre == \"Sports\" & user_score > 0').boxplot('user_score');"
   ]
  },
  {
   "cell_type": "code",
   "execution_count": 63,
   "metadata": {},
   "outputs": [
    {
     "name": "stdout",
     "output_type": "stream",
     "text": [
      "Дисперсия оценок жанра Sports: 3.42\n",
      "Дисперсия оценок жанра Action: 1.89\n"
     ]
    }
   ],
   "source": [
    "print('Дисперсия оценок жанра Sports: {:.2f}'.format(np.var(games_subset.query('genre == \"Sports\" & user_score > 0')['user_score'])))\n",
    "print('Дисперсия оценок жанра Action: {:.2f}'.format(np.var(games_subset.query('genre == \"Action\" & user_score > 0')['user_score'])))"
   ]
  },
  {
   "cell_type": "markdown",
   "metadata": {},
   "source": [
    "Оба распределения похожи на нормальные, но сильно скошены вправо, в сторону выоских оценок. Дисперсии распределений не равны, нужно будет указать параметр equal_var = False. Есть выбросы - оценки ниже 3 для Action и ниже 2,1 для Sport встречаются редко. Поэтому для t-теста возьмем соотвествующий срез данных.\n",
    "\n",
    "Сформулируем гипотезы:\n",
    "* H0: средние оценки пользователей в жанре Action и Sports равны;\n",
    "* H1: средние оценки различаются."
   ]
  },
  {
   "cell_type": "code",
   "execution_count": 64,
   "metadata": {},
   "outputs": [
    {
     "name": "stdout",
     "output_type": "stream",
     "text": [
      "p-значение: 2.4437056186903537e-14\n",
      "Отвергаем нулевую гипотезу\n"
     ]
    }
   ],
   "source": [
    "action = games_subset.query('genre == \"Action\" & user_score > 3')['user_score']\n",
    "sports = games_subset.query('genre == \"Sports\" & user_score > 2.1')['user_score']\n",
    "\n",
    "alpha = 0.05  # критический уровень статистической значимости\n",
    "# если p-value окажется меньше него - отвергнем гипотезу\n",
    "\n",
    "results = st.ttest_ind(action, sports, equal_var = False)\n",
    "\n",
    "print('p-значение:', results.pvalue)\n",
    "\n",
    "if results.pvalue < alpha:\n",
    "    print('Отвергаем нулевую гипотезу')\n",
    "else:\n",
    "    print('Не получилось отвергнуть нулевую гипотезу') "
   ]
  },
  {
   "cell_type": "markdown",
   "metadata": {},
   "source": [
    "P-зачение получилось очень маленьким, поэтому можно с уверенностью отвергнуть нулевую гипотезу - вероятность, что такое или более сильное различие средних получено по ошибке ничтожна. Скорее всего рейтинги пользователей действительно отличаются в рассматриваемых жанрах."
   ]
  },
  {
   "cell_type": "markdown",
   "metadata": {},
   "source": [
    "## Вывод\n"
   ]
  },
  {
   "cell_type": "markdown",
   "metadata": {},
   "source": [
    "Мы проанализировали данные о продажах компьютерных игр в разных регионах и заметили следующие закономерности:\n",
    "\n",
    "* Жизненный цикл платформы составляет около 10 лет;\n",
    "* Мировой экономический кризис привел к резкому спаду выпуска игр, который продолжается и по состоянию на 2016 год;\n",
    "* К 2016 году среди платформ можно выделить трех глобальных лидеров по продажам: PS4, XOne и 3DS;\n",
    "* Cущественной взаимосвязи между продажами и оценками критиков или пользователей не обнаружено;\n",
    "* Самые продаваемы жанры - Sports, Platform, Fighting. Наименее популярные - Adventrue, Puzzle и Strategy.\n"
   ]
  },
  {
   "cell_type": "markdown",
   "metadata": {},
   "source": [
    "Также мы провели статистическую проверку гипотез:\n",
    "* Средние рейтинги игр на Xbox One и PC равны: данная гипотеза подтвердилась с высокой статистической значимостью. Можно предположить, что эта закономерность справедлива не только для нашей выборки, но и для генеральной совокупности в целом.\n",
    "* Средние оценки пользователей в жанре Action и Sports различаются: эта гипотеза также подтвердилась и показала почти 100% вероятность того, что различия значимы. "
   ]
  },
  {
   "cell_type": "markdown",
   "metadata": {},
   "source": [
    "Исследование показало, что рынок Северной Америки и Европы похожи по предпочтениям: среди жанров лидирует Shooter, также популярен Sports (но в СА в большей степени, чем в Европе). У большей части проданных игр рейтинги E, M или T. Самые востребованные платформы - PS4 и XOne. \n",
    "\n",
    "В свою очередь рынок Японии сильно отличается. Самая крупная платформа - 3DS, на нее приходится примерно половина продаж из 5 лидеров. Популярные жанры продаются в одинаковой пропорции, но в отличие от других регионов популярен Role-Playing и Puzzle. Среди популярных жанров Fighting также представлен в Северной Америке, а Simulation - в Европе. Самые продаваемые игры не имеют возрастных ограничений. Эти различия и закономерности следует учесть при формировании рекламной стратегии."
   ]
  }
 ],
 "metadata": {
  "ExecuteTimeLog": [
   {
    "duration": 319,
    "start_time": "2021-06-08T12:26:55.938Z"
   },
   {
    "duration": 846,
    "start_time": "2021-06-08T12:27:50.370Z"
   },
   {
    "duration": 41,
    "start_time": "2021-06-08T12:27:55.432Z"
   },
   {
    "duration": 14,
    "start_time": "2021-06-08T12:31:38.312Z"
   },
   {
    "duration": 20,
    "start_time": "2021-06-08T12:33:25.786Z"
   },
   {
    "duration": 35,
    "start_time": "2021-06-08T12:34:18.973Z"
   },
   {
    "duration": 18,
    "start_time": "2021-06-08T12:35:30.215Z"
   },
   {
    "duration": 31,
    "start_time": "2021-06-08T12:37:01.708Z"
   },
   {
    "duration": 7,
    "start_time": "2021-06-08T12:37:46.372Z"
   },
   {
    "duration": 7,
    "start_time": "2021-06-08T12:37:53.712Z"
   },
   {
    "duration": 28,
    "start_time": "2021-06-08T12:38:26.831Z"
   },
   {
    "duration": 18,
    "start_time": "2021-06-08T12:39:53.858Z"
   },
   {
    "duration": 28,
    "start_time": "2021-06-08T12:42:34.688Z"
   },
   {
    "duration": 8,
    "start_time": "2021-06-08T12:44:08.066Z"
   },
   {
    "duration": 42,
    "start_time": "2021-06-08T12:47:18.318Z"
   },
   {
    "duration": 32,
    "start_time": "2021-06-08T12:48:01.444Z"
   },
   {
    "duration": 40,
    "start_time": "2021-06-08T12:48:14.663Z"
   },
   {
    "duration": 38,
    "start_time": "2021-06-08T12:48:30.305Z"
   },
   {
    "duration": 7,
    "start_time": "2021-06-08T12:49:11.297Z"
   },
   {
    "duration": 5302,
    "start_time": "2021-06-08T12:49:48.561Z"
   },
   {
    "duration": 292,
    "start_time": "2021-06-08T12:50:05.964Z"
   },
   {
    "duration": 37,
    "start_time": "2021-06-08T12:50:26.760Z"
   },
   {
    "duration": 293,
    "start_time": "2021-06-08T12:50:40.386Z"
   },
   {
    "duration": 43,
    "start_time": "2021-06-08T12:50:47.389Z"
   },
   {
    "duration": 8,
    "start_time": "2021-06-08T12:51:23.411Z"
   },
   {
    "duration": 235,
    "start_time": "2021-06-08T12:51:48.696Z"
   },
   {
    "duration": 9,
    "start_time": "2021-06-08T12:51:54.730Z"
   },
   {
    "duration": 8,
    "start_time": "2021-06-08T12:52:56.661Z"
   },
   {
    "duration": 31,
    "start_time": "2021-06-08T12:53:06.136Z"
   },
   {
    "duration": 35,
    "start_time": "2021-06-08T12:53:20.353Z"
   },
   {
    "duration": 36,
    "start_time": "2021-06-08T12:54:58.218Z"
   },
   {
    "duration": 93,
    "start_time": "2021-06-08T12:55:59.404Z"
   },
   {
    "duration": 260,
    "start_time": "2021-06-08T12:56:03.863Z"
   },
   {
    "duration": 17,
    "start_time": "2021-06-08T12:56:09.962Z"
   },
   {
    "duration": 17,
    "start_time": "2021-06-08T12:56:54.923Z"
   },
   {
    "duration": 14,
    "start_time": "2021-06-08T12:56:58.394Z"
   },
   {
    "duration": 16,
    "start_time": "2021-06-08T12:57:02.658Z"
   },
   {
    "duration": 15,
    "start_time": "2021-06-08T12:57:08.847Z"
   },
   {
    "duration": 7,
    "start_time": "2021-06-08T12:58:47.310Z"
   },
   {
    "duration": 12,
    "start_time": "2021-06-08T12:59:47.686Z"
   },
   {
    "duration": 283,
    "start_time": "2021-06-08T12:59:59.358Z"
   },
   {
    "duration": 11,
    "start_time": "2021-06-08T13:00:07.424Z"
   },
   {
    "duration": 33,
    "start_time": "2021-06-08T13:00:57.603Z"
   },
   {
    "duration": 5983,
    "start_time": "2021-06-08T13:01:25.284Z"
   },
   {
    "duration": 6248,
    "start_time": "2021-06-08T13:01:32.437Z"
   },
   {
    "duration": 7,
    "start_time": "2021-06-08T13:01:50.254Z"
   },
   {
    "duration": 31,
    "start_time": "2021-06-08T13:02:08.976Z"
   },
   {
    "duration": 16,
    "start_time": "2021-06-08T13:02:18.255Z"
   },
   {
    "duration": 5,
    "start_time": "2021-06-08T13:03:23.025Z"
   },
   {
    "duration": 399,
    "start_time": "2021-06-08T13:03:47.744Z"
   },
   {
    "duration": 166,
    "start_time": "2021-06-08T13:03:57.480Z"
   },
   {
    "duration": 286,
    "start_time": "2021-06-08T13:04:35.356Z"
   },
   {
    "duration": 131,
    "start_time": "2021-06-08T13:04:47.852Z"
   },
   {
    "duration": 150,
    "start_time": "2021-06-08T13:05:02.586Z"
   },
   {
    "duration": 79,
    "start_time": "2021-06-08T13:07:03.957Z"
   },
   {
    "duration": 84,
    "start_time": "2021-06-08T13:07:24.328Z"
   },
   {
    "duration": 85,
    "start_time": "2021-06-08T13:07:32.384Z"
   },
   {
    "duration": 81,
    "start_time": "2021-06-08T13:07:42.322Z"
   },
   {
    "duration": 81,
    "start_time": "2021-06-08T13:07:53.279Z"
   },
   {
    "duration": 78,
    "start_time": "2021-06-08T13:08:11.354Z"
   },
   {
    "duration": 89,
    "start_time": "2021-06-08T13:08:28.090Z"
   },
   {
    "duration": 4,
    "start_time": "2021-06-08T13:08:36.482Z"
   },
   {
    "duration": 81,
    "start_time": "2021-06-08T13:08:45.438Z"
   },
   {
    "duration": 98,
    "start_time": "2021-06-08T13:09:01.163Z"
   },
   {
    "duration": 73,
    "start_time": "2021-06-08T13:09:17.095Z"
   },
   {
    "duration": 99,
    "start_time": "2021-06-08T13:10:06.064Z"
   },
   {
    "duration": 99,
    "start_time": "2021-06-08T13:10:23.175Z"
   },
   {
    "duration": 113,
    "start_time": "2021-06-08T13:10:35.567Z"
   },
   {
    "duration": 98,
    "start_time": "2021-06-08T13:10:59.027Z"
   },
   {
    "duration": 23,
    "start_time": "2021-06-08T13:11:34.717Z"
   },
   {
    "duration": 5972,
    "start_time": "2021-06-08T13:12:53.433Z"
   },
   {
    "duration": 1621,
    "start_time": "2021-06-08T13:13:12.765Z"
   },
   {
    "duration": 115,
    "start_time": "2021-06-08T13:13:23.368Z"
   },
   {
    "duration": 111,
    "start_time": "2021-06-08T13:13:44.312Z"
   },
   {
    "duration": 105,
    "start_time": "2021-06-08T13:13:56.701Z"
   },
   {
    "duration": 15,
    "start_time": "2021-06-08T13:16:25.424Z"
   },
   {
    "duration": 3230,
    "start_time": "2021-06-08T13:16:43.740Z"
   },
   {
    "duration": 34,
    "start_time": "2021-06-08T13:16:57.308Z"
   },
   {
    "duration": 36,
    "start_time": "2021-06-08T13:17:06.687Z"
   },
   {
    "duration": 7,
    "start_time": "2021-06-08T13:17:40.929Z"
   },
   {
    "duration": 12,
    "start_time": "2021-06-08T13:17:49.816Z"
   },
   {
    "duration": 7,
    "start_time": "2021-06-08T13:18:08.069Z"
   },
   {
    "duration": 16,
    "start_time": "2021-06-08T13:18:13.698Z"
   },
   {
    "duration": 742,
    "start_time": "2021-06-08T14:50:29.488Z"
   },
   {
    "duration": 41,
    "start_time": "2021-06-08T14:50:30.233Z"
   },
   {
    "duration": 14,
    "start_time": "2021-06-08T14:50:30.839Z"
   },
   {
    "duration": 19,
    "start_time": "2021-06-08T14:50:31.202Z"
   },
   {
    "duration": 7,
    "start_time": "2021-06-08T14:50:31.694Z"
   },
   {
    "duration": 5,
    "start_time": "2021-06-08T14:50:32.170Z"
   },
   {
    "duration": 110,
    "start_time": "2021-06-08T14:50:32.551Z"
   },
   {
    "duration": 33,
    "start_time": "2021-06-08T14:50:32.789Z"
   },
   {
    "duration": 16,
    "start_time": "2021-06-08T14:50:33.001Z"
   },
   {
    "duration": 25,
    "start_time": "2021-06-08T14:50:52.965Z"
   },
   {
    "duration": 29,
    "start_time": "2021-06-08T14:55:57.236Z"
   },
   {
    "duration": 8,
    "start_time": "2021-06-08T14:56:05.824Z"
   },
   {
    "duration": 336,
    "start_time": "2021-06-08T15:01:07.665Z"
   },
   {
    "duration": 22,
    "start_time": "2021-06-08T15:02:34.654Z"
   },
   {
    "duration": 28,
    "start_time": "2021-06-08T15:03:38.242Z"
   },
   {
    "duration": 6430,
    "start_time": "2021-06-08T15:04:36.936Z"
   },
   {
    "duration": 7,
    "start_time": "2021-06-08T15:05:04.346Z"
   },
   {
    "duration": 15,
    "start_time": "2021-06-08T15:05:27.573Z"
   },
   {
    "duration": 798,
    "start_time": "2021-06-08T15:05:45.296Z"
   },
   {
    "duration": 17,
    "start_time": "2021-06-08T15:06:03.532Z"
   },
   {
    "duration": 7,
    "start_time": "2021-06-08T15:07:16.367Z"
   },
   {
    "duration": 7,
    "start_time": "2021-06-08T15:07:32.941Z"
   },
   {
    "duration": 462,
    "start_time": "2021-06-08T15:07:57.730Z"
   },
   {
    "duration": 811,
    "start_time": "2021-06-08T18:12:19.417Z"
   },
   {
    "duration": 40,
    "start_time": "2021-06-08T18:12:20.231Z"
   },
   {
    "duration": 25,
    "start_time": "2021-06-08T18:12:20.274Z"
   },
   {
    "duration": 20,
    "start_time": "2021-06-08T18:12:20.561Z"
   },
   {
    "duration": 8,
    "start_time": "2021-06-08T18:12:21.197Z"
   },
   {
    "duration": 5,
    "start_time": "2021-06-08T18:12:21.703Z"
   },
   {
    "duration": 125,
    "start_time": "2021-06-08T18:12:21.933Z"
   },
   {
    "duration": 29,
    "start_time": "2021-06-08T18:12:22.224Z"
   },
   {
    "duration": 23,
    "start_time": "2021-06-08T18:12:22.483Z"
   },
   {
    "duration": 7,
    "start_time": "2021-06-08T18:12:24.228Z"
   },
   {
    "duration": 28,
    "start_time": "2021-06-08T18:12:24.576Z"
   },
   {
    "duration": 39,
    "start_time": "2021-06-08T18:12:24.881Z"
   },
   {
    "duration": 6,
    "start_time": "2021-06-08T18:12:25.621Z"
   },
   {
    "duration": 5,
    "start_time": "2021-06-08T18:12:26.258Z"
   },
   {
    "duration": 16,
    "start_time": "2021-06-08T18:12:26.465Z"
   },
   {
    "duration": 343,
    "start_time": "2021-06-08T18:15:15.897Z"
   },
   {
    "duration": 243,
    "start_time": "2021-06-08T18:15:20.824Z"
   },
   {
    "duration": 9,
    "start_time": "2021-06-08T18:15:45.228Z"
   },
   {
    "duration": 7,
    "start_time": "2021-06-08T18:15:55.100Z"
   },
   {
    "duration": 245,
    "start_time": "2021-06-08T18:16:29.637Z"
   },
   {
    "duration": 5,
    "start_time": "2021-06-08T18:16:37.510Z"
   },
   {
    "duration": 12,
    "start_time": "2021-06-08T18:18:25.662Z"
   },
   {
    "duration": 9,
    "start_time": "2021-06-08T18:18:43.867Z"
   },
   {
    "duration": 11,
    "start_time": "2021-06-08T18:18:56.743Z"
   },
   {
    "duration": 8,
    "start_time": "2021-06-08T18:19:08.493Z"
   },
   {
    "duration": 21,
    "start_time": "2021-06-08T18:19:31.878Z"
   },
   {
    "duration": 5,
    "start_time": "2021-06-08T18:22:42.715Z"
   },
   {
    "duration": 25,
    "start_time": "2021-06-08T18:23:18.383Z"
   },
   {
    "duration": 463,
    "start_time": "2021-06-08T18:23:29.250Z"
   },
   {
    "duration": 308,
    "start_time": "2021-06-08T18:23:37.438Z"
   },
   {
    "duration": 328,
    "start_time": "2021-06-08T18:23:46.717Z"
   },
   {
    "duration": 397,
    "start_time": "2021-06-08T18:23:55.699Z"
   },
   {
    "duration": 5,
    "start_time": "2021-06-08T18:27:26.826Z"
   },
   {
    "duration": 263,
    "start_time": "2021-06-08T18:28:25.273Z"
   },
   {
    "duration": 25,
    "start_time": "2021-06-08T18:28:25.572Z"
   },
   {
    "duration": 6,
    "start_time": "2021-06-08T18:28:40.328Z"
   },
   {
    "duration": 23,
    "start_time": "2021-06-08T18:28:41.294Z"
   },
   {
    "duration": 83,
    "start_time": "2021-06-08T18:37:37.119Z"
   },
   {
    "duration": 34,
    "start_time": "2021-06-08T18:37:50.063Z"
   },
   {
    "duration": 7,
    "start_time": "2021-06-08T18:38:11.817Z"
   },
   {
    "duration": 324,
    "start_time": "2021-06-08T18:38:51.323Z"
   },
   {
    "duration": 48,
    "start_time": "2021-06-08T18:39:03.250Z"
   },
   {
    "duration": 314,
    "start_time": "2021-06-08T18:39:26.107Z"
   },
   {
    "duration": 41,
    "start_time": "2021-06-08T18:39:30.509Z"
   },
   {
    "duration": 20,
    "start_time": "2021-06-08T18:51:22.845Z"
   },
   {
    "duration": 22,
    "start_time": "2021-06-08T18:51:38.655Z"
   },
   {
    "duration": 26,
    "start_time": "2021-06-08T18:51:51.168Z"
   },
   {
    "duration": 21,
    "start_time": "2021-06-08T18:52:19.023Z"
   },
   {
    "duration": 276,
    "start_time": "2021-06-08T18:52:54.726Z"
   },
   {
    "duration": 25,
    "start_time": "2021-06-08T18:53:14.215Z"
   },
   {
    "duration": 17,
    "start_time": "2021-06-08T18:54:00.461Z"
   },
   {
    "duration": 6,
    "start_time": "2021-06-08T18:54:11.570Z"
   },
   {
    "duration": 21,
    "start_time": "2021-06-08T18:54:23.599Z"
   },
   {
    "duration": 6,
    "start_time": "2021-06-08T18:54:24.304Z"
   },
   {
    "duration": 12,
    "start_time": "2021-06-08T18:54:40.677Z"
   },
   {
    "duration": 7581,
    "start_time": "2021-06-08T18:55:49.901Z"
   },
   {
    "duration": 6,
    "start_time": "2021-06-08T18:56:03.463Z"
   },
   {
    "duration": 1784,
    "start_time": "2021-06-08T18:57:49.499Z"
   },
   {
    "duration": 274,
    "start_time": "2021-06-08T18:58:18.257Z"
   },
   {
    "duration": 1753,
    "start_time": "2021-06-08T18:58:28.589Z"
   },
   {
    "duration": 389,
    "start_time": "2021-06-08T18:59:57.608Z"
   },
   {
    "duration": 10,
    "start_time": "2021-06-08T19:00:21.885Z"
   },
   {
    "duration": 327,
    "start_time": "2021-06-08T19:00:23.521Z"
   },
   {
    "duration": 396,
    "start_time": "2021-06-08T19:00:46.538Z"
   },
   {
    "duration": 511,
    "start_time": "2021-06-08T19:00:50.999Z"
   },
   {
    "duration": 46,
    "start_time": "2021-06-08T19:06:40.621Z"
   },
   {
    "duration": 5951,
    "start_time": "2021-06-08T19:06:52.175Z"
   },
   {
    "duration": 915,
    "start_time": "2021-06-08T19:07:26.461Z"
   },
   {
    "duration": 37,
    "start_time": "2021-06-08T19:07:27.378Z"
   },
   {
    "duration": 13,
    "start_time": "2021-06-08T19:07:27.418Z"
   },
   {
    "duration": 49,
    "start_time": "2021-06-08T19:07:27.434Z"
   },
   {
    "duration": 11,
    "start_time": "2021-06-08T19:07:27.487Z"
   },
   {
    "duration": 7,
    "start_time": "2021-06-08T19:07:27.500Z"
   },
   {
    "duration": 142,
    "start_time": "2021-06-08T19:07:27.509Z"
   },
   {
    "duration": 44,
    "start_time": "2021-06-08T19:07:27.655Z"
   },
   {
    "duration": 16,
    "start_time": "2021-06-08T19:07:27.703Z"
   },
   {
    "duration": 6,
    "start_time": "2021-06-08T19:07:27.722Z"
   },
   {
    "duration": 58,
    "start_time": "2021-06-08T19:07:27.730Z"
   },
   {
    "duration": 29,
    "start_time": "2021-06-08T19:07:27.791Z"
   },
   {
    "duration": 5,
    "start_time": "2021-06-08T19:07:27.823Z"
   },
   {
    "duration": 6,
    "start_time": "2021-06-08T19:07:27.831Z"
   },
   {
    "duration": 12,
    "start_time": "2021-06-08T19:07:27.840Z"
   },
   {
    "duration": 5,
    "start_time": "2021-06-08T19:07:27.883Z"
   },
   {
    "duration": 27,
    "start_time": "2021-06-08T19:07:27.891Z"
   },
   {
    "duration": 8,
    "start_time": "2021-06-08T19:07:27.920Z"
   },
   {
    "duration": 19,
    "start_time": "2021-06-08T19:07:27.931Z"
   },
   {
    "duration": 5,
    "start_time": "2021-06-08T19:07:27.952Z"
   },
   {
    "duration": 8,
    "start_time": "2021-06-08T19:07:27.984Z"
   },
   {
    "duration": 25,
    "start_time": "2021-06-08T19:07:27.995Z"
   },
   {
    "duration": 6,
    "start_time": "2021-06-08T19:07:28.024Z"
   },
   {
    "duration": 342,
    "start_time": "2021-06-08T19:07:28.033Z"
   },
   {
    "duration": 33,
    "start_time": "2021-06-08T19:07:28.377Z"
   },
   {
    "duration": 19,
    "start_time": "2021-06-08T19:07:28.413Z"
   },
   {
    "duration": 6,
    "start_time": "2021-06-08T19:07:28.434Z"
   },
   {
    "duration": 46,
    "start_time": "2021-06-08T19:07:28.442Z"
   },
   {
    "duration": 375,
    "start_time": "2021-06-08T19:07:28.491Z"
   },
   {
    "duration": 20,
    "start_time": "2021-06-08T19:13:39.524Z"
   },
   {
    "duration": 10,
    "start_time": "2021-06-08T19:13:42.709Z"
   },
   {
    "duration": 3,
    "start_time": "2021-06-08T19:14:58.107Z"
   },
   {
    "duration": 6,
    "start_time": "2021-06-08T19:15:27.572Z"
   },
   {
    "duration": 17,
    "start_time": "2021-06-08T19:15:31.710Z"
   },
   {
    "duration": 11,
    "start_time": "2021-06-08T19:15:32.149Z"
   },
   {
    "duration": 21,
    "start_time": "2021-06-08T19:15:42.185Z"
   },
   {
    "duration": 9,
    "start_time": "2021-06-08T19:15:44.456Z"
   },
   {
    "duration": 17,
    "start_time": "2021-06-08T19:16:00.510Z"
   },
   {
    "duration": 12,
    "start_time": "2021-06-08T19:16:04.086Z"
   },
   {
    "duration": 6,
    "start_time": "2021-06-08T19:16:08.073Z"
   },
   {
    "duration": 6,
    "start_time": "2021-06-08T19:16:11.652Z"
   },
   {
    "duration": 535,
    "start_time": "2021-06-08T19:16:14.322Z"
   },
   {
    "duration": 17,
    "start_time": "2021-06-08T19:31:23.037Z"
   },
   {
    "duration": 12,
    "start_time": "2021-06-08T19:31:24.033Z"
   },
   {
    "duration": 5,
    "start_time": "2021-06-08T19:31:24.807Z"
   },
   {
    "duration": 6,
    "start_time": "2021-06-08T19:31:25.428Z"
   },
   {
    "duration": 382,
    "start_time": "2021-06-08T19:31:26.083Z"
   },
   {
    "duration": 17,
    "start_time": "2021-06-08T19:32:18.871Z"
   },
   {
    "duration": 10,
    "start_time": "2021-06-08T19:32:19.204Z"
   },
   {
    "duration": 6,
    "start_time": "2021-06-08T19:32:19.547Z"
   },
   {
    "duration": 7,
    "start_time": "2021-06-08T19:32:19.986Z"
   },
   {
    "duration": 455,
    "start_time": "2021-06-08T19:32:20.432Z"
   },
   {
    "duration": 17,
    "start_time": "2021-06-08T19:32:28.926Z"
   },
   {
    "duration": 9,
    "start_time": "2021-06-08T19:32:29.261Z"
   },
   {
    "duration": 6,
    "start_time": "2021-06-08T19:32:29.653Z"
   },
   {
    "duration": 6,
    "start_time": "2021-06-08T19:32:29.997Z"
   },
   {
    "duration": 432,
    "start_time": "2021-06-08T19:32:30.475Z"
   },
   {
    "duration": 24,
    "start_time": "2021-06-08T19:41:08.768Z"
   },
   {
    "duration": 246,
    "start_time": "2021-06-08T19:41:22.379Z"
   },
   {
    "duration": 235,
    "start_time": "2021-06-08T19:41:48.881Z"
   },
   {
    "duration": 242,
    "start_time": "2021-06-08T19:44:34.859Z"
   },
   {
    "duration": 25,
    "start_time": "2021-06-08T19:45:26.349Z"
   },
   {
    "duration": 365,
    "start_time": "2021-06-08T19:45:40.297Z"
   },
   {
    "duration": 29,
    "start_time": "2021-06-08T19:46:08.266Z"
   },
   {
    "duration": 6636,
    "start_time": "2021-06-08T19:48:15.509Z"
   },
   {
    "duration": 21,
    "start_time": "2021-06-08T19:48:53.847Z"
   },
   {
    "duration": 86,
    "start_time": "2021-06-08T19:49:44.791Z"
   },
   {
    "duration": 26,
    "start_time": "2021-06-08T19:50:08.017Z"
   },
   {
    "duration": 10,
    "start_time": "2021-06-08T19:52:58.444Z"
   },
   {
    "duration": 16,
    "start_time": "2021-06-08T19:52:58.584Z"
   },
   {
    "duration": 13,
    "start_time": "2021-06-08T19:53:15.579Z"
   },
   {
    "duration": 17,
    "start_time": "2021-06-08T19:53:35.339Z"
   },
   {
    "duration": 11,
    "start_time": "2021-06-08T19:53:50.436Z"
   },
   {
    "duration": 13,
    "start_time": "2021-06-08T19:53:50.619Z"
   },
   {
    "duration": 13,
    "start_time": "2021-06-08T19:53:54.933Z"
   },
   {
    "duration": 10,
    "start_time": "2021-06-08T19:54:11.552Z"
   },
   {
    "duration": 11,
    "start_time": "2021-06-08T19:54:11.937Z"
   },
   {
    "duration": 7,
    "start_time": "2021-06-08T19:55:02.958Z"
   },
   {
    "duration": 97,
    "start_time": "2021-06-08T19:55:46.586Z"
   },
   {
    "duration": 962,
    "start_time": "2021-06-08T19:55:53.663Z"
   },
   {
    "duration": 953,
    "start_time": "2021-06-08T19:56:07.419Z"
   },
   {
    "duration": 9,
    "start_time": "2021-06-08T19:56:14.681Z"
   },
   {
    "duration": 966,
    "start_time": "2021-06-08T19:56:37.794Z"
   },
   {
    "duration": 895,
    "start_time": "2021-06-08T20:00:42.267Z"
   },
   {
    "duration": 37,
    "start_time": "2021-06-08T20:00:43.164Z"
   },
   {
    "duration": 19,
    "start_time": "2021-06-08T20:00:43.205Z"
   },
   {
    "duration": 20,
    "start_time": "2021-06-08T20:00:43.294Z"
   },
   {
    "duration": 9,
    "start_time": "2021-06-08T20:00:43.779Z"
   },
   {
    "duration": 5,
    "start_time": "2021-06-08T20:00:44.777Z"
   },
   {
    "duration": 116,
    "start_time": "2021-06-08T20:00:45.007Z"
   },
   {
    "duration": 35,
    "start_time": "2021-06-08T20:00:45.762Z"
   },
   {
    "duration": 17,
    "start_time": "2021-06-08T20:00:46.340Z"
   },
   {
    "duration": 7,
    "start_time": "2021-06-08T20:00:47.365Z"
   },
   {
    "duration": 24,
    "start_time": "2021-06-08T20:00:47.575Z"
   },
   {
    "duration": 28,
    "start_time": "2021-06-08T20:00:47.816Z"
   },
   {
    "duration": 8,
    "start_time": "2021-06-08T20:00:48.381Z"
   },
   {
    "duration": 5,
    "start_time": "2021-06-08T20:00:49.166Z"
   },
   {
    "duration": 10,
    "start_time": "2021-06-08T20:00:49.399Z"
   },
   {
    "duration": 5,
    "start_time": "2021-06-08T20:00:49.608Z"
   },
   {
    "duration": 16,
    "start_time": "2021-06-08T20:00:50.248Z"
   },
   {
    "duration": 11,
    "start_time": "2021-06-08T20:00:50.980Z"
   },
   {
    "duration": 17,
    "start_time": "2021-06-08T20:00:51.694Z"
   },
   {
    "duration": 6,
    "start_time": "2021-06-08T20:00:52.224Z"
   },
   {
    "duration": 8,
    "start_time": "2021-06-08T20:00:52.923Z"
   },
   {
    "duration": 25,
    "start_time": "2021-06-08T20:00:53.379Z"
   },
   {
    "duration": 7,
    "start_time": "2021-06-08T20:01:13.807Z"
   },
   {
    "duration": 20,
    "start_time": "2021-06-08T20:01:18.409Z"
   },
   {
    "duration": 877,
    "start_time": "2021-06-08T20:01:46.430Z"
   },
   {
    "duration": 34,
    "start_time": "2021-06-08T20:01:47.310Z"
   },
   {
    "duration": 20,
    "start_time": "2021-06-08T20:01:47.347Z"
   },
   {
    "duration": 26,
    "start_time": "2021-06-08T20:01:47.382Z"
   },
   {
    "duration": 10,
    "start_time": "2021-06-08T20:01:47.412Z"
   },
   {
    "duration": 5,
    "start_time": "2021-06-08T20:01:47.706Z"
   },
   {
    "duration": 121,
    "start_time": "2021-06-08T20:01:47.935Z"
   },
   {
    "duration": 33,
    "start_time": "2021-06-08T20:01:48.194Z"
   },
   {
    "duration": 16,
    "start_time": "2021-06-08T20:01:48.644Z"
   },
   {
    "duration": 6,
    "start_time": "2021-06-08T20:01:49.849Z"
   },
   {
    "duration": 26,
    "start_time": "2021-06-08T20:01:50.090Z"
   },
   {
    "duration": 37,
    "start_time": "2021-06-08T20:01:50.487Z"
   },
   {
    "duration": 6,
    "start_time": "2021-06-08T20:01:51.367Z"
   },
   {
    "duration": 5,
    "start_time": "2021-06-08T20:01:51.583Z"
   },
   {
    "duration": 8,
    "start_time": "2021-06-08T20:01:52.425Z"
   },
   {
    "duration": 5,
    "start_time": "2021-06-08T20:01:52.998Z"
   },
   {
    "duration": 19,
    "start_time": "2021-06-08T20:01:53.630Z"
   },
   {
    "duration": 9,
    "start_time": "2021-06-08T20:01:54.683Z"
   },
   {
    "duration": 15,
    "start_time": "2021-06-08T20:01:55.460Z"
   },
   {
    "duration": 6,
    "start_time": "2021-06-08T20:01:55.658Z"
   },
   {
    "duration": 7,
    "start_time": "2021-06-08T20:01:56.255Z"
   },
   {
    "duration": 20,
    "start_time": "2021-06-08T20:01:56.725Z"
   },
   {
    "duration": 6,
    "start_time": "2021-06-08T20:02:18.451Z"
   },
   {
    "duration": 17,
    "start_time": "2021-06-08T20:02:20.028Z"
   },
   {
    "duration": 9,
    "start_time": "2021-06-08T20:02:25.899Z"
   },
   {
    "duration": 5,
    "start_time": "2021-06-08T20:02:26.069Z"
   },
   {
    "duration": 20,
    "start_time": "2021-06-08T20:02:26.235Z"
   },
   {
    "duration": 6,
    "start_time": "2021-06-08T20:02:26.755Z"
   },
   {
    "duration": 301,
    "start_time": "2021-06-08T20:02:26.921Z"
   },
   {
    "duration": 25,
    "start_time": "2021-06-08T20:02:27.265Z"
   },
   {
    "duration": 17,
    "start_time": "2021-06-08T20:02:27.466Z"
   },
   {
    "duration": 9,
    "start_time": "2021-06-08T20:02:27.662Z"
   },
   {
    "duration": 5,
    "start_time": "2021-06-08T20:02:27.840Z"
   },
   {
    "duration": 6,
    "start_time": "2021-06-08T20:02:28.064Z"
   },
   {
    "duration": 420,
    "start_time": "2021-06-08T20:02:28.284Z"
   },
   {
    "duration": 291,
    "start_time": "2021-06-08T20:02:28.840Z"
   },
   {
    "duration": 10,
    "start_time": "2021-06-08T20:02:31.172Z"
   },
   {
    "duration": 12,
    "start_time": "2021-06-08T20:02:31.331Z"
   },
   {
    "duration": 352,
    "start_time": "2021-06-08T20:03:35.604Z"
   },
   {
    "duration": 520,
    "start_time": "2021-06-08T20:03:47.629Z"
   },
   {
    "duration": 762,
    "start_time": "2021-06-08T20:05:05.220Z"
   },
   {
    "duration": 773,
    "start_time": "2021-06-08T20:05:40.390Z"
   },
   {
    "duration": 868,
    "start_time": "2021-06-08T20:06:07.972Z"
   },
   {
    "duration": 794,
    "start_time": "2021-06-08T20:06:46.147Z"
   },
   {
    "duration": 925,
    "start_time": "2021-06-08T20:06:55.133Z"
   },
   {
    "duration": 865,
    "start_time": "2021-06-08T20:07:01.503Z"
   },
   {
    "duration": 1717,
    "start_time": "2021-06-08T20:08:20.201Z"
   },
   {
    "duration": 1542,
    "start_time": "2021-06-08T20:08:25.130Z"
   },
   {
    "duration": 15,
    "start_time": "2021-06-08T20:12:37.341Z"
   },
   {
    "duration": 30,
    "start_time": "2021-06-08T20:12:40.980Z"
   },
   {
    "duration": 21,
    "start_time": "2021-06-08T20:12:57.797Z"
   },
   {
    "duration": 20,
    "start_time": "2021-06-08T20:13:40.245Z"
   },
   {
    "duration": 34,
    "start_time": "2021-06-08T20:14:09.796Z"
   },
   {
    "duration": 31,
    "start_time": "2021-06-08T20:14:21.547Z"
   },
   {
    "duration": 33,
    "start_time": "2021-06-08T20:14:32.204Z"
   },
   {
    "duration": 23,
    "start_time": "2021-06-08T20:14:55.390Z"
   },
   {
    "duration": 257,
    "start_time": "2021-06-08T20:15:18.426Z"
   },
   {
    "duration": 21,
    "start_time": "2021-06-08T20:15:32.563Z"
   },
   {
    "duration": 20,
    "start_time": "2021-06-08T20:16:18.520Z"
   },
   {
    "duration": 20,
    "start_time": "2021-06-08T20:17:12.502Z"
   },
   {
    "duration": 25,
    "start_time": "2021-06-08T20:18:06.178Z"
   },
   {
    "duration": 894,
    "start_time": "2021-06-10T08:04:58.904Z"
   },
   {
    "duration": 34,
    "start_time": "2021-06-10T08:04:59.801Z"
   },
   {
    "duration": 13,
    "start_time": "2021-06-10T08:04:59.838Z"
   },
   {
    "duration": 40,
    "start_time": "2021-06-10T08:04:59.854Z"
   },
   {
    "duration": 7,
    "start_time": "2021-06-10T08:04:59.897Z"
   },
   {
    "duration": 7,
    "start_time": "2021-06-10T08:04:59.906Z"
   },
   {
    "duration": 145,
    "start_time": "2021-06-10T08:04:59.915Z"
   },
   {
    "duration": 40,
    "start_time": "2021-06-10T08:05:00.064Z"
   },
   {
    "duration": 16,
    "start_time": "2021-06-10T08:05:00.107Z"
   },
   {
    "duration": 6,
    "start_time": "2021-06-10T08:05:00.126Z"
   },
   {
    "duration": 59,
    "start_time": "2021-06-10T08:05:00.134Z"
   },
   {
    "duration": 27,
    "start_time": "2021-06-10T08:05:00.196Z"
   },
   {
    "duration": 6,
    "start_time": "2021-06-10T08:05:00.226Z"
   },
   {
    "duration": 12,
    "start_time": "2021-06-10T08:05:00.234Z"
   },
   {
    "duration": 38,
    "start_time": "2021-06-10T08:05:00.249Z"
   },
   {
    "duration": 5,
    "start_time": "2021-06-10T08:05:00.290Z"
   },
   {
    "duration": 25,
    "start_time": "2021-06-10T08:05:00.297Z"
   },
   {
    "duration": 8,
    "start_time": "2021-06-10T08:05:00.325Z"
   },
   {
    "duration": 18,
    "start_time": "2021-06-10T08:05:00.335Z"
   },
   {
    "duration": 35,
    "start_time": "2021-06-10T08:05:00.356Z"
   },
   {
    "duration": 5,
    "start_time": "2021-06-10T08:05:00.394Z"
   },
   {
    "duration": 34,
    "start_time": "2021-06-10T08:05:00.401Z"
   },
   {
    "duration": 35,
    "start_time": "2021-06-10T08:05:00.440Z"
   },
   {
    "duration": 20,
    "start_time": "2021-06-10T08:05:00.478Z"
   },
   {
    "duration": 313,
    "start_time": "2021-06-10T08:05:00.501Z"
   },
   {
    "duration": 23,
    "start_time": "2021-06-10T08:05:00.817Z"
   },
   {
    "duration": 24,
    "start_time": "2021-06-10T08:05:00.843Z"
   },
   {
    "duration": 12,
    "start_time": "2021-06-10T08:05:00.886Z"
   },
   {
    "duration": 26,
    "start_time": "2021-06-10T08:05:00.901Z"
   },
   {
    "duration": 25,
    "start_time": "2021-06-10T08:05:00.930Z"
   },
   {
    "duration": 465,
    "start_time": "2021-06-10T08:05:00.958Z"
   },
   {
    "duration": 273,
    "start_time": "2021-06-10T08:05:01.426Z"
   },
   {
    "duration": 9,
    "start_time": "2021-06-10T08:05:01.702Z"
   },
   {
    "duration": 33,
    "start_time": "2021-06-10T08:05:01.714Z"
   },
   {
    "duration": 1379,
    "start_time": "2021-06-10T08:05:01.750Z"
   },
   {
    "duration": 21,
    "start_time": "2021-06-10T08:05:03.131Z"
   },
   {
    "duration": 4,
    "start_time": "2021-06-10T08:06:34.435Z"
   },
   {
    "duration": 1011,
    "start_time": "2021-06-10T08:06:50.874Z"
   },
   {
    "duration": 35,
    "start_time": "2021-06-10T08:06:51.888Z"
   },
   {
    "duration": 16,
    "start_time": "2021-06-10T08:06:51.927Z"
   },
   {
    "duration": 53,
    "start_time": "2021-06-10T08:06:51.947Z"
   },
   {
    "duration": 15,
    "start_time": "2021-06-10T08:06:52.003Z"
   },
   {
    "duration": 9,
    "start_time": "2021-06-10T08:06:52.021Z"
   },
   {
    "duration": 143,
    "start_time": "2021-06-10T08:06:52.033Z"
   },
   {
    "duration": 28,
    "start_time": "2021-06-10T08:06:52.186Z"
   },
   {
    "duration": 18,
    "start_time": "2021-06-10T08:06:52.219Z"
   },
   {
    "duration": 7,
    "start_time": "2021-06-10T08:06:52.241Z"
   },
   {
    "duration": 24,
    "start_time": "2021-06-10T08:06:52.286Z"
   },
   {
    "duration": 30,
    "start_time": "2021-06-10T08:06:52.312Z"
   },
   {
    "duration": 44,
    "start_time": "2021-06-10T08:06:52.344Z"
   },
   {
    "duration": 10,
    "start_time": "2021-06-10T08:06:52.390Z"
   },
   {
    "duration": 12,
    "start_time": "2021-06-10T08:06:52.403Z"
   },
   {
    "duration": 5,
    "start_time": "2021-06-10T08:06:52.417Z"
   },
   {
    "duration": 19,
    "start_time": "2021-06-10T08:06:52.424Z"
   },
   {
    "duration": 9,
    "start_time": "2021-06-10T08:06:52.446Z"
   },
   {
    "duration": 6,
    "start_time": "2021-06-10T08:06:52.486Z"
   },
   {
    "duration": 19,
    "start_time": "2021-06-10T08:06:52.495Z"
   },
   {
    "duration": 5,
    "start_time": "2021-06-10T08:06:52.516Z"
   },
   {
    "duration": 13,
    "start_time": "2021-06-10T08:06:52.524Z"
   },
   {
    "duration": 52,
    "start_time": "2021-06-10T08:06:52.539Z"
   },
   {
    "duration": 6,
    "start_time": "2021-06-10T08:06:52.594Z"
   },
   {
    "duration": 332,
    "start_time": "2021-06-10T08:06:52.603Z"
   },
   {
    "duration": 21,
    "start_time": "2021-06-10T08:06:52.938Z"
   },
   {
    "duration": 34,
    "start_time": "2021-06-10T08:06:52.964Z"
   },
   {
    "duration": 9,
    "start_time": "2021-06-10T08:06:53.001Z"
   },
   {
    "duration": 8,
    "start_time": "2021-06-10T08:06:53.013Z"
   },
   {
    "duration": 13,
    "start_time": "2021-06-10T08:06:53.023Z"
   },
   {
    "duration": 464,
    "start_time": "2021-06-10T08:06:53.038Z"
   },
   {
    "duration": 233,
    "start_time": "2021-06-10T08:06:53.504Z"
   },
   {
    "duration": 10,
    "start_time": "2021-06-10T08:06:53.739Z"
   },
   {
    "duration": 13,
    "start_time": "2021-06-10T08:06:53.752Z"
   },
   {
    "duration": 1781,
    "start_time": "2021-06-10T08:06:53.767Z"
   },
   {
    "duration": 34,
    "start_time": "2021-06-10T08:06:55.551Z"
   },
   {
    "duration": 9,
    "start_time": "2021-06-10T08:13:44.487Z"
   },
   {
    "duration": 211,
    "start_time": "2021-06-10T08:13:45.826Z"
   },
   {
    "duration": 11,
    "start_time": "2021-06-10T08:14:04.744Z"
   },
   {
    "duration": 11,
    "start_time": "2021-06-10T08:14:05.510Z"
   },
   {
    "duration": 1153,
    "start_time": "2021-06-10T08:14:06.760Z"
   },
   {
    "duration": 20,
    "start_time": "2021-06-10T08:15:24.501Z"
   },
   {
    "duration": 436,
    "start_time": "2021-06-10T08:16:14.133Z"
   },
   {
    "duration": 958,
    "start_time": "2021-06-10T08:16:23.288Z"
   },
   {
    "duration": 31,
    "start_time": "2021-06-10T08:16:24.249Z"
   },
   {
    "duration": 17,
    "start_time": "2021-06-10T08:16:24.285Z"
   },
   {
    "duration": 20,
    "start_time": "2021-06-10T08:16:24.304Z"
   },
   {
    "duration": 7,
    "start_time": "2021-06-10T08:16:24.326Z"
   },
   {
    "duration": 6,
    "start_time": "2021-06-10T08:16:24.336Z"
   },
   {
    "duration": 129,
    "start_time": "2021-06-10T08:16:24.385Z"
   },
   {
    "duration": 26,
    "start_time": "2021-06-10T08:16:24.518Z"
   },
   {
    "duration": 40,
    "start_time": "2021-06-10T08:16:24.548Z"
   },
   {
    "duration": 6,
    "start_time": "2021-06-10T08:16:24.591Z"
   },
   {
    "duration": 24,
    "start_time": "2021-06-10T08:16:24.599Z"
   },
   {
    "duration": 60,
    "start_time": "2021-06-10T08:16:24.625Z"
   },
   {
    "duration": 6,
    "start_time": "2021-06-10T08:16:24.687Z"
   },
   {
    "duration": 8,
    "start_time": "2021-06-10T08:16:24.695Z"
   },
   {
    "duration": 10,
    "start_time": "2021-06-10T08:16:24.705Z"
   },
   {
    "duration": 6,
    "start_time": "2021-06-10T08:16:24.717Z"
   },
   {
    "duration": 61,
    "start_time": "2021-06-10T08:16:24.726Z"
   },
   {
    "duration": 8,
    "start_time": "2021-06-10T08:16:24.789Z"
   },
   {
    "duration": 8,
    "start_time": "2021-06-10T08:16:24.800Z"
   },
   {
    "duration": 15,
    "start_time": "2021-06-10T08:16:24.810Z"
   },
   {
    "duration": 7,
    "start_time": "2021-06-10T08:16:24.828Z"
   },
   {
    "duration": 49,
    "start_time": "2021-06-10T08:16:24.838Z"
   },
   {
    "duration": 20,
    "start_time": "2021-06-10T08:16:24.893Z"
   },
   {
    "duration": 7,
    "start_time": "2021-06-10T08:16:24.917Z"
   },
   {
    "duration": 349,
    "start_time": "2021-06-10T08:16:24.927Z"
   },
   {
    "duration": 26,
    "start_time": "2021-06-10T08:16:25.278Z"
   },
   {
    "duration": 16,
    "start_time": "2021-06-10T08:16:25.306Z"
   },
   {
    "duration": 17,
    "start_time": "2021-06-10T08:16:25.325Z"
   },
   {
    "duration": 29,
    "start_time": "2021-06-10T08:16:25.344Z"
   },
   {
    "duration": 22,
    "start_time": "2021-06-10T08:16:25.376Z"
   },
   {
    "duration": 460,
    "start_time": "2021-06-10T08:16:25.401Z"
   },
   {
    "duration": 21,
    "start_time": "2021-06-10T08:16:25.864Z"
   },
   {
    "duration": 251,
    "start_time": "2021-06-10T08:16:25.888Z"
   },
   {
    "duration": 9,
    "start_time": "2021-06-10T08:16:26.141Z"
   },
   {
    "duration": 34,
    "start_time": "2021-06-10T08:16:26.153Z"
   },
   {
    "duration": 1207,
    "start_time": "2021-06-10T08:16:26.190Z"
   },
   {
    "duration": 443,
    "start_time": "2021-06-10T08:16:27.399Z"
   },
   {
    "duration": 6,
    "start_time": "2021-06-10T08:16:53.294Z"
   },
   {
    "duration": 341,
    "start_time": "2021-06-10T08:17:02.109Z"
   },
   {
    "duration": 24,
    "start_time": "2021-06-10T08:17:13.788Z"
   },
   {
    "duration": 31,
    "start_time": "2021-06-10T08:17:27.608Z"
   },
   {
    "duration": 34,
    "start_time": "2021-06-10T08:18:16.154Z"
   },
   {
    "duration": 20,
    "start_time": "2021-06-10T08:19:02.245Z"
   },
   {
    "duration": 5,
    "start_time": "2021-06-10T08:20:46.697Z"
   },
   {
    "duration": 28,
    "start_time": "2021-06-10T08:21:48.490Z"
   },
   {
    "duration": 3,
    "start_time": "2021-06-10T08:24:11.808Z"
   },
   {
    "duration": 28,
    "start_time": "2021-06-10T08:25:44.999Z"
   },
   {
    "duration": 27,
    "start_time": "2021-06-10T08:26:17.659Z"
   },
   {
    "duration": 116,
    "start_time": "2021-06-10T08:26:59.811Z"
   },
   {
    "duration": 12,
    "start_time": "2021-06-10T08:27:05.421Z"
   },
   {
    "duration": 26,
    "start_time": "2021-06-10T08:27:32.554Z"
   },
   {
    "duration": 14,
    "start_time": "2021-06-10T08:27:45.663Z"
   },
   {
    "duration": 770,
    "start_time": "2021-06-10T08:28:00.221Z"
   },
   {
    "duration": 14,
    "start_time": "2021-06-10T08:28:17.767Z"
   },
   {
    "duration": 5,
    "start_time": "2021-06-10T08:28:44.017Z"
   },
   {
    "duration": 17,
    "start_time": "2021-06-10T08:28:55.506Z"
   },
   {
    "duration": 919,
    "start_time": "2021-06-10T08:29:26.190Z"
   },
   {
    "duration": 34,
    "start_time": "2021-06-10T08:29:27.112Z"
   },
   {
    "duration": 16,
    "start_time": "2021-06-10T08:29:27.149Z"
   },
   {
    "duration": 19,
    "start_time": "2021-06-10T08:29:27.187Z"
   },
   {
    "duration": 10,
    "start_time": "2021-06-10T08:29:27.209Z"
   },
   {
    "duration": 6,
    "start_time": "2021-06-10T08:29:27.222Z"
   },
   {
    "duration": 162,
    "start_time": "2021-06-10T08:29:27.231Z"
   },
   {
    "duration": 32,
    "start_time": "2021-06-10T08:29:27.396Z"
   },
   {
    "duration": 16,
    "start_time": "2021-06-10T08:29:27.433Z"
   },
   {
    "duration": 34,
    "start_time": "2021-06-10T08:29:27.453Z"
   },
   {
    "duration": 23,
    "start_time": "2021-06-10T08:29:27.490Z"
   },
   {
    "duration": 28,
    "start_time": "2021-06-10T08:29:27.515Z"
   },
   {
    "duration": 6,
    "start_time": "2021-06-10T08:29:27.545Z"
   },
   {
    "duration": 5,
    "start_time": "2021-06-10T08:29:27.586Z"
   },
   {
    "duration": 11,
    "start_time": "2021-06-10T08:29:27.594Z"
   },
   {
    "duration": 6,
    "start_time": "2021-06-10T08:29:27.607Z"
   },
   {
    "duration": 27,
    "start_time": "2021-06-10T08:29:27.615Z"
   },
   {
    "duration": 42,
    "start_time": "2021-06-10T08:29:27.644Z"
   },
   {
    "duration": 7,
    "start_time": "2021-06-10T08:29:27.688Z"
   },
   {
    "duration": 17,
    "start_time": "2021-06-10T08:29:27.697Z"
   },
   {
    "duration": 6,
    "start_time": "2021-06-10T08:29:27.716Z"
   },
   {
    "duration": 7,
    "start_time": "2021-06-10T08:29:27.724Z"
   },
   {
    "duration": 55,
    "start_time": "2021-06-10T08:29:27.734Z"
   },
   {
    "duration": 6,
    "start_time": "2021-06-10T08:29:27.791Z"
   },
   {
    "duration": 328,
    "start_time": "2021-06-10T08:29:27.799Z"
   },
   {
    "duration": 23,
    "start_time": "2021-06-10T08:29:28.130Z"
   },
   {
    "duration": 39,
    "start_time": "2021-06-10T08:29:28.159Z"
   },
   {
    "duration": 9,
    "start_time": "2021-06-10T08:29:28.202Z"
   },
   {
    "duration": 9,
    "start_time": "2021-06-10T08:29:28.214Z"
   },
   {
    "duration": 7,
    "start_time": "2021-06-10T08:29:28.226Z"
   },
   {
    "duration": 469,
    "start_time": "2021-06-10T08:29:28.235Z"
   },
   {
    "duration": 9,
    "start_time": "2021-06-10T08:29:28.706Z"
   },
   {
    "duration": 227,
    "start_time": "2021-06-10T08:29:28.717Z"
   },
   {
    "duration": 10,
    "start_time": "2021-06-10T08:29:28.946Z"
   },
   {
    "duration": 34,
    "start_time": "2021-06-10T08:29:28.958Z"
   },
   {
    "duration": 1434,
    "start_time": "2021-06-10T08:29:28.995Z"
   },
   {
    "duration": 6,
    "start_time": "2021-06-10T08:29:30.431Z"
   },
   {
    "duration": 32,
    "start_time": "2021-06-10T08:29:30.439Z"
   },
   {
    "duration": 16,
    "start_time": "2021-06-10T08:29:30.473Z"
   },
   {
    "duration": 33,
    "start_time": "2021-06-10T08:29:30.491Z"
   },
   {
    "duration": 40,
    "start_time": "2021-06-10T08:29:30.527Z"
   },
   {
    "duration": 14,
    "start_time": "2021-06-10T08:29:53.835Z"
   },
   {
    "duration": 454,
    "start_time": "2021-06-10T08:30:17.940Z"
   },
   {
    "duration": 25,
    "start_time": "2021-06-10T08:30:49.304Z"
   },
   {
    "duration": 21,
    "start_time": "2021-06-10T08:33:25.929Z"
   },
   {
    "duration": 25,
    "start_time": "2021-06-10T08:33:56.041Z"
   },
   {
    "duration": 25,
    "start_time": "2021-06-10T08:34:08.678Z"
   },
   {
    "duration": 13,
    "start_time": "2021-06-10T08:34:32.050Z"
   },
   {
    "duration": 13,
    "start_time": "2021-06-10T08:36:20.387Z"
   },
   {
    "duration": 340,
    "start_time": "2021-06-10T08:36:24.247Z"
   },
   {
    "duration": 323,
    "start_time": "2021-06-10T08:37:16.627Z"
   },
   {
    "duration": 558,
    "start_time": "2021-06-10T08:38:00.396Z"
   },
   {
    "duration": 13,
    "start_time": "2021-06-10T08:38:12.005Z"
   },
   {
    "duration": 14,
    "start_time": "2021-06-10T08:39:16.479Z"
   },
   {
    "duration": 303,
    "start_time": "2021-06-10T08:39:34.927Z"
   },
   {
    "duration": 311,
    "start_time": "2021-06-10T08:39:59.585Z"
   },
   {
    "duration": 159,
    "start_time": "2021-06-10T08:41:04.601Z"
   },
   {
    "duration": 164,
    "start_time": "2021-06-10T08:41:07.349Z"
   },
   {
    "duration": 97,
    "start_time": "2021-06-10T08:42:11.287Z"
   },
   {
    "duration": 152,
    "start_time": "2021-06-10T08:42:15.852Z"
   },
   {
    "duration": 156,
    "start_time": "2021-06-10T08:42:29.375Z"
   },
   {
    "duration": 8,
    "start_time": "2021-06-10T08:42:49.369Z"
   },
   {
    "duration": 15,
    "start_time": "2021-06-10T08:42:52.489Z"
   },
   {
    "duration": 15,
    "start_time": "2021-06-10T08:43:03.321Z"
   },
   {
    "duration": 153,
    "start_time": "2021-06-10T08:43:04.007Z"
   },
   {
    "duration": 15,
    "start_time": "2021-06-10T08:48:20.357Z"
   },
   {
    "duration": 16,
    "start_time": "2021-06-10T08:48:20.834Z"
   },
   {
    "duration": 7619,
    "start_time": "2021-06-10T08:48:40.162Z"
   },
   {
    "duration": 7765,
    "start_time": "2021-06-10T08:49:13.629Z"
   },
   {
    "duration": 11,
    "start_time": "2021-06-10T08:49:25.055Z"
   },
   {
    "duration": 12,
    "start_time": "2021-06-10T08:49:36.873Z"
   },
   {
    "duration": 19,
    "start_time": "2021-06-10T08:49:57.379Z"
   },
   {
    "duration": 17,
    "start_time": "2021-06-10T08:50:12.509Z"
   },
   {
    "duration": 119,
    "start_time": "2021-06-10T08:50:39.584Z"
   },
   {
    "duration": 299,
    "start_time": "2021-06-10T08:50:43.315Z"
   },
   {
    "duration": 11,
    "start_time": "2021-06-10T08:50:49.204Z"
   },
   {
    "duration": 123,
    "start_time": "2021-06-10T08:50:51.089Z"
   },
   {
    "duration": 842,
    "start_time": "2021-06-10T08:56:02.301Z"
   },
   {
    "duration": 578,
    "start_time": "2021-06-10T08:56:13.173Z"
   },
   {
    "duration": 187,
    "start_time": "2021-06-10T08:59:13.613Z"
   },
   {
    "duration": 4,
    "start_time": "2021-06-10T08:59:17.615Z"
   },
   {
    "duration": 9922,
    "start_time": "2021-06-10T08:59:59.342Z"
   },
   {
    "duration": 122,
    "start_time": "2021-06-10T09:00:45.443Z"
   },
   {
    "duration": 148,
    "start_time": "2021-06-10T09:01:00.206Z"
   },
   {
    "duration": 114,
    "start_time": "2021-06-10T09:01:05.375Z"
   },
   {
    "duration": 106,
    "start_time": "2021-06-10T09:03:07.097Z"
   },
   {
    "duration": 111,
    "start_time": "2021-06-10T09:03:19.446Z"
   },
   {
    "duration": 109,
    "start_time": "2021-06-10T09:03:31.301Z"
   },
   {
    "duration": 102,
    "start_time": "2021-06-10T09:03:36.324Z"
   },
   {
    "duration": 119,
    "start_time": "2021-06-10T09:03:39.319Z"
   },
   {
    "duration": 106,
    "start_time": "2021-06-10T09:03:42.613Z"
   },
   {
    "duration": 598,
    "start_time": "2021-06-10T09:03:56.900Z"
   },
   {
    "duration": 560,
    "start_time": "2021-06-10T09:04:16.244Z"
   },
   {
    "duration": 183,
    "start_time": "2021-06-10T09:06:16.188Z"
   },
   {
    "duration": 1043,
    "start_time": "2021-06-10T09:06:24.037Z"
   },
   {
    "duration": 134,
    "start_time": "2021-06-10T09:07:21.386Z"
   },
   {
    "duration": 133,
    "start_time": "2021-06-10T09:07:25.519Z"
   },
   {
    "duration": 6,
    "start_time": "2021-06-10T09:08:17.128Z"
   },
   {
    "duration": 7,
    "start_time": "2021-06-10T09:08:31.470Z"
   },
   {
    "duration": 62,
    "start_time": "2021-06-10T09:09:19.154Z"
   },
   {
    "duration": 812,
    "start_time": "2021-06-10T09:09:56.360Z"
   },
   {
    "duration": 163,
    "start_time": "2021-06-10T09:10:25.695Z"
   },
   {
    "duration": 1036,
    "start_time": "2021-06-10T09:10:46.319Z"
   },
   {
    "duration": 1010,
    "start_time": "2021-06-10T09:11:01.039Z"
   },
   {
    "duration": 171,
    "start_time": "2021-06-10T09:11:13.922Z"
   },
   {
    "duration": 125,
    "start_time": "2021-06-10T09:11:18.881Z"
   },
   {
    "duration": 111,
    "start_time": "2021-06-10T09:11:43.836Z"
   },
   {
    "duration": 131,
    "start_time": "2021-06-10T09:12:02.069Z"
   },
   {
    "duration": 128,
    "start_time": "2021-06-10T09:12:16.385Z"
   },
   {
    "duration": 137,
    "start_time": "2021-06-10T09:12:29.775Z"
   },
   {
    "duration": 121,
    "start_time": "2021-06-10T09:12:34.432Z"
   },
   {
    "duration": 210,
    "start_time": "2021-06-10T09:12:37.239Z"
   },
   {
    "duration": 638,
    "start_time": "2021-06-10T09:14:21.219Z"
   },
   {
    "duration": 538,
    "start_time": "2021-06-10T09:15:02.450Z"
   },
   {
    "duration": 441,
    "start_time": "2021-06-10T09:16:09.631Z"
   },
   {
    "duration": 519,
    "start_time": "2021-06-10T09:16:13.957Z"
   },
   {
    "duration": 533,
    "start_time": "2021-06-10T09:16:18.123Z"
   },
   {
    "duration": 1575,
    "start_time": "2021-06-10T09:20:26.161Z"
   },
   {
    "duration": 1368,
    "start_time": "2021-06-10T09:20:58.103Z"
   },
   {
    "duration": 1556,
    "start_time": "2021-06-10T09:21:26.927Z"
   },
   {
    "duration": 627,
    "start_time": "2021-06-10T09:21:48.583Z"
   },
   {
    "duration": 533,
    "start_time": "2021-06-10T09:22:49.442Z"
   },
   {
    "duration": 511,
    "start_time": "2021-06-10T09:22:59.421Z"
   },
   {
    "duration": 9,
    "start_time": "2021-06-10T09:25:14.396Z"
   },
   {
    "duration": 328,
    "start_time": "2021-06-10T09:25:21.790Z"
   },
   {
    "duration": 144,
    "start_time": "2021-06-10T09:25:26.268Z"
   },
   {
    "duration": -233,
    "start_time": "2021-06-10T09:25:42.101Z"
   },
   {
    "duration": 225,
    "start_time": "2021-06-10T09:26:10.719Z"
   },
   {
    "duration": 9,
    "start_time": "2021-06-10T09:26:31.204Z"
   },
   {
    "duration": 311,
    "start_time": "2021-06-10T09:26:36.973Z"
   },
   {
    "duration": 143,
    "start_time": "2021-06-10T09:26:40.644Z"
   },
   {
    "duration": 97,
    "start_time": "2021-06-10T09:26:53.398Z"
   },
   {
    "duration": 112,
    "start_time": "2021-06-10T09:26:56.418Z"
   },
   {
    "duration": 4,
    "start_time": "2021-06-10T09:26:58.791Z"
   },
   {
    "duration": 134,
    "start_time": "2021-06-10T09:27:15.933Z"
   },
   {
    "duration": 19,
    "start_time": "2021-06-10T09:28:42.804Z"
   },
   {
    "duration": 14,
    "start_time": "2021-06-10T09:28:43.274Z"
   },
   {
    "duration": 6,
    "start_time": "2021-06-10T09:28:44.196Z"
   },
   {
    "duration": 140,
    "start_time": "2021-06-10T09:28:45.410Z"
   },
   {
    "duration": 27,
    "start_time": "2021-06-10T09:29:39.789Z"
   },
   {
    "duration": 235,
    "start_time": "2021-06-10T09:31:08.782Z"
   },
   {
    "duration": 9,
    "start_time": "2021-06-10T09:31:32.971Z"
   },
   {
    "duration": 316,
    "start_time": "2021-06-10T09:31:53.011Z"
   },
   {
    "duration": 5,
    "start_time": "2021-06-10T09:42:46.841Z"
   },
   {
    "duration": 204,
    "start_time": "2021-06-10T09:42:55.009Z"
   },
   {
    "duration": 126,
    "start_time": "2021-06-10T09:43:27.647Z"
   },
   {
    "duration": 314,
    "start_time": "2021-06-10T09:43:34.459Z"
   },
   {
    "duration": 11122,
    "start_time": "2021-06-10T09:43:42.287Z"
   },
   {
    "duration": 137,
    "start_time": "2021-06-10T09:43:55.801Z"
   },
   {
    "duration": 138,
    "start_time": "2021-06-10T09:44:14.815Z"
   },
   {
    "duration": 543,
    "start_time": "2021-06-10T09:44:57.764Z"
   },
   {
    "duration": 1203,
    "start_time": "2021-06-10T09:45:21.018Z"
   },
   {
    "duration": 64,
    "start_time": "2021-06-10T09:45:22.225Z"
   },
   {
    "duration": 21,
    "start_time": "2021-06-10T09:45:22.293Z"
   },
   {
    "duration": 45,
    "start_time": "2021-06-10T09:45:22.317Z"
   },
   {
    "duration": 22,
    "start_time": "2021-06-10T09:45:22.365Z"
   },
   {
    "duration": 5,
    "start_time": "2021-06-10T09:45:22.390Z"
   },
   {
    "duration": 154,
    "start_time": "2021-06-10T09:45:22.398Z"
   },
   {
    "duration": 63,
    "start_time": "2021-06-10T09:45:22.556Z"
   },
   {
    "duration": 26,
    "start_time": "2021-06-10T09:45:22.623Z"
   },
   {
    "duration": 8,
    "start_time": "2021-06-10T09:45:22.653Z"
   },
   {
    "duration": 26,
    "start_time": "2021-06-10T09:45:22.687Z"
   },
   {
    "duration": 72,
    "start_time": "2021-06-10T09:45:22.716Z"
   },
   {
    "duration": 8,
    "start_time": "2021-06-10T09:45:22.791Z"
   },
   {
    "duration": 16,
    "start_time": "2021-06-10T09:45:22.802Z"
   },
   {
    "duration": 20,
    "start_time": "2021-06-10T09:45:22.821Z"
   },
   {
    "duration": 6,
    "start_time": "2021-06-10T09:45:22.844Z"
   },
   {
    "duration": 47,
    "start_time": "2021-06-10T09:45:22.853Z"
   },
   {
    "duration": 10,
    "start_time": "2021-06-10T09:45:22.903Z"
   },
   {
    "duration": 14,
    "start_time": "2021-06-10T09:45:22.915Z"
   },
   {
    "duration": 54,
    "start_time": "2021-06-10T09:45:22.932Z"
   },
   {
    "duration": 9,
    "start_time": "2021-06-10T09:45:22.989Z"
   },
   {
    "duration": 8,
    "start_time": "2021-06-10T09:45:23.002Z"
   },
   {
    "duration": 66,
    "start_time": "2021-06-10T09:45:23.019Z"
   },
   {
    "duration": 7,
    "start_time": "2021-06-10T09:45:23.089Z"
   },
   {
    "duration": 353,
    "start_time": "2021-06-10T09:45:23.100Z"
   },
   {
    "duration": 50,
    "start_time": "2021-06-10T09:45:23.457Z"
   },
   {
    "duration": 30,
    "start_time": "2021-06-10T09:45:23.510Z"
   },
   {
    "duration": 13,
    "start_time": "2021-06-10T09:45:23.544Z"
   },
   {
    "duration": 12,
    "start_time": "2021-06-10T09:45:23.585Z"
   },
   {
    "duration": 23,
    "start_time": "2021-06-10T09:45:23.601Z"
   },
   {
    "duration": 747,
    "start_time": "2021-06-10T09:45:23.628Z"
   },
   {
    "duration": 17,
    "start_time": "2021-06-10T09:45:24.378Z"
   },
   {
    "duration": 387,
    "start_time": "2021-06-10T09:45:24.398Z"
   },
   {
    "duration": 15,
    "start_time": "2021-06-10T09:45:24.789Z"
   },
   {
    "duration": 30,
    "start_time": "2021-06-10T09:45:24.807Z"
   },
   {
    "duration": 2113,
    "start_time": "2021-06-10T09:45:24.840Z"
   },
   {
    "duration": 8,
    "start_time": "2021-06-10T09:45:26.956Z"
   },
   {
    "duration": 32,
    "start_time": "2021-06-10T09:45:26.987Z"
   },
   {
    "duration": 7,
    "start_time": "2021-06-10T09:45:27.022Z"
   },
   {
    "duration": 17,
    "start_time": "2021-06-10T09:45:27.033Z"
   },
   {
    "duration": 13,
    "start_time": "2021-06-10T09:45:27.085Z"
   },
   {
    "duration": 11,
    "start_time": "2021-06-10T09:45:27.101Z"
   },
   {
    "duration": 217,
    "start_time": "2021-06-10T09:45:27.115Z"
   },
   {
    "duration": 4,
    "start_time": "2021-06-10T09:45:27.336Z"
   },
   {
    "duration": 5,
    "start_time": "2021-06-10T09:45:27.346Z"
   },
   {
    "duration": 50,
    "start_time": "2021-06-10T09:45:27.354Z"
   },
   {
    "duration": 9,
    "start_time": "2021-06-10T09:45:27.407Z"
   },
   {
    "duration": 8,
    "start_time": "2021-06-10T09:45:27.420Z"
   },
   {
    "duration": 186,
    "start_time": "2021-06-10T09:45:27.431Z"
   },
   {
    "duration": 210,
    "start_time": "2021-06-10T09:45:27.620Z"
   },
   {
    "duration": 212,
    "start_time": "2021-06-10T09:45:27.833Z"
   },
   {
    "duration": 550,
    "start_time": "2021-06-10T09:45:28.048Z"
   },
   {
    "duration": 325,
    "start_time": "2021-06-10T09:45:55.990Z"
   },
   {
    "duration": 6,
    "start_time": "2021-06-10T09:46:14.041Z"
   },
   {
    "duration": 19,
    "start_time": "2021-06-10T09:46:19.769Z"
   },
   {
    "duration": 41,
    "start_time": "2021-06-10T09:47:10.616Z"
   },
   {
    "duration": 6,
    "start_time": "2021-06-10T09:59:53.634Z"
   },
   {
    "duration": 347,
    "start_time": "2021-06-10T10:01:29.632Z"
   },
   {
    "duration": 20,
    "start_time": "2021-06-10T10:01:33.433Z"
   },
   {
    "duration": 120,
    "start_time": "2021-06-10T10:02:27.059Z"
   },
   {
    "duration": 105,
    "start_time": "2021-06-10T10:02:29.843Z"
   },
   {
    "duration": 347,
    "start_time": "2021-06-10T10:02:32.272Z"
   },
   {
    "duration": 97,
    "start_time": "2021-06-10T10:02:35.041Z"
   },
   {
    "duration": 8,
    "start_time": "2021-06-10T10:02:37.903Z"
   },
   {
    "duration": 7,
    "start_time": "2021-06-10T10:02:47.415Z"
   },
   {
    "duration": 359,
    "start_time": "2021-06-10T10:03:03.137Z"
   },
   {
    "duration": 434,
    "start_time": "2021-06-10T10:03:11.467Z"
   },
   {
    "duration": 34,
    "start_time": "2021-06-10T10:03:18.119Z"
   },
   {
    "duration": 10,
    "start_time": "2021-06-10T10:03:30.151Z"
   },
   {
    "duration": 307,
    "start_time": "2021-06-10T10:03:39.328Z"
   },
   {
    "duration": 319,
    "start_time": "2021-06-10T10:03:54.148Z"
   },
   {
    "duration": 323,
    "start_time": "2021-06-10T10:04:00.347Z"
   },
   {
    "duration": 333,
    "start_time": "2021-06-10T10:04:15.189Z"
   },
   {
    "duration": 313,
    "start_time": "2021-06-10T10:04:25.942Z"
   },
   {
    "duration": 13,
    "start_time": "2021-06-10T10:04:44.864Z"
   },
   {
    "duration": 332,
    "start_time": "2021-06-10T10:04:59.936Z"
   },
   {
    "duration": 233,
    "start_time": "2021-06-10T10:05:03.648Z"
   },
   {
    "duration": 286,
    "start_time": "2021-06-10T10:05:36.360Z"
   },
   {
    "duration": 342,
    "start_time": "2021-06-10T10:05:50.050Z"
   },
   {
    "duration": 238,
    "start_time": "2021-06-10T10:05:58.091Z"
   },
   {
    "duration": 8,
    "start_time": "2021-06-10T10:16:58.028Z"
   },
   {
    "duration": 339,
    "start_time": "2021-06-10T10:20:50.957Z"
   },
   {
    "duration": 315,
    "start_time": "2021-06-10T10:20:56.755Z"
   },
   {
    "duration": 315,
    "start_time": "2021-06-10T10:21:03.565Z"
   },
   {
    "duration": 234,
    "start_time": "2021-06-10T10:21:16.255Z"
   },
   {
    "duration": 16,
    "start_time": "2021-06-10T10:22:57.261Z"
   },
   {
    "duration": 16,
    "start_time": "2021-06-10T10:41:00.948Z"
   },
   {
    "duration": 309,
    "start_time": "2021-06-10T10:41:43.307Z"
   },
   {
    "duration": 546,
    "start_time": "2021-06-10T10:42:05.948Z"
   },
   {
    "duration": 18,
    "start_time": "2021-06-10T10:42:11.504Z"
   },
   {
    "duration": 18,
    "start_time": "2021-06-10T10:43:08.669Z"
   },
   {
    "duration": 18,
    "start_time": "2021-06-10T10:43:27.268Z"
   },
   {
    "duration": 11,
    "start_time": "2021-06-10T10:43:36.954Z"
   },
   {
    "duration": 11,
    "start_time": "2021-06-10T10:43:50.049Z"
   },
   {
    "duration": 282,
    "start_time": "2021-06-10T10:45:19.963Z"
   },
   {
    "duration": 284,
    "start_time": "2021-06-10T10:45:36.485Z"
   },
   {
    "duration": 216,
    "start_time": "2021-06-10T10:46:01.252Z"
   },
   {
    "duration": 286,
    "start_time": "2021-06-10T10:46:18.523Z"
   },
   {
    "duration": 192,
    "start_time": "2021-06-10T10:46:30.097Z"
   },
   {
    "duration": 15,
    "start_time": "2021-06-10T10:48:28.038Z"
   },
   {
    "duration": 16,
    "start_time": "2021-06-10T10:48:40.364Z"
   },
   {
    "duration": 17,
    "start_time": "2021-06-10T10:50:25.788Z"
   },
   {
    "duration": 1425,
    "start_time": "2021-06-10T14:27:21.765Z"
   },
   {
    "duration": 33,
    "start_time": "2021-06-10T14:27:23.193Z"
   },
   {
    "duration": 14,
    "start_time": "2021-06-10T14:27:23.229Z"
   },
   {
    "duration": 19,
    "start_time": "2021-06-10T14:27:23.246Z"
   },
   {
    "duration": 38,
    "start_time": "2021-06-10T14:27:23.267Z"
   },
   {
    "duration": 6,
    "start_time": "2021-06-10T14:27:23.307Z"
   },
   {
    "duration": 134,
    "start_time": "2021-06-10T14:27:23.316Z"
   },
   {
    "duration": 26,
    "start_time": "2021-06-10T14:27:23.454Z"
   },
   {
    "duration": 32,
    "start_time": "2021-06-10T14:27:23.483Z"
   },
   {
    "duration": 6,
    "start_time": "2021-06-10T14:27:23.518Z"
   },
   {
    "duration": 22,
    "start_time": "2021-06-10T14:27:23.526Z"
   },
   {
    "duration": 77,
    "start_time": "2021-06-10T14:27:23.551Z"
   },
   {
    "duration": 6,
    "start_time": "2021-06-10T14:27:23.631Z"
   },
   {
    "duration": 5,
    "start_time": "2021-06-10T14:27:23.639Z"
   },
   {
    "duration": 9,
    "start_time": "2021-06-10T14:27:23.646Z"
   },
   {
    "duration": 5,
    "start_time": "2021-06-10T14:27:23.657Z"
   },
   {
    "duration": 49,
    "start_time": "2021-06-10T14:27:23.664Z"
   },
   {
    "duration": 8,
    "start_time": "2021-06-10T14:27:23.715Z"
   },
   {
    "duration": 10,
    "start_time": "2021-06-10T14:27:23.725Z"
   },
   {
    "duration": 22,
    "start_time": "2021-06-10T14:27:23.737Z"
   },
   {
    "duration": 5,
    "start_time": "2021-06-10T14:27:23.761Z"
   },
   {
    "duration": 7,
    "start_time": "2021-06-10T14:27:23.800Z"
   },
   {
    "duration": 21,
    "start_time": "2021-06-10T14:27:23.813Z"
   },
   {
    "duration": 5,
    "start_time": "2021-06-10T14:27:23.838Z"
   },
   {
    "duration": 343,
    "start_time": "2021-06-10T14:27:23.846Z"
   },
   {
    "duration": 27,
    "start_time": "2021-06-10T14:27:24.191Z"
   },
   {
    "duration": 15,
    "start_time": "2021-06-10T14:27:24.220Z"
   },
   {
    "duration": 8,
    "start_time": "2021-06-10T14:27:24.238Z"
   },
   {
    "duration": 10,
    "start_time": "2021-06-10T14:27:24.248Z"
   },
   {
    "duration": 42,
    "start_time": "2021-06-10T14:27:24.261Z"
   },
   {
    "duration": 456,
    "start_time": "2021-06-10T14:27:24.306Z"
   },
   {
    "duration": 8,
    "start_time": "2021-06-10T14:27:24.765Z"
   },
   {
    "duration": 230,
    "start_time": "2021-06-10T14:27:24.775Z"
   },
   {
    "duration": 10,
    "start_time": "2021-06-10T14:27:25.008Z"
   },
   {
    "duration": 16,
    "start_time": "2021-06-10T14:27:25.020Z"
   },
   {
    "duration": 1432,
    "start_time": "2021-06-10T14:27:25.039Z"
   },
   {
    "duration": 6,
    "start_time": "2021-06-10T14:27:26.473Z"
   },
   {
    "duration": 37,
    "start_time": "2021-06-10T14:27:26.481Z"
   },
   {
    "duration": 5,
    "start_time": "2021-06-10T14:27:26.520Z"
   },
   {
    "duration": 17,
    "start_time": "2021-06-10T14:27:26.527Z"
   },
   {
    "duration": 11,
    "start_time": "2021-06-10T14:27:26.547Z"
   },
   {
    "duration": 41,
    "start_time": "2021-06-10T14:27:26.560Z"
   },
   {
    "duration": 152,
    "start_time": "2021-06-10T14:27:26.603Z"
   },
   {
    "duration": 3,
    "start_time": "2021-06-10T14:27:26.757Z"
   },
   {
    "duration": 5,
    "start_time": "2021-06-10T14:27:26.763Z"
   },
   {
    "duration": 40,
    "start_time": "2021-06-10T14:27:26.771Z"
   },
   {
    "duration": 8,
    "start_time": "2021-06-10T14:27:26.813Z"
   },
   {
    "duration": 7,
    "start_time": "2021-06-10T14:27:26.823Z"
   },
   {
    "duration": 171,
    "start_time": "2021-06-10T14:27:26.833Z"
   },
   {
    "duration": 218,
    "start_time": "2021-06-10T14:27:27.007Z"
   },
   {
    "duration": 153,
    "start_time": "2021-06-10T14:27:27.228Z"
   },
   {
    "duration": 6,
    "start_time": "2021-06-10T14:27:27.383Z"
   },
   {
    "duration": 6,
    "start_time": "2021-06-10T14:27:27.400Z"
   },
   {
    "duration": 439,
    "start_time": "2021-06-10T14:27:27.410Z"
   },
   {
    "duration": 241,
    "start_time": "2021-06-10T14:27:27.852Z"
   },
   {
    "duration": 318,
    "start_time": "2021-06-10T14:27:28.096Z"
   },
   {
    "duration": 240,
    "start_time": "2021-06-10T14:27:28.417Z"
   },
   {
    "duration": 15,
    "start_time": "2021-06-10T14:27:28.660Z"
   },
   {
    "duration": 31,
    "start_time": "2021-06-10T14:27:28.678Z"
   },
   {
    "duration": 17,
    "start_time": "2021-06-10T14:27:28.711Z"
   },
   {
    "duration": 333,
    "start_time": "2021-06-10T14:27:28.731Z"
   },
   {
    "duration": 236,
    "start_time": "2021-06-10T14:27:29.066Z"
   },
   {
    "duration": 286,
    "start_time": "2021-06-10T14:27:29.305Z"
   },
   {
    "duration": 328,
    "start_time": "2021-06-10T14:27:29.600Z"
   },
   {
    "duration": 27,
    "start_time": "2021-06-10T14:27:29.932Z"
   },
   {
    "duration": 41,
    "start_time": "2021-06-10T14:27:29.962Z"
   },
   {
    "duration": 24,
    "start_time": "2021-06-10T14:27:30.006Z"
   },
   {
    "duration": 1392,
    "start_time": "2021-06-10T14:32:56.430Z"
   },
   {
    "duration": 37,
    "start_time": "2021-06-10T14:32:57.825Z"
   },
   {
    "duration": 40,
    "start_time": "2021-06-10T14:32:57.866Z"
   },
   {
    "duration": 13,
    "start_time": "2021-06-10T14:33:10.165Z"
   },
   {
    "duration": 1321,
    "start_time": "2021-06-10T14:35:52.175Z"
   },
   {
    "duration": 32,
    "start_time": "2021-06-10T14:35:53.499Z"
   },
   {
    "duration": 14,
    "start_time": "2021-06-10T14:35:53.534Z"
   },
   {
    "duration": 19,
    "start_time": "2021-06-10T14:35:53.680Z"
   },
   {
    "duration": 80,
    "start_time": "2021-06-10T14:38:52.990Z"
   },
   {
    "duration": 91,
    "start_time": "2021-06-10T14:38:57.321Z"
   },
   {
    "duration": 100,
    "start_time": "2021-06-10T14:39:32.308Z"
   },
   {
    "duration": 7,
    "start_time": "2021-06-10T14:39:53.289Z"
   },
   {
    "duration": 7,
    "start_time": "2021-06-10T14:40:00.351Z"
   },
   {
    "duration": 7,
    "start_time": "2021-06-10T14:40:18.969Z"
   },
   {
    "duration": 12,
    "start_time": "2021-06-10T14:41:07.166Z"
   },
   {
    "duration": 396,
    "start_time": "2021-06-10T14:41:58.404Z"
   },
   {
    "duration": 13,
    "start_time": "2021-06-10T14:43:08.577Z"
   },
   {
    "duration": 30,
    "start_time": "2021-06-10T14:43:25.542Z"
   },
   {
    "duration": 38,
    "start_time": "2021-06-10T14:43:40.620Z"
   },
   {
    "duration": 268,
    "start_time": "2021-06-10T14:48:39.709Z"
   },
   {
    "duration": 5,
    "start_time": "2021-06-10T14:48:43.757Z"
   },
   {
    "duration": 110,
    "start_time": "2021-06-10T14:48:44.236Z"
   },
   {
    "duration": 30,
    "start_time": "2021-06-10T14:50:12.958Z"
   },
   {
    "duration": 36,
    "start_time": "2021-06-10T14:50:46.572Z"
   },
   {
    "duration": 19,
    "start_time": "2021-06-10T14:50:58.968Z"
   },
   {
    "duration": 26,
    "start_time": "2021-06-10T14:51:17.114Z"
   },
   {
    "duration": 26,
    "start_time": "2021-06-10T14:52:02.487Z"
   },
   {
    "duration": 7,
    "start_time": "2021-06-10T15:00:03.788Z"
   },
   {
    "duration": 12,
    "start_time": "2021-06-10T15:01:57.373Z"
   },
   {
    "duration": 28,
    "start_time": "2021-06-10T15:01:58.221Z"
   },
   {
    "duration": 20,
    "start_time": "2021-06-10T15:02:07.090Z"
   },
   {
    "duration": 7,
    "start_time": "2021-06-10T15:08:59.859Z"
   },
   {
    "duration": 5,
    "start_time": "2021-06-10T15:10:01.431Z"
   },
   {
    "duration": 9,
    "start_time": "2021-06-10T15:10:02.316Z"
   },
   {
    "duration": 5,
    "start_time": "2021-06-10T15:10:02.738Z"
   },
   {
    "duration": 16,
    "start_time": "2021-06-10T15:10:03.433Z"
   },
   {
    "duration": 1363,
    "start_time": "2021-06-10T15:11:00.941Z"
   },
   {
    "duration": 33,
    "start_time": "2021-06-10T15:11:02.307Z"
   },
   {
    "duration": 25,
    "start_time": "2021-06-10T15:11:02.343Z"
   },
   {
    "duration": 37,
    "start_time": "2021-06-10T15:11:02.371Z"
   },
   {
    "duration": 7,
    "start_time": "2021-06-10T15:11:03.025Z"
   },
   {
    "duration": 40,
    "start_time": "2021-06-10T15:11:03.452Z"
   },
   {
    "duration": 5,
    "start_time": "2021-06-10T15:11:03.905Z"
   },
   {
    "duration": 117,
    "start_time": "2021-06-10T15:11:04.299Z"
   },
   {
    "duration": 30,
    "start_time": "2021-06-10T15:11:05.971Z"
   },
   {
    "duration": 6,
    "start_time": "2021-06-10T15:11:06.834Z"
   },
   {
    "duration": 14,
    "start_time": "2021-06-10T15:11:07.682Z"
   },
   {
    "duration": 22,
    "start_time": "2021-06-10T15:11:08.501Z"
   },
   {
    "duration": 7,
    "start_time": "2021-06-10T15:11:09.708Z"
   },
   {
    "duration": 5,
    "start_time": "2021-06-10T15:11:10.990Z"
   },
   {
    "duration": 6,
    "start_time": "2021-06-10T15:11:11.625Z"
   },
   {
    "duration": 16,
    "start_time": "2021-06-10T15:12:04.998Z"
   },
   {
    "duration": 16,
    "start_time": "2021-06-10T15:13:36.816Z"
   },
   {
    "duration": 10,
    "start_time": "2021-06-10T15:13:51.776Z"
   },
   {
    "duration": 13,
    "start_time": "2021-06-10T15:14:02.561Z"
   },
   {
    "duration": 8,
    "start_time": "2021-06-10T15:15:48.664Z"
   },
   {
    "duration": 6,
    "start_time": "2021-06-10T15:17:20.646Z"
   },
   {
    "duration": 15,
    "start_time": "2021-06-10T15:17:44.716Z"
   },
   {
    "duration": 7,
    "start_time": "2021-06-10T15:19:10.915Z"
   },
   {
    "duration": 23,
    "start_time": "2021-06-10T15:19:11.312Z"
   },
   {
    "duration": 301,
    "start_time": "2021-06-10T15:21:14.073Z"
   },
   {
    "duration": 299,
    "start_time": "2021-06-10T15:21:28.633Z"
   },
   {
    "duration": 274,
    "start_time": "2021-06-10T15:21:37.115Z"
   },
   {
    "duration": 303,
    "start_time": "2021-06-10T15:23:09.799Z"
   },
   {
    "duration": 299,
    "start_time": "2021-06-10T15:23:22.176Z"
   },
   {
    "duration": 292,
    "start_time": "2021-06-10T15:27:39.182Z"
   },
   {
    "duration": 93,
    "start_time": "2021-06-10T15:30:30.477Z"
   },
   {
    "duration": 87,
    "start_time": "2021-06-10T15:30:40.618Z"
   },
   {
    "duration": 86,
    "start_time": "2021-06-10T15:30:44.236Z"
   },
   {
    "duration": 302,
    "start_time": "2021-06-10T15:30:52.512Z"
   },
   {
    "duration": 88,
    "start_time": "2021-06-10T15:30:56.096Z"
   },
   {
    "duration": 106,
    "start_time": "2021-06-10T15:31:16.114Z"
   },
   {
    "duration": 94,
    "start_time": "2021-06-10T15:31:19.206Z"
   },
   {
    "duration": 96,
    "start_time": "2021-06-10T15:31:23.362Z"
   },
   {
    "duration": 298,
    "start_time": "2021-06-10T15:31:29.842Z"
   },
   {
    "duration": 23,
    "start_time": "2021-06-10T15:36:06.133Z"
   },
   {
    "duration": 21,
    "start_time": "2021-06-10T15:36:14.479Z"
   },
   {
    "duration": 27,
    "start_time": "2021-06-10T15:37:26.968Z"
   },
   {
    "duration": 25,
    "start_time": "2021-06-10T15:38:37.142Z"
   },
   {
    "duration": 80,
    "start_time": "2021-06-10T15:40:49.608Z"
   },
   {
    "duration": 27,
    "start_time": "2021-06-10T15:40:55.745Z"
   },
   {
    "duration": 13,
    "start_time": "2021-06-10T15:41:04.290Z"
   },
   {
    "duration": 4,
    "start_time": "2021-06-10T15:41:05.286Z"
   },
   {
    "duration": 6904,
    "start_time": "2021-06-10T15:41:20.451Z"
   },
   {
    "duration": 429,
    "start_time": "2021-06-10T15:41:51.220Z"
   },
   {
    "duration": 473,
    "start_time": "2021-06-10T15:42:04.770Z"
   },
   {
    "duration": 24,
    "start_time": "2021-06-10T15:42:19.198Z"
   },
   {
    "duration": 25,
    "start_time": "2021-06-10T15:42:41.034Z"
   },
   {
    "duration": 17,
    "start_time": "2021-06-10T15:42:47.936Z"
   },
   {
    "duration": 4,
    "start_time": "2021-06-10T15:42:49.135Z"
   },
   {
    "duration": 423,
    "start_time": "2021-06-10T15:42:50.497Z"
   },
   {
    "duration": 84,
    "start_time": "2021-06-10T15:43:07.514Z"
   },
   {
    "duration": 27,
    "start_time": "2021-06-10T15:43:12.825Z"
   },
   {
    "duration": 4,
    "start_time": "2021-06-10T15:43:19.173Z"
   },
   {
    "duration": 93,
    "start_time": "2021-06-10T15:43:26.944Z"
   },
   {
    "duration": 438,
    "start_time": "2021-06-10T15:43:46.451Z"
   },
   {
    "duration": 441,
    "start_time": "2021-06-10T15:44:35.011Z"
   },
   {
    "duration": 603,
    "start_time": "2021-06-10T15:45:43.640Z"
   },
   {
    "duration": 579,
    "start_time": "2021-06-10T16:00:04.416Z"
   },
   {
    "duration": 1517,
    "start_time": "2021-06-10T16:16:17.682Z"
   },
   {
    "duration": 32,
    "start_time": "2021-06-10T16:16:19.202Z"
   },
   {
    "duration": 14,
    "start_time": "2021-06-10T16:16:19.237Z"
   },
   {
    "duration": 18,
    "start_time": "2021-06-10T16:16:19.254Z"
   },
   {
    "duration": 30,
    "start_time": "2021-06-10T16:16:19.274Z"
   },
   {
    "duration": 39,
    "start_time": "2021-06-10T16:16:19.306Z"
   },
   {
    "duration": 5,
    "start_time": "2021-06-10T16:16:19.347Z"
   },
   {
    "duration": 151,
    "start_time": "2021-06-10T16:16:19.355Z"
   },
   {
    "duration": 26,
    "start_time": "2021-06-10T16:16:19.509Z"
   },
   {
    "duration": 6,
    "start_time": "2021-06-10T16:16:19.538Z"
   },
   {
    "duration": 14,
    "start_time": "2021-06-10T16:16:19.547Z"
   },
   {
    "duration": 53,
    "start_time": "2021-06-10T16:16:19.563Z"
   },
   {
    "duration": 7,
    "start_time": "2021-06-10T16:16:19.619Z"
   },
   {
    "duration": 9,
    "start_time": "2021-06-10T16:16:19.628Z"
   },
   {
    "duration": 8,
    "start_time": "2021-06-10T16:16:19.639Z"
   },
   {
    "duration": 18,
    "start_time": "2021-06-10T16:16:19.650Z"
   },
   {
    "duration": 37,
    "start_time": "2021-06-10T16:16:19.671Z"
   },
   {
    "duration": 8,
    "start_time": "2021-06-10T16:16:19.710Z"
   },
   {
    "duration": 16,
    "start_time": "2021-06-10T16:16:19.721Z"
   },
   {
    "duration": 6,
    "start_time": "2021-06-10T16:16:19.739Z"
   },
   {
    "duration": 20,
    "start_time": "2021-06-10T16:16:19.747Z"
   },
   {
    "duration": 346,
    "start_time": "2021-06-10T16:16:19.769Z"
   },
   {
    "duration": 26,
    "start_time": "2021-06-10T16:16:20.121Z"
   },
   {
    "duration": 20,
    "start_time": "2021-06-10T16:16:20.150Z"
   },
   {
    "duration": 28,
    "start_time": "2021-06-10T16:16:20.172Z"
   },
   {
    "duration": 468,
    "start_time": "2021-06-10T16:16:20.203Z"
   },
   {
    "duration": 7,
    "start_time": "2021-06-10T16:16:20.674Z"
   },
   {
    "duration": 212,
    "start_time": "2021-06-10T16:16:20.683Z"
   },
   {
    "duration": 10,
    "start_time": "2021-06-10T16:16:20.898Z"
   },
   {
    "duration": 15,
    "start_time": "2021-06-10T16:16:20.910Z"
   },
   {
    "duration": 1157,
    "start_time": "2021-06-10T16:16:20.928Z"
   },
   {
    "duration": 13,
    "start_time": "2021-06-10T16:16:22.088Z"
   },
   {
    "duration": 24,
    "start_time": "2021-06-10T16:16:22.104Z"
   },
   {
    "duration": 5,
    "start_time": "2021-06-10T16:16:22.130Z"
   },
   {
    "duration": 18,
    "start_time": "2021-06-10T16:16:22.138Z"
   },
   {
    "duration": 42,
    "start_time": "2021-06-10T16:16:22.158Z"
   },
   {
    "duration": 5,
    "start_time": "2021-06-10T16:16:22.203Z"
   },
   {
    "duration": 137,
    "start_time": "2021-06-10T16:16:22.211Z"
   },
   {
    "duration": 3,
    "start_time": "2021-06-10T16:16:22.351Z"
   },
   {
    "duration": 11,
    "start_time": "2021-06-10T16:16:22.356Z"
   },
   {
    "duration": 38,
    "start_time": "2021-06-10T16:16:22.369Z"
   },
   {
    "duration": 7,
    "start_time": "2021-06-10T16:16:22.410Z"
   },
   {
    "duration": 8,
    "start_time": "2021-06-10T16:16:22.420Z"
   },
   {
    "duration": 146,
    "start_time": "2021-06-10T16:16:22.431Z"
   },
   {
    "duration": 230,
    "start_time": "2021-06-10T16:16:22.580Z"
   },
   {
    "duration": 138,
    "start_time": "2021-06-10T16:16:22.812Z"
   },
   {
    "duration": 7,
    "start_time": "2021-06-10T16:16:22.952Z"
   },
   {
    "duration": 10,
    "start_time": "2021-06-10T16:16:22.961Z"
   },
   {
    "duration": 314,
    "start_time": "2021-06-10T16:16:23.001Z"
   },
   {
    "duration": 224,
    "start_time": "2021-06-10T16:16:23.318Z"
   },
   {
    "duration": 298,
    "start_time": "2021-06-10T16:16:23.545Z"
   },
   {
    "duration": 216,
    "start_time": "2021-06-10T16:16:23.846Z"
   },
   {
    "duration": 15,
    "start_time": "2021-06-10T16:16:24.065Z"
   },
   {
    "duration": 16,
    "start_time": "2021-06-10T16:16:24.101Z"
   },
   {
    "duration": 17,
    "start_time": "2021-06-10T16:16:24.119Z"
   },
   {
    "duration": 330,
    "start_time": "2021-06-10T16:16:24.138Z"
   },
   {
    "duration": 221,
    "start_time": "2021-06-10T16:16:24.470Z"
   },
   {
    "duration": 280,
    "start_time": "2021-06-10T16:16:24.694Z"
   },
   {
    "duration": 207,
    "start_time": "2021-06-10T16:16:24.976Z"
   },
   {
    "duration": 24,
    "start_time": "2021-06-10T16:16:25.185Z"
   },
   {
    "duration": 14,
    "start_time": "2021-06-10T16:16:25.211Z"
   },
   {
    "duration": 16,
    "start_time": "2021-06-10T16:16:25.227Z"
   },
   {
    "duration": 10,
    "start_time": "2021-06-10T16:19:30.341Z"
   },
   {
    "duration": 198,
    "start_time": "2021-06-10T16:19:53.444Z"
   },
   {
    "duration": 26,
    "start_time": "2021-06-10T16:20:19.974Z"
   },
   {
    "duration": 278,
    "start_time": "2021-06-10T16:21:11.000Z"
   },
   {
    "duration": 10,
    "start_time": "2021-06-10T16:38:14.737Z"
   },
   {
    "duration": 7,
    "start_time": "2021-06-10T16:38:27.629Z"
   },
   {
    "duration": 6,
    "start_time": "2021-06-10T16:38:37.084Z"
   },
   {
    "duration": 406,
    "start_time": "2021-06-10T16:39:30.769Z"
   },
   {
    "duration": 245,
    "start_time": "2021-06-10T16:39:55.623Z"
   },
   {
    "duration": 290,
    "start_time": "2021-06-10T16:40:12.202Z"
   },
   {
    "duration": 280,
    "start_time": "2021-06-10T16:40:31.219Z"
   },
   {
    "duration": 6757,
    "start_time": "2021-06-10T16:40:40.369Z"
   },
   {
    "duration": -511,
    "start_time": "2021-06-10T16:41:00.395Z"
   },
   {
    "duration": 25,
    "start_time": "2021-06-10T16:41:17.394Z"
   },
   {
    "duration": 1479,
    "start_time": "2021-06-10T16:41:53.522Z"
   },
   {
    "duration": 35,
    "start_time": "2021-06-10T16:41:55.003Z"
   },
   {
    "duration": 16,
    "start_time": "2021-06-10T16:41:55.042Z"
   },
   {
    "duration": 50,
    "start_time": "2021-06-10T16:41:55.061Z"
   },
   {
    "duration": 7,
    "start_time": "2021-06-10T16:41:55.114Z"
   },
   {
    "duration": 40,
    "start_time": "2021-06-10T16:41:55.124Z"
   },
   {
    "duration": 36,
    "start_time": "2021-06-10T16:41:55.167Z"
   },
   {
    "duration": 134,
    "start_time": "2021-06-10T16:41:55.207Z"
   },
   {
    "duration": 27,
    "start_time": "2021-06-10T16:41:55.344Z"
   },
   {
    "duration": 6,
    "start_time": "2021-06-10T16:41:55.373Z"
   },
   {
    "duration": 12,
    "start_time": "2021-06-10T16:41:55.402Z"
   },
   {
    "duration": 19,
    "start_time": "2021-06-10T16:41:55.416Z"
   },
   {
    "duration": 6,
    "start_time": "2021-06-10T16:41:55.437Z"
   },
   {
    "duration": 7,
    "start_time": "2021-06-10T16:41:55.446Z"
   },
   {
    "duration": 45,
    "start_time": "2021-06-10T16:41:55.456Z"
   },
   {
    "duration": 14,
    "start_time": "2021-06-10T16:41:55.503Z"
   },
   {
    "duration": 9,
    "start_time": "2021-06-10T16:41:55.520Z"
   },
   {
    "duration": 8,
    "start_time": "2021-06-10T16:41:55.531Z"
   },
   {
    "duration": 16,
    "start_time": "2021-06-10T16:41:55.541Z"
   },
   {
    "duration": 6,
    "start_time": "2021-06-10T16:41:55.559Z"
   },
   {
    "duration": 19,
    "start_time": "2021-06-10T16:41:55.601Z"
   },
   {
    "duration": 311,
    "start_time": "2021-06-10T16:41:55.622Z"
   },
   {
    "duration": 24,
    "start_time": "2021-06-10T16:41:55.939Z"
   },
   {
    "duration": 43,
    "start_time": "2021-06-10T16:41:55.966Z"
   },
   {
    "duration": 4,
    "start_time": "2021-06-10T16:41:56.011Z"
   },
   {
    "duration": 473,
    "start_time": "2021-06-10T16:41:56.017Z"
   },
   {
    "duration": 12,
    "start_time": "2021-06-10T16:41:56.493Z"
   },
   {
    "duration": 210,
    "start_time": "2021-06-10T16:41:56.507Z"
   },
   {
    "duration": 25,
    "start_time": "2021-06-10T16:41:56.719Z"
   },
   {
    "duration": 9,
    "start_time": "2021-06-10T16:41:56.747Z"
   },
   {
    "duration": 43,
    "start_time": "2021-06-10T16:41:56.758Z"
   },
   {
    "duration": 1202,
    "start_time": "2021-06-10T16:41:56.804Z"
   },
   {
    "duration": 4,
    "start_time": "2021-06-10T16:41:58.008Z"
   },
   {
    "duration": 8,
    "start_time": "2021-06-10T16:41:58.014Z"
   },
   {
    "duration": 20,
    "start_time": "2021-06-10T16:41:58.025Z"
   },
   {
    "duration": 5,
    "start_time": "2021-06-10T16:41:58.048Z"
   },
   {
    "duration": 59,
    "start_time": "2021-06-10T16:41:58.056Z"
   },
   {
    "duration": 12,
    "start_time": "2021-06-10T16:41:58.117Z"
   },
   {
    "duration": 16,
    "start_time": "2021-06-10T16:41:58.131Z"
   },
   {
    "duration": 139,
    "start_time": "2021-06-10T16:41:58.149Z"
   },
   {
    "duration": 10,
    "start_time": "2021-06-10T16:41:58.290Z"
   },
   {
    "duration": 6,
    "start_time": "2021-06-10T16:41:58.303Z"
   },
   {
    "duration": 22,
    "start_time": "2021-06-10T16:41:58.311Z"
   },
   {
    "duration": 7,
    "start_time": "2021-06-10T16:41:58.335Z"
   },
   {
    "duration": 5,
    "start_time": "2021-06-10T16:41:58.344Z"
   },
   {
    "duration": 162,
    "start_time": "2021-06-10T16:41:58.352Z"
   },
   {
    "duration": 205,
    "start_time": "2021-06-10T16:41:58.516Z"
   },
   {
    "duration": 134,
    "start_time": "2021-06-10T16:41:58.723Z"
   },
   {
    "duration": 6,
    "start_time": "2021-06-10T16:41:58.859Z"
   },
   {
    "duration": 12,
    "start_time": "2021-06-10T16:41:58.868Z"
   },
   {
    "duration": 320,
    "start_time": "2021-06-10T16:41:58.883Z"
   },
   {
    "duration": 233,
    "start_time": "2021-06-10T16:41:59.205Z"
   },
   {
    "duration": 294,
    "start_time": "2021-06-10T16:41:59.440Z"
   },
   {
    "duration": 229,
    "start_time": "2021-06-10T16:41:59.737Z"
   },
   {
    "duration": 32,
    "start_time": "2021-06-10T16:41:59.969Z"
   },
   {
    "duration": 22,
    "start_time": "2021-06-10T16:42:00.003Z"
   },
   {
    "duration": 22,
    "start_time": "2021-06-10T16:42:00.028Z"
   },
   {
    "duration": 315,
    "start_time": "2021-06-10T16:42:00.052Z"
   },
   {
    "duration": 234,
    "start_time": "2021-06-10T16:42:00.369Z"
   },
   {
    "duration": 280,
    "start_time": "2021-06-10T16:42:00.606Z"
   },
   {
    "duration": 214,
    "start_time": "2021-06-10T16:42:00.889Z"
   },
   {
    "duration": 16,
    "start_time": "2021-06-10T16:42:01.105Z"
   },
   {
    "duration": 26,
    "start_time": "2021-06-10T16:42:01.124Z"
   },
   {
    "duration": 22,
    "start_time": "2021-06-10T16:42:01.152Z"
   },
   {
    "duration": 25,
    "start_time": "2021-06-10T16:46:03.772Z"
   },
   {
    "duration": 39,
    "start_time": "2021-06-10T16:46:17.631Z"
   },
   {
    "duration": 40,
    "start_time": "2021-06-10T16:46:28.894Z"
   },
   {
    "duration": 20,
    "start_time": "2021-06-10T16:52:04.054Z"
   },
   {
    "duration": 6,
    "start_time": "2021-06-10T17:06:29.720Z"
   },
   {
    "duration": 127,
    "start_time": "2021-06-10T17:06:29.908Z"
   },
   {
    "duration": 208,
    "start_time": "2021-06-10T17:11:53.901Z"
   },
   {
    "duration": 121,
    "start_time": "2021-06-10T17:15:39.394Z"
   },
   {
    "duration": 36,
    "start_time": "2021-06-10T17:30:02.250Z"
   },
   {
    "duration": 7,
    "start_time": "2021-06-10T17:30:25.157Z"
   },
   {
    "duration": 170,
    "start_time": "2021-06-10T17:30:25.733Z"
   },
   {
    "duration": 143,
    "start_time": "2021-06-10T17:32:00.657Z"
   },
   {
    "duration": 129,
    "start_time": "2021-06-10T17:33:09.936Z"
   },
   {
    "duration": 6,
    "start_time": "2021-06-10T17:35:48.568Z"
   },
   {
    "duration": 349,
    "start_time": "2021-06-10T17:39:44.800Z"
   },
   {
    "duration": 87,
    "start_time": "2021-06-10T17:39:49.057Z"
   },
   {
    "duration": 304,
    "start_time": "2021-06-10T17:39:52.540Z"
   },
   {
    "duration": 20,
    "start_time": "2021-06-10T17:42:30.046Z"
   },
   {
    "duration": 305,
    "start_time": "2021-06-10T17:59:58.951Z"
   },
   {
    "duration": 287,
    "start_time": "2021-06-10T18:00:13.744Z"
   },
   {
    "duration": 303,
    "start_time": "2021-06-10T18:00:36.781Z"
   },
   {
    "duration": 297,
    "start_time": "2021-06-10T18:00:44.679Z"
   },
   {
    "duration": 19,
    "start_time": "2021-06-10T18:02:25.430Z"
   },
   {
    "duration": 1389,
    "start_time": "2021-06-11T08:24:30.369Z"
   },
   {
    "duration": 33,
    "start_time": "2021-06-11T08:24:31.761Z"
   },
   {
    "duration": 13,
    "start_time": "2021-06-11T08:24:31.797Z"
   },
   {
    "duration": 43,
    "start_time": "2021-06-11T08:24:31.813Z"
   },
   {
    "duration": 7,
    "start_time": "2021-06-11T08:24:31.858Z"
   },
   {
    "duration": 45,
    "start_time": "2021-06-11T08:24:31.867Z"
   },
   {
    "duration": 4,
    "start_time": "2021-06-11T08:24:31.914Z"
   },
   {
    "duration": 148,
    "start_time": "2021-06-11T08:24:31.922Z"
   },
   {
    "duration": 28,
    "start_time": "2021-06-11T08:24:32.074Z"
   },
   {
    "duration": 7,
    "start_time": "2021-06-11T08:24:32.105Z"
   },
   {
    "duration": 41,
    "start_time": "2021-06-11T08:24:32.115Z"
   },
   {
    "duration": 19,
    "start_time": "2021-06-11T08:24:32.159Z"
   },
   {
    "duration": 8,
    "start_time": "2021-06-11T08:24:32.180Z"
   },
   {
    "duration": 6,
    "start_time": "2021-06-11T08:24:32.190Z"
   },
   {
    "duration": 13,
    "start_time": "2021-06-11T08:24:32.198Z"
   },
   {
    "duration": 44,
    "start_time": "2021-06-11T08:24:32.213Z"
   },
   {
    "duration": 18,
    "start_time": "2021-06-11T08:24:32.260Z"
   },
   {
    "duration": 23,
    "start_time": "2021-06-11T08:24:32.281Z"
   },
   {
    "duration": 19,
    "start_time": "2021-06-11T08:24:32.306Z"
   },
   {
    "duration": 6,
    "start_time": "2021-06-11T08:24:32.328Z"
   },
   {
    "duration": 23,
    "start_time": "2021-06-11T08:24:32.336Z"
   },
   {
    "duration": 311,
    "start_time": "2021-06-11T08:24:32.362Z"
   },
   {
    "duration": 25,
    "start_time": "2021-06-11T08:24:32.678Z"
   },
   {
    "duration": 19,
    "start_time": "2021-06-11T08:24:32.706Z"
   },
   {
    "duration": 28,
    "start_time": "2021-06-11T08:24:32.727Z"
   },
   {
    "duration": 470,
    "start_time": "2021-06-11T08:24:32.758Z"
   },
   {
    "duration": 8,
    "start_time": "2021-06-11T08:24:33.231Z"
   },
   {
    "duration": 225,
    "start_time": "2021-06-11T08:24:33.241Z"
   },
   {
    "duration": 25,
    "start_time": "2021-06-11T08:24:33.468Z"
   },
   {
    "duration": 9,
    "start_time": "2021-06-11T08:24:33.495Z"
   },
   {
    "duration": 19,
    "start_time": "2021-06-11T08:24:33.506Z"
   },
   {
    "duration": 1216,
    "start_time": "2021-06-11T08:24:33.527Z"
   },
   {
    "duration": 43,
    "start_time": "2021-06-11T08:24:34.746Z"
   },
   {
    "duration": 19,
    "start_time": "2021-06-11T08:24:34.792Z"
   },
   {
    "duration": 47,
    "start_time": "2021-06-11T08:24:34.813Z"
   },
   {
    "duration": 10,
    "start_time": "2021-06-11T08:24:34.862Z"
   },
   {
    "duration": 10,
    "start_time": "2021-06-11T08:24:34.875Z"
   },
   {
    "duration": 142,
    "start_time": "2021-06-11T08:24:34.887Z"
   },
   {
    "duration": 141,
    "start_time": "2021-06-11T08:24:35.031Z"
   },
   {
    "duration": 210,
    "start_time": "2021-06-11T08:24:35.175Z"
   },
   {
    "duration": 23,
    "start_time": "2021-06-11T08:24:35.387Z"
   },
   {
    "duration": 9,
    "start_time": "2021-06-11T08:24:35.413Z"
   },
   {
    "duration": 146,
    "start_time": "2021-06-11T08:24:35.425Z"
   },
   {
    "duration": 144,
    "start_time": "2021-06-11T08:24:35.574Z"
   },
   {
    "duration": 135,
    "start_time": "2021-06-11T08:24:35.721Z"
   },
   {
    "duration": 7,
    "start_time": "2021-06-11T08:24:35.858Z"
   },
   {
    "duration": 334,
    "start_time": "2021-06-11T08:24:35.867Z"
   },
   {
    "duration": 226,
    "start_time": "2021-06-11T08:24:36.204Z"
   },
   {
    "duration": 317,
    "start_time": "2021-06-11T08:24:36.432Z"
   },
   {
    "duration": 226,
    "start_time": "2021-06-11T08:24:36.755Z"
   },
   {
    "duration": 19,
    "start_time": "2021-06-11T08:24:36.984Z"
   },
   {
    "duration": 321,
    "start_time": "2021-06-11T08:24:37.006Z"
   },
   {
    "duration": 220,
    "start_time": "2021-06-11T08:24:37.330Z"
   },
   {
    "duration": 402,
    "start_time": "2021-06-11T08:24:37.555Z"
   },
   {
    "duration": 271,
    "start_time": "2021-06-11T08:24:37.960Z"
   },
   {
    "duration": 29,
    "start_time": "2021-06-11T08:24:38.234Z"
   },
   {
    "duration": 1371,
    "start_time": "2021-06-11T10:06:03.234Z"
   },
   {
    "duration": 35,
    "start_time": "2021-06-11T10:06:04.607Z"
   },
   {
    "duration": 15,
    "start_time": "2021-06-11T10:06:04.646Z"
   },
   {
    "duration": 40,
    "start_time": "2021-06-11T10:06:04.664Z"
   },
   {
    "duration": 8,
    "start_time": "2021-06-11T10:06:04.707Z"
   },
   {
    "duration": 41,
    "start_time": "2021-06-11T10:06:04.718Z"
   },
   {
    "duration": 4,
    "start_time": "2021-06-11T10:06:04.762Z"
   },
   {
    "duration": 163,
    "start_time": "2021-06-11T10:06:04.770Z"
   },
   {
    "duration": 27,
    "start_time": "2021-06-11T10:06:04.937Z"
   },
   {
    "duration": 34,
    "start_time": "2021-06-11T10:06:04.966Z"
   },
   {
    "duration": 12,
    "start_time": "2021-06-11T10:06:05.003Z"
   },
   {
    "duration": 24,
    "start_time": "2021-06-11T10:06:05.017Z"
   },
   {
    "duration": 7,
    "start_time": "2021-06-11T10:06:05.043Z"
   },
   {
    "duration": 5,
    "start_time": "2021-06-11T10:06:05.052Z"
   },
   {
    "duration": 43,
    "start_time": "2021-06-11T10:06:05.059Z"
   },
   {
    "duration": 12,
    "start_time": "2021-06-11T10:06:05.104Z"
   },
   {
    "duration": 8,
    "start_time": "2021-06-11T10:06:05.119Z"
   },
   {
    "duration": 10,
    "start_time": "2021-06-11T10:06:05.129Z"
   },
   {
    "duration": 17,
    "start_time": "2021-06-11T10:06:05.142Z"
   },
   {
    "duration": 43,
    "start_time": "2021-06-11T10:06:05.161Z"
   },
   {
    "duration": 24,
    "start_time": "2021-06-11T10:06:05.207Z"
   },
   {
    "duration": 317,
    "start_time": "2021-06-11T10:06:05.233Z"
   },
   {
    "duration": 25,
    "start_time": "2021-06-11T10:06:05.556Z"
   },
   {
    "duration": 19,
    "start_time": "2021-06-11T10:06:05.600Z"
   },
   {
    "duration": 5,
    "start_time": "2021-06-11T10:06:05.621Z"
   },
   {
    "duration": 474,
    "start_time": "2021-06-11T10:06:05.628Z"
   },
   {
    "duration": 8,
    "start_time": "2021-06-11T10:06:06.106Z"
   },
   {
    "duration": 225,
    "start_time": "2021-06-11T10:06:06.117Z"
   },
   {
    "duration": 25,
    "start_time": "2021-06-11T10:06:06.345Z"
   },
   {
    "duration": 31,
    "start_time": "2021-06-11T10:06:06.373Z"
   },
   {
    "duration": 12,
    "start_time": "2021-06-11T10:06:06.407Z"
   },
   {
    "duration": 1165,
    "start_time": "2021-06-11T10:06:06.422Z"
   },
   {
    "duration": 45,
    "start_time": "2021-06-11T10:06:07.590Z"
   },
   {
    "duration": 19,
    "start_time": "2021-06-11T10:06:07.638Z"
   },
   {
    "duration": 42,
    "start_time": "2021-06-11T10:06:07.659Z"
   },
   {
    "duration": 10,
    "start_time": "2021-06-11T10:06:07.704Z"
   },
   {
    "duration": 8,
    "start_time": "2021-06-11T10:06:07.717Z"
   },
   {
    "duration": 148,
    "start_time": "2021-06-11T10:06:07.728Z"
   },
   {
    "duration": 142,
    "start_time": "2021-06-11T10:06:07.879Z"
   },
   {
    "duration": 216,
    "start_time": "2021-06-11T10:06:08.024Z"
   },
   {
    "duration": 22,
    "start_time": "2021-06-11T10:06:08.243Z"
   },
   {
    "duration": 5,
    "start_time": "2021-06-11T10:06:08.267Z"
   },
   {
    "duration": 159,
    "start_time": "2021-06-11T10:06:08.274Z"
   },
   {
    "duration": 143,
    "start_time": "2021-06-11T10:06:08.436Z"
   },
   {
    "duration": 141,
    "start_time": "2021-06-11T10:06:08.582Z"
   },
   {
    "duration": 6,
    "start_time": "2021-06-11T10:06:08.725Z"
   },
   {
    "duration": 323,
    "start_time": "2021-06-11T10:06:08.733Z"
   },
   {
    "duration": 232,
    "start_time": "2021-06-11T10:06:09.058Z"
   },
   {
    "duration": 312,
    "start_time": "2021-06-11T10:06:09.300Z"
   },
   {
    "duration": 235,
    "start_time": "2021-06-11T10:06:09.614Z"
   },
   {
    "duration": 18,
    "start_time": "2021-06-11T10:06:09.851Z"
   },
   {
    "duration": 334,
    "start_time": "2021-06-11T10:06:09.871Z"
   },
   {
    "duration": 229,
    "start_time": "2021-06-11T10:06:10.207Z"
   },
   {
    "duration": 305,
    "start_time": "2021-06-11T10:06:10.439Z"
   },
   {
    "duration": 282,
    "start_time": "2021-06-11T10:06:10.747Z"
   },
   {
    "duration": 19,
    "start_time": "2021-06-11T10:06:11.031Z"
   },
   {
    "duration": 7,
    "start_time": "2021-06-11T10:07:56.938Z"
   },
   {
    "duration": 1388,
    "start_time": "2021-06-11T10:08:04.812Z"
   },
   {
    "duration": 36,
    "start_time": "2021-06-11T10:08:06.203Z"
   },
   {
    "duration": 15,
    "start_time": "2021-06-11T10:08:06.242Z"
   },
   {
    "duration": 50,
    "start_time": "2021-06-11T10:08:06.260Z"
   },
   {
    "duration": 8,
    "start_time": "2021-06-11T10:08:06.312Z"
   },
   {
    "duration": 84,
    "start_time": "2021-06-11T10:08:06.323Z"
   },
   {
    "duration": 5,
    "start_time": "2021-06-11T10:08:06.409Z"
   },
   {
    "duration": 142,
    "start_time": "2021-06-11T10:08:06.417Z"
   },
   {
    "duration": 44,
    "start_time": "2021-06-11T10:08:06.562Z"
   },
   {
    "duration": 8,
    "start_time": "2021-06-11T10:08:06.609Z"
   },
   {
    "duration": 14,
    "start_time": "2021-06-11T10:08:06.620Z"
   },
   {
    "duration": 22,
    "start_time": "2021-06-11T10:08:06.637Z"
   },
   {
    "duration": 7,
    "start_time": "2021-06-11T10:08:06.701Z"
   },
   {
    "duration": 5,
    "start_time": "2021-06-11T10:08:06.711Z"
   },
   {
    "duration": 7,
    "start_time": "2021-06-11T10:08:06.718Z"
   },
   {
    "duration": 13,
    "start_time": "2021-06-11T10:08:06.727Z"
   },
   {
    "duration": 62,
    "start_time": "2021-06-11T10:08:06.743Z"
   },
   {
    "duration": 9,
    "start_time": "2021-06-11T10:08:06.807Z"
   },
   {
    "duration": 395,
    "start_time": "2021-06-11T10:08:06.818Z"
   },
   {
    "duration": -358,
    "start_time": "2021-06-11T10:08:07.576Z"
   },
   {
    "duration": -366,
    "start_time": "2021-06-11T10:08:07.586Z"
   },
   {
    "duration": -375,
    "start_time": "2021-06-11T10:08:07.596Z"
   },
   {
    "duration": -384,
    "start_time": "2021-06-11T10:08:07.607Z"
   },
   {
    "duration": -394,
    "start_time": "2021-06-11T10:08:07.618Z"
   },
   {
    "duration": -401,
    "start_time": "2021-06-11T10:08:07.627Z"
   },
   {
    "duration": -519,
    "start_time": "2021-06-11T10:08:07.746Z"
   },
   {
    "duration": -527,
    "start_time": "2021-06-11T10:08:07.756Z"
   },
   {
    "duration": -536,
    "start_time": "2021-06-11T10:08:07.766Z"
   },
   {
    "duration": -544,
    "start_time": "2021-06-11T10:08:07.775Z"
   },
   {
    "duration": -553,
    "start_time": "2021-06-11T10:08:07.786Z"
   },
   {
    "duration": -574,
    "start_time": "2021-06-11T10:08:07.808Z"
   },
   {
    "duration": -587,
    "start_time": "2021-06-11T10:08:07.823Z"
   },
   {
    "duration": -595,
    "start_time": "2021-06-11T10:08:07.833Z"
   },
   {
    "duration": -604,
    "start_time": "2021-06-11T10:08:07.843Z"
   },
   {
    "duration": -612,
    "start_time": "2021-06-11T10:08:07.853Z"
   },
   {
    "duration": -621,
    "start_time": "2021-06-11T10:08:07.863Z"
   },
   {
    "duration": -629,
    "start_time": "2021-06-11T10:08:07.873Z"
   },
   {
    "duration": -639,
    "start_time": "2021-06-11T10:08:07.884Z"
   },
   {
    "duration": -647,
    "start_time": "2021-06-11T10:08:07.893Z"
   },
   {
    "duration": -656,
    "start_time": "2021-06-11T10:08:07.904Z"
   },
   {
    "duration": -678,
    "start_time": "2021-06-11T10:08:07.927Z"
   },
   {
    "duration": -687,
    "start_time": "2021-06-11T10:08:07.937Z"
   },
   {
    "duration": -695,
    "start_time": "2021-06-11T10:08:07.947Z"
   },
   {
    "duration": -705,
    "start_time": "2021-06-11T10:08:07.958Z"
   },
   {
    "duration": -713,
    "start_time": "2021-06-11T10:08:07.967Z"
   },
   {
    "duration": -677,
    "start_time": "2021-06-11T10:08:07.977Z"
   },
   {
    "duration": -685,
    "start_time": "2021-06-11T10:08:07.987Z"
   },
   {
    "duration": -693,
    "start_time": "2021-06-11T10:08:07.997Z"
   },
   {
    "duration": -701,
    "start_time": "2021-06-11T10:08:08.006Z"
   },
   {
    "duration": -710,
    "start_time": "2021-06-11T10:08:08.016Z"
   },
   {
    "duration": -731,
    "start_time": "2021-06-11T10:08:08.039Z"
   },
   {
    "duration": -740,
    "start_time": "2021-06-11T10:08:08.049Z"
   },
   {
    "duration": -747,
    "start_time": "2021-06-11T10:08:08.058Z"
   },
   {
    "duration": -757,
    "start_time": "2021-06-11T10:08:08.069Z"
   },
   {
    "duration": -765,
    "start_time": "2021-06-11T10:08:08.078Z"
   },
   {
    "duration": -773,
    "start_time": "2021-06-11T10:08:08.088Z"
   },
   {
    "duration": 8,
    "start_time": "2021-06-11T10:08:57.758Z"
   },
   {
    "duration": 6,
    "start_time": "2021-06-11T10:16:26.886Z"
   },
   {
    "duration": 14,
    "start_time": "2021-06-11T10:16:28.358Z"
   },
   {
    "duration": 257,
    "start_time": "2021-06-11T10:25:18.231Z"
   },
   {
    "duration": 1358,
    "start_time": "2021-06-11T10:25:28.840Z"
   },
   {
    "duration": 33,
    "start_time": "2021-06-11T10:25:30.201Z"
   },
   {
    "duration": 14,
    "start_time": "2021-06-11T10:25:30.237Z"
   },
   {
    "duration": 48,
    "start_time": "2021-06-11T10:25:30.253Z"
   },
   {
    "duration": 7,
    "start_time": "2021-06-11T10:25:30.303Z"
   },
   {
    "duration": 50,
    "start_time": "2021-06-11T10:25:30.312Z"
   },
   {
    "duration": 4,
    "start_time": "2021-06-11T10:25:30.364Z"
   },
   {
    "duration": 146,
    "start_time": "2021-06-11T10:25:30.372Z"
   },
   {
    "duration": 27,
    "start_time": "2021-06-11T10:25:30.521Z"
   },
   {
    "duration": 6,
    "start_time": "2021-06-11T10:25:30.550Z"
   },
   {
    "duration": 44,
    "start_time": "2021-06-11T10:25:30.559Z"
   },
   {
    "duration": 21,
    "start_time": "2021-06-11T10:25:30.605Z"
   },
   {
    "duration": 19,
    "start_time": "2021-06-11T10:25:30.628Z"
   },
   {
    "duration": 13,
    "start_time": "2021-06-11T10:25:30.649Z"
   },
   {
    "duration": 18,
    "start_time": "2021-06-11T10:25:30.664Z"
   },
   {
    "duration": 18,
    "start_time": "2021-06-11T10:25:30.684Z"
   },
   {
    "duration": 25,
    "start_time": "2021-06-11T10:25:30.704Z"
   },
   {
    "duration": 17,
    "start_time": "2021-06-11T10:25:30.732Z"
   },
   {
    "duration": 12,
    "start_time": "2021-06-11T10:25:30.752Z"
   },
   {
    "duration": 14,
    "start_time": "2021-06-11T10:25:30.767Z"
   },
   {
    "duration": 22,
    "start_time": "2021-06-11T10:25:30.783Z"
   },
   {
    "duration": 6,
    "start_time": "2021-06-11T10:25:30.808Z"
   },
   {
    "duration": 27,
    "start_time": "2021-06-11T10:25:30.819Z"
   },
   {
    "duration": 325,
    "start_time": "2021-06-11T10:25:30.849Z"
   },
   {
    "duration": 34,
    "start_time": "2021-06-11T10:25:31.177Z"
   },
   {
    "duration": 21,
    "start_time": "2021-06-11T10:25:31.214Z"
   },
   {
    "duration": 4,
    "start_time": "2021-06-11T10:25:31.238Z"
   },
   {
    "duration": 492,
    "start_time": "2021-06-11T10:25:31.244Z"
   },
   {
    "duration": 8,
    "start_time": "2021-06-11T10:25:31.739Z"
   },
   {
    "duration": 222,
    "start_time": "2021-06-11T10:25:31.750Z"
   },
   {
    "duration": 37,
    "start_time": "2021-06-11T10:25:31.975Z"
   },
   {
    "duration": 9,
    "start_time": "2021-06-11T10:25:32.014Z"
   },
   {
    "duration": 21,
    "start_time": "2021-06-11T10:25:32.025Z"
   },
   {
    "duration": 1154,
    "start_time": "2021-06-11T10:25:32.049Z"
   },
   {
    "duration": 40,
    "start_time": "2021-06-11T10:25:33.205Z"
   },
   {
    "duration": 18,
    "start_time": "2021-06-11T10:25:33.247Z"
   },
   {
    "duration": 43,
    "start_time": "2021-06-11T10:25:33.267Z"
   },
   {
    "duration": 10,
    "start_time": "2021-06-11T10:25:33.312Z"
   },
   {
    "duration": 8,
    "start_time": "2021-06-11T10:25:33.324Z"
   },
   {
    "duration": 154,
    "start_time": "2021-06-11T10:25:33.334Z"
   },
   {
    "duration": 149,
    "start_time": "2021-06-11T10:25:33.490Z"
   },
   {
    "duration": 209,
    "start_time": "2021-06-11T10:25:33.642Z"
   },
   {
    "duration": 46,
    "start_time": "2021-06-11T10:25:33.854Z"
   },
   {
    "duration": 6,
    "start_time": "2021-06-11T10:25:33.903Z"
   },
   {
    "duration": 146,
    "start_time": "2021-06-11T10:25:33.912Z"
   },
   {
    "duration": 146,
    "start_time": "2021-06-11T10:25:34.061Z"
   },
   {
    "duration": 150,
    "start_time": "2021-06-11T10:25:34.210Z"
   },
   {
    "duration": 19,
    "start_time": "2021-06-11T10:25:34.362Z"
   },
   {
    "duration": 330,
    "start_time": "2021-06-11T10:25:34.400Z"
   },
   {
    "duration": 238,
    "start_time": "2021-06-11T10:25:34.732Z"
   },
   {
    "duration": 319,
    "start_time": "2021-06-11T10:25:34.973Z"
   },
   {
    "duration": 223,
    "start_time": "2021-06-11T10:25:35.300Z"
   },
   {
    "duration": 17,
    "start_time": "2021-06-11T10:25:35.526Z"
   },
   {
    "duration": 327,
    "start_time": "2021-06-11T10:25:35.546Z"
   },
   {
    "duration": 229,
    "start_time": "2021-06-11T10:25:35.876Z"
   },
   {
    "duration": 312,
    "start_time": "2021-06-11T10:25:36.108Z"
   },
   {
    "duration": 288,
    "start_time": "2021-06-11T10:25:36.423Z"
   },
   {
    "duration": 17,
    "start_time": "2021-06-11T10:25:36.713Z"
   },
   {
    "duration": 268,
    "start_time": "2021-06-11T10:26:45.590Z"
   },
   {
    "duration": 346,
    "start_time": "2021-06-11T10:27:50.979Z"
   },
   {
    "duration": 307,
    "start_time": "2021-06-11T10:28:28.161Z"
   },
   {
    "duration": 15,
    "start_time": "2021-06-11T10:28:42.175Z"
   },
   {
    "duration": 43,
    "start_time": "2021-06-11T10:29:41.839Z"
   },
   {
    "duration": 405,
    "start_time": "2021-06-11T10:29:46.766Z"
   },
   {
    "duration": 43,
    "start_time": "2021-06-11T10:29:59.601Z"
   },
   {
    "duration": 31,
    "start_time": "2021-06-11T10:30:05.849Z"
   },
   {
    "duration": 28,
    "start_time": "2021-06-11T10:30:12.091Z"
   },
   {
    "duration": 17,
    "start_time": "2021-06-11T10:30:20.749Z"
   },
   {
    "duration": 294,
    "start_time": "2021-06-11T10:30:43.300Z"
   },
   {
    "duration": 85,
    "start_time": "2021-06-11T10:30:55.804Z"
   },
   {
    "duration": 557,
    "start_time": "2021-06-11T10:30:59.473Z"
   },
   {
    "duration": 305,
    "start_time": "2021-06-11T10:32:38.610Z"
   },
   {
    "duration": 609,
    "start_time": "2021-06-11T10:32:49.684Z"
   },
   {
    "duration": 415,
    "start_time": "2021-06-11T10:33:37.496Z"
   },
   {
    "duration": 311,
    "start_time": "2021-06-11T10:34:06.892Z"
   },
   {
    "duration": 6,
    "start_time": "2021-06-11T10:35:01.072Z"
   },
   {
    "duration": 780,
    "start_time": "2021-06-11T10:35:49.926Z"
   },
   {
    "duration": 672,
    "start_time": "2021-06-11T10:35:59.352Z"
   },
   {
    "duration": 569,
    "start_time": "2021-06-11T10:36:05.770Z"
   },
   {
    "duration": 660,
    "start_time": "2021-06-11T10:36:35.886Z"
   },
   {
    "duration": 856,
    "start_time": "2021-06-11T10:37:04.082Z"
   },
   {
    "duration": 821,
    "start_time": "2021-06-11T10:38:22.698Z"
   },
   {
    "duration": 829,
    "start_time": "2021-06-11T10:38:39.098Z"
   },
   {
    "duration": 94,
    "start_time": "2021-06-11T10:43:47.609Z"
   },
   {
    "duration": 5,
    "start_time": "2021-06-11T10:43:51.928Z"
   },
   {
    "duration": 1017,
    "start_time": "2021-06-11T10:44:00.763Z"
   },
   {
    "duration": 924,
    "start_time": "2021-06-11T10:44:12.326Z"
   },
   {
    "duration": 22,
    "start_time": "2021-06-11T10:49:34.014Z"
   },
   {
    "duration": 22,
    "start_time": "2021-06-11T10:49:52.583Z"
   },
   {
    "duration": 35,
    "start_time": "2021-06-11T10:52:55.224Z"
   },
   {
    "duration": 36,
    "start_time": "2021-06-11T10:53:19.351Z"
   },
   {
    "duration": 537,
    "start_time": "2021-06-11T10:59:00.634Z"
   },
   {
    "duration": 1888,
    "start_time": "2021-06-11T16:42:29.804Z"
   },
   {
    "duration": 46,
    "start_time": "2021-06-11T16:42:31.695Z"
   },
   {
    "duration": 19,
    "start_time": "2021-06-11T16:42:31.745Z"
   },
   {
    "duration": 57,
    "start_time": "2021-06-11T16:42:31.767Z"
   },
   {
    "duration": 8,
    "start_time": "2021-06-11T16:42:31.827Z"
   },
   {
    "duration": 55,
    "start_time": "2021-06-11T16:42:31.837Z"
   },
   {
    "duration": 30,
    "start_time": "2021-06-11T16:42:31.895Z"
   },
   {
    "duration": 185,
    "start_time": "2021-06-11T16:42:31.929Z"
   },
   {
    "duration": 35,
    "start_time": "2021-06-11T16:42:32.117Z"
   },
   {
    "duration": 6,
    "start_time": "2021-06-11T16:42:32.155Z"
   },
   {
    "duration": 11,
    "start_time": "2021-06-11T16:42:32.163Z"
   },
   {
    "duration": 52,
    "start_time": "2021-06-11T16:42:32.176Z"
   },
   {
    "duration": 5,
    "start_time": "2021-06-11T16:42:32.230Z"
   },
   {
    "duration": 7,
    "start_time": "2021-06-11T16:42:32.237Z"
   },
   {
    "duration": 6,
    "start_time": "2021-06-11T16:42:32.246Z"
   },
   {
    "duration": 13,
    "start_time": "2021-06-11T16:42:32.254Z"
   },
   {
    "duration": 9,
    "start_time": "2021-06-11T16:42:32.269Z"
   },
   {
    "duration": 46,
    "start_time": "2021-06-11T16:42:32.280Z"
   },
   {
    "duration": 11,
    "start_time": "2021-06-11T16:42:32.329Z"
   },
   {
    "duration": 8,
    "start_time": "2021-06-11T16:42:32.342Z"
   },
   {
    "duration": 16,
    "start_time": "2021-06-11T16:42:32.352Z"
   },
   {
    "duration": 7,
    "start_time": "2021-06-11T16:42:32.371Z"
   },
   {
    "duration": 21,
    "start_time": "2021-06-11T16:42:32.425Z"
   },
   {
    "duration": 326,
    "start_time": "2021-06-11T16:42:32.450Z"
   },
   {
    "duration": 25,
    "start_time": "2021-06-11T16:42:32.779Z"
   },
   {
    "duration": 36,
    "start_time": "2021-06-11T16:42:32.806Z"
   },
   {
    "duration": 3,
    "start_time": "2021-06-11T16:42:32.845Z"
   },
   {
    "duration": 473,
    "start_time": "2021-06-11T16:42:32.851Z"
   },
   {
    "duration": 8,
    "start_time": "2021-06-11T16:42:33.326Z"
   },
   {
    "duration": 224,
    "start_time": "2021-06-11T16:42:33.337Z"
   },
   {
    "duration": 26,
    "start_time": "2021-06-11T16:42:33.563Z"
   },
   {
    "duration": 8,
    "start_time": "2021-06-11T16:42:33.591Z"
   },
   {
    "duration": 11,
    "start_time": "2021-06-11T16:42:33.624Z"
   },
   {
    "duration": 1292,
    "start_time": "2021-06-11T16:42:33.638Z"
   },
   {
    "duration": 41,
    "start_time": "2021-06-11T16:42:34.932Z"
   },
   {
    "duration": 21,
    "start_time": "2021-06-11T16:42:34.976Z"
   },
   {
    "duration": 15,
    "start_time": "2021-06-11T16:42:35.024Z"
   },
   {
    "duration": 13,
    "start_time": "2021-06-11T16:42:35.041Z"
   },
   {
    "duration": 15,
    "start_time": "2021-06-11T16:42:35.057Z"
   },
   {
    "duration": 199,
    "start_time": "2021-06-11T16:42:35.074Z"
   },
   {
    "duration": 143,
    "start_time": "2021-06-11T16:42:35.276Z"
   },
   {
    "duration": 202,
    "start_time": "2021-06-11T16:42:35.424Z"
   },
   {
    "duration": 24,
    "start_time": "2021-06-11T16:42:35.628Z"
   },
   {
    "duration": 4,
    "start_time": "2021-06-11T16:42:35.654Z"
   },
   {
    "duration": 157,
    "start_time": "2021-06-11T16:42:35.661Z"
   },
   {
    "duration": 144,
    "start_time": "2021-06-11T16:42:35.824Z"
   },
   {
    "duration": 142,
    "start_time": "2021-06-11T16:42:35.970Z"
   },
   {
    "duration": 10,
    "start_time": "2021-06-11T16:42:36.115Z"
   },
   {
    "duration": 11,
    "start_time": "2021-06-11T16:42:36.128Z"
   },
   {
    "duration": 542,
    "start_time": "2021-06-11T16:42:36.141Z"
   },
   {
    "duration": 548,
    "start_time": "2021-06-11T16:42:36.686Z"
   },
   {
    "duration": 549,
    "start_time": "2021-06-11T16:42:37.236Z"
   },
   {
    "duration": 323,
    "start_time": "2021-06-11T16:42:37.788Z"
   },
   {
    "duration": 302,
    "start_time": "2021-06-11T16:42:38.124Z"
   },
   {
    "duration": 339,
    "start_time": "2021-06-11T16:42:38.429Z"
   },
   {
    "duration": 230,
    "start_time": "2021-06-11T16:42:38.770Z"
   },
   {
    "duration": 27,
    "start_time": "2021-06-11T16:42:39.003Z"
   },
   {
    "duration": 325,
    "start_time": "2021-06-11T16:42:39.032Z"
   },
   {
    "duration": 233,
    "start_time": "2021-06-11T16:42:39.359Z"
   },
   {
    "duration": 469,
    "start_time": "2021-06-11T16:42:39.595Z"
   },
   {
    "duration": 216,
    "start_time": "2021-06-11T16:42:40.067Z"
   },
   {
    "duration": 16,
    "start_time": "2021-06-11T16:42:40.285Z"
   },
   {
    "duration": 1512,
    "start_time": "2021-06-11T17:21:15.714Z"
   },
   {
    "duration": 33,
    "start_time": "2021-06-11T17:21:17.229Z"
   },
   {
    "duration": 23,
    "start_time": "2021-06-11T17:21:17.264Z"
   },
   {
    "duration": 35,
    "start_time": "2021-06-11T17:21:17.290Z"
   },
   {
    "duration": 6,
    "start_time": "2021-06-11T17:21:17.328Z"
   },
   {
    "duration": 45,
    "start_time": "2021-06-11T17:21:17.336Z"
   },
   {
    "duration": 5,
    "start_time": "2021-06-11T17:21:17.383Z"
   },
   {
    "duration": 146,
    "start_time": "2021-06-11T17:21:17.392Z"
   },
   {
    "duration": 32,
    "start_time": "2021-06-11T17:21:17.541Z"
   },
   {
    "duration": 7,
    "start_time": "2021-06-11T17:21:17.576Z"
   },
   {
    "duration": 61,
    "start_time": "2021-06-11T17:21:17.586Z"
   },
   {
    "duration": 28,
    "start_time": "2021-06-11T17:21:17.650Z"
   },
   {
    "duration": 6,
    "start_time": "2021-06-11T17:21:17.681Z"
   },
   {
    "duration": 34,
    "start_time": "2021-06-11T17:21:17.690Z"
   },
   {
    "duration": 7,
    "start_time": "2021-06-11T17:21:17.727Z"
   },
   {
    "duration": 23,
    "start_time": "2021-06-11T17:21:17.737Z"
   },
   {
    "duration": 15,
    "start_time": "2021-06-11T17:21:17.763Z"
   },
   {
    "duration": 14,
    "start_time": "2021-06-11T17:21:17.781Z"
   },
   {
    "duration": 14,
    "start_time": "2021-06-11T17:21:17.797Z"
   },
   {
    "duration": 14,
    "start_time": "2021-06-11T17:21:17.814Z"
   },
   {
    "duration": 19,
    "start_time": "2021-06-11T17:21:17.830Z"
   },
   {
    "duration": 6,
    "start_time": "2021-06-11T17:21:17.851Z"
   },
   {
    "duration": 19,
    "start_time": "2021-06-11T17:21:17.862Z"
   },
   {
    "duration": 337,
    "start_time": "2021-06-11T17:21:17.885Z"
   },
   {
    "duration": 26,
    "start_time": "2021-06-11T17:21:18.224Z"
   },
   {
    "duration": 19,
    "start_time": "2021-06-11T17:21:18.253Z"
   },
   {
    "duration": 4,
    "start_time": "2021-06-11T17:21:18.274Z"
   },
   {
    "duration": 615,
    "start_time": "2021-06-11T17:21:18.281Z"
   },
   {
    "duration": 35,
    "start_time": "2021-06-11T17:21:18.916Z"
   },
   {
    "duration": 293,
    "start_time": "2021-06-11T17:21:18.976Z"
   },
   {
    "duration": 25,
    "start_time": "2021-06-11T17:21:19.271Z"
   },
   {
    "duration": 26,
    "start_time": "2021-06-11T17:21:19.298Z"
   },
   {
    "duration": 14,
    "start_time": "2021-06-11T17:21:19.326Z"
   },
   {
    "duration": 1184,
    "start_time": "2021-06-11T17:21:19.343Z"
   },
   {
    "duration": 42,
    "start_time": "2021-06-11T17:21:20.529Z"
   },
   {
    "duration": 20,
    "start_time": "2021-06-11T17:21:20.573Z"
   },
   {
    "duration": 39,
    "start_time": "2021-06-11T17:21:20.595Z"
   },
   {
    "duration": 13,
    "start_time": "2021-06-11T17:21:20.637Z"
   },
   {
    "duration": 12,
    "start_time": "2021-06-11T17:21:20.652Z"
   },
   {
    "duration": 165,
    "start_time": "2021-06-11T17:21:20.666Z"
   },
   {
    "duration": 143,
    "start_time": "2021-06-11T17:21:20.833Z"
   },
   {
    "duration": 223,
    "start_time": "2021-06-11T17:21:20.978Z"
   },
   {
    "duration": 32,
    "start_time": "2021-06-11T17:21:21.203Z"
   },
   {
    "duration": 5,
    "start_time": "2021-06-11T17:21:21.237Z"
   },
   {
    "duration": 151,
    "start_time": "2021-06-11T17:21:21.244Z"
   },
   {
    "duration": 142,
    "start_time": "2021-06-11T17:21:21.397Z"
   },
   {
    "duration": 153,
    "start_time": "2021-06-11T17:21:21.542Z"
   },
   {
    "duration": 5,
    "start_time": "2021-06-11T17:21:21.697Z"
   },
   {
    "duration": 8,
    "start_time": "2021-06-11T17:21:21.704Z"
   },
   {
    "duration": 550,
    "start_time": "2021-06-11T17:21:21.725Z"
   },
   {
    "duration": 557,
    "start_time": "2021-06-11T17:21:22.277Z"
   },
   {
    "duration": 575,
    "start_time": "2021-06-11T17:21:22.837Z"
   },
   {
    "duration": 333,
    "start_time": "2021-06-11T17:21:23.415Z"
   },
   {
    "duration": 304,
    "start_time": "2021-06-11T17:21:23.750Z"
   },
   {
    "duration": 321,
    "start_time": "2021-06-11T17:21:24.056Z"
   },
   {
    "duration": 228,
    "start_time": "2021-06-11T17:21:24.380Z"
   },
   {
    "duration": 23,
    "start_time": "2021-06-11T17:21:24.611Z"
   },
   {
    "duration": 329,
    "start_time": "2021-06-11T17:21:24.637Z"
   },
   {
    "duration": 231,
    "start_time": "2021-06-11T17:21:24.969Z"
   },
   {
    "duration": 312,
    "start_time": "2021-06-11T17:21:25.203Z"
   },
   {
    "duration": 218,
    "start_time": "2021-06-11T17:21:25.517Z"
   },
   {
    "duration": 17,
    "start_time": "2021-06-11T17:21:25.737Z"
   },
   {
    "duration": 16,
    "start_time": "2021-06-11T17:28:34.552Z"
   },
   {
    "duration": 90,
    "start_time": "2021-06-11T17:29:32.104Z"
   },
   {
    "duration": 17,
    "start_time": "2021-06-11T17:29:40.393Z"
   },
   {
    "duration": 24,
    "start_time": "2021-06-11T17:30:01.521Z"
   },
   {
    "duration": 17,
    "start_time": "2021-06-11T17:32:40.691Z"
   },
   {
    "duration": 16,
    "start_time": "2021-06-11T17:32:51.788Z"
   },
   {
    "duration": 1488,
    "start_time": "2021-06-11T17:34:02.871Z"
   },
   {
    "duration": 34,
    "start_time": "2021-06-11T17:34:04.362Z"
   },
   {
    "duration": 35,
    "start_time": "2021-06-11T17:34:04.399Z"
   },
   {
    "duration": 19,
    "start_time": "2021-06-11T17:34:04.437Z"
   },
   {
    "duration": 8,
    "start_time": "2021-06-11T17:34:04.459Z"
   },
   {
    "duration": 85,
    "start_time": "2021-06-11T17:34:04.469Z"
   },
   {
    "duration": 5,
    "start_time": "2021-06-11T17:34:04.556Z"
   },
   {
    "duration": 140,
    "start_time": "2021-06-11T17:34:04.564Z"
   },
   {
    "duration": 50,
    "start_time": "2021-06-11T17:34:04.707Z"
   },
   {
    "duration": 5,
    "start_time": "2021-06-11T17:34:04.760Z"
   },
   {
    "duration": 15,
    "start_time": "2021-06-11T17:34:04.768Z"
   },
   {
    "duration": 49,
    "start_time": "2021-06-11T17:34:04.786Z"
   },
   {
    "duration": 11,
    "start_time": "2021-06-11T17:34:04.838Z"
   },
   {
    "duration": 5,
    "start_time": "2021-06-11T17:34:04.852Z"
   },
   {
    "duration": 8,
    "start_time": "2021-06-11T17:34:04.860Z"
   },
   {
    "duration": 14,
    "start_time": "2021-06-11T17:34:04.870Z"
   },
   {
    "duration": 47,
    "start_time": "2021-06-11T17:34:04.886Z"
   },
   {
    "duration": 8,
    "start_time": "2021-06-11T17:34:04.937Z"
   },
   {
    "duration": 8,
    "start_time": "2021-06-11T17:34:04.947Z"
   },
   {
    "duration": 7,
    "start_time": "2021-06-11T17:34:04.957Z"
   },
   {
    "duration": 16,
    "start_time": "2021-06-11T17:34:04.966Z"
   },
   {
    "duration": 5,
    "start_time": "2021-06-11T17:34:04.985Z"
   },
   {
    "duration": 21,
    "start_time": "2021-06-11T17:34:05.034Z"
   },
   {
    "duration": 361,
    "start_time": "2021-06-11T17:34:05.058Z"
   },
   {
    "duration": 32,
    "start_time": "2021-06-11T17:34:05.422Z"
   },
   {
    "duration": 20,
    "start_time": "2021-06-11T17:34:05.456Z"
   },
   {
    "duration": 4,
    "start_time": "2021-06-11T17:34:05.478Z"
   },
   {
    "duration": 548,
    "start_time": "2021-06-11T17:34:05.484Z"
   },
   {
    "duration": 10,
    "start_time": "2021-06-11T17:34:06.035Z"
   },
   {
    "duration": 233,
    "start_time": "2021-06-11T17:34:06.047Z"
   },
   {
    "duration": 46,
    "start_time": "2021-06-11T17:34:06.283Z"
   },
   {
    "duration": 13,
    "start_time": "2021-06-11T17:34:06.332Z"
   },
   {
    "duration": 12,
    "start_time": "2021-06-11T17:34:06.347Z"
   },
   {
    "duration": 1312,
    "start_time": "2021-06-11T17:34:06.361Z"
   },
   {
    "duration": 62,
    "start_time": "2021-06-11T17:34:07.675Z"
   },
   {
    "duration": 20,
    "start_time": "2021-06-11T17:34:07.740Z"
   },
   {
    "duration": 14,
    "start_time": "2021-06-11T17:34:07.763Z"
   },
   {
    "duration": 11,
    "start_time": "2021-06-11T17:34:07.779Z"
   },
   {
    "duration": 35,
    "start_time": "2021-06-11T17:34:07.792Z"
   },
   {
    "duration": 152,
    "start_time": "2021-06-11T17:34:07.830Z"
   },
   {
    "duration": 256,
    "start_time": "2021-06-11T17:34:07.984Z"
   },
   {
    "duration": 260,
    "start_time": "2021-06-11T17:34:08.243Z"
   },
   {
    "duration": 32,
    "start_time": "2021-06-11T17:34:08.506Z"
   },
   {
    "duration": 5,
    "start_time": "2021-06-11T17:34:08.540Z"
   },
   {
    "duration": 166,
    "start_time": "2021-06-11T17:34:08.548Z"
   },
   {
    "duration": 141,
    "start_time": "2021-06-11T17:34:08.716Z"
   },
   {
    "duration": 146,
    "start_time": "2021-06-11T17:34:08.859Z"
   },
   {
    "duration": 4,
    "start_time": "2021-06-11T17:34:09.008Z"
   },
   {
    "duration": 14,
    "start_time": "2021-06-11T17:34:09.014Z"
   },
   {
    "duration": 600,
    "start_time": "2021-06-11T17:34:09.032Z"
   },
   {
    "duration": 575,
    "start_time": "2021-06-11T17:34:09.636Z"
   },
   {
    "duration": 591,
    "start_time": "2021-06-11T17:34:10.214Z"
   },
   {
    "duration": 374,
    "start_time": "2021-06-11T17:34:10.807Z"
   },
   {
    "duration": 334,
    "start_time": "2021-06-11T17:34:11.184Z"
   },
   {
    "duration": 421,
    "start_time": "2021-06-11T17:34:11.525Z"
   },
   {
    "duration": 236,
    "start_time": "2021-06-11T17:34:11.948Z"
   },
   {
    "duration": 15,
    "start_time": "2021-06-11T17:34:12.187Z"
   },
   {
    "duration": 33,
    "start_time": "2021-06-11T17:34:12.204Z"
   },
   {
    "duration": 338,
    "start_time": "2021-06-11T17:34:12.240Z"
   },
   {
    "duration": 243,
    "start_time": "2021-06-11T17:34:12.581Z"
   },
   {
    "duration": 578,
    "start_time": "2021-06-11T17:34:12.826Z"
   },
   {
    "duration": 352,
    "start_time": "2021-06-11T17:34:13.407Z"
   },
   {
    "duration": 17,
    "start_time": "2021-06-11T17:34:13.761Z"
   },
   {
    "duration": 58,
    "start_time": "2021-06-11T17:34:13.780Z"
   },
   {
    "duration": 1359,
    "start_time": "2021-06-12T10:55:11.125Z"
   },
   {
    "duration": 31,
    "start_time": "2021-06-12T10:55:12.487Z"
   },
   {
    "duration": 13,
    "start_time": "2021-06-12T10:55:12.521Z"
   },
   {
    "duration": 18,
    "start_time": "2021-06-12T10:55:12.556Z"
   },
   {
    "duration": 8,
    "start_time": "2021-06-12T10:55:12.577Z"
   },
   {
    "duration": 36,
    "start_time": "2021-06-12T10:55:12.587Z"
   },
   {
    "duration": 31,
    "start_time": "2021-06-12T10:55:12.625Z"
   },
   {
    "duration": 128,
    "start_time": "2021-06-12T10:55:12.659Z"
   },
   {
    "duration": 25,
    "start_time": "2021-06-12T10:55:12.790Z"
   },
   {
    "duration": 5,
    "start_time": "2021-06-12T10:55:12.817Z"
   },
   {
    "duration": 38,
    "start_time": "2021-06-12T10:55:12.824Z"
   },
   {
    "duration": 20,
    "start_time": "2021-06-12T10:55:12.864Z"
   },
   {
    "duration": 7,
    "start_time": "2021-06-12T10:55:12.886Z"
   },
   {
    "duration": 5,
    "start_time": "2021-06-12T10:55:12.895Z"
   },
   {
    "duration": 7,
    "start_time": "2021-06-12T10:55:12.902Z"
   },
   {
    "duration": 49,
    "start_time": "2021-06-12T10:55:12.911Z"
   },
   {
    "duration": 7,
    "start_time": "2021-06-12T10:55:12.962Z"
   },
   {
    "duration": 10,
    "start_time": "2021-06-12T10:55:12.972Z"
   },
   {
    "duration": 8,
    "start_time": "2021-06-12T10:55:12.984Z"
   },
   {
    "duration": 7,
    "start_time": "2021-06-12T10:55:12.995Z"
   },
   {
    "duration": 51,
    "start_time": "2021-06-12T10:55:13.004Z"
   },
   {
    "duration": 6,
    "start_time": "2021-06-12T10:55:13.058Z"
   },
   {
    "duration": 30,
    "start_time": "2021-06-12T10:55:13.072Z"
   },
   {
    "duration": 320,
    "start_time": "2021-06-12T10:55:13.105Z"
   },
   {
    "duration": 41,
    "start_time": "2021-06-12T10:55:13.428Z"
   },
   {
    "duration": 19,
    "start_time": "2021-06-12T10:55:13.471Z"
   },
   {
    "duration": 4,
    "start_time": "2021-06-12T10:55:13.492Z"
   },
   {
    "duration": 448,
    "start_time": "2021-06-12T10:55:13.498Z"
   },
   {
    "duration": 7,
    "start_time": "2021-06-12T10:55:13.956Z"
   },
   {
    "duration": 199,
    "start_time": "2021-06-12T10:55:13.966Z"
   },
   {
    "duration": 24,
    "start_time": "2021-06-12T10:55:14.167Z"
   },
   {
    "duration": 11,
    "start_time": "2021-06-12T10:55:14.193Z"
   },
   {
    "duration": 14,
    "start_time": "2021-06-12T10:55:14.206Z"
   },
   {
    "duration": 1233,
    "start_time": "2021-06-12T10:55:14.223Z"
   },
   {
    "duration": 41,
    "start_time": "2021-06-12T10:55:15.459Z"
   },
   {
    "duration": 20,
    "start_time": "2021-06-12T10:55:15.502Z"
   },
   {
    "duration": 48,
    "start_time": "2021-06-12T10:55:15.525Z"
   },
   {
    "duration": 14,
    "start_time": "2021-06-12T10:55:15.575Z"
   },
   {
    "duration": 7,
    "start_time": "2021-06-12T10:55:15.592Z"
   },
   {
    "duration": 156,
    "start_time": "2021-06-12T10:55:15.602Z"
   },
   {
    "duration": 129,
    "start_time": "2021-06-12T10:55:15.760Z"
   },
   {
    "duration": 205,
    "start_time": "2021-06-12T10:55:15.892Z"
   },
   {
    "duration": 23,
    "start_time": "2021-06-12T10:55:16.099Z"
   },
   {
    "duration": 4,
    "start_time": "2021-06-12T10:55:16.124Z"
   },
   {
    "duration": 148,
    "start_time": "2021-06-12T10:55:16.131Z"
   },
   {
    "duration": 147,
    "start_time": "2021-06-12T10:55:16.282Z"
   },
   {
    "duration": 143,
    "start_time": "2021-06-12T10:55:16.432Z"
   },
   {
    "duration": 5,
    "start_time": "2021-06-12T10:55:16.578Z"
   },
   {
    "duration": 9,
    "start_time": "2021-06-12T10:55:16.586Z"
   },
   {
    "duration": 824,
    "start_time": "2021-06-12T10:55:16.598Z"
   },
   {
    "duration": 814,
    "start_time": "2021-06-12T10:55:17.425Z"
   },
   {
    "duration": 817,
    "start_time": "2021-06-12T10:55:18.243Z"
   },
   {
    "duration": 478,
    "start_time": "2021-06-12T10:55:19.063Z"
   },
   {
    "duration": 294,
    "start_time": "2021-06-12T10:55:19.544Z"
   },
   {
    "duration": 306,
    "start_time": "2021-06-12T10:55:19.841Z"
   },
   {
    "duration": 218,
    "start_time": "2021-06-12T10:55:20.149Z"
   },
   {
    "duration": 16,
    "start_time": "2021-06-12T10:55:20.369Z"
   },
   {
    "duration": 16,
    "start_time": "2021-06-12T10:55:20.387Z"
   },
   {
    "duration": 324,
    "start_time": "2021-06-12T10:55:20.405Z"
   },
   {
    "duration": 215,
    "start_time": "2021-06-12T10:55:20.732Z"
   },
   {
    "duration": 291,
    "start_time": "2021-06-12T10:55:20.955Z"
   },
   {
    "duration": 190,
    "start_time": "2021-06-12T10:55:21.257Z"
   },
   {
    "duration": 16,
    "start_time": "2021-06-12T10:55:21.449Z"
   },
   {
    "duration": 14,
    "start_time": "2021-06-12T10:55:21.468Z"
   },
   {
    "duration": 28,
    "start_time": "2021-06-12T10:58:41.306Z"
   },
   {
    "duration": 407,
    "start_time": "2021-06-12T15:03:25.510Z"
   },
   {
    "duration": 1479,
    "start_time": "2021-06-12T15:03:35.900Z"
   },
   {
    "duration": 34,
    "start_time": "2021-06-12T15:03:37.381Z"
   },
   {
    "duration": 16,
    "start_time": "2021-06-12T15:03:37.418Z"
   },
   {
    "duration": 43,
    "start_time": "2021-06-12T15:03:37.438Z"
   },
   {
    "duration": 9,
    "start_time": "2021-06-12T15:03:37.485Z"
   },
   {
    "duration": 75,
    "start_time": "2021-06-12T15:03:37.496Z"
   },
   {
    "duration": 4,
    "start_time": "2021-06-12T15:03:37.573Z"
   },
   {
    "duration": 143,
    "start_time": "2021-06-12T15:03:37.581Z"
   },
   {
    "duration": 45,
    "start_time": "2021-06-12T15:03:37.728Z"
   },
   {
    "duration": 7,
    "start_time": "2021-06-12T15:03:37.775Z"
   },
   {
    "duration": 16,
    "start_time": "2021-06-12T15:03:37.784Z"
   },
   {
    "duration": 21,
    "start_time": "2021-06-12T15:03:37.802Z"
   },
   {
    "duration": 39,
    "start_time": "2021-06-12T15:03:37.825Z"
   },
   {
    "duration": 9,
    "start_time": "2021-06-12T15:03:37.866Z"
   },
   {
    "duration": 9,
    "start_time": "2021-06-12T15:03:37.878Z"
   },
   {
    "duration": 12,
    "start_time": "2021-06-12T15:03:37.889Z"
   },
   {
    "duration": 9,
    "start_time": "2021-06-12T15:03:37.903Z"
   },
   {
    "duration": 52,
    "start_time": "2021-06-12T15:03:37.914Z"
   },
   {
    "duration": 9,
    "start_time": "2021-06-12T15:03:37.968Z"
   },
   {
    "duration": 10,
    "start_time": "2021-06-12T15:03:37.979Z"
   },
   {
    "duration": 25,
    "start_time": "2021-06-12T15:03:37.991Z"
   },
   {
    "duration": 42,
    "start_time": "2021-06-12T15:03:38.020Z"
   },
   {
    "duration": 20,
    "start_time": "2021-06-12T15:03:38.068Z"
   },
   {
    "duration": 343,
    "start_time": "2021-06-12T15:03:38.091Z"
   },
   {
    "duration": 40,
    "start_time": "2021-06-12T15:03:38.436Z"
   },
   {
    "duration": 20,
    "start_time": "2021-06-12T15:03:38.478Z"
   },
   {
    "duration": 4,
    "start_time": "2021-06-12T15:03:38.501Z"
   },
   {
    "duration": 496,
    "start_time": "2021-06-12T15:03:38.507Z"
   },
   {
    "duration": 12,
    "start_time": "2021-06-12T15:03:39.006Z"
   },
   {
    "duration": 227,
    "start_time": "2021-06-12T15:03:39.020Z"
   },
   {
    "duration": 34,
    "start_time": "2021-06-12T15:03:39.249Z"
   },
   {
    "duration": 9,
    "start_time": "2021-06-12T15:03:39.286Z"
   },
   {
    "duration": 22,
    "start_time": "2021-06-12T15:03:39.297Z"
   },
   {
    "duration": 1166,
    "start_time": "2021-06-12T15:03:39.322Z"
   },
   {
    "duration": 41,
    "start_time": "2021-06-12T15:03:40.491Z"
   },
   {
    "duration": 46,
    "start_time": "2021-06-12T15:03:40.535Z"
   },
   {
    "duration": 15,
    "start_time": "2021-06-12T15:03:40.583Z"
   },
   {
    "duration": 11,
    "start_time": "2021-06-12T15:03:40.601Z"
   },
   {
    "duration": 19,
    "start_time": "2021-06-12T15:03:40.615Z"
   },
   {
    "duration": 147,
    "start_time": "2021-06-12T15:03:40.662Z"
   },
   {
    "duration": 150,
    "start_time": "2021-06-12T15:03:40.811Z"
   },
   {
    "duration": 227,
    "start_time": "2021-06-12T15:03:40.965Z"
   },
   {
    "duration": 26,
    "start_time": "2021-06-12T15:03:41.195Z"
   },
   {
    "duration": 6,
    "start_time": "2021-06-12T15:03:41.224Z"
   },
   {
    "duration": 177,
    "start_time": "2021-06-12T15:03:41.232Z"
   },
   {
    "duration": 152,
    "start_time": "2021-06-12T15:03:41.412Z"
   },
   {
    "duration": 165,
    "start_time": "2021-06-12T15:03:41.567Z"
   },
   {
    "duration": 6,
    "start_time": "2021-06-12T15:03:41.735Z"
   },
   {
    "duration": 19,
    "start_time": "2021-06-12T15:03:41.743Z"
   },
   {
    "duration": 553,
    "start_time": "2021-06-12T15:03:41.764Z"
   },
   {
    "duration": 558,
    "start_time": "2021-06-12T15:03:42.319Z"
   },
   {
    "duration": 559,
    "start_time": "2021-06-12T15:03:42.879Z"
   },
   {
    "duration": 325,
    "start_time": "2021-06-12T15:03:43.441Z"
   },
   {
    "duration": 315,
    "start_time": "2021-06-12T15:03:43.768Z"
   },
   {
    "duration": 322,
    "start_time": "2021-06-12T15:03:44.085Z"
   },
   {
    "duration": 232,
    "start_time": "2021-06-12T15:03:44.410Z"
   },
   {
    "duration": 22,
    "start_time": "2021-06-12T15:03:44.645Z"
   },
   {
    "duration": 16,
    "start_time": "2021-06-12T15:03:44.670Z"
   },
   {
    "duration": 343,
    "start_time": "2021-06-12T15:03:44.689Z"
   },
   {
    "duration": 242,
    "start_time": "2021-06-12T15:03:45.034Z"
   },
   {
    "duration": 315,
    "start_time": "2021-06-12T15:03:45.278Z"
   },
   {
    "duration": 217,
    "start_time": "2021-06-12T15:03:45.595Z"
   },
   {
    "duration": 17,
    "start_time": "2021-06-12T15:03:45.815Z"
   },
   {
    "duration": 40,
    "start_time": "2021-06-12T15:03:45.834Z"
   },
   {
    "duration": 15,
    "start_time": "2021-06-12T15:05:21.213Z"
   },
   {
    "duration": 1624,
    "start_time": "2021-06-13T17:13:14.479Z"
   },
   {
    "duration": 34,
    "start_time": "2021-06-13T17:13:16.106Z"
   },
   {
    "duration": 14,
    "start_time": "2021-06-13T17:13:16.143Z"
   },
   {
    "duration": 19,
    "start_time": "2021-06-13T17:13:16.161Z"
   },
   {
    "duration": 9,
    "start_time": "2021-06-13T17:13:16.182Z"
   },
   {
    "duration": 38,
    "start_time": "2021-06-13T17:13:16.226Z"
   },
   {
    "duration": 5,
    "start_time": "2021-06-13T17:13:16.266Z"
   },
   {
    "duration": 157,
    "start_time": "2021-06-13T17:13:16.274Z"
   },
   {
    "duration": 32,
    "start_time": "2021-06-13T17:13:16.435Z"
   },
   {
    "duration": 6,
    "start_time": "2021-06-13T17:13:16.470Z"
   },
   {
    "duration": 49,
    "start_time": "2021-06-13T17:13:16.479Z"
   },
   {
    "duration": 22,
    "start_time": "2021-06-13T17:13:16.530Z"
   },
   {
    "duration": 7,
    "start_time": "2021-06-13T17:13:16.555Z"
   },
   {
    "duration": 6,
    "start_time": "2021-06-13T17:13:16.565Z"
   },
   {
    "duration": 54,
    "start_time": "2021-06-13T17:13:16.573Z"
   },
   {
    "duration": 11,
    "start_time": "2021-06-13T17:13:16.629Z"
   },
   {
    "duration": 10,
    "start_time": "2021-06-13T17:13:16.642Z"
   },
   {
    "duration": 10,
    "start_time": "2021-06-13T17:13:16.654Z"
   },
   {
    "duration": 7,
    "start_time": "2021-06-13T17:13:16.666Z"
   },
   {
    "duration": 6,
    "start_time": "2021-06-13T17:13:16.675Z"
   },
   {
    "duration": 48,
    "start_time": "2021-06-13T17:13:16.682Z"
   },
   {
    "duration": 6,
    "start_time": "2021-06-13T17:13:16.732Z"
   },
   {
    "duration": 20,
    "start_time": "2021-06-13T17:13:16.744Z"
   },
   {
    "duration": 353,
    "start_time": "2021-06-13T17:13:16.767Z"
   },
   {
    "duration": 26,
    "start_time": "2021-06-13T17:13:17.123Z"
   },
   {
    "duration": 21,
    "start_time": "2021-06-13T17:13:17.152Z"
   },
   {
    "duration": 4,
    "start_time": "2021-06-13T17:13:17.175Z"
   },
   {
    "duration": 523,
    "start_time": "2021-06-13T17:13:17.182Z"
   },
   {
    "duration": 20,
    "start_time": "2021-06-13T17:13:17.707Z"
   },
   {
    "duration": 215,
    "start_time": "2021-06-13T17:13:17.729Z"
   },
   {
    "duration": 25,
    "start_time": "2021-06-13T17:13:17.946Z"
   },
   {
    "duration": 9,
    "start_time": "2021-06-13T17:13:17.974Z"
   },
   {
    "duration": 42,
    "start_time": "2021-06-13T17:13:17.985Z"
   },
   {
    "duration": 1233,
    "start_time": "2021-06-13T17:13:18.029Z"
   },
   {
    "duration": 41,
    "start_time": "2021-06-13T17:13:19.265Z"
   },
   {
    "duration": 34,
    "start_time": "2021-06-13T17:13:19.308Z"
   },
   {
    "duration": 14,
    "start_time": "2021-06-13T17:13:19.344Z"
   },
   {
    "duration": 11,
    "start_time": "2021-06-13T17:13:19.361Z"
   },
   {
    "duration": 6,
    "start_time": "2021-06-13T17:13:19.374Z"
   },
   {
    "duration": 143,
    "start_time": "2021-06-13T17:13:19.425Z"
   },
   {
    "duration": 147,
    "start_time": "2021-06-13T17:13:19.570Z"
   },
   {
    "duration": 220,
    "start_time": "2021-06-13T17:13:19.719Z"
   },
   {
    "duration": 23,
    "start_time": "2021-06-13T17:13:19.941Z"
   },
   {
    "duration": 5,
    "start_time": "2021-06-13T17:13:19.966Z"
   },
   {
    "duration": 162,
    "start_time": "2021-06-13T17:13:19.974Z"
   },
   {
    "duration": 147,
    "start_time": "2021-06-13T17:13:20.138Z"
   },
   {
    "duration": 148,
    "start_time": "2021-06-13T17:13:20.288Z"
   },
   {
    "duration": 4,
    "start_time": "2021-06-13T17:13:20.438Z"
   },
   {
    "duration": 6,
    "start_time": "2021-06-13T17:13:20.444Z"
   },
   {
    "duration": 578,
    "start_time": "2021-06-13T17:13:20.453Z"
   },
   {
    "duration": 592,
    "start_time": "2021-06-13T17:13:21.033Z"
   },
   {
    "duration": 584,
    "start_time": "2021-06-13T17:13:21.627Z"
   },
   {
    "duration": 347,
    "start_time": "2021-06-13T17:13:22.214Z"
   },
   {
    "duration": 314,
    "start_time": "2021-06-13T17:13:22.564Z"
   },
   {
    "duration": 350,
    "start_time": "2021-06-13T17:13:22.880Z"
   },
   {
    "duration": 254,
    "start_time": "2021-06-13T17:13:23.233Z"
   },
   {
    "duration": 18,
    "start_time": "2021-06-13T17:13:23.489Z"
   },
   {
    "duration": 29,
    "start_time": "2021-06-13T17:13:23.509Z"
   },
   {
    "duration": 344,
    "start_time": "2021-06-13T17:13:23.541Z"
   },
   {
    "duration": 240,
    "start_time": "2021-06-13T17:13:23.888Z"
   },
   {
    "duration": 320,
    "start_time": "2021-06-13T17:13:24.131Z"
   },
   {
    "duration": 235,
    "start_time": "2021-06-13T17:13:24.453Z"
   },
   {
    "duration": 34,
    "start_time": "2021-06-13T17:13:24.691Z"
   },
   {
    "duration": 19,
    "start_time": "2021-06-13T17:13:24.728Z"
   },
   {
    "duration": 8,
    "start_time": "2021-06-13T17:18:30.288Z"
   },
   {
    "duration": 1516,
    "start_time": "2021-06-13T17:20:40.807Z"
   },
   {
    "duration": 47,
    "start_time": "2021-06-13T17:20:42.326Z"
   },
   {
    "duration": 19,
    "start_time": "2021-06-13T17:20:42.376Z"
   },
   {
    "duration": 52,
    "start_time": "2021-06-13T17:20:42.398Z"
   },
   {
    "duration": 7,
    "start_time": "2021-06-13T17:20:42.453Z"
   },
   {
    "duration": 70,
    "start_time": "2021-06-13T17:20:42.463Z"
   },
   {
    "duration": 4,
    "start_time": "2021-06-13T17:20:42.535Z"
   },
   {
    "duration": 138,
    "start_time": "2021-06-13T17:20:42.542Z"
   },
   {
    "duration": 43,
    "start_time": "2021-06-13T17:20:42.683Z"
   },
   {
    "duration": 6,
    "start_time": "2021-06-13T17:20:42.729Z"
   },
   {
    "duration": 29,
    "start_time": "2021-06-13T17:20:42.737Z"
   },
   {
    "duration": 26,
    "start_time": "2021-06-13T17:20:42.768Z"
   },
   {
    "duration": 6,
    "start_time": "2021-06-13T17:20:42.796Z"
   },
   {
    "duration": 21,
    "start_time": "2021-06-13T17:20:42.804Z"
   },
   {
    "duration": 12,
    "start_time": "2021-06-13T17:20:42.827Z"
   },
   {
    "duration": 26,
    "start_time": "2021-06-13T17:20:42.841Z"
   },
   {
    "duration": 19,
    "start_time": "2021-06-13T17:20:42.869Z"
   },
   {
    "duration": 19,
    "start_time": "2021-06-13T17:20:42.890Z"
   },
   {
    "duration": 23,
    "start_time": "2021-06-13T17:20:42.912Z"
   },
   {
    "duration": 8,
    "start_time": "2021-06-13T17:20:42.937Z"
   },
   {
    "duration": 17,
    "start_time": "2021-06-13T17:20:42.947Z"
   },
   {
    "duration": 6,
    "start_time": "2021-06-13T17:20:42.966Z"
   },
   {
    "duration": 19,
    "start_time": "2021-06-13T17:20:42.978Z"
   },
   {
    "duration": 319,
    "start_time": "2021-06-13T17:20:43.027Z"
   },
   {
    "duration": 25,
    "start_time": "2021-06-13T17:20:43.348Z"
   },
   {
    "duration": 19,
    "start_time": "2021-06-13T17:20:43.375Z"
   },
   {
    "duration": 29,
    "start_time": "2021-06-13T17:20:43.396Z"
   },
   {
    "duration": 491,
    "start_time": "2021-06-13T17:20:43.427Z"
   },
   {
    "duration": 10,
    "start_time": "2021-06-13T17:20:43.920Z"
   },
   {
    "duration": 233,
    "start_time": "2021-06-13T17:20:43.932Z"
   },
   {
    "duration": 28,
    "start_time": "2021-06-13T17:20:44.168Z"
   },
   {
    "duration": 35,
    "start_time": "2021-06-13T17:20:44.198Z"
   },
   {
    "duration": 15,
    "start_time": "2021-06-13T17:20:44.236Z"
   },
   {
    "duration": 2507,
    "start_time": "2021-06-13T17:20:44.254Z"
   },
   {
    "duration": 1006,
    "start_time": "2021-06-13T17:20:45.759Z"
   },
   {
    "duration": 992,
    "start_time": "2021-06-13T17:20:45.775Z"
   },
   {
    "duration": 976,
    "start_time": "2021-06-13T17:20:45.793Z"
   },
   {
    "duration": 966,
    "start_time": "2021-06-13T17:20:45.806Z"
   },
   {
    "duration": 955,
    "start_time": "2021-06-13T17:20:45.819Z"
   },
   {
    "duration": 944,
    "start_time": "2021-06-13T17:20:45.832Z"
   },
   {
    "duration": 916,
    "start_time": "2021-06-13T17:20:45.862Z"
   },
   {
    "duration": 903,
    "start_time": "2021-06-13T17:20:45.878Z"
   },
   {
    "duration": 892,
    "start_time": "2021-06-13T17:20:45.891Z"
   },
   {
    "duration": 879,
    "start_time": "2021-06-13T17:20:45.906Z"
   },
   {
    "duration": 906,
    "start_time": "2021-06-13T17:20:45.920Z"
   },
   {
    "duration": 893,
    "start_time": "2021-06-13T17:20:45.935Z"
   },
   {
    "duration": 884,
    "start_time": "2021-06-13T17:20:45.946Z"
   },
   {
    "duration": 857,
    "start_time": "2021-06-13T17:20:45.976Z"
   },
   {
    "duration": 846,
    "start_time": "2021-06-13T17:20:45.989Z"
   },
   {
    "duration": 834,
    "start_time": "2021-06-13T17:20:46.003Z"
   },
   {
    "duration": 824,
    "start_time": "2021-06-13T17:20:46.015Z"
   },
   {
    "duration": 810,
    "start_time": "2021-06-13T17:20:46.031Z"
   },
   {
    "duration": 799,
    "start_time": "2021-06-13T17:20:46.044Z"
   },
   {
    "duration": 742,
    "start_time": "2021-06-13T17:20:46.103Z"
   },
   {
    "duration": 732,
    "start_time": "2021-06-13T17:20:46.115Z"
   },
   {
    "duration": 718,
    "start_time": "2021-06-13T17:20:46.131Z"
   },
   {
    "duration": 706,
    "start_time": "2021-06-13T17:20:46.145Z"
   },
   {
    "duration": 696,
    "start_time": "2021-06-13T17:20:46.158Z"
   },
   {
    "duration": 685,
    "start_time": "2021-06-13T17:20:46.171Z"
   },
   {
    "duration": 669,
    "start_time": "2021-06-13T17:20:46.189Z"
   },
   {
    "duration": 614,
    "start_time": "2021-06-13T17:20:46.246Z"
   },
   {
    "duration": 502,
    "start_time": "2021-06-13T17:20:46.361Z"
   },
   {
    "duration": 511,
    "start_time": "2021-06-13T17:20:46.414Z"
   },
   {
    "duration": 456,
    "start_time": "2021-06-13T17:20:46.472Z"
   },
   {
    "duration": 540,
    "start_time": "2021-06-13T17:23:35.572Z"
   },
   {
    "duration": 19,
    "start_time": "2021-06-13T17:24:00.043Z"
   },
   {
    "duration": 123,
    "start_time": "2021-06-13T17:24:05.666Z"
   },
   {
    "duration": 370,
    "start_time": "2021-06-13T17:24:07.660Z"
   },
   {
    "duration": 19,
    "start_time": "2021-06-13T17:24:14.464Z"
   },
   {
    "duration": 22,
    "start_time": "2021-06-13T17:24:22.286Z"
   },
   {
    "duration": 20,
    "start_time": "2021-06-13T17:24:25.563Z"
   },
   {
    "duration": 21,
    "start_time": "2021-06-13T17:24:33.061Z"
   },
   {
    "duration": 23,
    "start_time": "2021-06-13T17:28:10.591Z"
   },
   {
    "duration": 22,
    "start_time": "2021-06-13T17:28:22.190Z"
   },
   {
    "duration": 409,
    "start_time": "2021-06-13T17:28:41.259Z"
   },
   {
    "duration": 396,
    "start_time": "2021-06-13T17:28:47.477Z"
   },
   {
    "duration": 23,
    "start_time": "2021-06-13T17:28:58.444Z"
   },
   {
    "duration": 24,
    "start_time": "2021-06-13T17:29:12.734Z"
   },
   {
    "duration": 23,
    "start_time": "2021-06-13T17:29:18.455Z"
   },
   {
    "duration": 19,
    "start_time": "2021-06-13T17:29:56.739Z"
   },
   {
    "duration": 21,
    "start_time": "2021-06-13T17:30:02.870Z"
   },
   {
    "duration": 21,
    "start_time": "2021-06-13T17:30:39.835Z"
   },
   {
    "duration": 7,
    "start_time": "2021-06-13T17:30:50.395Z"
   },
   {
    "duration": 23,
    "start_time": "2021-06-13T17:31:37.667Z"
   },
   {
    "duration": 24,
    "start_time": "2021-06-13T17:31:44.229Z"
   },
   {
    "duration": 23,
    "start_time": "2021-06-13T17:31:54.003Z"
   },
   {
    "duration": 22,
    "start_time": "2021-06-13T17:34:14.769Z"
   },
   {
    "duration": 335,
    "start_time": "2021-06-13T17:35:23.530Z"
   },
   {
    "duration": 497,
    "start_time": "2021-06-13T17:35:35.747Z"
   },
   {
    "duration": 580,
    "start_time": "2021-06-13T17:36:24.302Z"
   },
   {
    "duration": 605,
    "start_time": "2021-06-13T17:36:35.884Z"
   },
   {
    "duration": 493,
    "start_time": "2021-06-13T17:36:39.877Z"
   },
   {
    "duration": 806,
    "start_time": "2021-06-13T17:37:32.854Z"
   },
   {
    "duration": 489,
    "start_time": "2021-06-13T17:37:49.443Z"
   },
   {
    "duration": 549,
    "start_time": "2021-06-13T17:39:57.878Z"
   },
   {
    "duration": 500,
    "start_time": "2021-06-13T17:40:06.218Z"
   },
   {
    "duration": 386,
    "start_time": "2021-06-13T17:41:36.544Z"
   },
   {
    "duration": 360,
    "start_time": "2021-06-13T17:41:39.656Z"
   },
   {
    "duration": 15,
    "start_time": "2021-06-13T17:41:50.880Z"
   },
   {
    "duration": 514,
    "start_time": "2021-06-13T17:43:02.660Z"
   },
   {
    "duration": 662,
    "start_time": "2021-06-13T17:43:44.790Z"
   },
   {
    "duration": 483,
    "start_time": "2021-06-13T17:43:53.552Z"
   },
   {
    "duration": 499,
    "start_time": "2021-06-13T17:44:16.861Z"
   },
   {
    "duration": 925,
    "start_time": "2021-06-13T17:44:28.080Z"
   },
   {
    "duration": 495,
    "start_time": "2021-06-13T17:44:34.130Z"
   },
   {
    "duration": 840,
    "start_time": "2021-06-13T17:49:48.539Z"
   },
   {
    "duration": 798,
    "start_time": "2021-06-13T17:50:25.237Z"
   },
   {
    "duration": 504,
    "start_time": "2021-06-13T17:50:31.726Z"
   },
   {
    "duration": 567,
    "start_time": "2021-06-13T17:50:34.394Z"
   },
   {
    "duration": 543,
    "start_time": "2021-06-13T17:50:44.353Z"
   },
   {
    "duration": 504,
    "start_time": "2021-06-13T17:51:55.164Z"
   },
   {
    "duration": 8,
    "start_time": "2021-06-13T18:01:04.053Z"
   },
   {
    "duration": 8,
    "start_time": "2021-06-13T18:01:32.395Z"
   },
   {
    "duration": 14,
    "start_time": "2021-06-13T18:01:34.894Z"
   },
   {
    "duration": 11,
    "start_time": "2021-06-13T18:01:41.639Z"
   },
   {
    "duration": 11,
    "start_time": "2021-06-13T18:02:03.420Z"
   },
   {
    "duration": 12,
    "start_time": "2021-06-13T18:02:04.365Z"
   },
   {
    "duration": 1331,
    "start_time": "2021-06-13T18:02:24.419Z"
   },
   {
    "duration": 222,
    "start_time": "2021-06-13T18:04:20.665Z"
   },
   {
    "duration": 12,
    "start_time": "2021-06-13T18:04:41.564Z"
   },
   {
    "duration": 312,
    "start_time": "2021-06-13T18:04:50.298Z"
   },
   {
    "duration": 507,
    "start_time": "2021-06-13T18:04:59.040Z"
   },
   {
    "duration": 11,
    "start_time": "2021-06-13T18:05:12.109Z"
   },
   {
    "duration": 13,
    "start_time": "2021-06-13T18:06:06.661Z"
   },
   {
    "duration": 12,
    "start_time": "2021-06-13T18:06:07.838Z"
   },
   {
    "duration": 11,
    "start_time": "2021-06-13T18:06:10.315Z"
   },
   {
    "duration": 12,
    "start_time": "2021-06-13T18:07:38.303Z"
   },
   {
    "duration": 11,
    "start_time": "2021-06-13T18:07:38.742Z"
   },
   {
    "duration": 1220,
    "start_time": "2021-06-13T18:07:40.239Z"
   },
   {
    "duration": 15,
    "start_time": "2021-06-13T18:10:24.565Z"
   },
   {
    "duration": 13,
    "start_time": "2021-06-13T18:13:09.057Z"
   },
   {
    "duration": 13,
    "start_time": "2021-06-13T18:13:09.563Z"
   },
   {
    "duration": 1239,
    "start_time": "2021-06-13T18:13:11.111Z"
   },
   {
    "duration": 40,
    "start_time": "2021-06-13T18:18:55.427Z"
   },
   {
    "duration": 19,
    "start_time": "2021-06-13T18:19:51.615Z"
   },
   {
    "duration": 370,
    "start_time": "2021-06-13T18:20:09.125Z"
   },
   {
    "duration": 20,
    "start_time": "2021-06-13T18:20:25.631Z"
   },
   {
    "duration": 21,
    "start_time": "2021-06-13T18:20:27.746Z"
   },
   {
    "duration": 8441,
    "start_time": "2021-06-13T18:20:54.004Z"
   },
   {
    "duration": 17,
    "start_time": "2021-06-13T18:21:07.061Z"
   },
   {
    "duration": 21,
    "start_time": "2021-06-13T18:21:33.033Z"
   },
   {
    "duration": 17,
    "start_time": "2021-06-13T18:22:00.150Z"
   },
   {
    "duration": 312,
    "start_time": "2021-06-13T18:23:19.579Z"
   },
   {
    "duration": 17,
    "start_time": "2021-06-13T18:23:29.603Z"
   },
   {
    "duration": 18,
    "start_time": "2021-06-13T18:23:39.459Z"
   },
   {
    "duration": 18,
    "start_time": "2021-06-13T18:23:58.626Z"
   },
   {
    "duration": 37,
    "start_time": "2021-06-13T18:23:59.117Z"
   },
   {
    "duration": 19,
    "start_time": "2021-06-13T18:24:29.403Z"
   },
   {
    "duration": 15,
    "start_time": "2021-06-13T18:26:43.953Z"
   },
   {
    "duration": 15,
    "start_time": "2021-06-13T18:27:00.160Z"
   },
   {
    "duration": 20,
    "start_time": "2021-06-13T18:27:18.073Z"
   },
   {
    "duration": 13,
    "start_time": "2021-06-13T18:27:29.833Z"
   },
   {
    "duration": 20,
    "start_time": "2021-06-13T18:27:49.293Z"
   },
   {
    "duration": 13,
    "start_time": "2021-06-13T18:28:00.523Z"
   },
   {
    "duration": 21,
    "start_time": "2021-06-13T18:28:24.245Z"
   },
   {
    "duration": 15,
    "start_time": "2021-06-13T18:28:32.097Z"
   },
   {
    "duration": 20,
    "start_time": "2021-06-13T18:28:53.357Z"
   },
   {
    "duration": 356,
    "start_time": "2021-06-13T18:34:52.189Z"
   },
   {
    "duration": 379,
    "start_time": "2021-06-13T18:35:07.626Z"
   },
   {
    "duration": 350,
    "start_time": "2021-06-13T18:35:12.033Z"
   },
   {
    "duration": 1402,
    "start_time": "2021-06-13T18:35:42.499Z"
   },
   {
    "duration": 118,
    "start_time": "2021-06-13T18:36:09.027Z"
   },
   {
    "duration": 32,
    "start_time": "2021-06-13T18:36:14.070Z"
   },
   {
    "duration": 41,
    "start_time": "2021-06-13T18:37:19.299Z"
   },
   {
    "duration": 1469,
    "start_time": "2021-06-13T18:43:37.865Z"
   },
   {
    "duration": 34,
    "start_time": "2021-06-13T18:43:39.337Z"
   },
   {
    "duration": 15,
    "start_time": "2021-06-13T18:43:39.375Z"
   },
   {
    "duration": 44,
    "start_time": "2021-06-13T18:43:39.393Z"
   },
   {
    "duration": 7,
    "start_time": "2021-06-13T18:43:39.440Z"
   },
   {
    "duration": 42,
    "start_time": "2021-06-13T18:43:39.449Z"
   },
   {
    "duration": 5,
    "start_time": "2021-06-13T18:43:39.525Z"
   },
   {
    "duration": 154,
    "start_time": "2021-06-13T18:43:39.534Z"
   },
   {
    "duration": 46,
    "start_time": "2021-06-13T18:43:39.691Z"
   },
   {
    "duration": 6,
    "start_time": "2021-06-13T18:43:39.740Z"
   },
   {
    "duration": 13,
    "start_time": "2021-06-13T18:43:39.749Z"
   },
   {
    "duration": 26,
    "start_time": "2021-06-13T18:43:39.765Z"
   },
   {
    "duration": 35,
    "start_time": "2021-06-13T18:43:39.793Z"
   },
   {
    "duration": 5,
    "start_time": "2021-06-13T18:43:39.830Z"
   },
   {
    "duration": 8,
    "start_time": "2021-06-13T18:43:39.837Z"
   },
   {
    "duration": 14,
    "start_time": "2021-06-13T18:43:39.848Z"
   },
   {
    "duration": 9,
    "start_time": "2021-06-13T18:43:39.865Z"
   },
   {
    "duration": 8,
    "start_time": "2021-06-13T18:43:39.876Z"
   },
   {
    "duration": 41,
    "start_time": "2021-06-13T18:43:39.886Z"
   },
   {
    "duration": 8,
    "start_time": "2021-06-13T18:43:39.929Z"
   },
   {
    "duration": 19,
    "start_time": "2021-06-13T18:43:39.939Z"
   },
   {
    "duration": 6,
    "start_time": "2021-06-13T18:43:39.960Z"
   },
   {
    "duration": 53,
    "start_time": "2021-06-13T18:43:39.972Z"
   },
   {
    "duration": 329,
    "start_time": "2021-06-13T18:43:40.028Z"
   },
   {
    "duration": 28,
    "start_time": "2021-06-13T18:43:40.359Z"
   },
   {
    "duration": 44,
    "start_time": "2021-06-13T18:43:40.389Z"
   },
   {
    "duration": 5,
    "start_time": "2021-06-13T18:43:40.435Z"
   },
   {
    "duration": 483,
    "start_time": "2021-06-13T18:43:40.442Z"
   },
   {
    "duration": 24,
    "start_time": "2021-06-13T18:43:40.927Z"
   },
   {
    "duration": 505,
    "start_time": "2021-06-13T18:43:40.953Z"
   },
   {
    "duration": 532,
    "start_time": "2021-06-13T18:43:41.460Z"
   },
   {
    "duration": 16,
    "start_time": "2021-06-13T18:43:41.995Z"
   },
   {
    "duration": 13,
    "start_time": "2021-06-13T18:43:42.026Z"
   },
   {
    "duration": 13,
    "start_time": "2021-06-13T18:43:42.041Z"
   },
   {
    "duration": 1252,
    "start_time": "2021-06-13T18:43:42.057Z"
   },
   {
    "duration": 31,
    "start_time": "2021-06-13T18:43:43.312Z"
   },
   {
    "duration": 24,
    "start_time": "2021-06-13T18:43:43.346Z"
   },
   {
    "duration": 80,
    "start_time": "2021-06-13T18:43:43.373Z"
   },
   {
    "duration": 17,
    "start_time": "2021-06-13T18:43:43.456Z"
   },
   {
    "duration": 50,
    "start_time": "2021-06-13T18:43:43.476Z"
   },
   {
    "duration": 4,
    "start_time": "2021-06-13T18:43:43.529Z"
   },
   {
    "duration": 146,
    "start_time": "2021-06-13T18:43:43.536Z"
   },
   {
    "duration": 145,
    "start_time": "2021-06-13T18:43:43.685Z"
   },
   {
    "duration": 148,
    "start_time": "2021-06-13T18:43:43.832Z"
   },
   {
    "duration": 24,
    "start_time": "2021-06-13T18:43:43.984Z"
   },
   {
    "duration": 5,
    "start_time": "2021-06-13T18:43:44.025Z"
   },
   {
    "duration": 156,
    "start_time": "2021-06-13T18:43:44.033Z"
   },
   {
    "duration": 148,
    "start_time": "2021-06-13T18:43:44.191Z"
   },
   {
    "duration": 146,
    "start_time": "2021-06-13T18:43:44.342Z"
   },
   {
    "duration": 4,
    "start_time": "2021-06-13T18:43:44.491Z"
   },
   {
    "duration": 28,
    "start_time": "2021-06-13T18:43:44.497Z"
   },
   {
    "duration": 483,
    "start_time": "2021-06-13T18:43:44.528Z"
   },
   {
    "duration": 466,
    "start_time": "2021-06-13T18:43:45.014Z"
   },
   {
    "duration": 485,
    "start_time": "2021-06-13T18:43:45.482Z"
   },
   {
    "duration": 404,
    "start_time": "2021-06-13T18:43:45.970Z"
   },
   {
    "duration": 248,
    "start_time": "2021-06-13T18:43:46.377Z"
   },
   {
    "duration": 336,
    "start_time": "2021-06-13T18:43:46.628Z"
   },
   {
    "duration": 235,
    "start_time": "2021-06-13T18:43:46.966Z"
   },
   {
    "duration": 26,
    "start_time": "2021-06-13T18:43:47.203Z"
   },
   {
    "duration": 22,
    "start_time": "2021-06-13T18:43:47.231Z"
   },
   {
    "duration": 334,
    "start_time": "2021-06-13T18:43:47.255Z"
   },
   {
    "duration": 235,
    "start_time": "2021-06-13T18:43:47.591Z"
   },
   {
    "duration": 315,
    "start_time": "2021-06-13T18:43:47.829Z"
   },
   {
    "duration": 223,
    "start_time": "2021-06-13T18:43:48.147Z"
   },
   {
    "duration": 16,
    "start_time": "2021-06-13T18:43:48.372Z"
   },
   {
    "duration": 39,
    "start_time": "2021-06-13T18:43:48.391Z"
   },
   {
    "duration": 24,
    "start_time": "2021-06-13T18:47:26.299Z"
   },
   {
    "duration": 5,
    "start_time": "2021-06-13T18:47:40.535Z"
   },
   {
    "duration": 143,
    "start_time": "2021-06-13T18:47:41.458Z"
   },
   {
    "duration": 134,
    "start_time": "2021-06-13T18:47:42.564Z"
   },
   {
    "duration": 178,
    "start_time": "2021-06-13T18:47:44.508Z"
   },
   {
    "duration": 13,
    "start_time": "2021-06-13T18:49:19.577Z"
   },
   {
    "duration": 5,
    "start_time": "2021-06-13T18:51:01.739Z"
   },
   {
    "duration": 201,
    "start_time": "2021-06-13T18:51:15.308Z"
   },
   {
    "duration": 472,
    "start_time": "2021-06-13T18:51:28.180Z"
   },
   {
    "duration": 136,
    "start_time": "2021-06-13T18:51:30.040Z"
   },
   {
    "duration": 5,
    "start_time": "2021-06-13T18:52:17.598Z"
   },
   {
    "duration": 129,
    "start_time": "2021-06-13T18:52:24.467Z"
   },
   {
    "duration": 130,
    "start_time": "2021-06-13T18:52:33.300Z"
   },
   {
    "duration": 130,
    "start_time": "2021-06-13T18:52:41.327Z"
   },
   {
    "duration": 132,
    "start_time": "2021-06-13T18:52:55.480Z"
   },
   {
    "duration": 135,
    "start_time": "2021-06-13T18:53:08.658Z"
   },
   {
    "duration": 138,
    "start_time": "2021-06-13T18:53:17.817Z"
   },
   {
    "duration": 324,
    "start_time": "2021-06-13T18:57:52.391Z"
   },
   {
    "duration": 20,
    "start_time": "2021-06-13T18:58:01.433Z"
   },
   {
    "duration": 317,
    "start_time": "2021-06-13T18:58:26.738Z"
   },
   {
    "duration": 5,
    "start_time": "2021-06-13T19:00:32.707Z"
   },
   {
    "duration": 458,
    "start_time": "2021-06-13T19:00:35.769Z"
   },
   {
    "duration": 5,
    "start_time": "2021-06-13T19:00:43.747Z"
   },
   {
    "duration": 473,
    "start_time": "2021-06-13T19:00:44.415Z"
   },
   {
    "duration": 6,
    "start_time": "2021-06-13T19:02:05.417Z"
   },
   {
    "duration": 547,
    "start_time": "2021-06-13T19:02:06.908Z"
   },
   {
    "duration": 25,
    "start_time": "2021-06-13T19:02:30.872Z"
   },
   {
    "duration": 24,
    "start_time": "2021-06-13T19:02:42.549Z"
   },
   {
    "duration": 298,
    "start_time": "2021-06-13T19:02:50.523Z"
   },
   {
    "duration": 25,
    "start_time": "2021-06-13T19:02:58.786Z"
   },
   {
    "duration": 25,
    "start_time": "2021-06-13T19:03:22.101Z"
   },
   {
    "duration": 4,
    "start_time": "2021-06-13T19:03:49.760Z"
   },
   {
    "duration": 5,
    "start_time": "2021-06-13T19:03:52.038Z"
   },
   {
    "duration": 5,
    "start_time": "2021-06-13T19:04:16.958Z"
   },
   {
    "duration": 5,
    "start_time": "2021-06-13T19:04:17.668Z"
   },
   {
    "duration": 566,
    "start_time": "2021-06-13T19:04:18.631Z"
   },
   {
    "duration": 484,
    "start_time": "2021-06-13T19:05:35.794Z"
   },
   {
    "duration": 495,
    "start_time": "2021-06-13T19:05:53.021Z"
   },
   {
    "duration": 387,
    "start_time": "2021-06-13T19:08:13.242Z"
   },
   {
    "duration": 17,
    "start_time": "2021-06-13T19:08:20.125Z"
   },
   {
    "duration": 22,
    "start_time": "2021-06-13T19:08:37.904Z"
   },
   {
    "duration": 300,
    "start_time": "2021-06-13T19:09:20.525Z"
   },
   {
    "duration": 25,
    "start_time": "2021-06-13T19:09:27.295Z"
   },
   {
    "duration": 33,
    "start_time": "2021-06-13T19:11:23.053Z"
   },
   {
    "duration": 20,
    "start_time": "2021-06-13T19:11:41.398Z"
   },
   {
    "duration": 21,
    "start_time": "2021-06-13T19:12:06.385Z"
   },
   {
    "duration": 36,
    "start_time": "2021-06-13T19:12:56.568Z"
   },
   {
    "duration": 9,
    "start_time": "2021-06-13T19:13:10.635Z"
   },
   {
    "duration": 21,
    "start_time": "2021-06-13T19:13:16.826Z"
   },
   {
    "duration": 24,
    "start_time": "2021-06-13T19:13:25.711Z"
   },
   {
    "duration": 23,
    "start_time": "2021-06-13T19:13:35.567Z"
   },
   {
    "duration": 23,
    "start_time": "2021-06-13T19:13:44.057Z"
   },
   {
    "duration": 12,
    "start_time": "2021-06-13T19:14:13.336Z"
   },
   {
    "duration": 311,
    "start_time": "2021-06-13T19:14:23.668Z"
   },
   {
    "duration": 231,
    "start_time": "2021-06-13T19:14:42.280Z"
   },
   {
    "duration": 19,
    "start_time": "2021-06-13T19:17:20.032Z"
   },
   {
    "duration": 400,
    "start_time": "2021-06-13T19:17:38.116Z"
   },
   {
    "duration": 20,
    "start_time": "2021-06-13T19:17:47.106Z"
   },
   {
    "duration": 120,
    "start_time": "2021-06-13T19:21:09.744Z"
   },
   {
    "duration": 20,
    "start_time": "2021-06-13T19:23:01.283Z"
   },
   {
    "duration": 256,
    "start_time": "2021-06-13T19:23:12.200Z"
   },
   {
    "duration": 5,
    "start_time": "2021-06-13T19:23:45.120Z"
   },
   {
    "duration": 407,
    "start_time": "2021-06-13T19:23:47.362Z"
   },
   {
    "duration": 414,
    "start_time": "2021-06-13T19:23:49.111Z"
   },
   {
    "duration": 536,
    "start_time": "2021-06-13T19:23:51.137Z"
   },
   {
    "duration": 351,
    "start_time": "2021-06-13T19:27:13.736Z"
   },
   {
    "duration": 419,
    "start_time": "2021-06-13T19:27:26.421Z"
   },
   {
    "duration": 6,
    "start_time": "2021-06-13T19:29:57.341Z"
   },
   {
    "duration": 641,
    "start_time": "2021-06-13T19:29:59.905Z"
   },
   {
    "duration": 6,
    "start_time": "2021-06-13T19:30:14.039Z"
   },
   {
    "duration": 609,
    "start_time": "2021-06-13T19:30:14.957Z"
   },
   {
    "duration": 6,
    "start_time": "2021-06-13T19:31:03.033Z"
   },
   {
    "duration": 457,
    "start_time": "2021-06-13T19:31:07.418Z"
   },
   {
    "duration": 477,
    "start_time": "2021-06-13T19:31:15.787Z"
   },
   {
    "duration": 513,
    "start_time": "2021-06-13T19:31:16.795Z"
   },
   {
    "duration": 4,
    "start_time": "2021-06-13T19:32:44.048Z"
   },
   {
    "duration": 7,
    "start_time": "2021-06-13T19:32:44.610Z"
   },
   {
    "duration": 414,
    "start_time": "2021-06-13T19:32:45.568Z"
   },
   {
    "duration": 512,
    "start_time": "2021-06-13T19:32:46.387Z"
   },
   {
    "duration": 423,
    "start_time": "2021-06-13T19:32:47.138Z"
   },
   {
    "duration": 418,
    "start_time": "2021-06-13T19:32:47.849Z"
   },
   {
    "duration": 8,
    "start_time": "2021-06-13T19:51:39.046Z"
   },
   {
    "duration": 23,
    "start_time": "2021-06-13T19:52:16.152Z"
   },
   {
    "duration": 30,
    "start_time": "2021-06-13T19:55:13.025Z"
   },
   {
    "duration": 28,
    "start_time": "2021-06-13T19:55:38.525Z"
   },
   {
    "duration": 24,
    "start_time": "2021-06-13T19:55:59.654Z"
   },
   {
    "duration": 1503,
    "start_time": "2021-06-13T19:56:13.825Z"
   },
   {
    "duration": 34,
    "start_time": "2021-06-13T19:56:15.331Z"
   },
   {
    "duration": 15,
    "start_time": "2021-06-13T19:56:15.368Z"
   },
   {
    "duration": 42,
    "start_time": "2021-06-13T19:56:15.385Z"
   },
   {
    "duration": 9,
    "start_time": "2021-06-13T19:56:15.429Z"
   },
   {
    "duration": 42,
    "start_time": "2021-06-13T19:56:15.440Z"
   },
   {
    "duration": 4,
    "start_time": "2021-06-13T19:56:15.484Z"
   },
   {
    "duration": 156,
    "start_time": "2021-06-13T19:56:15.492Z"
   },
   {
    "duration": 31,
    "start_time": "2021-06-13T19:56:15.651Z"
   },
   {
    "duration": 6,
    "start_time": "2021-06-13T19:56:15.684Z"
   },
   {
    "duration": 38,
    "start_time": "2021-06-13T19:56:15.692Z"
   },
   {
    "duration": 20,
    "start_time": "2021-06-13T19:56:15.732Z"
   },
   {
    "duration": 5,
    "start_time": "2021-06-13T19:56:15.755Z"
   },
   {
    "duration": 5,
    "start_time": "2021-06-13T19:56:15.763Z"
   },
   {
    "duration": 6,
    "start_time": "2021-06-13T19:56:15.771Z"
   },
   {
    "duration": 48,
    "start_time": "2021-06-13T19:56:15.779Z"
   },
   {
    "duration": 9,
    "start_time": "2021-06-13T19:56:15.830Z"
   },
   {
    "duration": 8,
    "start_time": "2021-06-13T19:56:15.842Z"
   },
   {
    "duration": 9,
    "start_time": "2021-06-13T19:56:15.852Z"
   },
   {
    "duration": 10,
    "start_time": "2021-06-13T19:56:15.863Z"
   },
   {
    "duration": 18,
    "start_time": "2021-06-13T19:56:15.875Z"
   },
   {
    "duration": 35,
    "start_time": "2021-06-13T19:56:15.895Z"
   },
   {
    "duration": 19,
    "start_time": "2021-06-13T19:56:15.935Z"
   },
   {
    "duration": 332,
    "start_time": "2021-06-13T19:56:15.957Z"
   },
   {
    "duration": 40,
    "start_time": "2021-06-13T19:56:16.291Z"
   },
   {
    "duration": 21,
    "start_time": "2021-06-13T19:56:16.333Z"
   },
   {
    "duration": 4,
    "start_time": "2021-06-13T19:56:16.356Z"
   },
   {
    "duration": 498,
    "start_time": "2021-06-13T19:56:16.362Z"
   },
   {
    "duration": 24,
    "start_time": "2021-06-13T19:56:16.862Z"
   },
   {
    "duration": 521,
    "start_time": "2021-06-13T19:56:16.889Z"
   },
   {
    "duration": 532,
    "start_time": "2021-06-13T19:56:17.412Z"
   },
   {
    "duration": 14,
    "start_time": "2021-06-13T19:56:17.946Z"
   },
   {
    "duration": 15,
    "start_time": "2021-06-13T19:56:17.962Z"
   },
   {
    "duration": 11,
    "start_time": "2021-06-13T19:56:17.980Z"
   },
   {
    "duration": 1207,
    "start_time": "2021-06-13T19:56:17.993Z"
   },
   {
    "duration": 34,
    "start_time": "2021-06-13T19:56:19.202Z"
   },
   {
    "duration": 21,
    "start_time": "2021-06-13T19:56:19.238Z"
   },
   {
    "duration": 69,
    "start_time": "2021-06-13T19:56:19.262Z"
   },
   {
    "duration": 14,
    "start_time": "2021-06-13T19:56:19.333Z"
   },
   {
    "duration": 12,
    "start_time": "2021-06-13T19:56:19.350Z"
   },
   {
    "duration": 6,
    "start_time": "2021-06-13T19:56:19.364Z"
   },
   {
    "duration": 155,
    "start_time": "2021-06-13T19:56:19.372Z"
   },
   {
    "duration": 137,
    "start_time": "2021-06-13T19:56:19.530Z"
   },
   {
    "duration": 155,
    "start_time": "2021-06-13T19:56:19.670Z"
   },
   {
    "duration": 25,
    "start_time": "2021-06-13T19:56:19.828Z"
   },
   {
    "duration": 171,
    "start_time": "2021-06-13T19:56:19.856Z"
   },
   {
    "duration": 153,
    "start_time": "2021-06-13T19:56:20.031Z"
   },
   {
    "duration": 157,
    "start_time": "2021-06-13T19:56:20.187Z"
   },
   {
    "duration": 4,
    "start_time": "2021-06-13T19:56:20.346Z"
   },
   {
    "duration": 6,
    "start_time": "2021-06-13T19:56:20.353Z"
   },
   {
    "duration": 424,
    "start_time": "2021-06-13T19:56:20.362Z"
   },
   {
    "duration": 424,
    "start_time": "2021-06-13T19:56:20.789Z"
   },
   {
    "duration": 444,
    "start_time": "2021-06-13T19:56:21.215Z"
   },
   {
    "duration": 346,
    "start_time": "2021-06-13T19:56:21.662Z"
   },
   {
    "duration": 330,
    "start_time": "2021-06-13T19:56:22.011Z"
   },
   {
    "duration": 326,
    "start_time": "2021-06-13T19:56:22.344Z"
   },
   {
    "duration": 255,
    "start_time": "2021-06-13T19:56:22.672Z"
   },
   {
    "duration": 15,
    "start_time": "2021-06-13T19:56:22.929Z"
   },
   {
    "duration": 15,
    "start_time": "2021-06-13T19:56:22.947Z"
   },
   {
    "duration": 349,
    "start_time": "2021-06-13T19:56:22.965Z"
   },
   {
    "duration": 240,
    "start_time": "2021-06-13T19:56:23.317Z"
   },
   {
    "duration": 300,
    "start_time": "2021-06-13T19:56:23.559Z"
   },
   {
    "duration": 220,
    "start_time": "2021-06-13T19:56:23.861Z"
   },
   {
    "duration": 16,
    "start_time": "2021-06-13T19:56:24.083Z"
   },
   {
    "duration": 34,
    "start_time": "2021-06-13T19:56:24.102Z"
   },
   {
    "duration": 25,
    "start_time": "2021-06-13T20:02:49.703Z"
   },
   {
    "duration": 28,
    "start_time": "2021-06-13T20:02:57.104Z"
   },
   {
    "duration": 23,
    "start_time": "2021-06-13T20:03:04.408Z"
   },
   {
    "duration": 26,
    "start_time": "2021-06-13T20:03:22.690Z"
   },
   {
    "duration": 130,
    "start_time": "2021-06-13T20:04:12.442Z"
   },
   {
    "duration": 596,
    "start_time": "2021-06-13T20:06:56.567Z"
   },
   {
    "duration": 126,
    "start_time": "2021-06-13T20:07:24.954Z"
   },
   {
    "duration": 180,
    "start_time": "2021-06-13T20:07:33.701Z"
   },
   {
    "duration": 198,
    "start_time": "2021-06-13T20:07:43.039Z"
   },
   {
    "duration": 7,
    "start_time": "2021-06-13T20:08:07.489Z"
   },
   {
    "duration": 116,
    "start_time": "2021-06-13T20:09:19.985Z"
   },
   {
    "duration": 8,
    "start_time": "2021-06-13T20:09:59.881Z"
   },
   {
    "duration": 134,
    "start_time": "2021-06-13T20:11:13.674Z"
   },
   {
    "duration": 135,
    "start_time": "2021-06-13T20:12:28.845Z"
   },
   {
    "duration": 36,
    "start_time": "2021-06-13T20:13:13.577Z"
   },
   {
    "duration": 26,
    "start_time": "2021-06-13T20:13:28.656Z"
   },
   {
    "duration": 335,
    "start_time": "2021-06-13T20:13:37.926Z"
   },
   {
    "duration": 24,
    "start_time": "2021-06-13T20:13:42.019Z"
   },
   {
    "duration": 403,
    "start_time": "2021-06-13T20:15:18.985Z"
   },
   {
    "duration": 27,
    "start_time": "2021-06-13T20:15:36.536Z"
   },
   {
    "duration": 133,
    "start_time": "2021-06-13T20:15:48.542Z"
   },
   {
    "duration": 134,
    "start_time": "2021-06-13T20:15:49.789Z"
   },
   {
    "duration": 129,
    "start_time": "2021-06-13T20:15:50.807Z"
   },
   {
    "duration": 18,
    "start_time": "2021-06-13T20:16:04.077Z"
   },
   {
    "duration": 5,
    "start_time": "2021-06-13T20:21:02.721Z"
   },
   {
    "duration": 135,
    "start_time": "2021-06-13T20:21:04.267Z"
   },
   {
    "duration": 140,
    "start_time": "2021-06-13T20:21:12.116Z"
   },
   {
    "duration": 126,
    "start_time": "2021-06-13T20:21:14.837Z"
   },
   {
    "duration": 17,
    "start_time": "2021-06-13T20:21:18.741Z"
   },
   {
    "duration": 130,
    "start_time": "2021-06-13T20:21:20.689Z"
   },
   {
    "duration": 145,
    "start_time": "2021-06-13T20:21:27.131Z"
   },
   {
    "duration": 12,
    "start_time": "2021-06-13T20:21:48.070Z"
   },
   {
    "duration": 5,
    "start_time": "2021-06-13T20:22:21.752Z"
   },
   {
    "duration": 136,
    "start_time": "2021-06-13T20:22:22.418Z"
   },
   {
    "duration": 211,
    "start_time": "2021-06-13T20:22:22.810Z"
   },
   {
    "duration": 128,
    "start_time": "2021-06-13T20:22:23.092Z"
   },
   {
    "duration": 17,
    "start_time": "2021-06-13T20:22:23.804Z"
   },
   {
    "duration": 12,
    "start_time": "2021-06-13T20:22:24.047Z"
   },
   {
    "duration": 15,
    "start_time": "2021-06-13T20:24:35.015Z"
   },
   {
    "duration": 134,
    "start_time": "2021-06-13T20:24:39.671Z"
   },
   {
    "duration": 135,
    "start_time": "2021-06-13T20:24:41.368Z"
   },
   {
    "duration": 130,
    "start_time": "2021-06-13T20:24:43.557Z"
   },
   {
    "duration": 358,
    "start_time": "2021-06-13T20:31:33.597Z"
   },
   {
    "duration": 20,
    "start_time": "2021-06-13T20:31:46.894Z"
   },
   {
    "duration": 18,
    "start_time": "2021-06-13T20:32:05.189Z"
   },
   {
    "duration": 16,
    "start_time": "2021-06-13T20:33:08.975Z"
   },
   {
    "duration": 4445,
    "start_time": "2021-06-13T20:33:55.737Z"
   },
   {
    "duration": 19,
    "start_time": "2021-06-13T20:34:06.176Z"
   },
   {
    "duration": 398,
    "start_time": "2021-06-13T20:35:26.092Z"
   },
   {
    "duration": 1562,
    "start_time": "2021-06-13T20:35:36.554Z"
   },
   {
    "duration": 34,
    "start_time": "2021-06-13T20:35:38.119Z"
   },
   {
    "duration": 14,
    "start_time": "2021-06-13T20:35:38.156Z"
   },
   {
    "duration": 19,
    "start_time": "2021-06-13T20:35:38.173Z"
   },
   {
    "duration": 7,
    "start_time": "2021-06-13T20:35:38.225Z"
   },
   {
    "duration": 40,
    "start_time": "2021-06-13T20:35:38.234Z"
   },
   {
    "duration": 4,
    "start_time": "2021-06-13T20:35:38.277Z"
   },
   {
    "duration": 161,
    "start_time": "2021-06-13T20:35:38.284Z"
   },
   {
    "duration": 31,
    "start_time": "2021-06-13T20:35:38.449Z"
   },
   {
    "duration": 6,
    "start_time": "2021-06-13T20:35:38.483Z"
   },
   {
    "duration": 38,
    "start_time": "2021-06-13T20:35:38.491Z"
   },
   {
    "duration": 21,
    "start_time": "2021-06-13T20:35:38.531Z"
   },
   {
    "duration": 6,
    "start_time": "2021-06-13T20:35:38.554Z"
   },
   {
    "duration": 5,
    "start_time": "2021-06-13T20:35:38.562Z"
   },
   {
    "duration": 7,
    "start_time": "2021-06-13T20:35:38.569Z"
   },
   {
    "duration": 49,
    "start_time": "2021-06-13T20:35:38.578Z"
   },
   {
    "duration": 10,
    "start_time": "2021-06-13T20:35:38.629Z"
   },
   {
    "duration": 9,
    "start_time": "2021-06-13T20:35:38.641Z"
   },
   {
    "duration": 8,
    "start_time": "2021-06-13T20:35:38.652Z"
   },
   {
    "duration": 8,
    "start_time": "2021-06-13T20:35:38.662Z"
   },
   {
    "duration": 17,
    "start_time": "2021-06-13T20:35:38.672Z"
   },
   {
    "duration": 37,
    "start_time": "2021-06-13T20:35:38.692Z"
   },
   {
    "duration": 22,
    "start_time": "2021-06-13T20:35:38.732Z"
   },
   {
    "duration": 355,
    "start_time": "2021-06-13T20:35:38.756Z"
   },
   {
    "duration": 32,
    "start_time": "2021-06-13T20:35:39.113Z"
   },
   {
    "duration": 21,
    "start_time": "2021-06-13T20:35:39.147Z"
   },
   {
    "duration": 4,
    "start_time": "2021-06-13T20:35:39.174Z"
   },
   {
    "duration": 520,
    "start_time": "2021-06-13T20:35:39.181Z"
   },
   {
    "duration": 34,
    "start_time": "2021-06-13T20:35:39.703Z"
   },
   {
    "duration": 535,
    "start_time": "2021-06-13T20:35:39.740Z"
   },
   {
    "duration": 533,
    "start_time": "2021-06-13T20:35:40.278Z"
   },
   {
    "duration": 19,
    "start_time": "2021-06-13T20:35:40.813Z"
   },
   {
    "duration": 17,
    "start_time": "2021-06-13T20:35:40.834Z"
   },
   {
    "duration": 19,
    "start_time": "2021-06-13T20:35:40.854Z"
   },
   {
    "duration": 1249,
    "start_time": "2021-06-13T20:35:40.876Z"
   },
   {
    "duration": 21,
    "start_time": "2021-06-13T20:35:42.127Z"
   },
   {
    "duration": 22,
    "start_time": "2021-06-13T20:35:42.151Z"
   },
   {
    "duration": 71,
    "start_time": "2021-06-13T20:35:42.176Z"
   },
   {
    "duration": 17,
    "start_time": "2021-06-13T20:35:42.249Z"
   },
   {
    "duration": 13,
    "start_time": "2021-06-13T20:35:42.269Z"
   },
   {
    "duration": 5,
    "start_time": "2021-06-13T20:35:42.285Z"
   },
   {
    "duration": 174,
    "start_time": "2021-06-13T20:35:42.292Z"
   },
   {
    "duration": 157,
    "start_time": "2021-06-13T20:35:42.468Z"
   },
   {
    "duration": 153,
    "start_time": "2021-06-13T20:35:42.627Z"
   },
   {
    "duration": 15,
    "start_time": "2021-06-13T20:35:42.783Z"
   },
   {
    "duration": 35,
    "start_time": "2021-06-13T20:35:42.800Z"
   },
   {
    "duration": 27,
    "start_time": "2021-06-13T20:35:42.837Z"
   },
   {
    "duration": 158,
    "start_time": "2021-06-13T20:35:42.867Z"
   },
   {
    "duration": 144,
    "start_time": "2021-06-13T20:35:43.027Z"
   },
   {
    "duration": 151,
    "start_time": "2021-06-13T20:35:43.174Z"
   },
   {
    "duration": 4,
    "start_time": "2021-06-13T20:35:43.327Z"
   },
   {
    "duration": 9,
    "start_time": "2021-06-13T20:35:43.334Z"
   },
   {
    "duration": 424,
    "start_time": "2021-06-13T20:35:43.345Z"
   },
   {
    "duration": 454,
    "start_time": "2021-06-13T20:35:43.771Z"
   },
   {
    "duration": 567,
    "start_time": "2021-06-13T20:35:44.228Z"
   },
   {
    "duration": 350,
    "start_time": "2021-06-13T20:35:44.798Z"
   },
   {
    "duration": 334,
    "start_time": "2021-06-13T20:35:45.151Z"
   },
   {
    "duration": 338,
    "start_time": "2021-06-13T20:35:45.487Z"
   },
   {
    "duration": 239,
    "start_time": "2021-06-13T20:35:45.828Z"
   },
   {
    "duration": 15,
    "start_time": "2021-06-13T20:35:46.070Z"
   },
   {
    "duration": 40,
    "start_time": "2021-06-13T20:35:46.088Z"
   },
   {
    "duration": 351,
    "start_time": "2021-06-13T20:35:46.130Z"
   },
   {
    "duration": 230,
    "start_time": "2021-06-13T20:35:46.483Z"
   },
   {
    "duration": 315,
    "start_time": "2021-06-13T20:35:46.715Z"
   },
   {
    "duration": 222,
    "start_time": "2021-06-13T20:35:47.033Z"
   },
   {
    "duration": 15,
    "start_time": "2021-06-13T20:35:47.258Z"
   },
   {
    "duration": 20,
    "start_time": "2021-06-13T20:35:47.275Z"
   },
   {
    "duration": 4430,
    "start_time": "2021-06-13T20:36:26.495Z"
   },
   {
    "duration": 19,
    "start_time": "2021-06-13T20:36:38.058Z"
   },
   {
    "duration": 18,
    "start_time": "2021-06-13T20:37:12.481Z"
   },
   {
    "duration": 14,
    "start_time": "2021-06-13T20:37:18.903Z"
   },
   {
    "duration": 14,
    "start_time": "2021-06-13T20:37:24.883Z"
   },
   {
    "duration": 25,
    "start_time": "2021-06-13T20:37:56.141Z"
   },
   {
    "duration": 11,
    "start_time": "2021-06-13T20:38:16.441Z"
   },
   {
    "duration": 9,
    "start_time": "2021-06-13T20:38:43.029Z"
   },
   {
    "duration": 12,
    "start_time": "2021-06-13T20:38:49.108Z"
   },
   {
    "duration": 133,
    "start_time": "2021-06-13T20:38:59.199Z"
   },
   {
    "duration": 19,
    "start_time": "2021-06-13T20:39:19.923Z"
   },
   {
    "duration": 152,
    "start_time": "2021-06-13T20:39:23.930Z"
   },
   {
    "duration": 487,
    "start_time": "2021-06-13T20:43:20.231Z"
   },
   {
    "duration": 33,
    "start_time": "2021-06-13T20:43:27.197Z"
   },
   {
    "duration": 351,
    "start_time": "2021-06-13T20:43:35.478Z"
   },
   {
    "duration": 32,
    "start_time": "2021-06-13T20:43:37.702Z"
   },
   {
    "duration": 8,
    "start_time": "2021-06-13T20:43:50.105Z"
   },
   {
    "duration": 14,
    "start_time": "2021-06-13T20:43:56.909Z"
   },
   {
    "duration": 395,
    "start_time": "2021-06-13T20:44:23.195Z"
   },
   {
    "duration": 135,
    "start_time": "2021-06-13T20:44:26.218Z"
   },
   {
    "duration": 129,
    "start_time": "2021-06-13T20:44:34.552Z"
   },
   {
    "duration": 17,
    "start_time": "2021-06-13T20:44:55.385Z"
   },
   {
    "duration": 214,
    "start_time": "2021-06-13T20:45:03.193Z"
   },
   {
    "duration": 19,
    "start_time": "2021-06-13T20:50:46.507Z"
   },
   {
    "duration": 135,
    "start_time": "2021-06-13T20:50:49.187Z"
   },
   {
    "duration": 13,
    "start_time": "2021-06-13T20:51:02.193Z"
   },
   {
    "duration": 18,
    "start_time": "2021-06-13T20:51:22.223Z"
   },
   {
    "duration": 12,
    "start_time": "2021-06-13T20:51:22.387Z"
   },
   {
    "duration": 19,
    "start_time": "2021-06-13T20:51:31.197Z"
   },
   {
    "duration": 12,
    "start_time": "2021-06-13T20:51:31.384Z"
   },
   {
    "duration": 18,
    "start_time": "2021-06-13T20:51:54.944Z"
   },
   {
    "duration": 10,
    "start_time": "2021-06-13T20:51:55.533Z"
   },
   {
    "duration": 143,
    "start_time": "2021-06-13T20:52:53.304Z"
   },
   {
    "duration": 140,
    "start_time": "2021-06-13T20:52:54.375Z"
   },
   {
    "duration": 132,
    "start_time": "2021-06-13T20:52:55.593Z"
   },
   {
    "duration": 132,
    "start_time": "2021-06-13T20:54:15.562Z"
   },
   {
    "duration": 26,
    "start_time": "2021-06-13T20:54:56.738Z"
   },
   {
    "duration": 26,
    "start_time": "2021-06-13T20:55:27.022Z"
   },
   {
    "duration": 10,
    "start_time": "2021-06-13T20:58:15.442Z"
   },
   {
    "duration": 1780,
    "start_time": "2021-06-14T16:32:02.670Z"
   },
   {
    "duration": 47,
    "start_time": "2021-06-14T16:32:04.453Z"
   },
   {
    "duration": 37,
    "start_time": "2021-06-14T16:32:04.505Z"
   },
   {
    "duration": 26,
    "start_time": "2021-06-14T16:32:04.545Z"
   },
   {
    "duration": 8,
    "start_time": "2021-06-14T16:32:04.574Z"
   },
   {
    "duration": 87,
    "start_time": "2021-06-14T16:32:04.585Z"
   },
   {
    "duration": 6,
    "start_time": "2021-06-14T16:32:04.674Z"
   },
   {
    "duration": 199,
    "start_time": "2021-06-14T16:32:04.685Z"
   },
   {
    "duration": 50,
    "start_time": "2021-06-14T16:32:04.888Z"
   },
   {
    "duration": 8,
    "start_time": "2021-06-14T16:32:04.941Z"
   },
   {
    "duration": 16,
    "start_time": "2021-06-14T16:32:04.952Z"
   },
   {
    "duration": 53,
    "start_time": "2021-06-14T16:32:04.971Z"
   },
   {
    "duration": 8,
    "start_time": "2021-06-14T16:32:05.028Z"
   },
   {
    "duration": 5,
    "start_time": "2021-06-14T16:32:05.039Z"
   },
   {
    "duration": 6,
    "start_time": "2021-06-14T16:32:05.047Z"
   },
   {
    "duration": 19,
    "start_time": "2021-06-14T16:32:05.056Z"
   },
   {
    "duration": 58,
    "start_time": "2021-06-14T16:32:05.077Z"
   },
   {
    "duration": 12,
    "start_time": "2021-06-14T16:32:05.138Z"
   },
   {
    "duration": 10,
    "start_time": "2021-06-14T16:32:05.153Z"
   },
   {
    "duration": 7,
    "start_time": "2021-06-14T16:32:05.165Z"
   },
   {
    "duration": 17,
    "start_time": "2021-06-14T16:32:05.174Z"
   },
   {
    "duration": 33,
    "start_time": "2021-06-14T16:32:05.194Z"
   },
   {
    "duration": 28,
    "start_time": "2021-06-14T16:32:05.232Z"
   },
   {
    "duration": 328,
    "start_time": "2021-06-14T16:32:05.264Z"
   },
   {
    "duration": 39,
    "start_time": "2021-06-14T16:32:05.594Z"
   },
   {
    "duration": 19,
    "start_time": "2021-06-14T16:32:05.635Z"
   },
   {
    "duration": 4,
    "start_time": "2021-06-14T16:32:05.657Z"
   },
   {
    "duration": 477,
    "start_time": "2021-06-14T16:32:05.663Z"
   },
   {
    "duration": 25,
    "start_time": "2021-06-14T16:32:06.142Z"
   },
   {
    "duration": 520,
    "start_time": "2021-06-14T16:32:06.170Z"
   },
   {
    "duration": 530,
    "start_time": "2021-06-14T16:32:06.693Z"
   },
   {
    "duration": 19,
    "start_time": "2021-06-14T16:32:07.226Z"
   },
   {
    "duration": 18,
    "start_time": "2021-06-14T16:32:07.248Z"
   },
   {
    "duration": 12,
    "start_time": "2021-06-14T16:32:07.269Z"
   },
   {
    "duration": 1254,
    "start_time": "2021-06-14T16:32:07.284Z"
   },
   {
    "duration": 21,
    "start_time": "2021-06-14T16:32:08.541Z"
   },
   {
    "duration": 21,
    "start_time": "2021-06-14T16:32:08.564Z"
   },
   {
    "duration": 76,
    "start_time": "2021-06-14T16:32:08.587Z"
   },
   {
    "duration": 15,
    "start_time": "2021-06-14T16:32:08.665Z"
   },
   {
    "duration": 18,
    "start_time": "2021-06-14T16:32:08.682Z"
   },
   {
    "duration": 6,
    "start_time": "2021-06-14T16:32:08.726Z"
   },
   {
    "duration": 192,
    "start_time": "2021-06-14T16:32:08.734Z"
   },
   {
    "duration": 146,
    "start_time": "2021-06-14T16:32:08.929Z"
   },
   {
    "duration": 146,
    "start_time": "2021-06-14T16:32:09.078Z"
   },
   {
    "duration": 10,
    "start_time": "2021-06-14T16:32:09.226Z"
   },
   {
    "duration": 22,
    "start_time": "2021-06-14T16:32:09.238Z"
   },
   {
    "duration": 155,
    "start_time": "2021-06-14T16:32:09.262Z"
   },
   {
    "duration": 146,
    "start_time": "2021-06-14T16:32:09.420Z"
   },
   {
    "duration": 149,
    "start_time": "2021-06-14T16:32:09.569Z"
   },
   {
    "duration": 5,
    "start_time": "2021-06-14T16:32:09.724Z"
   },
   {
    "duration": 7,
    "start_time": "2021-06-14T16:32:09.732Z"
   },
   {
    "duration": 537,
    "start_time": "2021-06-14T16:32:09.741Z"
   },
   {
    "duration": 500,
    "start_time": "2021-06-14T16:32:10.280Z"
   },
   {
    "duration": 761,
    "start_time": "2021-06-14T16:32:10.783Z"
   },
   {
    "duration": 632,
    "start_time": "2021-06-14T16:32:11.547Z"
   },
   {
    "duration": 429,
    "start_time": "2021-06-14T16:32:12.181Z"
   },
   {
    "duration": 320,
    "start_time": "2021-06-14T16:32:12.613Z"
   },
   {
    "duration": 305,
    "start_time": "2021-06-14T16:32:12.936Z"
   },
   {
    "duration": 14,
    "start_time": "2021-06-14T16:32:13.244Z"
   },
   {
    "duration": 22,
    "start_time": "2021-06-14T16:32:13.261Z"
   },
   {
    "duration": 651,
    "start_time": "2021-06-14T16:32:13.325Z"
   },
   {
    "duration": 339,
    "start_time": "2021-06-14T16:32:14.026Z"
   },
   {
    "duration": 312,
    "start_time": "2021-06-14T16:32:14.367Z"
   },
   {
    "duration": 258,
    "start_time": "2021-06-14T16:32:14.681Z"
   },
   {
    "duration": 14,
    "start_time": "2021-06-14T16:32:14.942Z"
   },
   {
    "duration": 22,
    "start_time": "2021-06-14T16:32:14.958Z"
   },
   {
    "duration": 1807,
    "start_time": "2021-06-14T16:38:47.854Z"
   },
   {
    "duration": 35,
    "start_time": "2021-06-14T16:38:49.664Z"
   },
   {
    "duration": 31,
    "start_time": "2021-06-14T16:38:49.702Z"
   },
   {
    "duration": 20,
    "start_time": "2021-06-14T16:38:49.736Z"
   },
   {
    "duration": 8,
    "start_time": "2021-06-14T16:38:49.760Z"
   },
   {
    "duration": 93,
    "start_time": "2021-06-14T16:38:49.771Z"
   },
   {
    "duration": 5,
    "start_time": "2021-06-14T16:38:49.867Z"
   },
   {
    "duration": 162,
    "start_time": "2021-06-14T16:38:49.876Z"
   },
   {
    "duration": 37,
    "start_time": "2021-06-14T16:38:50.043Z"
   },
   {
    "duration": 7,
    "start_time": "2021-06-14T16:38:50.082Z"
   },
   {
    "duration": 42,
    "start_time": "2021-06-14T16:38:50.092Z"
   },
   {
    "duration": 23,
    "start_time": "2021-06-14T16:38:50.137Z"
   },
   {
    "duration": 12,
    "start_time": "2021-06-14T16:38:50.163Z"
   },
   {
    "duration": 5,
    "start_time": "2021-06-14T16:38:50.178Z"
   },
   {
    "duration": 5,
    "start_time": "2021-06-14T16:38:50.225Z"
   },
   {
    "duration": 20,
    "start_time": "2021-06-14T16:38:50.234Z"
   },
   {
    "duration": 9,
    "start_time": "2021-06-14T16:38:50.257Z"
   },
   {
    "duration": 8,
    "start_time": "2021-06-14T16:38:50.268Z"
   },
   {
    "duration": 7,
    "start_time": "2021-06-14T16:38:50.279Z"
   },
   {
    "duration": 6,
    "start_time": "2021-06-14T16:38:50.325Z"
   },
   {
    "duration": 17,
    "start_time": "2021-06-14T16:38:50.334Z"
   },
   {
    "duration": 8,
    "start_time": "2021-06-14T16:38:50.354Z"
   },
   {
    "duration": 73,
    "start_time": "2021-06-14T16:38:50.370Z"
   },
   {
    "duration": 445,
    "start_time": "2021-06-14T16:38:50.447Z"
   },
   {
    "duration": 49,
    "start_time": "2021-06-14T16:38:50.895Z"
   },
   {
    "duration": 24,
    "start_time": "2021-06-14T16:38:50.947Z"
   },
   {
    "duration": 4,
    "start_time": "2021-06-14T16:38:50.973Z"
   },
   {
    "duration": 552,
    "start_time": "2021-06-14T16:38:50.979Z"
   },
   {
    "duration": 23,
    "start_time": "2021-06-14T16:38:51.534Z"
   },
   {
    "duration": 563,
    "start_time": "2021-06-14T16:38:51.561Z"
   },
   {
    "duration": 559,
    "start_time": "2021-06-14T16:38:52.127Z"
   },
   {
    "duration": 15,
    "start_time": "2021-06-14T16:38:52.689Z"
   },
   {
    "duration": 18,
    "start_time": "2021-06-14T16:38:52.725Z"
   },
   {
    "duration": 18,
    "start_time": "2021-06-14T16:38:52.746Z"
   },
   {
    "duration": 1283,
    "start_time": "2021-06-14T16:38:52.766Z"
   },
   {
    "duration": 21,
    "start_time": "2021-06-14T16:38:54.052Z"
   },
   {
    "duration": 50,
    "start_time": "2021-06-14T16:38:54.076Z"
   },
   {
    "duration": 43,
    "start_time": "2021-06-14T16:38:54.129Z"
   },
   {
    "duration": 15,
    "start_time": "2021-06-14T16:38:54.174Z"
   },
   {
    "duration": 39,
    "start_time": "2021-06-14T16:38:54.191Z"
   },
   {
    "duration": 9,
    "start_time": "2021-06-14T16:38:54.232Z"
   },
   {
    "duration": 152,
    "start_time": "2021-06-14T16:38:54.253Z"
   },
   {
    "duration": 151,
    "start_time": "2021-06-14T16:38:54.408Z"
   },
   {
    "duration": 139,
    "start_time": "2021-06-14T16:38:54.562Z"
   },
   {
    "duration": 19,
    "start_time": "2021-06-14T16:38:54.704Z"
   },
   {
    "duration": 23,
    "start_time": "2021-06-14T16:38:54.726Z"
   },
   {
    "duration": 154,
    "start_time": "2021-06-14T16:38:54.751Z"
   },
   {
    "duration": 160,
    "start_time": "2021-06-14T16:38:54.909Z"
   },
   {
    "duration": 167,
    "start_time": "2021-06-14T16:38:55.072Z"
   },
   {
    "duration": 6,
    "start_time": "2021-06-14T16:38:55.243Z"
   },
   {
    "duration": 10,
    "start_time": "2021-06-14T16:38:55.252Z"
   },
   {
    "duration": 453,
    "start_time": "2021-06-14T16:38:55.264Z"
   },
   {
    "duration": 471,
    "start_time": "2021-06-14T16:38:55.720Z"
   },
   {
    "duration": 577,
    "start_time": "2021-06-14T16:38:56.193Z"
   },
   {
    "duration": 358,
    "start_time": "2021-06-14T16:38:56.772Z"
   },
   {
    "duration": 355,
    "start_time": "2021-06-14T16:38:57.133Z"
   },
   {
    "duration": 342,
    "start_time": "2021-06-14T16:38:57.490Z"
   },
   {
    "duration": 249,
    "start_time": "2021-06-14T16:38:57.835Z"
   },
   {
    "duration": 15,
    "start_time": "2021-06-14T16:38:58.087Z"
   },
   {
    "duration": 41,
    "start_time": "2021-06-14T16:38:58.104Z"
   },
   {
    "duration": 385,
    "start_time": "2021-06-14T16:38:58.148Z"
   },
   {
    "duration": 246,
    "start_time": "2021-06-14T16:38:58.536Z"
   },
   {
    "duration": 319,
    "start_time": "2021-06-14T16:38:58.785Z"
   },
   {
    "duration": 220,
    "start_time": "2021-06-14T16:38:59.106Z"
   },
   {
    "duration": 24,
    "start_time": "2021-06-14T16:38:59.329Z"
   },
   {
    "duration": 23,
    "start_time": "2021-06-14T16:38:59.356Z"
   },
   {
    "duration": 1496,
    "start_time": "2021-06-15T11:47:24.491Z"
   },
   {
    "duration": 37,
    "start_time": "2021-06-15T11:47:25.989Z"
   },
   {
    "duration": 14,
    "start_time": "2021-06-15T11:47:26.029Z"
   },
   {
    "duration": 19,
    "start_time": "2021-06-15T11:47:26.046Z"
   },
   {
    "duration": 8,
    "start_time": "2021-06-15T11:47:26.068Z"
   },
   {
    "duration": 75,
    "start_time": "2021-06-15T11:47:26.079Z"
   },
   {
    "duration": 6,
    "start_time": "2021-06-15T11:47:26.157Z"
   },
   {
    "duration": 141,
    "start_time": "2021-06-15T11:47:26.166Z"
   },
   {
    "duration": 40,
    "start_time": "2021-06-15T11:47:26.311Z"
   },
   {
    "duration": 6,
    "start_time": "2021-06-15T11:47:26.354Z"
   },
   {
    "duration": 12,
    "start_time": "2021-06-15T11:47:26.363Z"
   },
   {
    "duration": 61,
    "start_time": "2021-06-15T11:47:26.377Z"
   },
   {
    "duration": 6,
    "start_time": "2021-06-15T11:47:26.441Z"
   },
   {
    "duration": 7,
    "start_time": "2021-06-15T11:47:26.449Z"
   },
   {
    "duration": 9,
    "start_time": "2021-06-15T11:47:26.459Z"
   },
   {
    "duration": 17,
    "start_time": "2021-06-15T11:47:26.471Z"
   },
   {
    "duration": 43,
    "start_time": "2021-06-15T11:47:26.491Z"
   },
   {
    "duration": 9,
    "start_time": "2021-06-15T11:47:26.537Z"
   },
   {
    "duration": 11,
    "start_time": "2021-06-15T11:47:26.549Z"
   },
   {
    "duration": 10,
    "start_time": "2021-06-15T11:47:26.563Z"
   },
   {
    "duration": 57,
    "start_time": "2021-06-15T11:47:26.576Z"
   },
   {
    "duration": 8,
    "start_time": "2021-06-15T11:47:26.636Z"
   },
   {
    "duration": 26,
    "start_time": "2021-06-15T11:47:26.653Z"
   },
   {
    "duration": 475,
    "start_time": "2021-06-15T11:47:26.684Z"
   },
   {
    "duration": 27,
    "start_time": "2021-06-15T11:47:27.162Z"
   },
   {
    "duration": 45,
    "start_time": "2021-06-15T11:47:27.191Z"
   },
   {
    "duration": 4,
    "start_time": "2021-06-15T11:47:27.238Z"
   },
   {
    "duration": 505,
    "start_time": "2021-06-15T11:47:27.244Z"
   },
   {
    "duration": 25,
    "start_time": "2021-06-15T11:47:27.752Z"
   },
   {
    "duration": 520,
    "start_time": "2021-06-15T11:47:27.779Z"
   },
   {
    "duration": 525,
    "start_time": "2021-06-15T11:47:28.301Z"
   },
   {
    "duration": 16,
    "start_time": "2021-06-15T11:47:28.829Z"
   },
   {
    "duration": 13,
    "start_time": "2021-06-15T11:47:28.847Z"
   },
   {
    "duration": 15,
    "start_time": "2021-06-15T11:47:28.863Z"
   },
   {
    "duration": 1324,
    "start_time": "2021-06-15T11:47:28.880Z"
   },
   {
    "duration": 31,
    "start_time": "2021-06-15T11:47:30.206Z"
   },
   {
    "duration": 21,
    "start_time": "2021-06-15T11:47:30.239Z"
   },
   {
    "duration": 72,
    "start_time": "2021-06-15T11:47:30.263Z"
   },
   {
    "duration": 14,
    "start_time": "2021-06-15T11:47:30.337Z"
   },
   {
    "duration": 20,
    "start_time": "2021-06-15T11:47:30.354Z"
   },
   {
    "duration": 14,
    "start_time": "2021-06-15T11:47:30.376Z"
   },
   {
    "duration": 156,
    "start_time": "2021-06-15T11:47:30.393Z"
   },
   {
    "duration": 147,
    "start_time": "2021-06-15T11:47:30.552Z"
   },
   {
    "duration": 167,
    "start_time": "2021-06-15T11:47:30.702Z"
   },
   {
    "duration": 9,
    "start_time": "2021-06-15T11:47:30.872Z"
   },
   {
    "duration": 24,
    "start_time": "2021-06-15T11:47:30.884Z"
   },
   {
    "duration": 145,
    "start_time": "2021-06-15T11:47:30.926Z"
   },
   {
    "duration": 145,
    "start_time": "2021-06-15T11:47:31.073Z"
   },
   {
    "duration": 188,
    "start_time": "2021-06-15T11:47:31.221Z"
   },
   {
    "duration": 14,
    "start_time": "2021-06-15T11:47:31.412Z"
   },
   {
    "duration": 10,
    "start_time": "2021-06-15T11:47:31.430Z"
   },
   {
    "duration": 601,
    "start_time": "2021-06-15T11:47:31.443Z"
   },
   {
    "duration": 622,
    "start_time": "2021-06-15T11:47:32.047Z"
   },
   {
    "duration": 422,
    "start_time": "2021-06-15T11:47:32.671Z"
   },
   {
    "duration": 325,
    "start_time": "2021-06-15T11:47:33.096Z"
   },
   {
    "duration": 318,
    "start_time": "2021-06-15T11:47:33.426Z"
   },
   {
    "duration": 314,
    "start_time": "2021-06-15T11:47:33.746Z"
   },
   {
    "duration": 228,
    "start_time": "2021-06-15T11:47:34.062Z"
   },
   {
    "duration": 14,
    "start_time": "2021-06-15T11:47:34.292Z"
   },
   {
    "duration": 30,
    "start_time": "2021-06-15T11:47:34.309Z"
   },
   {
    "duration": 520,
    "start_time": "2021-06-15T11:47:34.341Z"
   },
   {
    "duration": 380,
    "start_time": "2021-06-15T11:47:34.863Z"
   },
   {
    "duration": 474,
    "start_time": "2021-06-15T11:47:35.246Z"
   },
   {
    "duration": 226,
    "start_time": "2021-06-15T11:47:35.725Z"
   },
   {
    "duration": 14,
    "start_time": "2021-06-15T11:47:35.954Z"
   },
   {
    "duration": 19,
    "start_time": "2021-06-15T11:47:35.970Z"
   },
   {
    "duration": 11,
    "start_time": "2021-06-15T11:47:46.963Z"
   },
   {
    "duration": 43,
    "start_time": "2021-06-15T11:47:55.515Z"
   }
  ],
  "kernelspec": {
   "display_name": "Python 3",
   "language": "python",
   "name": "python3"
  },
  "language_info": {
   "codemirror_mode": {
    "name": "ipython",
    "version": 3
   },
   "file_extension": ".py",
   "mimetype": "text/x-python",
   "name": "python",
   "nbconvert_exporter": "python",
   "pygments_lexer": "ipython3",
   "version": "3.7.10"
  },
  "toc": {
   "base_numbering": 1,
   "nav_menu": {
    "height": "372px",
    "width": "491px"
   },
   "number_sections": true,
   "sideBar": true,
   "skip_h1_title": true,
   "title_cell": "Table of Contents",
   "title_sidebar": "Contents",
   "toc_cell": false,
   "toc_position": {},
   "toc_section_display": true,
   "toc_window_display": false
  }
 },
 "nbformat": 4,
 "nbformat_minor": 2
}
