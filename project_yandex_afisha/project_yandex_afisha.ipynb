{
 "cells": [
  {
   "cell_type": "markdown",
   "id": "420c0e6b",
   "metadata": {},
   "source": [
    "# Определение перспективного источника трафика для Яндекс.Афиши\n",
    "\n",
    "Цель проекта - определить выгодные источники трафика, чтобы правильно спланировать маркетинговый бюджет и повысить прибыльность Яндекс.Афиши.\n",
    "\n",
    "Были изучены пользовательские данные с июня 2017 по конец мая 2018 года: такие, как логи с посещениями и заказами. Также была проанализирована статистика расходов на привлечение клиентов. Перед анализом данные прошли проверку и предобработку.\n",
    "\n",
    "В ходе исследования мы изучили:\n",
    "* как клиенты пользуются сервисом,\n",
    "* когда делают первые покупки на сайте,\n",
    "* сколько денег приносит компании каждый клиент,\n",
    "* когда расходы на привлечение клиента окупаются.\n",
    "\n",
    "Мы использовали когортный анализ для исследования показателей, что позволило нам не просто смотреть на данные в динамике, но и определить, чем вызваны изменения: текущими действиями или же решениями, принятыми в предыдущий период. \n",
    "\n",
    "В заключении предоставлены рекомендации, подкрепленные полученными метриками (продуктовыми, маркетинговыми, метриками электронной коммерции)."
   ]
  },
  {
   "cell_type": "markdown",
   "id": "3059a3db",
   "metadata": {},
   "source": [
    "## 1. Загрузка и подготовка данных для анализа"
   ]
  },
  {
   "cell_type": "code",
   "execution_count": 1,
   "id": "10bdb55f",
   "metadata": {},
   "outputs": [],
   "source": [
    "# импорт необходимых библиотек\n",
    "import warnings\n",
    "warnings.simplefilter(action='ignore', category=FutureWarning)\n",
    "import os\n",
    "import pandas as pd\n",
    "from matplotlib import pyplot as plt\n",
    "import numpy as np\n",
    "import seaborn as sns"
   ]
  },
  {
   "cell_type": "code",
   "execution_count": 2,
   "id": "3487cb79",
   "metadata": {},
   "outputs": [],
   "source": [
    "def load_csv_choose_path(filename):\n",
    "    \"\"\"\n",
    "    Функция читает csv файл, проверяя 2 пути,\n",
    "    чтобы не требовалось править код перед отправкой ревьюверу.\n",
    "    Созданна коллективно в da_24_teamwork\n",
    "    \"\"\"\n",
    "    path1 = filename\n",
    "    path2 = '/datasets/' + filename\n",
    "    if os.path.exists(path1):\n",
    "        data = pd.read_csv(path1)\n",
    "    elif os.path.exists(path2):\n",
    "        data = pd.read_csv(path2)\n",
    "    else:\n",
    "        raise FileNotFoundError(filename)\n",
    "    return data"
   ]
  },
  {
   "cell_type": "markdown",
   "id": "069ce1fa",
   "metadata": {},
   "source": [
    "Загрузим три файла с данными: visits, orders и costs."
   ]
  },
  {
   "cell_type": "code",
   "execution_count": 3,
   "id": "eefa4779",
   "metadata": {},
   "outputs": [],
   "source": [
    "visits = load_csv_choose_path('visits_log.csv')\n",
    "orders = load_csv_choose_path('orders_log.csv')\n",
    "costs = load_csv_choose_path('costs.csv')"
   ]
  },
  {
   "cell_type": "markdown",
   "id": "5ca79be2",
   "metadata": {},
   "source": [
    "В датафрейме visits представлен лог сервера с информацией о посещениях сайта. "
   ]
  },
  {
   "cell_type": "code",
   "execution_count": 4,
   "id": "a57e8f87",
   "metadata": {},
   "outputs": [
    {
     "data": {
      "text/html": [
       "<div>\n",
       "<style scoped>\n",
       "    .dataframe tbody tr th:only-of-type {\n",
       "        vertical-align: middle;\n",
       "    }\n",
       "\n",
       "    .dataframe tbody tr th {\n",
       "        vertical-align: top;\n",
       "    }\n",
       "\n",
       "    .dataframe thead th {\n",
       "        text-align: right;\n",
       "    }\n",
       "</style>\n",
       "<table border=\"1\" class=\"dataframe\">\n",
       "  <thead>\n",
       "    <tr style=\"text-align: right;\">\n",
       "      <th></th>\n",
       "      <th>Device</th>\n",
       "      <th>End Ts</th>\n",
       "      <th>Source Id</th>\n",
       "      <th>Start Ts</th>\n",
       "      <th>Uid</th>\n",
       "    </tr>\n",
       "  </thead>\n",
       "  <tbody>\n",
       "    <tr>\n",
       "      <td>0</td>\n",
       "      <td>touch</td>\n",
       "      <td>2017-12-20 17:38:00</td>\n",
       "      <td>4</td>\n",
       "      <td>2017-12-20 17:20:00</td>\n",
       "      <td>16879256277535980062</td>\n",
       "    </tr>\n",
       "    <tr>\n",
       "      <td>1</td>\n",
       "      <td>desktop</td>\n",
       "      <td>2018-02-19 17:21:00</td>\n",
       "      <td>2</td>\n",
       "      <td>2018-02-19 16:53:00</td>\n",
       "      <td>104060357244891740</td>\n",
       "    </tr>\n",
       "    <tr>\n",
       "      <td>2</td>\n",
       "      <td>touch</td>\n",
       "      <td>2017-07-01 01:54:00</td>\n",
       "      <td>5</td>\n",
       "      <td>2017-07-01 01:54:00</td>\n",
       "      <td>7459035603376831527</td>\n",
       "    </tr>\n",
       "    <tr>\n",
       "      <td>3</td>\n",
       "      <td>desktop</td>\n",
       "      <td>2018-05-20 11:23:00</td>\n",
       "      <td>9</td>\n",
       "      <td>2018-05-20 10:59:00</td>\n",
       "      <td>16174680259334210214</td>\n",
       "    </tr>\n",
       "    <tr>\n",
       "      <td>4</td>\n",
       "      <td>desktop</td>\n",
       "      <td>2017-12-27 14:06:00</td>\n",
       "      <td>3</td>\n",
       "      <td>2017-12-27 14:06:00</td>\n",
       "      <td>9969694820036681168</td>\n",
       "    </tr>\n",
       "  </tbody>\n",
       "</table>\n",
       "</div>"
      ],
      "text/plain": [
       "    Device               End Ts  Source Id             Start Ts  \\\n",
       "0    touch  2017-12-20 17:38:00          4  2017-12-20 17:20:00   \n",
       "1  desktop  2018-02-19 17:21:00          2  2018-02-19 16:53:00   \n",
       "2    touch  2017-07-01 01:54:00          5  2017-07-01 01:54:00   \n",
       "3  desktop  2018-05-20 11:23:00          9  2018-05-20 10:59:00   \n",
       "4  desktop  2017-12-27 14:06:00          3  2017-12-27 14:06:00   \n",
       "\n",
       "                    Uid  \n",
       "0  16879256277535980062  \n",
       "1    104060357244891740  \n",
       "2   7459035603376831527  \n",
       "3  16174680259334210214  \n",
       "4   9969694820036681168  "
      ]
     },
     "execution_count": 4,
     "metadata": {},
     "output_type": "execute_result"
    }
   ],
   "source": [
    "visits.head()"
   ]
  },
  {
   "cell_type": "code",
   "execution_count": 5,
   "id": "011ee80c",
   "metadata": {},
   "outputs": [
    {
     "name": "stdout",
     "output_type": "stream",
     "text": [
      "<class 'pandas.core.frame.DataFrame'>\n",
      "RangeIndex: 359400 entries, 0 to 359399\n",
      "Data columns (total 5 columns):\n",
      "Device       359400 non-null object\n",
      "End Ts       359400 non-null object\n",
      "Source Id    359400 non-null int64\n",
      "Start Ts     359400 non-null object\n",
      "Uid          359400 non-null uint64\n",
      "dtypes: int64(1), object(3), uint64(1)\n",
      "memory usage: 13.7+ MB\n"
     ]
    }
   ],
   "source": [
    "visits.info()"
   ]
  },
  {
   "cell_type": "markdown",
   "id": "af4ca9af",
   "metadata": {},
   "source": [
    "В таблице 5 столбцов с одинаковм количеством строк - значит, пропусков нет. \n",
    "\n",
    "В столбце Source Id целым числом обозначены разные источники перехода на сайт. Поэтому тип данных uint64 данного столбца - корректный.\n",
    "\n",
    "Столбцы Device, Uid хранят информацию об устройстве и уникальном id пользователя. Эти данные имеют соответствующий тип object. \n",
    "Этим же типом представлены дата начала и окончания сессии. Для удобства работы с датой, нужно будет преобразовать столбцы к типу datetime. \n",
    "\n",
    "Сначала переименуем столбцы так, чтобы все заголовки были в нижнем регистре и не содержали пробелов."
   ]
  },
  {
   "cell_type": "code",
   "execution_count": 6,
   "id": "bacb6139",
   "metadata": {},
   "outputs": [],
   "source": [
    "visits.columns = ['device', 'visit_end', 'source_id', 'visit_start', 'uid']"
   ]
  },
  {
   "cell_type": "markdown",
   "id": "dd2531e9",
   "metadata": {},
   "source": [
    "Преобразуем типы данных:"
   ]
  },
  {
   "cell_type": "code",
   "execution_count": 7,
   "id": "ec5ce57f",
   "metadata": {},
   "outputs": [],
   "source": [
    "visits['visit_end'] = pd.to_datetime(visits['visit_end'])\n",
    "visits['visit_start'] = pd.to_datetime(visits['visit_start'])\n",
    "visits['uid'] = visits['uid'].astype(object)"
   ]
  },
  {
   "cell_type": "markdown",
   "id": "2b65f3b8",
   "metadata": {},
   "source": [
    "Проверка результатов:"
   ]
  },
  {
   "cell_type": "code",
   "execution_count": 8,
   "id": "8690ddde",
   "metadata": {},
   "outputs": [
    {
     "name": "stdout",
     "output_type": "stream",
     "text": [
      "<class 'pandas.core.frame.DataFrame'>\n",
      "RangeIndex: 359400 entries, 0 to 359399\n",
      "Data columns (total 5 columns):\n",
      "device         359400 non-null object\n",
      "visit_end      359400 non-null datetime64[ns]\n",
      "source_id      359400 non-null int64\n",
      "visit_start    359400 non-null datetime64[ns]\n",
      "uid            359400 non-null object\n",
      "dtypes: datetime64[ns](2), int64(1), object(2)\n",
      "memory usage: 13.7+ MB\n"
     ]
    }
   ],
   "source": [
    "visits.info()"
   ]
  },
  {
   "cell_type": "markdown",
   "id": "17ae69ff",
   "metadata": {},
   "source": [
    "Проверим, есть ли в датафрейме дубликаты. Логически значения могут повторяться во всех столбцах, кроме visit_start и visit_end. Если у одного юзера неколько визитов с одинаковым временем начала и окончания сессии, то это - дубликат."
   ]
  },
  {
   "cell_type": "code",
   "execution_count": 9,
   "id": "56f4bf35",
   "metadata": {},
   "outputs": [
    {
     "data": {
      "text/html": [
       "<div>\n",
       "<style scoped>\n",
       "    .dataframe tbody tr th:only-of-type {\n",
       "        vertical-align: middle;\n",
       "    }\n",
       "\n",
       "    .dataframe tbody tr th {\n",
       "        vertical-align: top;\n",
       "    }\n",
       "\n",
       "    .dataframe thead th {\n",
       "        text-align: right;\n",
       "    }\n",
       "</style>\n",
       "<table border=\"1\" class=\"dataframe\">\n",
       "  <thead>\n",
       "    <tr style=\"text-align: right;\">\n",
       "      <th></th>\n",
       "      <th>device</th>\n",
       "      <th>visit_end</th>\n",
       "      <th>source_id</th>\n",
       "      <th>visit_start</th>\n",
       "      <th>uid</th>\n",
       "    </tr>\n",
       "  </thead>\n",
       "  <tbody>\n",
       "  </tbody>\n",
       "</table>\n",
       "</div>"
      ],
      "text/plain": [
       "Empty DataFrame\n",
       "Columns: [device, visit_end, source_id, visit_start, uid]\n",
       "Index: []"
      ]
     },
     "execution_count": 9,
     "metadata": {},
     "output_type": "execute_result"
    }
   ],
   "source": [
    "visits[visits[['visit_start', 'visit_end', 'uid']].duplicated()]"
   ]
  },
  {
   "cell_type": "markdown",
   "id": "0f9f1162",
   "metadata": {},
   "source": [
    "Проверка выдает пустой датафрейм - значит дубликатов нет."
   ]
  },
  {
   "cell_type": "markdown",
   "id": "659e0c13",
   "metadata": {},
   "source": [
    "В датафрейме orders хранится дата, уникальный номер пользователя и сумма заказа. "
   ]
  },
  {
   "cell_type": "code",
   "execution_count": 10,
   "id": "4142b2ee",
   "metadata": {},
   "outputs": [
    {
     "data": {
      "text/html": [
       "<div>\n",
       "<style scoped>\n",
       "    .dataframe tbody tr th:only-of-type {\n",
       "        vertical-align: middle;\n",
       "    }\n",
       "\n",
       "    .dataframe tbody tr th {\n",
       "        vertical-align: top;\n",
       "    }\n",
       "\n",
       "    .dataframe thead th {\n",
       "        text-align: right;\n",
       "    }\n",
       "</style>\n",
       "<table border=\"1\" class=\"dataframe\">\n",
       "  <thead>\n",
       "    <tr style=\"text-align: right;\">\n",
       "      <th></th>\n",
       "      <th>Buy Ts</th>\n",
       "      <th>Revenue</th>\n",
       "      <th>Uid</th>\n",
       "    </tr>\n",
       "  </thead>\n",
       "  <tbody>\n",
       "    <tr>\n",
       "      <td>0</td>\n",
       "      <td>2017-06-01 00:10:00</td>\n",
       "      <td>17.00</td>\n",
       "      <td>10329302124590727494</td>\n",
       "    </tr>\n",
       "    <tr>\n",
       "      <td>1</td>\n",
       "      <td>2017-06-01 00:25:00</td>\n",
       "      <td>0.55</td>\n",
       "      <td>11627257723692907447</td>\n",
       "    </tr>\n",
       "    <tr>\n",
       "      <td>2</td>\n",
       "      <td>2017-06-01 00:27:00</td>\n",
       "      <td>0.37</td>\n",
       "      <td>17903680561304213844</td>\n",
       "    </tr>\n",
       "    <tr>\n",
       "      <td>3</td>\n",
       "      <td>2017-06-01 00:29:00</td>\n",
       "      <td>0.55</td>\n",
       "      <td>16109239769442553005</td>\n",
       "    </tr>\n",
       "    <tr>\n",
       "      <td>4</td>\n",
       "      <td>2017-06-01 07:58:00</td>\n",
       "      <td>0.37</td>\n",
       "      <td>14200605875248379450</td>\n",
       "    </tr>\n",
       "  </tbody>\n",
       "</table>\n",
       "</div>"
      ],
      "text/plain": [
       "                Buy Ts  Revenue                   Uid\n",
       "0  2017-06-01 00:10:00    17.00  10329302124590727494\n",
       "1  2017-06-01 00:25:00     0.55  11627257723692907447\n",
       "2  2017-06-01 00:27:00     0.37  17903680561304213844\n",
       "3  2017-06-01 00:29:00     0.55  16109239769442553005\n",
       "4  2017-06-01 07:58:00     0.37  14200605875248379450"
      ]
     },
     "execution_count": 10,
     "metadata": {},
     "output_type": "execute_result"
    }
   ],
   "source": [
    "orders.head()"
   ]
  },
  {
   "cell_type": "code",
   "execution_count": 11,
   "id": "444b80cc",
   "metadata": {},
   "outputs": [
    {
     "name": "stdout",
     "output_type": "stream",
     "text": [
      "<class 'pandas.core.frame.DataFrame'>\n",
      "RangeIndex: 50415 entries, 0 to 50414\n",
      "Data columns (total 3 columns):\n",
      "Buy Ts     50415 non-null object\n",
      "Revenue    50415 non-null float64\n",
      "Uid        50415 non-null uint64\n",
      "dtypes: float64(1), object(1), uint64(1)\n",
      "memory usage: 1.2+ MB\n"
     ]
    }
   ],
   "source": [
    "orders.info()"
   ]
  },
  {
   "cell_type": "markdown",
   "id": "cf463e61",
   "metadata": {},
   "source": [
    "Столбец с датой покупки необходимо будет преобразовать из типа object в тип datetime. Выручка представлена дробным числом, тип данных - float. Не будем приводить к типу int, чтобы значения оставались точными.\n",
    "Уникальный номер заказа имеет тип uint64, т.е. целое неотрицательное число. Такие данные логичнее будет преобразовать к типу object.\n",
    "\n",
    "Переименуем столбцы по аналогии с visits и преобразуем типы данных."
   ]
  },
  {
   "cell_type": "code",
   "execution_count": 12,
   "id": "8cf9a45f",
   "metadata": {},
   "outputs": [],
   "source": [
    "orders.columns = ['order_date', 'revenue', 'uid']"
   ]
  },
  {
   "cell_type": "code",
   "execution_count": 13,
   "id": "6ee6d4d7",
   "metadata": {},
   "outputs": [],
   "source": [
    "orders['order_date'] = pd.to_datetime(orders['order_date'])\n",
    "orders['uid'] = orders['uid'].astype(object)"
   ]
  },
  {
   "cell_type": "markdown",
   "id": "fb245abc",
   "metadata": {},
   "source": [
    "Проверка результата:"
   ]
  },
  {
   "cell_type": "code",
   "execution_count": 14,
   "id": "05d2792d",
   "metadata": {},
   "outputs": [
    {
     "name": "stdout",
     "output_type": "stream",
     "text": [
      "<class 'pandas.core.frame.DataFrame'>\n",
      "RangeIndex: 50415 entries, 0 to 50414\n",
      "Data columns (total 3 columns):\n",
      "order_date    50415 non-null datetime64[ns]\n",
      "revenue       50415 non-null float64\n",
      "uid           50415 non-null object\n",
      "dtypes: datetime64[ns](1), float64(1), object(1)\n",
      "memory usage: 1.2+ MB\n"
     ]
    }
   ],
   "source": [
    "orders.info()"
   ]
  },
  {
   "cell_type": "markdown",
   "id": "aa408fca",
   "metadata": {},
   "source": [
    "Проверим, есть ли дубликаты - покупки, которые один и тот же пользователь совершил в точно такое же время:"
   ]
  },
  {
   "cell_type": "code",
   "execution_count": 15,
   "id": "22c51ba5",
   "metadata": {},
   "outputs": [
    {
     "data": {
      "text/html": [
       "<div>\n",
       "<style scoped>\n",
       "    .dataframe tbody tr th:only-of-type {\n",
       "        vertical-align: middle;\n",
       "    }\n",
       "\n",
       "    .dataframe tbody tr th {\n",
       "        vertical-align: top;\n",
       "    }\n",
       "\n",
       "    .dataframe thead th {\n",
       "        text-align: right;\n",
       "    }\n",
       "</style>\n",
       "<table border=\"1\" class=\"dataframe\">\n",
       "  <thead>\n",
       "    <tr style=\"text-align: right;\">\n",
       "      <th></th>\n",
       "      <th>order_date</th>\n",
       "      <th>revenue</th>\n",
       "      <th>uid</th>\n",
       "    </tr>\n",
       "  </thead>\n",
       "  <tbody>\n",
       "  </tbody>\n",
       "</table>\n",
       "</div>"
      ],
      "text/plain": [
       "Empty DataFrame\n",
       "Columns: [order_date, revenue, uid]\n",
       "Index: []"
      ]
     },
     "execution_count": 15,
     "metadata": {},
     "output_type": "execute_result"
    }
   ],
   "source": [
    "orders[orders[['order_date', 'uid']].duplicated()]"
   ]
  },
  {
   "cell_type": "markdown",
   "id": "4433e1d5",
   "metadata": {},
   "source": [
    "Дубликатов нет."
   ]
  },
  {
   "cell_type": "markdown",
   "id": "d89def70",
   "metadata": {},
   "source": [
    "В таблице costs сохранены данные о проведении рекламных кампаний: рекламный источник, дата проведения и сумма расходов каждой кампании. "
   ]
  },
  {
   "cell_type": "code",
   "execution_count": 16,
   "id": "eb517ef1",
   "metadata": {},
   "outputs": [
    {
     "data": {
      "text/html": [
       "<div>\n",
       "<style scoped>\n",
       "    .dataframe tbody tr th:only-of-type {\n",
       "        vertical-align: middle;\n",
       "    }\n",
       "\n",
       "    .dataframe tbody tr th {\n",
       "        vertical-align: top;\n",
       "    }\n",
       "\n",
       "    .dataframe thead th {\n",
       "        text-align: right;\n",
       "    }\n",
       "</style>\n",
       "<table border=\"1\" class=\"dataframe\">\n",
       "  <thead>\n",
       "    <tr style=\"text-align: right;\">\n",
       "      <th></th>\n",
       "      <th>source_id</th>\n",
       "      <th>dt</th>\n",
       "      <th>costs</th>\n",
       "    </tr>\n",
       "  </thead>\n",
       "  <tbody>\n",
       "    <tr>\n",
       "      <td>0</td>\n",
       "      <td>1</td>\n",
       "      <td>2017-06-01</td>\n",
       "      <td>75.20</td>\n",
       "    </tr>\n",
       "    <tr>\n",
       "      <td>1</td>\n",
       "      <td>1</td>\n",
       "      <td>2017-06-02</td>\n",
       "      <td>62.25</td>\n",
       "    </tr>\n",
       "    <tr>\n",
       "      <td>2</td>\n",
       "      <td>1</td>\n",
       "      <td>2017-06-03</td>\n",
       "      <td>36.53</td>\n",
       "    </tr>\n",
       "    <tr>\n",
       "      <td>3</td>\n",
       "      <td>1</td>\n",
       "      <td>2017-06-04</td>\n",
       "      <td>55.00</td>\n",
       "    </tr>\n",
       "    <tr>\n",
       "      <td>4</td>\n",
       "      <td>1</td>\n",
       "      <td>2017-06-05</td>\n",
       "      <td>57.08</td>\n",
       "    </tr>\n",
       "  </tbody>\n",
       "</table>\n",
       "</div>"
      ],
      "text/plain": [
       "   source_id          dt  costs\n",
       "0          1  2017-06-01  75.20\n",
       "1          1  2017-06-02  62.25\n",
       "2          1  2017-06-03  36.53\n",
       "3          1  2017-06-04  55.00\n",
       "4          1  2017-06-05  57.08"
      ]
     },
     "execution_count": 16,
     "metadata": {},
     "output_type": "execute_result"
    }
   ],
   "source": [
    "costs.head()"
   ]
  },
  {
   "cell_type": "code",
   "execution_count": 17,
   "id": "34886203",
   "metadata": {},
   "outputs": [
    {
     "name": "stdout",
     "output_type": "stream",
     "text": [
      "<class 'pandas.core.frame.DataFrame'>\n",
      "RangeIndex: 2542 entries, 0 to 2541\n",
      "Data columns (total 3 columns):\n",
      "source_id    2542 non-null int64\n",
      "dt           2542 non-null object\n",
      "costs        2542 non-null float64\n",
      "dtypes: float64(1), int64(1), object(1)\n",
      "memory usage: 59.7+ KB\n"
     ]
    }
   ],
   "source": [
    "costs.info()"
   ]
  },
  {
   "cell_type": "markdown",
   "id": "99c55f23",
   "metadata": {},
   "source": [
    "Столбец с датой преобразуем в тип datetime. В остальном типы данных корректные. Пропусков в таблице нет. "
   ]
  },
  {
   "cell_type": "code",
   "execution_count": 18,
   "id": "9f3af5d1",
   "metadata": {},
   "outputs": [],
   "source": [
    "costs['dt'] = pd.to_datetime(costs['dt'])"
   ]
  },
  {
   "cell_type": "markdown",
   "id": "3bdb9e2c",
   "metadata": {},
   "source": [
    "Проверка результата:"
   ]
  },
  {
   "cell_type": "code",
   "execution_count": 19,
   "id": "f2efe4e4",
   "metadata": {},
   "outputs": [
    {
     "name": "stdout",
     "output_type": "stream",
     "text": [
      "<class 'pandas.core.frame.DataFrame'>\n",
      "RangeIndex: 2542 entries, 0 to 2541\n",
      "Data columns (total 3 columns):\n",
      "source_id    2542 non-null int64\n",
      "dt           2542 non-null datetime64[ns]\n",
      "costs        2542 non-null float64\n",
      "dtypes: datetime64[ns](1), float64(1), int64(1)\n",
      "memory usage: 59.7 KB\n"
     ]
    }
   ],
   "source": [
    "costs.info()"
   ]
  },
  {
   "cell_type": "markdown",
   "id": "727d3236",
   "metadata": {},
   "source": [
    "По смыслу в таблице costs значения каждого источниа должено встречаться один раз за один месяц, иначе эта строка - дубликат. Проверим наличие дубликатов:"
   ]
  },
  {
   "cell_type": "code",
   "execution_count": 20,
   "id": "973767c3",
   "metadata": {},
   "outputs": [
    {
     "data": {
      "text/html": [
       "<div>\n",
       "<style scoped>\n",
       "    .dataframe tbody tr th:only-of-type {\n",
       "        vertical-align: middle;\n",
       "    }\n",
       "\n",
       "    .dataframe tbody tr th {\n",
       "        vertical-align: top;\n",
       "    }\n",
       "\n",
       "    .dataframe thead th {\n",
       "        text-align: right;\n",
       "    }\n",
       "</style>\n",
       "<table border=\"1\" class=\"dataframe\">\n",
       "  <thead>\n",
       "    <tr style=\"text-align: right;\">\n",
       "      <th></th>\n",
       "      <th>source_id</th>\n",
       "      <th>dt</th>\n",
       "      <th>costs</th>\n",
       "    </tr>\n",
       "  </thead>\n",
       "  <tbody>\n",
       "  </tbody>\n",
       "</table>\n",
       "</div>"
      ],
      "text/plain": [
       "Empty DataFrame\n",
       "Columns: [source_id, dt, costs]\n",
       "Index: []"
      ]
     },
     "execution_count": 20,
     "metadata": {},
     "output_type": "execute_result"
    }
   ],
   "source": [
    "costs[costs[['source_id', 'dt']].duplicated()]"
   ]
  },
  {
   "cell_type": "markdown",
   "id": "5420dc31",
   "metadata": {},
   "source": [
    "Дубликатов нет.\n",
    "\n",
    "Данные готовы к анализу. На следующем шаге проведем расчеты следующих метрик:\n",
    "* продуктовые,\n",
    "* метрики электронной коммерции,\n",
    "* маркетинговые.\n"
   ]
  },
  {
   "cell_type": "markdown",
   "id": "11d53b30",
   "metadata": {},
   "source": [
    "### 2.1. Продуктовые метрики\n",
    "#### 2.1.1. Количество уникальных пользователей в день, неделю, месяц"
   ]
  },
  {
   "cell_type": "markdown",
   "id": "728b0179",
   "metadata": {},
   "source": [
    "Получим дату, неделю и месяц из столбца с датой посещения сайте в таблице visits."
   ]
  },
  {
   "cell_type": "code",
   "execution_count": 21,
   "id": "f4c282e5",
   "metadata": {},
   "outputs": [],
   "source": [
    "visits['date'] = visits['visit_start'].astype('datetime64[D]')\n",
    "visits['week'] = visits['visit_start'].astype('datetime64[W]')\n",
    "visits['month'] = visits['visit_start'].astype('datetime64[M]')\n",
    "visits['year'] = visits['visit_start'].astype('datetime64[Y]')"
   ]
  },
  {
   "cell_type": "code",
   "execution_count": 22,
   "id": "df0b73f3",
   "metadata": {},
   "outputs": [
    {
     "data": {
      "text/html": [
       "<div>\n",
       "<style scoped>\n",
       "    .dataframe tbody tr th:only-of-type {\n",
       "        vertical-align: middle;\n",
       "    }\n",
       "\n",
       "    .dataframe tbody tr th {\n",
       "        vertical-align: top;\n",
       "    }\n",
       "\n",
       "    .dataframe thead th {\n",
       "        text-align: right;\n",
       "    }\n",
       "</style>\n",
       "<table border=\"1\" class=\"dataframe\">\n",
       "  <thead>\n",
       "    <tr style=\"text-align: right;\">\n",
       "      <th></th>\n",
       "      <th>device</th>\n",
       "      <th>visit_end</th>\n",
       "      <th>source_id</th>\n",
       "      <th>visit_start</th>\n",
       "      <th>uid</th>\n",
       "      <th>date</th>\n",
       "      <th>week</th>\n",
       "      <th>month</th>\n",
       "      <th>year</th>\n",
       "    </tr>\n",
       "  </thead>\n",
       "  <tbody>\n",
       "    <tr>\n",
       "      <td>0</td>\n",
       "      <td>touch</td>\n",
       "      <td>2017-12-20 17:38:00</td>\n",
       "      <td>4</td>\n",
       "      <td>2017-12-20 17:20:00</td>\n",
       "      <td>16879256277535980062</td>\n",
       "      <td>2017-12-20</td>\n",
       "      <td>2017-12-14</td>\n",
       "      <td>2017-12-01</td>\n",
       "      <td>2017-01-01</td>\n",
       "    </tr>\n",
       "    <tr>\n",
       "      <td>1</td>\n",
       "      <td>desktop</td>\n",
       "      <td>2018-02-19 17:21:00</td>\n",
       "      <td>2</td>\n",
       "      <td>2018-02-19 16:53:00</td>\n",
       "      <td>104060357244891740</td>\n",
       "      <td>2018-02-19</td>\n",
       "      <td>2018-02-15</td>\n",
       "      <td>2018-02-01</td>\n",
       "      <td>2018-01-01</td>\n",
       "    </tr>\n",
       "    <tr>\n",
       "      <td>2</td>\n",
       "      <td>touch</td>\n",
       "      <td>2017-07-01 01:54:00</td>\n",
       "      <td>5</td>\n",
       "      <td>2017-07-01 01:54:00</td>\n",
       "      <td>7459035603376831527</td>\n",
       "      <td>2017-07-01</td>\n",
       "      <td>2017-06-29</td>\n",
       "      <td>2017-07-01</td>\n",
       "      <td>2017-01-01</td>\n",
       "    </tr>\n",
       "    <tr>\n",
       "      <td>3</td>\n",
       "      <td>desktop</td>\n",
       "      <td>2018-05-20 11:23:00</td>\n",
       "      <td>9</td>\n",
       "      <td>2018-05-20 10:59:00</td>\n",
       "      <td>16174680259334210214</td>\n",
       "      <td>2018-05-20</td>\n",
       "      <td>2018-05-17</td>\n",
       "      <td>2018-05-01</td>\n",
       "      <td>2018-01-01</td>\n",
       "    </tr>\n",
       "    <tr>\n",
       "      <td>4</td>\n",
       "      <td>desktop</td>\n",
       "      <td>2017-12-27 14:06:00</td>\n",
       "      <td>3</td>\n",
       "      <td>2017-12-27 14:06:00</td>\n",
       "      <td>9969694820036681168</td>\n",
       "      <td>2017-12-27</td>\n",
       "      <td>2017-12-21</td>\n",
       "      <td>2017-12-01</td>\n",
       "      <td>2017-01-01</td>\n",
       "    </tr>\n",
       "  </tbody>\n",
       "</table>\n",
       "</div>"
      ],
      "text/plain": [
       "    device           visit_end  source_id         visit_start  \\\n",
       "0    touch 2017-12-20 17:38:00          4 2017-12-20 17:20:00   \n",
       "1  desktop 2018-02-19 17:21:00          2 2018-02-19 16:53:00   \n",
       "2    touch 2017-07-01 01:54:00          5 2017-07-01 01:54:00   \n",
       "3  desktop 2018-05-20 11:23:00          9 2018-05-20 10:59:00   \n",
       "4  desktop 2017-12-27 14:06:00          3 2017-12-27 14:06:00   \n",
       "\n",
       "                    uid       date       week      month       year  \n",
       "0  16879256277535980062 2017-12-20 2017-12-14 2017-12-01 2017-01-01  \n",
       "1    104060357244891740 2018-02-19 2018-02-15 2018-02-01 2018-01-01  \n",
       "2   7459035603376831527 2017-07-01 2017-06-29 2017-07-01 2017-01-01  \n",
       "3  16174680259334210214 2018-05-20 2018-05-17 2018-05-01 2018-01-01  \n",
       "4   9969694820036681168 2017-12-27 2017-12-21 2017-12-01 2017-01-01  "
      ]
     },
     "execution_count": 22,
     "metadata": {},
     "output_type": "execute_result"
    }
   ],
   "source": [
    "visits.head()"
   ]
  },
  {
   "cell_type": "markdown",
   "id": "40b5b449",
   "metadata": {},
   "source": [
    "Теперь при помощи группировки можно найти количество уникальных пользователей в день, неделю, месяц - это метрики DAU, WAU и MAU соответственно."
   ]
  },
  {
   "cell_type": "code",
   "execution_count": 23,
   "id": "f0c9f607",
   "metadata": {},
   "outputs": [],
   "source": [
    "dau = visits.groupby(['date']).agg({'uid': 'nunique'}).sort_values(by='date')\n",
    "wau = visits.groupby(['year', 'week']).agg({'uid': 'nunique'}).sort_values(by=['year', 'week'])\n",
    "mau = visits.groupby(['year', 'month']).agg({'uid': 'nunique'}).sort_values(by=['year', 'month'])"
   ]
  },
  {
   "cell_type": "code",
   "execution_count": 24,
   "id": "63da2946",
   "metadata": {},
   "outputs": [
    {
     "name": "stdout",
     "output_type": "stream",
     "text": [
      "Среднее DAU за весь период: 907.99 пользователей\n",
      "Среднее WAU за весь период: 5621.70 пользователей\n",
      "Среднее MAU за весь период: 23228.42 пользователей\n"
     ]
    }
   ],
   "source": [
    "print('Среднее DAU за весь период: {:.2f} пользователей'.format(dau.mean()[0]))\n",
    "print('Среднее WAU за весь период: {:.2f} пользователей'.format(wau.mean()[0]))\n",
    "print('Среднее MAU за весь период: {:.2f} пользователей'.format(mau.mean()[0]))"
   ]
  },
  {
   "cell_type": "markdown",
   "id": "9f44a836",
   "metadata": {},
   "source": [
    "Построим график изменения DAU за весь период."
   ]
  },
  {
   "cell_type": "code",
   "execution_count": 25,
   "id": "52bb15e4",
   "metadata": {},
   "outputs": [
    {
     "data": {
      "image/png": "[encoded data removed]",
      "text/plain": [
       "<Figure size 720x360 with 1 Axes>"
      ]
     },
     "metadata": {
      "needs_background": "light"
     },
     "output_type": "display_data"
    }
   ],
   "source": [
    "dau.plot(legend=False, figsize=(10,5));\n",
    "plt.title('Динамика количества уникальных посетителей в день за июнь 2017-май 2018');"
   ]
  },
  {
   "cell_type": "markdown",
   "id": "09b08638",
   "metadata": {},
   "source": [
    "Количество новых пользователей очень изменчиво. Особенно выделется пик в декабре 2017 и резкий провад в апреле 2014. Возможно, в этот день были технические неполадки и пользователи не могли попасть на сайт. Резкий рост мог быть вызван не только маркетинговыми решениями, но и внешними причинами: например, аносном концерта популярного исполнителя. Группировка уникальных пользователей по неделям и месяцам поможет оценить общую тенденцию:"
   ]
  },
  {
   "cell_type": "code",
   "execution_count": 26,
   "id": "35b14643",
   "metadata": {},
   "outputs": [],
   "source": [
    "wau = wau.reset_index()\n",
    "wau.index = wau['week']"
   ]
  },
  {
   "cell_type": "code",
   "execution_count": 27,
   "id": "cb125ba1",
   "metadata": {},
   "outputs": [
    {
     "data": {
      "image/png": "[encoded data removed]",
      "text/plain": [
       "<Figure size 720x360 with 1 Axes>"
      ]
     },
     "metadata": {
      "needs_background": "light"
     },
     "output_type": "display_data"
    }
   ],
   "source": [
    "wau['uid'].plot(legend=False, figsize=(10,5));\n",
    "plt.title('Динамика количества уникальных посетителей в неделю за июнь 2017-май 2018');"
   ]
  },
  {
   "cell_type": "markdown",
   "id": "4cd37968",
   "metadata": {},
   "source": [
    "Наблюдается резкий спад WAU в конце декабря 2017 года - возможно, здесь сказывается фактор сезонности. Например, потенциальные пользователи были заняты подготовкой к новогодним праздникам и не посещали сайт."
   ]
  },
  {
   "cell_type": "code",
   "execution_count": 28,
   "id": "39a6ba5a",
   "metadata": {},
   "outputs": [],
   "source": [
    "mau = mau.reset_index()\n",
    "mau.index = mau['month']"
   ]
  },
  {
   "cell_type": "code",
   "execution_count": 29,
   "id": "5fad8c85",
   "metadata": {},
   "outputs": [
    {
     "data": {
      "image/png": "[encoded data removed]",
      "text/plain": [
       "<Figure size 720x360 with 1 Axes>"
      ]
     },
     "metadata": {
      "needs_background": "light"
     },
     "output_type": "display_data"
    }
   ],
   "source": [
    "mau['uid'].plot(legend=False, figsize=(10,5));\n",
    "plt.title('Динамика количества уникальных посетителей в месяц за июнь 2017-май 2018');"
   ]
  },
  {
   "cell_type": "markdown",
   "id": "24dfcd4b",
   "metadata": {},
   "source": [
    "Количество новых пользователе резко возросло за период с августа по ноябрь и затем постепенно пошло на спад. На изменение метрик могли повлиять внешние факторы: сезонность, праздники и технические неполадки. В то же время могли сказаться изменения в самом продукте или результаты маркетиноговой стратегии. \n",
    "\n",
    "#### Вывод\n",
    "\n",
    "Чтобы установить причины изменения метрик, подробнее изучать данные показатели: например, в разрезе сегментов пользователей. Тогда можно будет оценить, какой вклад внес каждый сегмент в изменения. Например, можно проанализировать пользователей из разных городов, с разных устройств и т.п. \n",
    "\n",
    "В данном исследовании мы будем анализировать метрики в разрезе источников привлечения пользователей. "
   ]
  },
  {
   "cell_type": "markdown",
   "id": "d2d1b5a8",
   "metadata": {},
   "source": [
    "#### 2.1.2 Среднее количество сессий в день.\n",
    "\n",
    "Разделим количество сессий на количество уникальных пользователей по дням и построим график."
   ]
  },
  {
   "cell_type": "code",
   "execution_count": 30,
   "id": "d56eec78",
   "metadata": {},
   "outputs": [],
   "source": [
    "df = visits.groupby('date').agg({'uid': ('count', 'nunique')})\n",
    "df.columns = ['n_sessions', 'n_users']\n",
    "df['sess_per_user'] = (df['n_sessions']/df['n_users']).round(2)"
   ]
  },
  {
   "cell_type": "code",
   "execution_count": 31,
   "id": "2543887f",
   "metadata": {},
   "outputs": [
    {
     "data": {
      "image/png": "[encoded data removed]",
      "text/plain": [
       "<Figure size 648x432 with 1 Axes>"
      ]
     },
     "metadata": {
      "needs_background": "light"
     },
     "output_type": "display_data"
    }
   ],
   "source": [
    "df['sess_per_user'].plot(label='Среднее количество сессий в день', legend=False, figsize=(9,6));\n",
    "plt.title('Среднее количество сессий в день за июнь 2017-май 2018');"
   ]
  },
  {
   "cell_type": "markdown",
   "id": "d5348220",
   "metadata": {},
   "source": [
    "В среднем пользователь заходит один в раз в день, но по динамике среднего за период видим, что количество посещений по дням изменчиво - например, в декабре 2017 было больше всего сессий в день. Скорее всего, это связанно с сезонностью, как мы предполагали ранее при рассмотрении графика DAU."
   ]
  },
  {
   "cell_type": "markdown",
   "id": "65294651",
   "metadata": {},
   "source": [
    "#### 2.1.3. Продолжительность пользовательской сессии."
   ]
  },
  {
   "cell_type": "markdown",
   "id": "97582dfc",
   "metadata": {},
   "source": [
    "Продолжительность сессии в минутах найдем как разность между концом и началом сессии. Посмотрим на распределение."
   ]
  },
  {
   "cell_type": "code",
   "execution_count": 32,
   "id": "bd93593e",
   "metadata": {},
   "outputs": [
    {
     "data": {
      "image/png": "[encoded data removed]",
      "text/plain": [
       "<Figure size 432x288 with 1 Axes>"
      ]
     },
     "metadata": {
      "needs_background": "light"
     },
     "output_type": "display_data"
    }
   ],
   "source": [
    "visits['duration'] = ((visits['visit_end'] - visits['visit_start']).dt.seconds)/60\n",
    "visits['duration'].hist(bins=100);\n",
    "plt.title('Распределение продолжительности сессии в минутах');"
   ]
  },
  {
   "cell_type": "markdown",
   "id": "5e79f5c6",
   "metadata": {},
   "source": [
    "Распределение не похоже на нормальное - видим сильный пик около 1 минуты. Поэтому в качестве меры среднего лучше взять моду - длительность, которая встречается чаще всего."
   ]
  },
  {
   "cell_type": "code",
   "execution_count": 33,
   "id": "d5f90515",
   "metadata": {},
   "outputs": [
    {
     "name": "stdout",
     "output_type": "stream",
     "text": [
      "Мода распределения длительности сессии: 1.0\n"
     ]
    }
   ],
   "source": [
    "print('Мода распределения длительности сессии:', visits['duration'].mode()[0])"
   ]
  },
  {
   "cell_type": "markdown",
   "id": "6d1e0be7",
   "metadata": {},
   "source": [
    "Наибольшая часть пользователей в среднем проводит на сайте минуту. Возможно, такие пользователи попадают на сайт по ссылке сразу на страницу с покупкой, оформляют заказ и уходят."
   ]
  },
  {
   "cell_type": "markdown",
   "id": "da8fa00a",
   "metadata": {},
   "source": [
    "#### 2.1.4. Расчет Retention Rate"
   ]
  },
  {
   "cell_type": "markdown",
   "id": "0de2371d",
   "metadata": {},
   "source": [
    "Для расчета и анализа retention rate когортным методом, необходимо для начала разделить пользователей на когорты. Для этого опредилим для каждого пользователя месяц, когда он впервые посетил сайт. Это станет основой для разделения на когорты."
   ]
  },
  {
   "cell_type": "code",
   "execution_count": 34,
   "id": "5519d0e1",
   "metadata": {},
   "outputs": [],
   "source": [
    "cohorts = visits.groupby('uid')['visit_start'].min() #находим дату первого визита"
   ]
  },
  {
   "cell_type": "code",
   "execution_count": 35,
   "id": "b84151a7",
   "metadata": {},
   "outputs": [],
   "source": [
    "cohorts.name = 'first_activity_date'"
   ]
  },
  {
   "cell_type": "code",
   "execution_count": 36,
   "id": "0d5692f5",
   "metadata": {},
   "outputs": [],
   "source": [
    "visits = visits.join(cohorts, on='uid') #добавим найденную информацию в датафрейм visits"
   ]
  },
  {
   "cell_type": "code",
   "execution_count": 37,
   "id": "2323b885",
   "metadata": {},
   "outputs": [],
   "source": [
    "#получим месяц из даты первого визита\n",
    "visits['first_activity_date'] = pd.to_datetime(visits['first_activity_date'])\n",
    "visits['first_activity_month'] = visits['first_activity_date'].astype('datetime64[M]')"
   ]
  },
  {
   "cell_type": "markdown",
   "id": "48905763",
   "metadata": {},
   "source": [
    "Теперь для каждой строки датафрейма можно рассчитать lifetime пользователя в рамках когорты."
   ]
  },
  {
   "cell_type": "code",
   "execution_count": 38,
   "id": "49724864",
   "metadata": {},
   "outputs": [],
   "source": [
    "visits['cohort_lifetime'] = visits['month'] - visits['first_activity_month']\n",
    "visits['cohort_lifetime'] = visits['cohort_lifetime']/np.timedelta64(1, 'M')\n",
    "visits['cohort_lifetime'] = visits['cohort_lifetime'].round().astype('int')"
   ]
  },
  {
   "cell_type": "markdown",
   "id": "fd998b82",
   "metadata": {},
   "source": [
    "Результат группируем по когортам и месяцу lifetime, сохраним в датафрейм visits_by_cohorts."
   ]
  },
  {
   "cell_type": "code",
   "execution_count": 39,
   "id": "8bf7edf3",
   "metadata": {},
   "outputs": [],
   "source": [
    "visits_by_cohorts = visits.groupby(['first_activity_month', 'cohort_lifetime']).agg({'uid': 'nunique'}).reset_index()"
   ]
  },
  {
   "cell_type": "markdown",
   "id": "6639c85c",
   "metadata": {},
   "source": [
    "Для расчета retention rate нужно знать количество пользователей на начало ее жизненного периода когорты.\n",
    "Найдем количество для каждой когорты и добавим это в качестве столбца cohort_users к датафрейму visits_by_cogort."
   ]
  },
  {
   "cell_type": "code",
   "execution_count": 40,
   "id": "b08bd1d3",
   "metadata": {},
   "outputs": [],
   "source": [
    "initial_users_count = visits_by_cohorts[visits_by_cohorts['cohort_lifetime'] == 0][['first_activity_month', 'uid']]\n",
    "initial_users_count = initial_users_count.rename(columns={'uid':'cohort_users'}) "
   ]
  },
  {
   "cell_type": "code",
   "execution_count": 41,
   "id": "facd4482",
   "metadata": {},
   "outputs": [],
   "source": [
    "visits_by_cohorts = visits_by_cohorts.merge(initial_users_count,on='first_activity_month') "
   ]
  },
  {
   "cell_type": "markdown",
   "id": "c7946bb9",
   "metadata": {},
   "source": [
    "Наконец, чтобы найти retention rate, осталось разделить количество пользователей в каждый период жизни на изначальное количество пользователей."
   ]
  },
  {
   "cell_type": "code",
   "execution_count": 42,
   "id": "16ca894f",
   "metadata": {},
   "outputs": [],
   "source": [
    "visits_by_cohorts['retention'] = visits_by_cohorts['uid']/visits_by_cohorts['cohort_users'] "
   ]
  },
  {
   "cell_type": "markdown",
   "id": "5101a7af",
   "metadata": {},
   "source": [
    "Результат представлен в сводной таблице:"
   ]
  },
  {
   "cell_type": "code",
   "execution_count": 43,
   "id": "e8a3329e",
   "metadata": {},
   "outputs": [],
   "source": [
    "visits_by_cohorts['first_activity_month'] = visits_by_cohorts['first_activity_month'].dt.date"
   ]
  },
  {
   "cell_type": "code",
   "execution_count": 44,
   "id": "2404f186",
   "metadata": {},
   "outputs": [],
   "source": [
    "retention_pivot = visits_by_cohorts.query('cohort_lifetime > 0').pivot_table(\n",
    "    index='first_activity_month', \n",
    "    columns='cohort_lifetime', \n",
    "    values='retention', \n",
    "    aggfunc='sum')"
   ]
  },
  {
   "cell_type": "code",
   "execution_count": 45,
   "id": "0bc4b52c",
   "metadata": {},
   "outputs": [
    {
     "data": {
      "text/html": [
       "<div>\n",
       "<style scoped>\n",
       "    .dataframe tbody tr th:only-of-type {\n",
       "        vertical-align: middle;\n",
       "    }\n",
       "\n",
       "    .dataframe tbody tr th {\n",
       "        vertical-align: top;\n",
       "    }\n",
       "\n",
       "    .dataframe thead th {\n",
       "        text-align: right;\n",
       "    }\n",
       "</style>\n",
       "<table border=\"1\" class=\"dataframe\">\n",
       "  <thead>\n",
       "    <tr style=\"text-align: right;\">\n",
       "      <th>cohort_lifetime</th>\n",
       "      <th>1</th>\n",
       "      <th>2</th>\n",
       "      <th>3</th>\n",
       "      <th>4</th>\n",
       "      <th>5</th>\n",
       "      <th>6</th>\n",
       "      <th>7</th>\n",
       "      <th>8</th>\n",
       "      <th>9</th>\n",
       "      <th>10</th>\n",
       "      <th>11</th>\n",
       "    </tr>\n",
       "    <tr>\n",
       "      <th>first_activity_month</th>\n",
       "      <th></th>\n",
       "      <th></th>\n",
       "      <th></th>\n",
       "      <th></th>\n",
       "      <th></th>\n",
       "      <th></th>\n",
       "      <th></th>\n",
       "      <th></th>\n",
       "      <th></th>\n",
       "      <th></th>\n",
       "      <th></th>\n",
       "    </tr>\n",
       "  </thead>\n",
       "  <tbody>\n",
       "    <tr>\n",
       "      <td>2017-06-01</td>\n",
       "      <td>0.078664</td>\n",
       "      <td>0.053775</td>\n",
       "      <td>0.061392</td>\n",
       "      <td>0.068557</td>\n",
       "      <td>0.071423</td>\n",
       "      <td>0.061015</td>\n",
       "      <td>0.057772</td>\n",
       "      <td>0.052342</td>\n",
       "      <td>0.050833</td>\n",
       "      <td>0.040652</td>\n",
       "      <td>0.044951</td>\n",
       "    </tr>\n",
       "    <tr>\n",
       "      <td>2017-07-01</td>\n",
       "      <td>0.056088</td>\n",
       "      <td>0.051294</td>\n",
       "      <td>0.056164</td>\n",
       "      <td>0.058219</td>\n",
       "      <td>0.048174</td>\n",
       "      <td>0.045358</td>\n",
       "      <td>0.045738</td>\n",
       "      <td>0.038813</td>\n",
       "      <td>0.028615</td>\n",
       "      <td>0.027473</td>\n",
       "      <td>NaN</td>\n",
       "    </tr>\n",
       "    <tr>\n",
       "      <td>2017-08-01</td>\n",
       "      <td>0.076908</td>\n",
       "      <td>0.062862</td>\n",
       "      <td>0.062764</td>\n",
       "      <td>0.050093</td>\n",
       "      <td>0.044004</td>\n",
       "      <td>0.036342</td>\n",
       "      <td>0.039485</td>\n",
       "      <td>0.027895</td>\n",
       "      <td>0.026029</td>\n",
       "      <td>NaN</td>\n",
       "      <td>NaN</td>\n",
       "    </tr>\n",
       "    <tr>\n",
       "      <td>2017-09-01</td>\n",
       "      <td>0.085489</td>\n",
       "      <td>0.069205</td>\n",
       "      <td>0.050706</td>\n",
       "      <td>0.039392</td>\n",
       "      <td>0.037835</td>\n",
       "      <td>0.035860</td>\n",
       "      <td>0.024186</td>\n",
       "      <td>0.022809</td>\n",
       "      <td>NaN</td>\n",
       "      <td>NaN</td>\n",
       "      <td>NaN</td>\n",
       "    </tr>\n",
       "    <tr>\n",
       "      <td>2017-10-01</td>\n",
       "      <td>0.078608</td>\n",
       "      <td>0.052239</td>\n",
       "      <td>0.038958</td>\n",
       "      <td>0.034261</td>\n",
       "      <td>0.032221</td>\n",
       "      <td>0.021365</td>\n",
       "      <td>0.020364</td>\n",
       "      <td>NaN</td>\n",
       "      <td>NaN</td>\n",
       "      <td>NaN</td>\n",
       "      <td>NaN</td>\n",
       "    </tr>\n",
       "    <tr>\n",
       "      <td>2017-11-01</td>\n",
       "      <td>0.078281</td>\n",
       "      <td>0.044113</td>\n",
       "      <td>0.038682</td>\n",
       "      <td>0.033727</td>\n",
       "      <td>0.023415</td>\n",
       "      <td>0.021800</td>\n",
       "      <td>NaN</td>\n",
       "      <td>NaN</td>\n",
       "      <td>NaN</td>\n",
       "      <td>NaN</td>\n",
       "      <td>NaN</td>\n",
       "    </tr>\n",
       "    <tr>\n",
       "      <td>2017-12-01</td>\n",
       "      <td>0.055802</td>\n",
       "      <td>0.037993</td>\n",
       "      <td>0.031107</td>\n",
       "      <td>0.020263</td>\n",
       "      <td>0.019036</td>\n",
       "      <td>NaN</td>\n",
       "      <td>NaN</td>\n",
       "      <td>NaN</td>\n",
       "      <td>NaN</td>\n",
       "      <td>NaN</td>\n",
       "      <td>NaN</td>\n",
       "    </tr>\n",
       "    <tr>\n",
       "      <td>2018-01-01</td>\n",
       "      <td>0.059715</td>\n",
       "      <td>0.039339</td>\n",
       "      <td>0.024973</td>\n",
       "      <td>0.020244</td>\n",
       "      <td>NaN</td>\n",
       "      <td>NaN</td>\n",
       "      <td>NaN</td>\n",
       "      <td>NaN</td>\n",
       "      <td>NaN</td>\n",
       "      <td>NaN</td>\n",
       "      <td>NaN</td>\n",
       "    </tr>\n",
       "    <tr>\n",
       "      <td>2018-02-01</td>\n",
       "      <td>0.057080</td>\n",
       "      <td>0.025454</td>\n",
       "      <td>0.020093</td>\n",
       "      <td>NaN</td>\n",
       "      <td>NaN</td>\n",
       "      <td>NaN</td>\n",
       "      <td>NaN</td>\n",
       "      <td>NaN</td>\n",
       "      <td>NaN</td>\n",
       "      <td>NaN</td>\n",
       "      <td>NaN</td>\n",
       "    </tr>\n",
       "    <tr>\n",
       "      <td>2018-03-01</td>\n",
       "      <td>0.041818</td>\n",
       "      <td>0.027053</td>\n",
       "      <td>NaN</td>\n",
       "      <td>NaN</td>\n",
       "      <td>NaN</td>\n",
       "      <td>NaN</td>\n",
       "      <td>NaN</td>\n",
       "      <td>NaN</td>\n",
       "      <td>NaN</td>\n",
       "      <td>NaN</td>\n",
       "      <td>NaN</td>\n",
       "    </tr>\n",
       "    <tr>\n",
       "      <td>2018-04-01</td>\n",
       "      <td>0.048380</td>\n",
       "      <td>NaN</td>\n",
       "      <td>NaN</td>\n",
       "      <td>NaN</td>\n",
       "      <td>NaN</td>\n",
       "      <td>NaN</td>\n",
       "      <td>NaN</td>\n",
       "      <td>NaN</td>\n",
       "      <td>NaN</td>\n",
       "      <td>NaN</td>\n",
       "      <td>NaN</td>\n",
       "    </tr>\n",
       "  </tbody>\n",
       "</table>\n",
       "</div>"
      ],
      "text/plain": [
       "cohort_lifetime             1         2         3         4         5   \\\n",
       "first_activity_month                                                     \n",
       "2017-06-01            0.078664  0.053775  0.061392  0.068557  0.071423   \n",
       "2017-07-01            0.056088  0.051294  0.056164  0.058219  0.048174   \n",
       "2017-08-01            0.076908  0.062862  0.062764  0.050093  0.044004   \n",
       "2017-09-01            0.085489  0.069205  0.050706  0.039392  0.037835   \n",
       "2017-10-01            0.078608  0.052239  0.038958  0.034261  0.032221   \n",
       "2017-11-01            0.078281  0.044113  0.038682  0.033727  0.023415   \n",
       "2017-12-01            0.055802  0.037993  0.031107  0.020263  0.019036   \n",
       "2018-01-01            0.059715  0.039339  0.024973  0.020244       NaN   \n",
       "2018-02-01            0.057080  0.025454  0.020093       NaN       NaN   \n",
       "2018-03-01            0.041818  0.027053       NaN       NaN       NaN   \n",
       "2018-04-01            0.048380       NaN       NaN       NaN       NaN   \n",
       "\n",
       "cohort_lifetime             6         7         8         9         10  \\\n",
       "first_activity_month                                                     \n",
       "2017-06-01            0.061015  0.057772  0.052342  0.050833  0.040652   \n",
       "2017-07-01            0.045358  0.045738  0.038813  0.028615  0.027473   \n",
       "2017-08-01            0.036342  0.039485  0.027895  0.026029       NaN   \n",
       "2017-09-01            0.035860  0.024186  0.022809       NaN       NaN   \n",
       "2017-10-01            0.021365  0.020364       NaN       NaN       NaN   \n",
       "2017-11-01            0.021800       NaN       NaN       NaN       NaN   \n",
       "2017-12-01                 NaN       NaN       NaN       NaN       NaN   \n",
       "2018-01-01                 NaN       NaN       NaN       NaN       NaN   \n",
       "2018-02-01                 NaN       NaN       NaN       NaN       NaN   \n",
       "2018-03-01                 NaN       NaN       NaN       NaN       NaN   \n",
       "2018-04-01                 NaN       NaN       NaN       NaN       NaN   \n",
       "\n",
       "cohort_lifetime             11  \n",
       "first_activity_month            \n",
       "2017-06-01            0.044951  \n",
       "2017-07-01                 NaN  \n",
       "2017-08-01                 NaN  \n",
       "2017-09-01                 NaN  \n",
       "2017-10-01                 NaN  \n",
       "2017-11-01                 NaN  \n",
       "2017-12-01                 NaN  \n",
       "2018-01-01                 NaN  \n",
       "2018-02-01                 NaN  \n",
       "2018-03-01                 NaN  \n",
       "2018-04-01                 NaN  "
      ]
     },
     "execution_count": 45,
     "metadata": {},
     "output_type": "execute_result"
    }
   ],
   "source": [
    "retention_pivot"
   ]
  },
  {
   "cell_type": "markdown",
   "id": "f71324b0",
   "metadata": {},
   "source": [
    "Визуально оценить изменение показателя удобно при помощи тепловой карты. Чем светлее графа - тем больше значение показателя, то есть большая доля пользователей продолжает посещать сайт."
   ]
  },
  {
   "cell_type": "code",
   "execution_count": 46,
   "id": "185a6ef4",
   "metadata": {},
   "outputs": [
    {
     "data": {
      "image/png": "[encoded data removed]",
      "text/plain": [
       "<Figure size 936x648 with 2 Axes>"
      ]
     },
     "metadata": {
      "needs_background": "light"
     },
     "output_type": "display_data"
    }
   ],
   "source": [
    "plt.figure(figsize=(13, 9))\n",
    "plt.title('Cohorts: User Retention')\n",
    "sns.heatmap(retention_pivot, annot=True, fmt='.1%', linewidths=1, linecolor='gray'); "
   ]
  },
  {
   "cell_type": "markdown",
   "id": "f25bfaba",
   "metadata": {},
   "source": [
    "В каждой когорте значения retention rate небольшие. Это необязательно плохой сигнал для бизнеса: многие люди редко посещают мероприятия и у них просто не возникает потребности регулярно смотреть афишу. Для каждой когорты с течением времени данный показатель снижается. Чтобы сделать выводы о том, как это сказывается на бизнесе, стоит посмотреть, снижается ли общее количество пользователей и рентабельность. Вполне вероятно, что низкий retention rate компенсируется постоянным притоком новых пользователей.\n",
    "\n",
    "По полученной сводной таблице легко составить портрет \"типичной\" когорты. Например, можно посчитать средний retention rate на второй месяц жизни:"
   ]
  },
  {
   "cell_type": "code",
   "execution_count": 47,
   "id": "761b5ca2",
   "metadata": {},
   "outputs": [
    {
     "name": "stdout",
     "output_type": "stream",
     "text": [
      "Cредний Retention Rate на второй месяц «жизни» когорт: 6.5%\n"
     ]
    }
   ],
   "source": [
    "print('Cредний Retention Rate на второй месяц «жизни» когорт: {:.1%}'.format(retention_pivot[1].mean()))"
   ]
  },
  {
   "cell_type": "markdown",
   "id": "b111f33c",
   "metadata": {},
   "source": [
    "При сравнении метрик в разрезе источников затрат на привлечение клиентов для удобства мы будем ориентироваться именно на показатели средней когорты.\n",
    "\n",
    "#### Вывод\n",
    "\n",
    "На данном этапе складывается следующий портрет пользователя Яндекс.Афиши:\n",
    "* пользователи в среднем заходят на сайт один раз в день\n",
    "* вне зависимости от когорты, лишь небольшое количество пользователей возвращается на сайт в последующие месяцы."
   ]
  },
  {
   "cell_type": "markdown",
   "id": "a477ed21",
   "metadata": {},
   "source": [
    "### 2.2. Метрики электронной коммерции\n",
    "#### 2.2.1. Сколько времени проходит с момента первого посещения сайта до совершения покупки?\n"
   ]
  },
  {
   "cell_type": "markdown",
   "id": "0f6f390b",
   "metadata": {},
   "source": [
    "Для ответа на этот вопрос необходимо найти разность между датой первой покупки и датой первого визита.\n",
    "На предыдущем шаге мы уже нашли дату первого визита - эта информация хранится в ДФ cohort. Аналогично получим дату первой покупки из ДФ orders и присоединим к cohorts методом join() по колонке uid."
   ]
  },
  {
   "cell_type": "code",
   "execution_count": 48,
   "id": "d7fb4793",
   "metadata": {},
   "outputs": [],
   "source": [
    "# находим дату первой покупки в виде series, где индекс является uid\n",
    "first_order_date = orders.groupby('uid')['order_date'].min() \n",
    "first_order_date.name = 'first_order_date'"
   ]
  },
  {
   "cell_type": "code",
   "execution_count": 49,
   "id": "98a062ac",
   "metadata": {},
   "outputs": [],
   "source": [
    "cohorts_df = cohorts.reset_index()"
   ]
  },
  {
   "cell_type": "code",
   "execution_count": 50,
   "id": "26a80f07",
   "metadata": {},
   "outputs": [
    {
     "data": {
      "text/html": [
       "<div>\n",
       "<style scoped>\n",
       "    .dataframe tbody tr th:only-of-type {\n",
       "        vertical-align: middle;\n",
       "    }\n",
       "\n",
       "    .dataframe tbody tr th {\n",
       "        vertical-align: top;\n",
       "    }\n",
       "\n",
       "    .dataframe thead th {\n",
       "        text-align: right;\n",
       "    }\n",
       "</style>\n",
       "<table border=\"1\" class=\"dataframe\">\n",
       "  <thead>\n",
       "    <tr style=\"text-align: right;\">\n",
       "      <th></th>\n",
       "      <th>uid</th>\n",
       "      <th>first_activity_date</th>\n",
       "      <th>first_order_date</th>\n",
       "    </tr>\n",
       "  </thead>\n",
       "  <tbody>\n",
       "    <tr>\n",
       "      <td>0</td>\n",
       "      <td>11863502262781</td>\n",
       "      <td>2018-03-01 17:27:00</td>\n",
       "      <td>NaT</td>\n",
       "    </tr>\n",
       "    <tr>\n",
       "      <td>1</td>\n",
       "      <td>49537067089222</td>\n",
       "      <td>2018-02-06 15:55:00</td>\n",
       "      <td>NaT</td>\n",
       "    </tr>\n",
       "    <tr>\n",
       "      <td>2</td>\n",
       "      <td>297729379853735</td>\n",
       "      <td>2017-06-07 18:47:00</td>\n",
       "      <td>NaT</td>\n",
       "    </tr>\n",
       "    <tr>\n",
       "      <td>3</td>\n",
       "      <td>313578113262317</td>\n",
       "      <td>2017-09-18 22:49:00</td>\n",
       "      <td>2018-01-03 21:51:00</td>\n",
       "    </tr>\n",
       "    <tr>\n",
       "      <td>4</td>\n",
       "      <td>325320750514679</td>\n",
       "      <td>2017-09-30 14:29:00</td>\n",
       "      <td>NaT</td>\n",
       "    </tr>\n",
       "  </tbody>\n",
       "</table>\n",
       "</div>"
      ],
      "text/plain": [
       "               uid first_activity_date    first_order_date\n",
       "0   11863502262781 2018-03-01 17:27:00                 NaT\n",
       "1   49537067089222 2018-02-06 15:55:00                 NaT\n",
       "2  297729379853735 2017-06-07 18:47:00                 NaT\n",
       "3  313578113262317 2017-09-18 22:49:00 2018-01-03 21:51:00\n",
       "4  325320750514679 2017-09-30 14:29:00                 NaT"
      ]
     },
     "execution_count": 50,
     "metadata": {},
     "output_type": "execute_result"
    }
   ],
   "source": [
    "visit_to_order = cohorts_df.join(first_order_date, on='uid') #дополняем дату визита датой покупки\n",
    "visit_to_order.head()"
   ]
  },
  {
   "cell_type": "markdown",
   "id": "0531024f",
   "metadata": {},
   "source": [
    "В колонке first_order_date появились пропуски, т.к не все посетители сайте совершили покупку. В данном случае можем удалить такие строки, т.к. нас интересуют именно покупатели.\n",
    "Затем найдем разность между двумя датами в днях и построим распределение"
   ]
  },
  {
   "cell_type": "code",
   "execution_count": 51,
   "id": "ff207a43",
   "metadata": {},
   "outputs": [
    {
     "data": {
      "image/png": "[encoded data removed]",
      "text/plain": [
       "<Figure size 432x288 with 1 Axes>"
      ]
     },
     "metadata": {
      "needs_background": "light"
     },
     "output_type": "display_data"
    }
   ],
   "source": [
    "visit_to_order = visit_to_order.dropna()\n",
    "visit_to_order['days_to_purchase'] = (visit_to_order['first_order_date'] - visit_to_order['first_activity_date']).dt.days\n",
    "fig = visit_to_order['days_to_purchase'].hist(bins=100);\n",
    "plt.title('Распределение времени между первым посещением и первым заказом (в днях)');\n",
    "fig.set_xlabel(\"Количество дней\");\n",
    "fig.set_ylabel(\"Частота\");"
   ]
  },
  {
   "cell_type": "code",
   "execution_count": 52,
   "id": "89e7a180",
   "metadata": {},
   "outputs": [
    {
     "name": "stdout",
     "output_type": "stream",
     "text": [
      "Мода: 0\n"
     ]
    }
   ],
   "source": [
    "print('Мода:', visit_to_order['days_to_purchase'].mode()[0])"
   ]
  },
  {
   "cell_type": "markdown",
   "id": "91ec88ec",
   "metadata": {},
   "source": [
    "Т.к. распределение не похоже на нормальное, в качестве средней возьмем моду. Мода равна нулю, то есть большинство пользователей совершают покупку в день своего первого визита. Узнаем, сколько минут на это уходит."
   ]
  },
  {
   "cell_type": "code",
   "execution_count": 53,
   "id": "f5b8b9e6",
   "metadata": {},
   "outputs": [],
   "source": [
    "visit_to_order['time_to_purchase'] = (\n",
    "    (visit_to_order['first_order_date'] - visit_to_order['first_activity_date']).dt.seconds)/60"
   ]
  },
  {
   "cell_type": "markdown",
   "id": "30b05e99",
   "metadata": {},
   "source": [
    "Построем распределение и найдем его основные характеристики методами describe() и mode():"
   ]
  },
  {
   "cell_type": "code",
   "execution_count": 54,
   "id": "1705a779",
   "metadata": {},
   "outputs": [
    {
     "data": {
      "image/png": "[encoded data removed]",
      "text/plain": [
       "<Figure size 432x288 with 1 Axes>"
      ]
     },
     "metadata": {
      "needs_background": "light"
     },
     "output_type": "display_data"
    }
   ],
   "source": [
    "visit_to_order.query('days_to_purchase == 0')['time_to_purchase'].hist();\n",
    "plt.title('Распределение времени между первым посещением и первым заказом (в минутах)');"
   ]
  },
  {
   "cell_type": "code",
   "execution_count": 55,
   "id": "1f630c56",
   "metadata": {},
   "outputs": [
    {
     "data": {
      "text/plain": [
       "count    36523.000000\n",
       "mean       249.164691\n",
       "std        429.742785\n",
       "min          0.000000\n",
       "25%          4.000000\n",
       "50%         16.000000\n",
       "75%        252.000000\n",
       "max       1439.000000\n",
       "Name: time_to_purchase, dtype: float64"
      ]
     },
     "execution_count": 55,
     "metadata": {},
     "output_type": "execute_result"
    }
   ],
   "source": [
    "visit_to_order['time_to_purchase'].describe()"
   ]
  },
  {
   "cell_type": "code",
   "execution_count": 56,
   "id": "b5a48f57",
   "metadata": {},
   "outputs": [
    {
     "name": "stdout",
     "output_type": "stream",
     "text": [
      "Мода: 1.0\n"
     ]
    }
   ],
   "source": [
    "print('Мода:', visit_to_order['time_to_purchase'].mode()[0])"
   ]
  },
  {
   "cell_type": "markdown",
   "id": "d4c6402b",
   "metadata": {},
   "source": [
    "У половины покупателей проходит до 16 минут между первым визитом и покупкой. Но большинство пользователей совершают покупку всего за минуту. Это поддерживает наше предположение о том, что многие пользователи приходят сразу на страницу с покупкой билетов по ссылке с других сайтов (например, с сайта мероприятия) и тратят эту минуту на оформление заказа. Мы считаем это достаточно хорошим показателем."
   ]
  },
  {
   "cell_type": "markdown",
   "id": "1ef33bf7",
   "metadata": {},
   "source": [
    "#### 2.2.2. Cреднее количество покупок на одного покупателя за 6 месяцев."
   ]
  },
  {
   "cell_type": "markdown",
   "id": "9f1457bc",
   "metadata": {},
   "source": [
    "Чтобы узнать, сколько покупок в среднем совершает один пользователь в месяц, разделим количество заказов в месяц на количество покупателей за месяц."
   ]
  },
  {
   "cell_type": "code",
   "execution_count": 57,
   "id": "8dbdbc96",
   "metadata": {},
   "outputs": [
    {
     "data": {
      "text/html": [
       "<div>\n",
       "<style scoped>\n",
       "    .dataframe tbody tr th:only-of-type {\n",
       "        vertical-align: middle;\n",
       "    }\n",
       "\n",
       "    .dataframe tbody tr th {\n",
       "        vertical-align: top;\n",
       "    }\n",
       "\n",
       "    .dataframe thead th {\n",
       "        text-align: right;\n",
       "    }\n",
       "</style>\n",
       "<table border=\"1\" class=\"dataframe\">\n",
       "  <thead>\n",
       "    <tr style=\"text-align: right;\">\n",
       "      <th></th>\n",
       "      <th>n_orders</th>\n",
       "      <th>n_customers</th>\n",
       "      <th>orders_average</th>\n",
       "    </tr>\n",
       "    <tr>\n",
       "      <th>month</th>\n",
       "      <th></th>\n",
       "      <th></th>\n",
       "      <th></th>\n",
       "    </tr>\n",
       "  </thead>\n",
       "  <tbody>\n",
       "    <tr>\n",
       "      <td>2017-06-01</td>\n",
       "      <td>2354</td>\n",
       "      <td>2023</td>\n",
       "      <td>1.16</td>\n",
       "    </tr>\n",
       "    <tr>\n",
       "      <td>2017-07-01</td>\n",
       "      <td>2363</td>\n",
       "      <td>1984</td>\n",
       "      <td>1.19</td>\n",
       "    </tr>\n",
       "    <tr>\n",
       "      <td>2017-08-01</td>\n",
       "      <td>1807</td>\n",
       "      <td>1472</td>\n",
       "      <td>1.23</td>\n",
       "    </tr>\n",
       "    <tr>\n",
       "      <td>2017-09-01</td>\n",
       "      <td>3387</td>\n",
       "      <td>2750</td>\n",
       "      <td>1.23</td>\n",
       "    </tr>\n",
       "    <tr>\n",
       "      <td>2017-10-01</td>\n",
       "      <td>5679</td>\n",
       "      <td>4675</td>\n",
       "      <td>1.21</td>\n",
       "    </tr>\n",
       "    <tr>\n",
       "      <td>2017-11-01</td>\n",
       "      <td>5659</td>\n",
       "      <td>4547</td>\n",
       "      <td>1.24</td>\n",
       "    </tr>\n",
       "  </tbody>\n",
       "</table>\n",
       "</div>"
      ],
      "text/plain": [
       "            n_orders  n_customers  orders_average\n",
       "month                                            \n",
       "2017-06-01      2354         2023            1.16\n",
       "2017-07-01      2363         1984            1.19\n",
       "2017-08-01      1807         1472            1.23\n",
       "2017-09-01      3387         2750            1.23\n",
       "2017-10-01      5679         4675            1.21\n",
       "2017-11-01      5659         4547            1.24"
      ]
     },
     "execution_count": 57,
     "metadata": {},
     "output_type": "execute_result"
    }
   ],
   "source": [
    "orders['month'] = orders['order_date'].astype('datetime64[M]') # находим месяц заказа\n",
    "orders_per_user = orders.groupby('month').agg({'uid': ('count', 'nunique')}) # группируем заказы по месяцам \n",
    "#и считаем количество покупок и покупателей\n",
    "orders_per_user.columns = ['n_orders', 'n_customers']\n",
    "orders_per_user['orders_average'] = (orders_per_user['n_orders']/orders_per_user['n_customers']).round(2) # расчет среднего\n",
    "orders_per_user.query('month < \"2017-12-01\"') # берем данные за 6 месяцев"
   ]
  },
  {
   "cell_type": "markdown",
   "id": "63612d94",
   "metadata": {},
   "source": [
    "За рассматриваемый период на покупателя в среднем приходится один заказ, но наблюдается тенденция к увеличению заказов."
   ]
  },
  {
   "cell_type": "markdown",
   "id": "68783a9a",
   "metadata": {},
   "source": [
    "#### 2.2.3. Cредний чек\n",
    "\n",
    "Средний чек - это отношение общей суммы покупок к количество покупателей."
   ]
  },
  {
   "cell_type": "code",
   "execution_count": 58,
   "id": "f3a4c064",
   "metadata": {},
   "outputs": [
    {
     "data": {
      "image/png": "[encoded data removed]",
      "text/plain": [
       "<Figure size 720x360 with 1 Axes>"
      ]
     },
     "metadata": {
      "needs_background": "light"
     },
     "output_type": "display_data"
    }
   ],
   "source": [
    "check_df = orders.groupby('month').agg({'revenue': 'sum', 'uid': 'count'})\n",
    "check_df['avg_check'] = check_df['revenue']/check_df['uid']\n",
    "plot = check_df['avg_check'].plot(figsize=(10,5));\n",
    "plot.set_ylabel('Average check');"
   ]
  },
  {
   "cell_type": "markdown",
   "id": "ef7f547a",
   "metadata": {},
   "source": [
    "На графике видно, как по месяцам изменяется средний чек пользователей. Резкие скачки наблюдаются в декабре 2017 и январе 2018 - в среднем пользователи совершают больше покупок в праздничный период, а после праздников покупают совсем мало, но к марту средний чек снова вырастает. К концу периода наблюдается снижение среднего чека, то есть выручка складывается в основном из небольших покупок. "
   ]
  },
  {
   "cell_type": "markdown",
   "id": "02e5ef03",
   "metadata": {},
   "source": [
    "#### 2.2.4. LTV на покупателя по когортам."
   ]
  },
  {
   "cell_type": "markdown",
   "id": "8351a397",
   "metadata": {},
   "source": [
    "Подготовим таблицу для расчета метрик: LTV, CAC и ROMI.\n",
    "В таблицу orders добавим месяц первой покупки."
   ]
  },
  {
   "cell_type": "code",
   "execution_count": 59,
   "id": "5b975836",
   "metadata": {},
   "outputs": [],
   "source": [
    "first_order = first_order_date.reset_index()\n",
    "first_order['first_order_date'] = first_order['first_order_date'].astype('datetime64[M]')"
   ]
  },
  {
   "cell_type": "code",
   "execution_count": 60,
   "id": "fb27a22b",
   "metadata": {},
   "outputs": [],
   "source": [
    "orders_new = pd.merge(orders, first_order, on='uid')"
   ]
  },
  {
   "cell_type": "markdown",
   "id": "243ca80c",
   "metadata": {},
   "source": [
    "Т.к. в дальнейшем мы будем анализировать метрики в разресе источников трафика, сразу добавим в таблицу информацию об источниках.\n",
    "Один и тот же пользователь мог прийти из разных источников. Будем считать, что исчтоник первого визита - главный, и именно на него будем ориентироваться в расчетах.\n",
    "Получим список пользователей и источников их первого посещения."
   ]
  },
  {
   "cell_type": "code",
   "execution_count": 61,
   "id": "12248842",
   "metadata": {},
   "outputs": [],
   "source": [
    "first_visit_source = visits.sort_values(by='visit_start').groupby('uid').agg({'source_id': 'first'}).reset_index()"
   ]
  },
  {
   "cell_type": "markdown",
   "id": "56f205c9",
   "metadata": {},
   "source": [
    "Добавляем эту информацию к данным о покупках."
   ]
  },
  {
   "cell_type": "code",
   "execution_count": 62,
   "id": "ac36faf9",
   "metadata": {},
   "outputs": [],
   "source": [
    "orders_sources = pd.merge(orders_new, first_visit_source, on='uid', how='left')"
   ]
  },
  {
   "cell_type": "code",
   "execution_count": 63,
   "id": "36ea1446",
   "metadata": {},
   "outputs": [
    {
     "data": {
      "text/html": [
       "<div>\n",
       "<style scoped>\n",
       "    .dataframe tbody tr th:only-of-type {\n",
       "        vertical-align: middle;\n",
       "    }\n",
       "\n",
       "    .dataframe tbody tr th {\n",
       "        vertical-align: top;\n",
       "    }\n",
       "\n",
       "    .dataframe thead th {\n",
       "        text-align: right;\n",
       "    }\n",
       "</style>\n",
       "<table border=\"1\" class=\"dataframe\">\n",
       "  <thead>\n",
       "    <tr style=\"text-align: right;\">\n",
       "      <th></th>\n",
       "      <th>order_date</th>\n",
       "      <th>revenue</th>\n",
       "      <th>uid</th>\n",
       "      <th>month</th>\n",
       "      <th>first_order_date</th>\n",
       "      <th>source_id</th>\n",
       "    </tr>\n",
       "  </thead>\n",
       "  <tbody>\n",
       "    <tr>\n",
       "      <td>0</td>\n",
       "      <td>2017-06-01 00:10:00</td>\n",
       "      <td>17.00</td>\n",
       "      <td>10329302124590727494</td>\n",
       "      <td>2017-06-01</td>\n",
       "      <td>2017-06-01</td>\n",
       "      <td>1</td>\n",
       "    </tr>\n",
       "    <tr>\n",
       "      <td>1</td>\n",
       "      <td>2017-06-01 00:25:00</td>\n",
       "      <td>0.55</td>\n",
       "      <td>11627257723692907447</td>\n",
       "      <td>2017-06-01</td>\n",
       "      <td>2017-06-01</td>\n",
       "      <td>2</td>\n",
       "    </tr>\n",
       "    <tr>\n",
       "      <td>2</td>\n",
       "      <td>2017-06-01 00:27:00</td>\n",
       "      <td>0.37</td>\n",
       "      <td>17903680561304213844</td>\n",
       "      <td>2017-06-01</td>\n",
       "      <td>2017-06-01</td>\n",
       "      <td>2</td>\n",
       "    </tr>\n",
       "    <tr>\n",
       "      <td>3</td>\n",
       "      <td>2017-06-01 00:29:00</td>\n",
       "      <td>0.55</td>\n",
       "      <td>16109239769442553005</td>\n",
       "      <td>2017-06-01</td>\n",
       "      <td>2017-06-01</td>\n",
       "      <td>2</td>\n",
       "    </tr>\n",
       "    <tr>\n",
       "      <td>4</td>\n",
       "      <td>2017-06-01 07:58:00</td>\n",
       "      <td>0.37</td>\n",
       "      <td>14200605875248379450</td>\n",
       "      <td>2017-06-01</td>\n",
       "      <td>2017-06-01</td>\n",
       "      <td>3</td>\n",
       "    </tr>\n",
       "  </tbody>\n",
       "</table>\n",
       "</div>"
      ],
      "text/plain": [
       "           order_date  revenue                   uid      month  \\\n",
       "0 2017-06-01 00:10:00    17.00  10329302124590727494 2017-06-01   \n",
       "1 2017-06-01 00:25:00     0.55  11627257723692907447 2017-06-01   \n",
       "2 2017-06-01 00:27:00     0.37  17903680561304213844 2017-06-01   \n",
       "3 2017-06-01 00:29:00     0.55  16109239769442553005 2017-06-01   \n",
       "4 2017-06-01 07:58:00     0.37  14200605875248379450 2017-06-01   \n",
       "\n",
       "  first_order_date  source_id  \n",
       "0       2017-06-01          1  \n",
       "1       2017-06-01          2  \n",
       "2       2017-06-01          2  \n",
       "3       2017-06-01          2  \n",
       "4       2017-06-01          3  "
      ]
     },
     "execution_count": 63,
     "metadata": {},
     "output_type": "execute_result"
    }
   ],
   "source": [
    "orders_sources.head()"
   ]
  },
  {
   "cell_type": "markdown",
   "id": "03ee81cf",
   "metadata": {},
   "source": [
    "Уже на этом этапе добавим столбец с затратами на каждый источник в месяц. Нас интересует именно месяц когорты."
   ]
  },
  {
   "cell_type": "code",
   "execution_count": 64,
   "id": "e8768215",
   "metadata": {},
   "outputs": [],
   "source": [
    "costs['month'] = costs['dt'].astype('datetime64[M]') # получили месяц затрат"
   ]
  },
  {
   "cell_type": "code",
   "execution_count": 65,
   "id": "cf33310c",
   "metadata": {},
   "outputs": [],
   "source": [
    "total_costs = costs.groupby('month')['costs'].sum() # общие затраты в разбивке по месяцам"
   ]
  },
  {
   "cell_type": "code",
   "execution_count": 66,
   "id": "94899a64",
   "metadata": {},
   "outputs": [],
   "source": [
    "grouped_costs = costs.groupby(['source_id', 'month'])['costs'].sum() # затраты по месяцам, разбитые по источникам"
   ]
  },
  {
   "cell_type": "markdown",
   "id": "d94d4ecb",
   "metadata": {},
   "source": [
    "Т.к. в дальнейшем нужно будет расчитывать метрики отдельно для группы покупателей, пришедних из разных источников, напишем функцию calculate_metrics.\n",
    "Аргументы функции:\n",
    "* df: исходные данные - таблица, в которой для каждого пользователя известны выручка, месяц первого посещения, месяц первого заказа, источник\n",
    "* margin_rate: маржинальность\n",
    "* costs_data: данные о затратах\n",
    "\n",
    "Функция из исходных данных посчитает размер когорты и сумму выручки, определиты месяцы lifetime для каждой когорты. Это позволит рассчитать LTV. \n",
    "Затем к таблице будут добавленны данные о расходах в месяц, соотвествующий месяцу когорты. Поделив расходы на количество пользователей когорты, узнаем CAC.\n",
    "Наконец, функция расчитает ROMI как отношение LTV к CAC.\n",
    "\n",
    "Таким образом, чтобы посчитать метрики в целом по проекту, нужно передать в функцию таблицу orders_sources, маржинальность и таблицу total_costs. Чтобы посчитать метрики для пользователей источника n, в функцию передадим срез orders_sources по номеру источника, маржинальность и затраты grouped_costs, отфильтрованные по номеру источника."
   ]
  },
  {
   "cell_type": "code",
   "execution_count": 67,
   "id": "075b7fba",
   "metadata": {},
   "outputs": [],
   "source": [
    "def calculate_metrics(df, margin_rate, costs_data):\n",
    "    cohort_size = df.groupby('first_order_date').agg({'uid': 'nunique'}).reset_index()\n",
    "    cohort_revenue = df.groupby(['first_order_date', 'month']).agg({'revenue': 'sum'}).reset_index()\n",
    "    \n",
    "    report = pd.merge(cohort_size, cohort_revenue, on='first_order_date')\n",
    "    \n",
    "    report['age'] = (report['month'] - report['first_order_date']) / np.timedelta64(1, 'M')\n",
    "    report['age'] = report['age'].round().astype('int')\n",
    "    \n",
    "    report['ltv'] = report['revenue']*margin_rate/report['uid']\n",
    "    \n",
    "    report = report.join(costs_data, on='first_order_date')\n",
    "    report['cac'] = report['costs']/report['uid']\n",
    "    report['romi'] = report['ltv']/report['cac']\n",
    "\n",
    "    return report"
   ]
  },
  {
   "cell_type": "markdown",
   "id": "bcaf0cdf",
   "metadata": {},
   "source": [
    "Функцией report_pivot будем строить сводную таблицу полученных метрик, на основании которой также можно будет построить тепловую карту. В эту функцию необходимо будет передать датафрейм с расчитанными метриками (аргумент report) и указать, какую метрику хотим увидеть в сводной таблице (ltv или romi). Метрики будут посчитаны накопительно на каждый период жизни когорты."
   ]
  },
  {
   "cell_type": "code",
   "execution_count": 68,
   "id": "3c681c93",
   "metadata": {},
   "outputs": [],
   "source": [
    "def report_pivot(report, value):\n",
    "    report['first_order_date'] = report['first_order_date'].dt.date\n",
    "    report_pivot = report.pivot_table(index='first_order_date', \n",
    "                              columns='age', \n",
    "                              values=value, \n",
    "                              aggfunc='mean').cumsum(axis=1).round(2)\n",
    "    return report_pivot"
   ]
  },
  {
   "cell_type": "markdown",
   "id": "f6c1d5a2",
   "metadata": {},
   "source": [
    "Итак, воспользуемся функциями, чтобы найти LTV всего проекта."
   ]
  },
  {
   "cell_type": "code",
   "execution_count": 69,
   "id": "f3b0f6a1",
   "metadata": {},
   "outputs": [],
   "source": [
    "total_ltv = calculate_metrics(orders_sources, 1, total_costs)"
   ]
  },
  {
   "cell_type": "code",
   "execution_count": 70,
   "id": "385aed91",
   "metadata": {},
   "outputs": [],
   "source": [
    "project_ltv = report_pivot(total_ltv, 'ltv').head(6)"
   ]
  },
  {
   "cell_type": "markdown",
   "id": "15600b14",
   "metadata": {},
   "source": [
    "Чтобы проанализировать изменение LTV проекта, построим тепловую карту."
   ]
  },
  {
   "cell_type": "code",
   "execution_count": 71,
   "id": "7dde2ee9",
   "metadata": {},
   "outputs": [
    {
     "data": {
      "image/png": "[encoded data removed]",
      "text/plain": [
       "<Figure size 720x504 with 2 Axes>"
      ]
     },
     "metadata": {
      "needs_background": "light"
     },
     "output_type": "display_data"
    }
   ],
   "source": [
    "plt.figure(figsize=(10, 7))\n",
    "plt.title('LTV per user')\n",
    "sns.heatmap(project_ltv, annot=True, fmt='.2f', linewidths=1, linecolor='gray'); "
   ]
  },
  {
   "cell_type": "markdown",
   "id": "2bee06b7",
   "metadata": {},
   "source": [
    "Получим средний LTV за 6 месяцев:"
   ]
  },
  {
   "cell_type": "code",
   "execution_count": 72,
   "id": "c07c1fec",
   "metadata": {},
   "outputs": [
    {
     "data": {
      "text/plain": [
       "age\n",
       "0    5.300000\n",
       "1    5.860000\n",
       "2    6.265000\n",
       "3    7.293333\n",
       "4    7.690000\n",
       "5    8.025000\n",
       "dtype: float64"
      ]
     },
     "execution_count": 72,
     "metadata": {},
     "output_type": "execute_result"
    }
   ],
   "source": [
    "project_ltv.mean().head(6)"
   ]
  },
  {
   "cell_type": "markdown",
   "id": "ed4cf6c7",
   "metadata": {},
   "source": [
    "В целом можно сказать, что со временем пользователи начинают приносить больше выручки. В среднем должно пройти от 3 до 6 месяцев, чтобы показатель начал увеличиваться. Исключением является когорта сентября 2017: в ней рост LTV происходит заметнее всего.\n",
    "\n",
    "Вывод:\n",
    "* пользователи в среднем совершают одну покупку в месяц\n",
    "* средний чек по когортам как уменьшается, так и увеличивается стечением времени, но за редким исключением разница незначительная\n",
    "* первые три месяца жизни когорты выручка в пересчете на покупателя увеличивается незначительно, но затем растет более быстрыми темпами\n",
    "* наиболее перспективной выглядит сентябрьская когорта"
   ]
  },
  {
   "cell_type": "markdown",
   "id": "d00e0f30",
   "metadata": {},
   "source": [
    "### 2.3. Маркетинговые метрики\n",
    "\n",
    "#### 2.3.1. Расходы на маркетинг\n"
   ]
  },
  {
   "cell_type": "code",
   "execution_count": 73,
   "id": "c5256d05",
   "metadata": {},
   "outputs": [
    {
     "name": "stdout",
     "output_type": "stream",
     "text": [
      "Общая сумма расходов на маркетинг за весь период составила: 329131.62 у.е.\n"
     ]
    }
   ],
   "source": [
    "costs_total = costs['costs'].sum()\n",
    "print('Общая сумма расходов на маркетинг за весь период составила: {:.2f}'.format(total_costs.sum()),'у.е.')"
   ]
  },
  {
   "cell_type": "markdown",
   "id": "0ce96b11",
   "metadata": {},
   "source": [
    "Рассмотрим общие расходы в разрезе источников:"
   ]
  },
  {
   "cell_type": "code",
   "execution_count": 74,
   "id": "f6146863",
   "metadata": {},
   "outputs": [
    {
     "data": {
      "image/png": "[encoded data removed]",
      "text/plain": [
       "<Figure size 504x504 with 1 Axes>"
      ]
     },
     "metadata": {},
     "output_type": "display_data"
    }
   ],
   "source": [
    "costs.groupby('source_id')['costs'].sum().plot(\n",
    "    y='flights_amount', \n",
    "    kind='pie', \n",
    "    figsize=(7,7), \n",
    "    legend=False, \n",
    "    autopct='%1.1f%%', \n",
    "    title='Распределение трат по источникам трафика, %');"
   ]
  },
  {
   "cell_type": "markdown",
   "id": "4aee5280",
   "metadata": {},
   "source": [
    "Почти половина маркетингового бюджета приходится на источник № 3. Затем почти треть остатка призодится на источники 2, 4 и 5. Меньше всего расходуется на исчтоники 1, 10 и 9.\n",
    "\n",
    "На графике ниже отображена динамика общих расходов на маркетинг по месяцам за весь период. "
   ]
  },
  {
   "cell_type": "code",
   "execution_count": 75,
   "id": "0cb1ddfd",
   "metadata": {},
   "outputs": [
    {
     "data": {
      "image/png": "[encoded data removed]",
      "text/plain": [
       "<Figure size 432x288 with 1 Axes>"
      ]
     },
     "metadata": {
      "needs_background": "light"
     },
     "output_type": "display_data"
    }
   ],
   "source": [
    "total_costs.plot();\n",
    "plt.title('Динамика общих расходов на маркетинг за июнь 2017-май 2018, у.е.');"
   ]
  },
  {
   "cell_type": "markdown",
   "id": "fa9bfcae",
   "metadata": {},
   "source": [
    "Расходы резко увеличились за август-сентябрь, затем рост немного замедлился. С декабря 2017 суммарные расходы ежемесячно сокращались.\n",
    "\n",
    "Выясним, как менялись расходы на маркетинг в разрезе источников за рассматриваемый период.\n",
    "Группируем расходы по источникам и месяцам. Сделаем месяц индексом полученного ДФ, чтобы затем построить график."
   ]
  },
  {
   "cell_type": "code",
   "execution_count": 76,
   "id": "a1e4d6d7",
   "metadata": {},
   "outputs": [],
   "source": [
    "costs_by_source = costs.groupby(['source_id', 'month']).sum().sort_values(by=['source_id','month']).reset_index()\n",
    "costs_by_source.index = costs_by_source['month']"
   ]
  },
  {
   "cell_type": "markdown",
   "id": "d61aa75a",
   "metadata": {},
   "source": [
    "Динамику расходов на каждый источник отобразим на одном графике при помощи цикла, который будет брать номер источника из списка и выделять соответствующий срез затрат."
   ]
  },
  {
   "cell_type": "code",
   "execution_count": 77,
   "id": "38991ffe",
   "metadata": {},
   "outputs": [],
   "source": [
    "sources_list = costs_by_source['source_id'].unique()"
   ]
  },
  {
   "cell_type": "code",
   "execution_count": 78,
   "id": "f8a2303d",
   "metadata": {},
   "outputs": [
    {
     "data": {
      "image/png": "[encoded data removed]",
      "text/plain": [
       "<Figure size 432x288 with 1 Axes>"
      ]
     },
     "metadata": {
      "needs_background": "light"
     },
     "output_type": "display_data"
    }
   ],
   "source": [
    "for source in sources_list:\n",
    "    costs_by_source.query('source_id == @source')['costs'].plot(label=source, legend=True);\n",
    "    plt.title('Расходы на маркетинг по источникам трафика за июнь 2017 - май 2018');"
   ]
  },
  {
   "cell_type": "markdown",
   "id": "f0585790",
   "metadata": {},
   "source": [
    "Если сравнить этот график с предыдущим, становится понятно, что динамика общей суммы расходов была обусловлена в основном расходами на источники № 3 и в меньшей степени № 2, 4 и 5. Был немного увеличен бюджет на источники № 1 и № 10, но в сравнении с другими источниками, на эти варианты затрачено меньше всего средств и каждый месяц сумма мало варьируется.\n",
    "\n",
    "Вывод:\n",
    "\n",
    "Динамику расходов следует смотреть не только в целом, но и в разрезе направлений затрат. Также необходимо сопоставить затраты с количеством привлеченных покупателей и полученной от них прибылью, чтобы узнать, насколько они целесообразны."
   ]
  },
  {
   "cell_type": "markdown",
   "id": "2c383b5a",
   "metadata": {},
   "source": [
    "#### 2.3.2. Затраты на привлечение на одного покупателя."
   ]
  },
  {
   "cell_type": "markdown",
   "id": "dda4ce3b",
   "metadata": {},
   "source": [
    "Затраты на одного покупателя по проекту в целом найдем как отношение суммы затрат к количество новых клиентов в каждом месяце."
   ]
  },
  {
   "cell_type": "code",
   "execution_count": 79,
   "id": "a67706cc",
   "metadata": {},
   "outputs": [],
   "source": [
    "monthly_costs = costs.groupby('month')['costs'].sum().reset_index() #сумма затрат по месяцам"
   ]
  },
  {
   "cell_type": "code",
   "execution_count": 80,
   "id": "1ca4fa26",
   "metadata": {},
   "outputs": [],
   "source": [
    "buyers = orders.groupby('month').agg({'uid': 'nunique'}).reset_index()\n",
    "buyers.columns = ['month', 'n_buyers'] # количество уникальных пользователей по месяцам"
   ]
  },
  {
   "cell_type": "code",
   "execution_count": 81,
   "id": "5d2fc0e5",
   "metadata": {},
   "outputs": [],
   "source": [
    "cac_report = pd.merge(buyers, monthly_costs, on='month', how='left') # объединяем затраты и количество юзеров в одну таблицу"
   ]
  },
  {
   "cell_type": "code",
   "execution_count": 82,
   "id": "aa0da6c2",
   "metadata": {},
   "outputs": [
    {
     "name": "stdout",
     "output_type": "stream",
     "text": [
      "В среднем на привлечение одного пользователя расходуется 8.24 у.е.\n"
     ]
    },
    {
     "data": {
      "image/png": "[encoded data removed]",
      "text/plain": [
       "<Figure size 432x288 with 1 Axes>"
      ]
     },
     "metadata": {
      "needs_background": "light"
     },
     "output_type": "display_data"
    }
   ],
   "source": [
    "# расчет САС и построение графика\n",
    "cac_report['cac'] = cac_report['costs']/cac_report['n_buyers']\n",
    "cac_report.index = cac_report['month']\n",
    "cac_report['cac'].plot();\n",
    "plt.title('Динамика CAC всего проекта');\n",
    "print('В среднем на привлечение одного пользователя расходуется {:.2f} у.е.'.format(cac_report['cac'].mean()))"
   ]
  },
  {
   "cell_type": "code",
   "execution_count": 83,
   "id": "60263ded",
   "metadata": {},
   "outputs": [
    {
     "name": "stdout",
     "output_type": "stream",
     "text": [
      "В среднем на привлечение одного пользователя расходуется 8.24 у.е.\n"
     ]
    }
   ],
   "source": [
    "print('В среднем на привлечение одного пользователя расходуется {:.2f} у.е.'.format(cac_report['cac'].mean()))"
   ]
  },
  {
   "cell_type": "markdown",
   "id": "a4078c72",
   "metadata": {},
   "source": [
    "Затраты на одного покупателя резко снизились за август-сентябрь. На предыдущих графиках мы установили, что в этот период наоборот на привличение клиентов стали расходовать больше средств. Отсюда можно сделать вывод, что в эти месяцы удалось привлечь много пользователей, в следствие чего затраты на одного пользователя резко снизились. В целом эта тенденция сохранилась, несмотря не пики в ноябре, январе и апреле. К концу периода уменьшение САС скорее всего произошло не за счет прироста пользователей, а за счет снижения затрат в целом. \n",
    "\n",
    "Полезно рассмотреть динамику САС также в разрезе источников привлечения пользователей.\n",
    "Для этого найдем:\n",
    "1) количество пользователей, пришедших через каждый источник в определенный месяц\n",
    "2) сумму затрат на каждый источник в месяц\n",
    "3) разделим затраты на количество пользователей и построим общий график для САС каждого источника"
   ]
  },
  {
   "cell_type": "code",
   "execution_count": 84,
   "id": "9c0faa89",
   "metadata": {},
   "outputs": [],
   "source": [
    "costs_by_source = grouped_costs.reset_index() # сумма затрат по источникам"
   ]
  },
  {
   "cell_type": "code",
   "execution_count": 85,
   "id": "f2784821",
   "metadata": {},
   "outputs": [],
   "source": [
    "users_by_source = visits.groupby(['first_activity_month', 'source_id']).agg({'uid': 'nunique'}).reset_index()\n",
    "users_by_source.columns = ['month', 'source_id', 'uid'] # количетсво новых пользователей по источникам"
   ]
  },
  {
   "cell_type": "code",
   "execution_count": 86,
   "id": "16b82727",
   "metadata": {},
   "outputs": [],
   "source": [
    "cac_by_source = pd.merge(costs_by_source, users_by_source, on=('month', 'source_id')) # объединям данные в один ДФ"
   ]
  },
  {
   "cell_type": "code",
   "execution_count": 87,
   "id": "ed160989",
   "metadata": {},
   "outputs": [],
   "source": [
    "cac_by_source['cac'] = cac_by_source['costs']/cac_by_source['uid'] # расчет САС"
   ]
  },
  {
   "cell_type": "code",
   "execution_count": 88,
   "id": "f9a3f90e",
   "metadata": {},
   "outputs": [],
   "source": [
    "cac_by_source.index = cac_by_source['month']"
   ]
  },
  {
   "cell_type": "markdown",
   "id": "4d60a64a",
   "metadata": {},
   "source": [
    "График строим при помощи цикла:"
   ]
  },
  {
   "cell_type": "code",
   "execution_count": 89,
   "id": "3f1adbb3",
   "metadata": {},
   "outputs": [
    {
     "data": {
      "image/png": "[encoded data removed]",
      "text/plain": [
       "<Figure size 648x432 with 1 Axes>"
      ]
     },
     "metadata": {
      "needs_background": "light"
     },
     "output_type": "display_data"
    }
   ],
   "source": [
    "for source in sources_list:\n",
    "    cac_by_source.query('source_id == @source')['cac'].plot(label=source, legend=True, figsize=(9,6));\n",
    "    plt.title('Динамика CAC по источникам трафика')"
   ]
  },
  {
   "cell_type": "code",
   "execution_count": 90,
   "id": "23855a96",
   "metadata": {},
   "outputs": [
    {
     "name": "stdout",
     "output_type": "stream",
     "text": [
      "Средний CAC по источникам трафика\n"
     ]
    },
    {
     "data": {
      "text/html": [
       "<div>\n",
       "<style scoped>\n",
       "    .dataframe tbody tr th:only-of-type {\n",
       "        vertical-align: middle;\n",
       "    }\n",
       "\n",
       "    .dataframe tbody tr th {\n",
       "        vertical-align: top;\n",
       "    }\n",
       "\n",
       "    .dataframe thead th {\n",
       "        text-align: right;\n",
       "    }\n",
       "</style>\n",
       "<table border=\"1\" class=\"dataframe\">\n",
       "  <thead>\n",
       "    <tr style=\"text-align: right;\">\n",
       "      <th></th>\n",
       "      <th>cac</th>\n",
       "    </tr>\n",
       "    <tr>\n",
       "      <th>source_id</th>\n",
       "      <th></th>\n",
       "    </tr>\n",
       "  </thead>\n",
       "  <tbody>\n",
       "    <tr>\n",
       "      <td>3</td>\n",
       "      <td>1.897502</td>\n",
       "    </tr>\n",
       "    <tr>\n",
       "      <td>2</td>\n",
       "      <td>1.636301</td>\n",
       "    </tr>\n",
       "    <tr>\n",
       "      <td>1</td>\n",
       "      <td>1.105074</td>\n",
       "    </tr>\n",
       "    <tr>\n",
       "      <td>5</td>\n",
       "      <td>0.908613</td>\n",
       "    </tr>\n",
       "    <tr>\n",
       "      <td>4</td>\n",
       "      <td>0.754880</td>\n",
       "    </tr>\n",
       "    <tr>\n",
       "      <td>10</td>\n",
       "      <td>0.747559</td>\n",
       "    </tr>\n",
       "    <tr>\n",
       "      <td>9</td>\n",
       "      <td>0.658892</td>\n",
       "    </tr>\n",
       "  </tbody>\n",
       "</table>\n",
       "</div>"
      ],
      "text/plain": [
       "                cac\n",
       "source_id          \n",
       "3          1.897502\n",
       "2          1.636301\n",
       "1          1.105074\n",
       "5          0.908613\n",
       "4          0.754880\n",
       "10         0.747559\n",
       "9          0.658892"
      ]
     },
     "execution_count": 90,
     "metadata": {},
     "output_type": "execute_result"
    }
   ],
   "source": [
    "print('Средний CAC по источникам трафика')\n",
    "cac_by_source.groupby('source_id').agg({'cac': 'mean'}).sort_values(by='cac', ascending=False)"
   ]
  },
  {
   "cell_type": "markdown",
   "id": "c373de62",
   "metadata": {},
   "source": [
    "Очевидно, что средние затраты на одного пользователя по-разному менялись в каждом источнике: одновременно росли в одном случае и снижались в другом, \"сглаживая\" своим эффектом динамику общего САС. \n",
    "Стабильно самые высокие затраты на пользователя наблюдаются у 3 источника. Учитывая, что на этот источник тратится больше всего средств, можно предположить, что из этого источника приходит меньше всего пользователей.\n",
    "\n",
    "Сделать вывод о том, в какой из источников предпочтительнее всего для бизнеса, поможет анализ метрики ROMI, которую расчитаем на следующем шаге."
   ]
  },
  {
   "cell_type": "markdown",
   "id": "56e5dbe1",
   "metadata": {},
   "source": [
    "#### 2.3.3. ROMI по когортам в разрезе источников. \n"
   ]
  },
  {
   "cell_type": "markdown",
   "id": "88600130",
   "metadata": {},
   "source": [
    "ROMI в разрезе источников найдем при помощи функций calculate_metrics и report_pivot. Чтобы было удобнее сранивать между собой результаты по источникам, в каждом случае возьмем типичную когорту - т.е. найдем среднее на каждый период жизни.\n",
    "\n",
    "Результат представлен на графике ниже. По оси Х отложены месяце жизни типичной когорты, по оси У - среднее ROMI.\n",
    "\n",
    "График построен при помощи цикла, который берет по очереди номер каждого источника из списка и формирует соответствущей срез из таблиц orders_sources и gourped_costs. В каждом случае строится сводная таблица с накопительным ROMI и находится среднее значение по когортам. В результате для каждого источника получаем датафрейм с двумя столбцами: возраст типичной когорты и средний ROMI. "
   ]
  },
  {
   "cell_type": "code",
   "execution_count": 91,
   "id": "5e6b8525",
   "metadata": {},
   "outputs": [
    {
     "data": {
      "image/png": "[encoded data removed]",
      "text/plain": [
       "<Figure size 648x432 with 1 Axes>"
      ]
     },
     "metadata": {
      "needs_background": "light"
     },
     "output_type": "display_data"
    }
   ],
   "source": [
    "for i in sources_list:\n",
    "    data = calculate_metrics(orders_sources.query('source_id == @i'), 1, grouped_costs[i])\n",
    "    temp = report_pivot(data, 'romi').head(6).mean().reset_index()\n",
    "    temp.columns = ['age', i]\n",
    "    temp[i].plot(label=i, legend=True, figsize=(9,6))\n",
    "    plt.title('Динамика среднего ROMI по источникам трафика за период жизни');"
   ]
  },
  {
   "cell_type": "markdown",
   "id": "2d47eeaa",
   "metadata": {},
   "source": [
    "На протяжении всего периода жизни когорт источники № 10 и № 3 являются наименее прибыльными. Напомним, что именно на источник № 3 приходится большая часть бюджета. В свою очередь источник № 1 в среднем показывает лучший результат, его ROMI особенно заметно растет после 6 месяца жизни. Источники № 2 и № 4 показывают рост прибыльности с 9 месяца жизни. \n",
    "\n",
    "Небольшой и стабильный рост окупаемости показывает источник № 9. Более заметный рост окупаемости наблюдается у источника № 5 на 2-8 месяце жизни, затем окупаемость довольно резко падает. В конце периода окупаемость источников № 5 и № 2 близка, но учитывая предшествующую динамику, источник № 2 выглядит более перспективным."
   ]
  },
  {
   "cell_type": "markdown",
   "id": "2890d832",
   "metadata": {},
   "source": [
    "## Выводы и рекомендации\n",
    "\n",
    "Проведенное исследование ползволило сделать следующие выводы:\n",
    "\n",
    "Поведение типичного пользователя:\n",
    "* В среднем пользователи заходят на сайт раз в день и как правило проводят на сайте одну минуту. \n",
    "* Серднее количество посещений в день колеблется за весь период, наблюдаются сезонные пики.\n",
    "* На одного пользователя приходится в среднем один заказ, но этот показатель имеет тенденцию к росту.\n",
    "* Большинство пользователей совершают покупку в тот же день. Половина пользователей проводит на сайте до 16 минут, прежде чем совершить покупку.\n",
    "* В среднем пользователи совершают заказ через минуту после посещения сайта. Мы предполагаем, что эти юзеры пришли сразу на страницу заказа по сторонней ссылке, только чтобы приобрести билеты.\n",
    "* Динамика количества активных пользователей может быть сильно подвержена внешним факторам. Рекомендуется анализировать данные показатели не только в целом, но и по сегментам пользователей, чтобы определить, чем обусловлены изменения.\n",
    "\n",
    "Поведение когорт:\n",
    "* Все когорты показывают низкий retention rate, но мы предполагем, что это обусловлено спецификой бизнеса и не обязательно свидетельствует о проблеме. Тем не менее, рекомендуется продолжить наблюдать за этой метрикой в совокупности с количеством новых пользователей и прибылью.\n",
    "* Когортный анализ показал, что ценность покупателя становится очевидной не менее, чем за 6 месяцев пользования сервисом.\n",
    "* Наиболее песрпективной является когорта сентября 2017: в ней выручка от каждого покупателя растет особенно быстро и заметно.\n",
    "\n",
    "Перспективные источники трафика:\n",
    "* На наш взгляд, приориетным является источник трафика № 1. Вложения в этот источник окупаются лучше всего и его рентабельность стремительно растет. \n",
    "* В будущем можно обратить внимание на источники № 2 и 4: их ROMI начинает увеличиваться в конце исследуемого периода, возможно, они тоже окажутся перспективными источниками трафика. \n",
    "* В пользу источника № 1 также свидетельствует тот факт, что у него сравнительно низкие затраты на пользователя.\n",
    "* Бюджет на источник № 3 следует уменьшить: у него крайне низкая окупаемость, которая почти не меняется со временем. Затраты в пересчете на одного пользователя при этом самые высокие.\n",
    "\n"
   ]
  },
  {
   "cell_type": "code",
   "execution_count": null,
   "id": "2b63627f",
   "metadata": {},
   "outputs": [],
   "source": []
  }
 ],
 "metadata": {
  "ExecuteTimeLog": [
   {
    "duration": 1594,
    "start_time": "2021-07-13T09:12:23.034Z"
   },
   {
    "duration": 5,
    "start_time": "2021-07-13T09:12:24.630Z"
   },
   {
    "duration": 1384,
    "start_time": "2021-07-13T09:12:24.638Z"
   },
   {
    "duration": 16,
    "start_time": "2021-07-13T09:12:26.025Z"
   },
   {
    "duration": 68,
    "start_time": "2021-07-13T09:12:26.043Z"
   },
   {
    "duration": 4,
    "start_time": "2021-07-13T09:12:26.113Z"
   },
   {
    "duration": 293,
    "start_time": "2021-07-13T09:12:26.119Z"
   },
   {
    "duration": 82,
    "start_time": "2021-07-13T09:12:26.416Z"
   },
   {
    "duration": 10,
    "start_time": "2021-07-13T09:12:26.501Z"
   },
   {
    "duration": 35,
    "start_time": "2021-07-13T09:12:26.514Z"
   },
   {
    "duration": 23,
    "start_time": "2021-07-13T09:12:26.551Z"
   },
   {
    "duration": 31,
    "start_time": "2021-07-13T09:12:26.577Z"
   },
   {
    "duration": 27,
    "start_time": "2021-07-13T09:12:26.610Z"
   },
   {
    "duration": 26,
    "start_time": "2021-07-13T09:12:26.640Z"
   },
   {
    "duration": 21,
    "start_time": "2021-07-13T09:12:26.668Z"
   },
   {
    "duration": 26,
    "start_time": "2021-07-13T09:12:26.691Z"
   },
   {
    "duration": 16,
    "start_time": "2021-07-13T09:12:26.719Z"
   },
   {
    "duration": 173,
    "start_time": "2021-07-13T09:12:26.737Z"
   },
   {
    "duration": 18,
    "start_time": "2021-07-13T09:12:26.912Z"
   },
   {
    "duration": 1809,
    "start_time": "2021-07-13T09:12:26.932Z"
   },
   {
    "duration": 405,
    "start_time": "2021-07-13T09:12:28.743Z"
   },
   {
    "duration": 14,
    "start_time": "2021-07-13T09:12:29.150Z"
   },
   {
    "duration": 384,
    "start_time": "2021-07-13T09:12:29.170Z"
   },
   {
    "duration": 6,
    "start_time": "2021-07-13T09:12:29.562Z"
   },
   {
    "duration": 340,
    "start_time": "2021-07-13T09:12:29.570Z"
   },
   {
    "duration": 619,
    "start_time": "2021-07-13T09:12:29.912Z"
   },
   {
    "duration": 413,
    "start_time": "2021-07-13T09:12:30.534Z"
   },
   {
    "duration": 588,
    "start_time": "2021-07-13T09:12:30.949Z"
   },
   {
    "duration": 25,
    "start_time": "2021-07-13T09:12:31.540Z"
   },
   {
    "duration": 581,
    "start_time": "2021-07-13T09:12:31.567Z"
   },
   {
    "duration": 4,
    "start_time": "2021-07-13T09:12:32.150Z"
   },
   {
    "duration": 364,
    "start_time": "2021-07-13T09:12:32.156Z"
   },
   {
    "duration": 64,
    "start_time": "2021-07-13T09:12:32.522Z"
   },
   {
    "duration": 19,
    "start_time": "2021-07-13T09:12:32.589Z"
   },
   {
    "duration": 899,
    "start_time": "2021-07-13T09:12:32.611Z"
   },
   {
    "duration": 12,
    "start_time": "2021-07-13T09:12:33.513Z"
   },
   {
    "duration": 16,
    "start_time": "2021-07-13T09:12:33.528Z"
   },
   {
    "duration": 7,
    "start_time": "2021-07-13T09:12:33.563Z"
   },
   {
    "duration": 460,
    "start_time": "2021-07-13T09:12:33.572Z"
   },
   {
    "duration": 313,
    "start_time": "2021-07-13T09:12:33.723Z"
   },
   {
    "duration": 307,
    "start_time": "2021-07-13T09:12:33.730Z"
   },
   {
    "duration": 302,
    "start_time": "2021-07-13T09:12:33.737Z"
   },
   {
    "duration": 298,
    "start_time": "2021-07-13T09:12:33.742Z"
   },
   {
    "duration": 295,
    "start_time": "2021-07-13T09:12:33.747Z"
   },
   {
    "duration": 290,
    "start_time": "2021-07-13T09:12:33.753Z"
   },
   {
    "duration": 286,
    "start_time": "2021-07-13T09:12:33.759Z"
   },
   {
    "duration": 283,
    "start_time": "2021-07-13T09:12:33.763Z"
   },
   {
    "duration": 278,
    "start_time": "2021-07-13T09:12:33.769Z"
   },
   {
    "duration": 275,
    "start_time": "2021-07-13T09:12:33.774Z"
   },
   {
    "duration": 272,
    "start_time": "2021-07-13T09:12:33.778Z"
   },
   {
    "duration": 270,
    "start_time": "2021-07-13T09:12:33.782Z"
   },
   {
    "duration": 266,
    "start_time": "2021-07-13T09:12:33.787Z"
   },
   {
    "duration": 262,
    "start_time": "2021-07-13T09:12:33.792Z"
   },
   {
    "duration": 259,
    "start_time": "2021-07-13T09:12:33.797Z"
   },
   {
    "duration": 256,
    "start_time": "2021-07-13T09:12:33.801Z"
   },
   {
    "duration": 251,
    "start_time": "2021-07-13T09:12:33.807Z"
   },
   {
    "duration": 249,
    "start_time": "2021-07-13T09:12:33.811Z"
   },
   {
    "duration": 244,
    "start_time": "2021-07-13T09:12:33.817Z"
   },
   {
    "duration": 240,
    "start_time": "2021-07-13T09:12:33.822Z"
   },
   {
    "duration": 235,
    "start_time": "2021-07-13T09:12:33.829Z"
   },
   {
    "duration": 231,
    "start_time": "2021-07-13T09:12:33.834Z"
   },
   {
    "duration": 228,
    "start_time": "2021-07-13T09:12:33.839Z"
   },
   {
    "duration": 222,
    "start_time": "2021-07-13T09:12:33.846Z"
   },
   {
    "duration": 216,
    "start_time": "2021-07-13T09:12:33.853Z"
   },
   {
    "duration": 213,
    "start_time": "2021-07-13T09:12:33.857Z"
   },
   {
    "duration": 209,
    "start_time": "2021-07-13T09:12:33.863Z"
   },
   {
    "duration": 205,
    "start_time": "2021-07-13T09:12:33.868Z"
   },
   {
    "duration": 201,
    "start_time": "2021-07-13T09:12:33.873Z"
   },
   {
    "duration": 197,
    "start_time": "2021-07-13T09:12:33.879Z"
   },
   {
    "duration": 192,
    "start_time": "2021-07-13T09:12:33.885Z"
   },
   {
    "duration": 189,
    "start_time": "2021-07-13T09:12:33.889Z"
   },
   {
    "duration": 184,
    "start_time": "2021-07-13T09:12:33.896Z"
   },
   {
    "duration": 180,
    "start_time": "2021-07-13T09:12:33.901Z"
   },
   {
    "duration": 177,
    "start_time": "2021-07-13T09:12:33.905Z"
   },
   {
    "duration": 175,
    "start_time": "2021-07-13T09:12:33.909Z"
   },
   {
    "duration": 170,
    "start_time": "2021-07-13T09:12:33.915Z"
   },
   {
    "duration": 167,
    "start_time": "2021-07-13T09:12:33.919Z"
   },
   {
    "duration": 164,
    "start_time": "2021-07-13T09:12:33.924Z"
   },
   {
    "duration": 159,
    "start_time": "2021-07-13T09:12:33.930Z"
   },
   {
    "duration": 154,
    "start_time": "2021-07-13T09:12:33.936Z"
   },
   {
    "duration": 152,
    "start_time": "2021-07-13T09:12:33.940Z"
   },
   {
    "duration": 148,
    "start_time": "2021-07-13T09:12:33.945Z"
   },
   {
    "duration": 144,
    "start_time": "2021-07-13T09:12:33.950Z"
   },
   {
    "duration": 140,
    "start_time": "2021-07-13T09:12:33.955Z"
   },
   {
    "duration": 138,
    "start_time": "2021-07-13T09:12:33.959Z"
   },
   {
    "duration": 134,
    "start_time": "2021-07-13T09:12:33.964Z"
   },
   {
    "duration": 130,
    "start_time": "2021-07-13T09:12:33.969Z"
   },
   {
    "duration": 128,
    "start_time": "2021-07-13T09:12:33.973Z"
   },
   {
    "duration": 124,
    "start_time": "2021-07-13T09:12:33.978Z"
   },
   {
    "duration": 1456,
    "start_time": "2021-07-13T09:34:41.388Z"
   },
   {
    "duration": 5,
    "start_time": "2021-07-13T09:34:42.846Z"
   },
   {
    "duration": 1136,
    "start_time": "2021-07-13T09:34:42.854Z"
   },
   {
    "duration": 16,
    "start_time": "2021-07-13T09:34:43.993Z"
   },
   {
    "duration": 67,
    "start_time": "2021-07-13T09:34:44.011Z"
   },
   {
    "duration": 3,
    "start_time": "2021-07-13T09:34:44.080Z"
   },
   {
    "duration": 285,
    "start_time": "2021-07-13T09:34:44.085Z"
   },
   {
    "duration": 71,
    "start_time": "2021-07-13T09:34:44.374Z"
   },
   {
    "duration": 11,
    "start_time": "2021-07-13T09:34:44.462Z"
   },
   {
    "duration": 19,
    "start_time": "2021-07-13T09:34:44.475Z"
   },
   {
    "duration": 3,
    "start_time": "2021-07-13T09:34:44.496Z"
   },
   {
    "duration": 25,
    "start_time": "2021-07-13T09:34:44.501Z"
   },
   {
    "duration": 34,
    "start_time": "2021-07-13T09:34:44.528Z"
   },
   {
    "duration": 10,
    "start_time": "2021-07-13T09:34:44.564Z"
   },
   {
    "duration": 15,
    "start_time": "2021-07-13T09:34:44.576Z"
   },
   {
    "duration": 9,
    "start_time": "2021-07-13T09:34:44.594Z"
   },
   {
    "duration": 13,
    "start_time": "2021-07-13T09:34:44.605Z"
   },
   {
    "duration": 195,
    "start_time": "2021-07-13T09:34:44.620Z"
   },
   {
    "duration": 17,
    "start_time": "2021-07-13T09:34:44.818Z"
   },
   {
    "duration": 2688,
    "start_time": "2021-07-13T09:34:44.837Z"
   },
   {
    "duration": 563,
    "start_time": "2021-07-13T09:34:47.528Z"
   },
   {
    "duration": 8,
    "start_time": "2021-07-13T09:34:48.094Z"
   },
   {
    "duration": 555,
    "start_time": "2021-07-13T09:34:48.112Z"
   },
   {
    "duration": 8,
    "start_time": "2021-07-13T09:34:48.673Z"
   },
   {
    "duration": 489,
    "start_time": "2021-07-13T09:34:48.684Z"
   },
   {
    "duration": 914,
    "start_time": "2021-07-13T09:34:49.177Z"
   },
   {
    "duration": 587,
    "start_time": "2021-07-13T09:34:50.094Z"
   },
   {
    "duration": 894,
    "start_time": "2021-07-13T09:34:50.685Z"
   },
   {
    "duration": 16,
    "start_time": "2021-07-13T09:34:51.583Z"
   },
   {
    "duration": 912,
    "start_time": "2021-07-13T09:34:51.602Z"
   },
   {
    "duration": 4,
    "start_time": "2021-07-13T09:34:52.517Z"
   },
   {
    "duration": 518,
    "start_time": "2021-07-13T09:34:52.524Z"
   },
   {
    "duration": 83,
    "start_time": "2021-07-13T09:34:53.045Z"
   },
   {
    "duration": 32,
    "start_time": "2021-07-13T09:34:53.131Z"
   },
   {
    "duration": 921,
    "start_time": "2021-07-13T09:34:53.166Z"
   },
   {
    "duration": 11,
    "start_time": "2021-07-13T09:34:54.090Z"
   },
   {
    "duration": 14,
    "start_time": "2021-07-13T09:34:54.104Z"
   },
   {
    "duration": 11,
    "start_time": "2021-07-13T09:34:54.120Z"
   },
   {
    "duration": 589,
    "start_time": "2021-07-13T09:34:54.134Z"
   },
   {
    "duration": -68,
    "start_time": "2021-07-13T09:34:54.797Z"
   },
   {
    "duration": -72,
    "start_time": "2021-07-13T09:34:54.803Z"
   },
   {
    "duration": -76,
    "start_time": "2021-07-13T09:34:54.809Z"
   },
   {
    "duration": -77,
    "start_time": "2021-07-13T09:34:54.813Z"
   },
   {
    "duration": -80,
    "start_time": "2021-07-13T09:34:54.818Z"
   },
   {
    "duration": -83,
    "start_time": "2021-07-13T09:34:54.823Z"
   },
   {
    "duration": -86,
    "start_time": "2021-07-13T09:34:54.827Z"
   },
   {
    "duration": -88,
    "start_time": "2021-07-13T09:34:54.831Z"
   },
   {
    "duration": -91,
    "start_time": "2021-07-13T09:34:54.836Z"
   },
   {
    "duration": -93,
    "start_time": "2021-07-13T09:34:54.840Z"
   },
   {
    "duration": -95,
    "start_time": "2021-07-13T09:34:54.844Z"
   },
   {
    "duration": -97,
    "start_time": "2021-07-13T09:34:54.848Z"
   },
   {
    "duration": -100,
    "start_time": "2021-07-13T09:34:54.853Z"
   },
   {
    "duration": -103,
    "start_time": "2021-07-13T09:34:54.858Z"
   },
   {
    "duration": -105,
    "start_time": "2021-07-13T09:34:54.862Z"
   },
   {
    "duration": -107,
    "start_time": "2021-07-13T09:34:54.866Z"
   },
   {
    "duration": -109,
    "start_time": "2021-07-13T09:34:54.870Z"
   },
   {
    "duration": -113,
    "start_time": "2021-07-13T09:34:54.876Z"
   },
   {
    "duration": -116,
    "start_time": "2021-07-13T09:34:54.881Z"
   },
   {
    "duration": -119,
    "start_time": "2021-07-13T09:34:54.886Z"
   },
   {
    "duration": -122,
    "start_time": "2021-07-13T09:34:54.891Z"
   },
   {
    "duration": -126,
    "start_time": "2021-07-13T09:34:54.897Z"
   },
   {
    "duration": -128,
    "start_time": "2021-07-13T09:34:54.901Z"
   },
   {
    "duration": -138,
    "start_time": "2021-07-13T09:34:54.913Z"
   },
   {
    "duration": -141,
    "start_time": "2021-07-13T09:34:54.918Z"
   },
   {
    "duration": -144,
    "start_time": "2021-07-13T09:34:54.923Z"
   },
   {
    "duration": -147,
    "start_time": "2021-07-13T09:34:54.927Z"
   },
   {
    "duration": -149,
    "start_time": "2021-07-13T09:34:54.931Z"
   },
   {
    "duration": -151,
    "start_time": "2021-07-13T09:34:54.935Z"
   },
   {
    "duration": -155,
    "start_time": "2021-07-13T09:34:54.941Z"
   },
   {
    "duration": -157,
    "start_time": "2021-07-13T09:34:54.945Z"
   },
   {
    "duration": -159,
    "start_time": "2021-07-13T09:34:54.949Z"
   },
   {
    "duration": -161,
    "start_time": "2021-07-13T09:34:54.953Z"
   },
   {
    "duration": -164,
    "start_time": "2021-07-13T09:34:54.958Z"
   },
   {
    "duration": -167,
    "start_time": "2021-07-13T09:34:54.962Z"
   },
   {
    "duration": -169,
    "start_time": "2021-07-13T09:34:54.966Z"
   },
   {
    "duration": -171,
    "start_time": "2021-07-13T09:34:54.970Z"
   },
   {
    "duration": -174,
    "start_time": "2021-07-13T09:34:54.975Z"
   },
   {
    "duration": -179,
    "start_time": "2021-07-13T09:34:54.981Z"
   },
   {
    "duration": -182,
    "start_time": "2021-07-13T09:34:54.986Z"
   },
   {
    "duration": -128,
    "start_time": "2021-07-13T09:34:54.990Z"
   },
   {
    "duration": -131,
    "start_time": "2021-07-13T09:34:54.995Z"
   },
   {
    "duration": -133,
    "start_time": "2021-07-13T09:34:54.999Z"
   },
   {
    "duration": -136,
    "start_time": "2021-07-13T09:34:55.004Z"
   },
   {
    "duration": -143,
    "start_time": "2021-07-13T09:34:55.013Z"
   },
   {
    "duration": -146,
    "start_time": "2021-07-13T09:34:55.018Z"
   },
   {
    "duration": -148,
    "start_time": "2021-07-13T09:34:55.022Z"
   },
   {
    "duration": -156,
    "start_time": "2021-07-13T09:34:55.032Z"
   },
   {
    "duration": -158,
    "start_time": "2021-07-13T09:34:55.036Z"
   },
   {
    "duration": -162,
    "start_time": "2021-07-13T09:34:55.042Z"
   },
   {
    "duration": 1584,
    "start_time": "2021-07-13T10:32:11.795Z"
   },
   {
    "duration": 5,
    "start_time": "2021-07-13T10:32:13.381Z"
   },
   {
    "duration": 1350,
    "start_time": "2021-07-13T10:32:13.389Z"
   },
   {
    "duration": 17,
    "start_time": "2021-07-13T10:32:14.741Z"
   },
   {
    "duration": 66,
    "start_time": "2021-07-13T10:32:14.761Z"
   },
   {
    "duration": 5,
    "start_time": "2021-07-13T10:32:14.829Z"
   },
   {
    "duration": 279,
    "start_time": "2021-07-13T10:32:14.855Z"
   },
   {
    "duration": 74,
    "start_time": "2021-07-13T10:32:15.138Z"
   },
   {
    "duration": 11,
    "start_time": "2021-07-13T10:32:15.215Z"
   },
   {
    "duration": 34,
    "start_time": "2021-07-13T10:32:15.228Z"
   },
   {
    "duration": 3,
    "start_time": "2021-07-13T10:32:15.265Z"
   },
   {
    "duration": 24,
    "start_time": "2021-07-13T10:32:15.271Z"
   },
   {
    "duration": 11,
    "start_time": "2021-07-13T10:32:15.298Z"
   },
   {
    "duration": 45,
    "start_time": "2021-07-13T10:32:15.312Z"
   },
   {
    "duration": 9,
    "start_time": "2021-07-13T10:32:15.360Z"
   },
   {
    "duration": 11,
    "start_time": "2021-07-13T10:32:15.372Z"
   },
   {
    "duration": 11,
    "start_time": "2021-07-13T10:32:15.385Z"
   },
   {
    "duration": 178,
    "start_time": "2021-07-13T10:32:15.398Z"
   },
   {
    "duration": 19,
    "start_time": "2021-07-13T10:32:15.579Z"
   },
   {
    "duration": 1725,
    "start_time": "2021-07-13T10:32:15.600Z"
   },
   {
    "duration": 416,
    "start_time": "2021-07-13T10:32:17.327Z"
   },
   {
    "duration": 12,
    "start_time": "2021-07-13T10:32:17.746Z"
   },
   {
    "duration": 414,
    "start_time": "2021-07-13T10:32:17.765Z"
   },
   {
    "duration": 7,
    "start_time": "2021-07-13T10:32:18.182Z"
   },
   {
    "duration": 335,
    "start_time": "2021-07-13T10:32:18.192Z"
   },
   {
    "duration": 578,
    "start_time": "2021-07-13T10:32:18.530Z"
   },
   {
    "duration": 395,
    "start_time": "2021-07-13T10:32:19.110Z"
   },
   {
    "duration": 586,
    "start_time": "2021-07-13T10:32:19.507Z"
   },
   {
    "duration": 12,
    "start_time": "2021-07-13T10:32:20.096Z"
   },
   {
    "duration": 574,
    "start_time": "2021-07-13T10:32:20.111Z"
   },
   {
    "duration": 3,
    "start_time": "2021-07-13T10:32:20.687Z"
   },
   {
    "duration": 358,
    "start_time": "2021-07-13T10:32:20.692Z"
   },
   {
    "duration": 52,
    "start_time": "2021-07-13T10:32:21.055Z"
   },
   {
    "duration": 14,
    "start_time": "2021-07-13T10:32:21.110Z"
   },
   {
    "duration": 609,
    "start_time": "2021-07-13T10:32:21.126Z"
   },
   {
    "duration": 9,
    "start_time": "2021-07-13T10:32:21.737Z"
   },
   {
    "duration": 7,
    "start_time": "2021-07-13T10:32:21.756Z"
   },
   {
    "duration": 7,
    "start_time": "2021-07-13T10:32:21.765Z"
   },
   {
    "duration": 7,
    "start_time": "2021-07-13T10:32:21.774Z"
   },
   {
    "duration": 30,
    "start_time": "2021-07-13T10:32:21.783Z"
   },
   {
    "duration": 49,
    "start_time": "2021-07-13T10:32:21.815Z"
   },
   {
    "duration": 1143,
    "start_time": "2021-07-13T10:32:21.866Z"
   },
   {
    "duration": 6,
    "start_time": "2021-07-13T10:32:23.012Z"
   },
   {
    "duration": 74,
    "start_time": "2021-07-13T10:32:23.021Z"
   },
   {
    "duration": 6,
    "start_time": "2021-07-13T10:32:23.097Z"
   },
   {
    "duration": 89,
    "start_time": "2021-07-13T10:32:23.105Z"
   },
   {
    "duration": 570,
    "start_time": "2021-07-13T10:32:23.196Z"
   },
   {
    "duration": 6,
    "start_time": "2021-07-13T10:32:23.768Z"
   },
   {
    "duration": 8,
    "start_time": "2021-07-13T10:32:23.777Z"
   },
   {
    "duration": 472,
    "start_time": "2021-07-13T10:32:23.788Z"
   },
   {
    "duration": 15,
    "start_time": "2021-07-13T10:32:24.263Z"
   },
   {
    "duration": 9,
    "start_time": "2021-07-13T10:32:24.281Z"
   },
   {
    "duration": 185,
    "start_time": "2021-07-13T10:32:24.293Z"
   },
   {
    "duration": 156,
    "start_time": "2021-07-13T10:32:24.481Z"
   },
   {
    "duration": 100,
    "start_time": "2021-07-13T10:32:24.641Z"
   },
   {
    "duration": 5,
    "start_time": "2021-07-13T10:32:24.743Z"
   },
   {
    "duration": 488,
    "start_time": "2021-07-13T10:32:24.756Z"
   },
   {
    "duration": -176,
    "start_time": "2021-07-13T10:32:25.425Z"
   },
   {
    "duration": -178,
    "start_time": "2021-07-13T10:32:25.429Z"
   },
   {
    "duration": -211,
    "start_time": "2021-07-13T10:32:25.464Z"
   },
   {
    "duration": -213,
    "start_time": "2021-07-13T10:32:25.468Z"
   },
   {
    "duration": -215,
    "start_time": "2021-07-13T10:32:25.472Z"
   },
   {
    "duration": -216,
    "start_time": "2021-07-13T10:32:25.475Z"
   },
   {
    "duration": -217,
    "start_time": "2021-07-13T10:32:25.478Z"
   },
   {
    "duration": -219,
    "start_time": "2021-07-13T10:32:25.482Z"
   },
   {
    "duration": -221,
    "start_time": "2021-07-13T10:32:25.485Z"
   },
   {
    "duration": -223,
    "start_time": "2021-07-13T10:32:25.489Z"
   },
   {
    "duration": -225,
    "start_time": "2021-07-13T10:32:25.492Z"
   },
   {
    "duration": -228,
    "start_time": "2021-07-13T10:32:25.496Z"
   },
   {
    "duration": -230,
    "start_time": "2021-07-13T10:32:25.499Z"
   },
   {
    "duration": -233,
    "start_time": "2021-07-13T10:32:25.503Z"
   },
   {
    "duration": -235,
    "start_time": "2021-07-13T10:32:25.507Z"
   },
   {
    "duration": -237,
    "start_time": "2021-07-13T10:32:25.511Z"
   },
   {
    "duration": -239,
    "start_time": "2021-07-13T10:32:25.514Z"
   },
   {
    "duration": -240,
    "start_time": "2021-07-13T10:32:25.517Z"
   },
   {
    "duration": -241,
    "start_time": "2021-07-13T10:32:25.520Z"
   },
   {
    "duration": -244,
    "start_time": "2021-07-13T10:32:25.524Z"
   },
   {
    "duration": -245,
    "start_time": "2021-07-13T10:32:25.527Z"
   },
   {
    "duration": -246,
    "start_time": "2021-07-13T10:32:25.530Z"
   },
   {
    "duration": -249,
    "start_time": "2021-07-13T10:32:25.534Z"
   },
   {
    "duration": -250,
    "start_time": "2021-07-13T10:32:25.537Z"
   },
   {
    "duration": -253,
    "start_time": "2021-07-13T10:32:25.541Z"
   },
   {
    "duration": -255,
    "start_time": "2021-07-13T10:32:25.544Z"
   },
   {
    "duration": -257,
    "start_time": "2021-07-13T10:32:25.547Z"
   },
   {
    "duration": -259,
    "start_time": "2021-07-13T10:32:25.551Z"
   },
   {
    "duration": -262,
    "start_time": "2021-07-13T10:32:25.555Z"
   },
   {
    "duration": -265,
    "start_time": "2021-07-13T10:32:25.559Z"
   },
   {
    "duration": -269,
    "start_time": "2021-07-13T10:32:25.564Z"
   },
   {
    "duration": -272,
    "start_time": "2021-07-13T10:32:25.569Z"
   },
   {
    "duration": 1651,
    "start_time": "2021-07-13T10:36:32.871Z"
   },
   {
    "duration": 5,
    "start_time": "2021-07-13T10:36:34.524Z"
   },
   {
    "duration": 1151,
    "start_time": "2021-07-13T10:36:34.532Z"
   },
   {
    "duration": 16,
    "start_time": "2021-07-13T10:36:35.686Z"
   },
   {
    "duration": 70,
    "start_time": "2021-07-13T10:36:35.704Z"
   },
   {
    "duration": 4,
    "start_time": "2021-07-13T10:36:35.776Z"
   },
   {
    "duration": 278,
    "start_time": "2021-07-13T10:36:35.782Z"
   },
   {
    "duration": 69,
    "start_time": "2021-07-13T10:36:36.063Z"
   },
   {
    "duration": 29,
    "start_time": "2021-07-13T10:36:36.135Z"
   },
   {
    "duration": 14,
    "start_time": "2021-07-13T10:36:36.166Z"
   },
   {
    "duration": 7,
    "start_time": "2021-07-13T10:36:36.182Z"
   },
   {
    "duration": 25,
    "start_time": "2021-07-13T10:36:36.191Z"
   },
   {
    "duration": 39,
    "start_time": "2021-07-13T10:36:36.218Z"
   },
   {
    "duration": 14,
    "start_time": "2021-07-13T10:36:36.260Z"
   },
   {
    "duration": 10,
    "start_time": "2021-07-13T10:36:36.276Z"
   },
   {
    "duration": 13,
    "start_time": "2021-07-13T10:36:36.288Z"
   },
   {
    "duration": 18,
    "start_time": "2021-07-13T10:36:36.303Z"
   },
   {
    "duration": 178,
    "start_time": "2021-07-13T10:36:36.323Z"
   },
   {
    "duration": 18,
    "start_time": "2021-07-13T10:36:36.503Z"
   },
   {
    "duration": 1728,
    "start_time": "2021-07-13T10:36:36.523Z"
   },
   {
    "duration": 389,
    "start_time": "2021-07-13T10:36:38.253Z"
   },
   {
    "duration": 15,
    "start_time": "2021-07-13T10:36:38.644Z"
   },
   {
    "duration": 376,
    "start_time": "2021-07-13T10:36:38.665Z"
   },
   {
    "duration": 15,
    "start_time": "2021-07-13T10:36:39.045Z"
   },
   {
    "duration": 336,
    "start_time": "2021-07-13T10:36:39.063Z"
   },
   {
    "duration": 561,
    "start_time": "2021-07-13T10:36:39.401Z"
   },
   {
    "duration": 413,
    "start_time": "2021-07-13T10:36:39.965Z"
   },
   {
    "duration": 676,
    "start_time": "2021-07-13T10:36:40.380Z"
   },
   {
    "duration": 13,
    "start_time": "2021-07-13T10:36:41.058Z"
   },
   {
    "duration": 533,
    "start_time": "2021-07-13T10:36:41.074Z"
   },
   {
    "duration": 4,
    "start_time": "2021-07-13T10:36:41.609Z"
   },
   {
    "duration": 351,
    "start_time": "2021-07-13T10:36:41.615Z"
   },
   {
    "duration": 51,
    "start_time": "2021-07-13T10:36:41.968Z"
   },
   {
    "duration": 35,
    "start_time": "2021-07-13T10:36:42.021Z"
   },
   {
    "duration": 589,
    "start_time": "2021-07-13T10:36:42.058Z"
   },
   {
    "duration": 9,
    "start_time": "2021-07-13T10:36:42.649Z"
   },
   {
    "duration": 15,
    "start_time": "2021-07-13T10:36:42.660Z"
   },
   {
    "duration": 10,
    "start_time": "2021-07-13T10:36:42.678Z"
   },
   {
    "duration": 6,
    "start_time": "2021-07-13T10:36:42.691Z"
   },
   {
    "duration": 34,
    "start_time": "2021-07-13T10:36:42.699Z"
   },
   {
    "duration": 33,
    "start_time": "2021-07-13T10:36:42.736Z"
   },
   {
    "duration": 1245,
    "start_time": "2021-07-13T10:36:42.771Z"
   },
   {
    "duration": 6,
    "start_time": "2021-07-13T10:36:44.019Z"
   },
   {
    "duration": 78,
    "start_time": "2021-07-13T10:36:44.027Z"
   },
   {
    "duration": 6,
    "start_time": "2021-07-13T10:36:44.107Z"
   },
   {
    "duration": 95,
    "start_time": "2021-07-13T10:36:44.115Z"
   },
   {
    "duration": 664,
    "start_time": "2021-07-13T10:36:44.212Z"
   },
   {
    "duration": 5,
    "start_time": "2021-07-13T10:36:44.878Z"
   },
   {
    "duration": 9,
    "start_time": "2021-07-13T10:36:44.886Z"
   },
   {
    "duration": 330,
    "start_time": "2021-07-13T10:36:44.897Z"
   },
   {
    "duration": 27,
    "start_time": "2021-07-13T10:36:45.229Z"
   },
   {
    "duration": 6,
    "start_time": "2021-07-13T10:36:45.258Z"
   },
   {
    "duration": 97,
    "start_time": "2021-07-13T10:36:45.267Z"
   },
   {
    "duration": 101,
    "start_time": "2021-07-13T10:36:45.367Z"
   },
   {
    "duration": 65,
    "start_time": "2021-07-13T10:36:45.470Z"
   },
   {
    "duration": 5,
    "start_time": "2021-07-13T10:36:45.537Z"
   },
   {
    "duration": 3,
    "start_time": "2021-07-13T10:36:45.557Z"
   },
   {
    "duration": 29,
    "start_time": "2021-07-13T10:36:45.563Z"
   },
   {
    "duration": 1327,
    "start_time": "2021-07-13T10:36:45.595Z"
   },
   {
    "duration": 14,
    "start_time": "2021-07-13T10:36:46.925Z"
   },
   {
    "duration": 45,
    "start_time": "2021-07-13T10:36:46.957Z"
   },
   {
    "duration": 823,
    "start_time": "2021-07-13T10:36:47.004Z"
   },
   {
    "duration": 196,
    "start_time": "2021-07-13T10:36:47.829Z"
   },
   {
    "duration": 16,
    "start_time": "2021-07-13T10:36:48.027Z"
   },
   {
    "duration": 14,
    "start_time": "2021-07-13T10:36:48.045Z"
   },
   {
    "duration": 12,
    "start_time": "2021-07-13T10:36:48.061Z"
   },
   {
    "duration": 10,
    "start_time": "2021-07-13T10:36:48.075Z"
   },
   {
    "duration": 7,
    "start_time": "2021-07-13T10:36:48.092Z"
   },
   {
    "duration": 6,
    "start_time": "2021-07-13T10:36:48.101Z"
   },
   {
    "duration": 121,
    "start_time": "2021-07-13T10:36:48.109Z"
   },
   {
    "duration": 36,
    "start_time": "2021-07-13T10:36:48.232Z"
   },
   {
    "duration": 853,
    "start_time": "2021-07-13T10:36:48.270Z"
   },
   {
    "duration": 6,
    "start_time": "2021-07-13T10:36:49.126Z"
   },
   {
    "duration": 223,
    "start_time": "2021-07-13T10:36:49.134Z"
   },
   {
    "duration": 301,
    "start_time": "2021-07-13T10:36:49.359Z"
   },
   {
    "duration": 16,
    "start_time": "2021-07-13T10:36:49.664Z"
   },
   {
    "duration": 7,
    "start_time": "2021-07-13T10:36:49.682Z"
   },
   {
    "duration": 483,
    "start_time": "2021-07-13T10:36:49.691Z"
   },
   {
    "duration": 10,
    "start_time": "2021-07-13T10:36:50.176Z"
   },
   {
    "duration": 74,
    "start_time": "2021-07-13T10:36:50.188Z"
   },
   {
    "duration": 9,
    "start_time": "2021-07-13T10:36:50.264Z"
   },
   {
    "duration": 406,
    "start_time": "2021-07-13T10:36:50.275Z"
   },
   {
    "duration": 9,
    "start_time": "2021-07-13T10:36:50.684Z"
   },
   {
    "duration": 592,
    "start_time": "2021-07-13T10:36:50.696Z"
   },
   {
    "duration": 9,
    "start_time": "2021-07-13T10:36:51.290Z"
   },
   {
    "duration": 8,
    "start_time": "2021-07-13T10:36:51.301Z"
   },
   {
    "duration": 7,
    "start_time": "2021-07-13T10:36:51.311Z"
   },
   {
    "duration": 486,
    "start_time": "2021-07-13T10:36:51.320Z"
   },
   {
    "duration": 853,
    "start_time": "2021-07-13T10:36:51.808Z"
   },
   {
    "duration": 1595,
    "start_time": "2021-07-13T10:39:59.046Z"
   },
   {
    "duration": 5,
    "start_time": "2021-07-13T10:40:00.643Z"
   },
   {
    "duration": 1386,
    "start_time": "2021-07-13T10:40:00.655Z"
   },
   {
    "duration": 15,
    "start_time": "2021-07-13T10:40:02.044Z"
   },
   {
    "duration": 89,
    "start_time": "2021-07-13T10:40:02.061Z"
   },
   {
    "duration": 4,
    "start_time": "2021-07-13T10:40:02.153Z"
   },
   {
    "duration": 272,
    "start_time": "2021-07-13T10:40:02.160Z"
   },
   {
    "duration": 79,
    "start_time": "2021-07-13T10:40:02.436Z"
   },
   {
    "duration": 11,
    "start_time": "2021-07-13T10:40:02.518Z"
   },
   {
    "duration": 32,
    "start_time": "2021-07-13T10:40:02.531Z"
   },
   {
    "duration": 17,
    "start_time": "2021-07-13T10:40:02.566Z"
   },
   {
    "duration": 41,
    "start_time": "2021-07-13T10:40:02.585Z"
   },
   {
    "duration": 11,
    "start_time": "2021-07-13T10:40:02.629Z"
   },
   {
    "duration": 30,
    "start_time": "2021-07-13T10:40:02.642Z"
   },
   {
    "duration": 39,
    "start_time": "2021-07-13T10:40:02.675Z"
   },
   {
    "duration": 28,
    "start_time": "2021-07-13T10:40:02.719Z"
   },
   {
    "duration": 20,
    "start_time": "2021-07-13T10:40:02.749Z"
   },
   {
    "duration": 157,
    "start_time": "2021-07-13T10:40:02.772Z"
   },
   {
    "duration": 18,
    "start_time": "2021-07-13T10:40:02.931Z"
   },
   {
    "duration": 1668,
    "start_time": "2021-07-13T10:40:02.956Z"
   },
   {
    "duration": 397,
    "start_time": "2021-07-13T10:40:04.626Z"
   },
   {
    "duration": 7,
    "start_time": "2021-07-13T10:40:05.026Z"
   },
   {
    "duration": 372,
    "start_time": "2021-07-13T10:40:05.056Z"
   },
   {
    "duration": 7,
    "start_time": "2021-07-13T10:40:05.434Z"
   },
   {
    "duration": 346,
    "start_time": "2021-07-13T10:40:05.456Z"
   },
   {
    "duration": 608,
    "start_time": "2021-07-13T10:40:05.805Z"
   },
   {
    "duration": 401,
    "start_time": "2021-07-13T10:40:06.415Z"
   },
   {
    "duration": 674,
    "start_time": "2021-07-13T10:40:06.819Z"
   },
   {
    "duration": 15,
    "start_time": "2021-07-13T10:40:07.496Z"
   },
   {
    "duration": 555,
    "start_time": "2021-07-13T10:40:07.513Z"
   },
   {
    "duration": 4,
    "start_time": "2021-07-13T10:40:08.070Z"
   },
   {
    "duration": 351,
    "start_time": "2021-07-13T10:40:08.077Z"
   },
   {
    "duration": 55,
    "start_time": "2021-07-13T10:40:08.430Z"
   },
   {
    "duration": 15,
    "start_time": "2021-07-13T10:40:08.488Z"
   },
   {
    "duration": 593,
    "start_time": "2021-07-13T10:40:08.505Z"
   },
   {
    "duration": 8,
    "start_time": "2021-07-13T10:40:09.100Z"
   },
   {
    "duration": 11,
    "start_time": "2021-07-13T10:40:09.111Z"
   },
   {
    "duration": 12,
    "start_time": "2021-07-13T10:40:09.124Z"
   },
   {
    "duration": 37,
    "start_time": "2021-07-13T10:40:09.139Z"
   },
   {
    "duration": 28,
    "start_time": "2021-07-13T10:40:09.178Z"
   },
   {
    "duration": 1176,
    "start_time": "2021-07-13T10:40:09.208Z"
   },
   {
    "duration": 6,
    "start_time": "2021-07-13T10:40:10.387Z"
   },
   {
    "duration": 84,
    "start_time": "2021-07-13T10:40:10.396Z"
   },
   {
    "duration": 14,
    "start_time": "2021-07-13T10:40:10.482Z"
   },
   {
    "duration": 82,
    "start_time": "2021-07-13T10:40:10.498Z"
   },
   {
    "duration": 586,
    "start_time": "2021-07-13T10:40:10.583Z"
   },
   {
    "duration": 6,
    "start_time": "2021-07-13T10:40:11.171Z"
   },
   {
    "duration": 11,
    "start_time": "2021-07-13T10:40:11.179Z"
   },
   {
    "duration": 357,
    "start_time": "2021-07-13T10:40:11.193Z"
   },
   {
    "duration": 13,
    "start_time": "2021-07-13T10:40:11.556Z"
   },
   {
    "duration": 7,
    "start_time": "2021-07-13T10:40:11.571Z"
   },
   {
    "duration": 112,
    "start_time": "2021-07-13T10:40:11.580Z"
   },
   {
    "duration": 103,
    "start_time": "2021-07-13T10:40:11.694Z"
   },
   {
    "duration": 73,
    "start_time": "2021-07-13T10:40:11.799Z"
   },
   {
    "duration": 5,
    "start_time": "2021-07-13T10:40:11.874Z"
   },
   {
    "duration": 40,
    "start_time": "2021-07-13T10:40:11.881Z"
   },
   {
    "duration": 1347,
    "start_time": "2021-07-13T10:40:11.923Z"
   },
   {
    "duration": 12,
    "start_time": "2021-07-13T10:40:13.272Z"
   },
   {
    "duration": 56,
    "start_time": "2021-07-13T10:40:13.286Z"
   },
   {
    "duration": 880,
    "start_time": "2021-07-13T10:40:13.345Z"
   },
   {
    "duration": 206,
    "start_time": "2021-07-13T10:40:14.227Z"
   },
   {
    "duration": 22,
    "start_time": "2021-07-13T10:40:14.435Z"
   },
   {
    "duration": 5,
    "start_time": "2021-07-13T10:40:14.459Z"
   },
   {
    "duration": 12,
    "start_time": "2021-07-13T10:40:14.467Z"
   },
   {
    "duration": 13,
    "start_time": "2021-07-13T10:40:14.482Z"
   },
   {
    "duration": 7,
    "start_time": "2021-07-13T10:40:14.497Z"
   },
   {
    "duration": 6,
    "start_time": "2021-07-13T10:40:14.506Z"
   },
   {
    "duration": 108,
    "start_time": "2021-07-13T10:40:14.521Z"
   },
   {
    "duration": 44,
    "start_time": "2021-07-13T10:40:14.632Z"
   },
   {
    "duration": 880,
    "start_time": "2021-07-13T10:40:14.678Z"
   },
   {
    "duration": 6,
    "start_time": "2021-07-13T10:40:15.560Z"
   },
   {
    "duration": 222,
    "start_time": "2021-07-13T10:40:15.569Z"
   },
   {
    "duration": 309,
    "start_time": "2021-07-13T10:40:15.794Z"
   },
   {
    "duration": 18,
    "start_time": "2021-07-13T10:40:16.107Z"
   },
   {
    "duration": 4,
    "start_time": "2021-07-13T10:40:16.128Z"
   },
   {
    "duration": 489,
    "start_time": "2021-07-13T10:40:16.157Z"
   },
   {
    "duration": 9,
    "start_time": "2021-07-13T10:40:16.656Z"
   },
   {
    "duration": 58,
    "start_time": "2021-07-13T10:40:16.667Z"
   },
   {
    "duration": 8,
    "start_time": "2021-07-13T10:40:16.727Z"
   },
   {
    "duration": 419,
    "start_time": "2021-07-13T10:40:16.737Z"
   },
   {
    "duration": 7,
    "start_time": "2021-07-13T10:40:17.158Z"
   },
   {
    "duration": 547,
    "start_time": "2021-07-13T10:40:17.168Z"
   },
   {
    "duration": 8,
    "start_time": "2021-07-13T10:40:17.718Z"
   },
   {
    "duration": 9,
    "start_time": "2021-07-13T10:40:17.728Z"
   },
   {
    "duration": 17,
    "start_time": "2021-07-13T10:40:17.739Z"
   },
   {
    "duration": 450,
    "start_time": "2021-07-13T10:40:17.758Z"
   },
   {
    "duration": 866,
    "start_time": "2021-07-13T10:40:18.210Z"
   },
   {
    "duration": 1511,
    "start_time": "2021-07-13T10:48:04.198Z"
   },
   {
    "duration": 5,
    "start_time": "2021-07-13T10:48:05.712Z"
   },
   {
    "duration": 1092,
    "start_time": "2021-07-13T10:48:05.719Z"
   },
   {
    "duration": 17,
    "start_time": "2021-07-13T10:48:06.814Z"
   },
   {
    "duration": 76,
    "start_time": "2021-07-13T10:48:06.833Z"
   },
   {
    "duration": 5,
    "start_time": "2021-07-13T10:48:06.912Z"
   },
   {
    "duration": 282,
    "start_time": "2021-07-13T10:48:06.919Z"
   },
   {
    "duration": 87,
    "start_time": "2021-07-13T10:48:07.206Z"
   },
   {
    "duration": 11,
    "start_time": "2021-07-13T10:48:07.297Z"
   },
   {
    "duration": 19,
    "start_time": "2021-07-13T10:48:07.311Z"
   },
   {
    "duration": 5,
    "start_time": "2021-07-13T10:48:07.355Z"
   },
   {
    "duration": 28,
    "start_time": "2021-07-13T10:48:07.362Z"
   },
   {
    "duration": 17,
    "start_time": "2021-07-13T10:48:07.393Z"
   },
   {
    "duration": 18,
    "start_time": "2021-07-13T10:48:07.412Z"
   },
   {
    "duration": 27,
    "start_time": "2021-07-13T10:48:07.433Z"
   },
   {
    "duration": 6,
    "start_time": "2021-07-13T10:48:07.463Z"
   },
   {
    "duration": 14,
    "start_time": "2021-07-13T10:48:07.472Z"
   },
   {
    "duration": 166,
    "start_time": "2021-07-13T10:48:07.488Z"
   },
   {
    "duration": 18,
    "start_time": "2021-07-13T10:48:07.656Z"
   },
   {
    "duration": 1670,
    "start_time": "2021-07-13T10:48:07.676Z"
   },
   {
    "duration": 398,
    "start_time": "2021-07-13T10:48:09.348Z"
   },
   {
    "duration": 7,
    "start_time": "2021-07-13T10:48:09.756Z"
   },
   {
    "duration": 380,
    "start_time": "2021-07-13T10:48:09.770Z"
   },
   {
    "duration": 7,
    "start_time": "2021-07-13T10:48:10.158Z"
   },
   {
    "duration": 350,
    "start_time": "2021-07-13T10:48:10.167Z"
   },
   {
    "duration": 718,
    "start_time": "2021-07-13T10:48:10.520Z"
   },
   {
    "duration": 522,
    "start_time": "2021-07-13T10:48:11.241Z"
   },
   {
    "duration": 573,
    "start_time": "2021-07-13T10:48:11.766Z"
   },
   {
    "duration": 18,
    "start_time": "2021-07-13T10:48:12.342Z"
   },
   {
    "duration": 545,
    "start_time": "2021-07-13T10:48:12.362Z"
   },
   {
    "duration": 3,
    "start_time": "2021-07-13T10:48:12.909Z"
   },
   {
    "duration": 351,
    "start_time": "2021-07-13T10:48:12.915Z"
   },
   {
    "duration": 53,
    "start_time": "2021-07-13T10:48:13.269Z"
   },
   {
    "duration": 41,
    "start_time": "2021-07-13T10:48:13.324Z"
   },
   {
    "duration": 571,
    "start_time": "2021-07-13T10:48:13.368Z"
   },
   {
    "duration": 17,
    "start_time": "2021-07-13T10:48:13.941Z"
   },
   {
    "duration": 13,
    "start_time": "2021-07-13T10:48:13.961Z"
   },
   {
    "duration": 9,
    "start_time": "2021-07-13T10:48:13.977Z"
   },
   {
    "duration": 26,
    "start_time": "2021-07-13T10:48:13.989Z"
   },
   {
    "duration": 47,
    "start_time": "2021-07-13T10:48:14.018Z"
   },
   {
    "duration": 1136,
    "start_time": "2021-07-13T10:48:14.068Z"
   },
   {
    "duration": 6,
    "start_time": "2021-07-13T10:48:15.207Z"
   },
   {
    "duration": 73,
    "start_time": "2021-07-13T10:48:15.215Z"
   },
   {
    "duration": 13,
    "start_time": "2021-07-13T10:48:15.291Z"
   },
   {
    "duration": 90,
    "start_time": "2021-07-13T10:48:15.307Z"
   },
   {
    "duration": 561,
    "start_time": "2021-07-13T10:48:15.399Z"
   },
   {
    "duration": 7,
    "start_time": "2021-07-13T10:48:15.963Z"
   },
   {
    "duration": 15,
    "start_time": "2021-07-13T10:48:15.973Z"
   },
   {
    "duration": 342,
    "start_time": "2021-07-13T10:48:15.991Z"
   },
   {
    "duration": 22,
    "start_time": "2021-07-13T10:48:16.336Z"
   },
   {
    "duration": 8,
    "start_time": "2021-07-13T10:48:16.361Z"
   },
   {
    "duration": 107,
    "start_time": "2021-07-13T10:48:16.372Z"
   },
   {
    "duration": 110,
    "start_time": "2021-07-13T10:48:16.482Z"
   },
   {
    "duration": 77,
    "start_time": "2021-07-13T10:48:16.595Z"
   },
   {
    "duration": 7,
    "start_time": "2021-07-13T10:48:16.674Z"
   },
   {
    "duration": 36,
    "start_time": "2021-07-13T10:48:16.684Z"
   },
   {
    "duration": 1305,
    "start_time": "2021-07-13T10:48:16.723Z"
   },
   {
    "duration": 25,
    "start_time": "2021-07-13T10:48:18.031Z"
   },
   {
    "duration": 43,
    "start_time": "2021-07-13T10:48:18.059Z"
   },
   {
    "duration": 826,
    "start_time": "2021-07-13T10:48:18.105Z"
   },
   {
    "duration": 208,
    "start_time": "2021-07-13T10:48:18.934Z"
   },
   {
    "duration": 20,
    "start_time": "2021-07-13T10:48:19.144Z"
   },
   {
    "duration": 5,
    "start_time": "2021-07-13T10:48:19.167Z"
   },
   {
    "duration": 11,
    "start_time": "2021-07-13T10:48:19.174Z"
   },
   {
    "duration": 18,
    "start_time": "2021-07-13T10:48:19.187Z"
   },
   {
    "duration": 7,
    "start_time": "2021-07-13T10:48:19.207Z"
   },
   {
    "duration": 38,
    "start_time": "2021-07-13T10:48:19.217Z"
   },
   {
    "duration": 80,
    "start_time": "2021-07-13T10:48:19.263Z"
   },
   {
    "duration": 36,
    "start_time": "2021-07-13T10:48:19.345Z"
   },
   {
    "duration": 902,
    "start_time": "2021-07-13T10:48:19.383Z"
   },
   {
    "duration": 6,
    "start_time": "2021-07-13T10:48:20.287Z"
   },
   {
    "duration": 221,
    "start_time": "2021-07-13T10:48:20.295Z"
   },
   {
    "duration": 323,
    "start_time": "2021-07-13T10:48:20.519Z"
   },
   {
    "duration": 20,
    "start_time": "2021-07-13T10:48:20.844Z"
   },
   {
    "duration": 11,
    "start_time": "2021-07-13T10:48:20.866Z"
   },
   {
    "duration": 464,
    "start_time": "2021-07-13T10:48:20.879Z"
   },
   {
    "duration": 16,
    "start_time": "2021-07-13T10:48:21.346Z"
   },
   {
    "duration": 59,
    "start_time": "2021-07-13T10:48:21.365Z"
   },
   {
    "duration": 30,
    "start_time": "2021-07-13T10:48:21.427Z"
   },
   {
    "duration": 404,
    "start_time": "2021-07-13T10:48:21.460Z"
   },
   {
    "duration": 8,
    "start_time": "2021-07-13T10:48:21.867Z"
   },
   {
    "duration": 662,
    "start_time": "2021-07-13T10:48:21.877Z"
   },
   {
    "duration": 14,
    "start_time": "2021-07-13T10:48:22.542Z"
   },
   {
    "duration": 6,
    "start_time": "2021-07-13T10:48:22.558Z"
   },
   {
    "duration": 9,
    "start_time": "2021-07-13T10:48:22.566Z"
   },
   {
    "duration": 479,
    "start_time": "2021-07-13T10:48:22.577Z"
   },
   {
    "duration": 886,
    "start_time": "2021-07-13T10:48:23.058Z"
   },
   {
    "duration": 1510,
    "start_time": "2021-07-13T12:17:23.425Z"
   },
   {
    "duration": 5,
    "start_time": "2021-07-13T12:17:24.938Z"
   },
   {
    "duration": 1119,
    "start_time": "2021-07-13T12:17:24.947Z"
   },
   {
    "duration": 19,
    "start_time": "2021-07-13T12:17:26.069Z"
   },
   {
    "duration": 88,
    "start_time": "2021-07-13T12:17:26.091Z"
   },
   {
    "duration": 3,
    "start_time": "2021-07-13T12:17:26.181Z"
   },
   {
    "duration": 276,
    "start_time": "2021-07-13T12:17:26.187Z"
   },
   {
    "duration": 75,
    "start_time": "2021-07-13T12:17:26.467Z"
   },
   {
    "duration": 25,
    "start_time": "2021-07-13T12:17:26.545Z"
   },
   {
    "duration": 17,
    "start_time": "2021-07-13T12:17:26.573Z"
   },
   {
    "duration": 4,
    "start_time": "2021-07-13T12:17:26.592Z"
   },
   {
    "duration": 27,
    "start_time": "2021-07-13T12:17:26.599Z"
   },
   {
    "duration": 39,
    "start_time": "2021-07-13T12:17:26.628Z"
   },
   {
    "duration": 10,
    "start_time": "2021-07-13T12:17:26.670Z"
   },
   {
    "duration": 14,
    "start_time": "2021-07-13T12:17:26.682Z"
   },
   {
    "duration": 10,
    "start_time": "2021-07-13T12:17:26.699Z"
   },
   {
    "duration": 15,
    "start_time": "2021-07-13T12:17:26.711Z"
   },
   {
    "duration": 174,
    "start_time": "2021-07-13T12:17:26.728Z"
   },
   {
    "duration": 17,
    "start_time": "2021-07-13T12:17:26.905Z"
   },
   {
    "duration": 1707,
    "start_time": "2021-07-13T12:17:26.924Z"
   },
   {
    "duration": 401,
    "start_time": "2021-07-13T12:17:28.633Z"
   },
   {
    "duration": 6,
    "start_time": "2021-07-13T12:17:29.036Z"
   },
   {
    "duration": 394,
    "start_time": "2021-07-13T12:17:29.048Z"
   },
   {
    "duration": 6,
    "start_time": "2021-07-13T12:17:29.446Z"
   },
   {
    "duration": 339,
    "start_time": "2021-07-13T12:17:29.462Z"
   },
   {
    "duration": 668,
    "start_time": "2021-07-13T12:17:29.804Z"
   },
   {
    "duration": 420,
    "start_time": "2021-07-13T12:17:30.475Z"
   },
   {
    "duration": 599,
    "start_time": "2021-07-13T12:17:30.897Z"
   },
   {
    "duration": 15,
    "start_time": "2021-07-13T12:17:31.498Z"
   },
   {
    "duration": 614,
    "start_time": "2021-07-13T12:17:31.515Z"
   },
   {
    "duration": 3,
    "start_time": "2021-07-13T12:17:32.132Z"
   },
   {
    "duration": 361,
    "start_time": "2021-07-13T12:17:32.137Z"
   },
   {
    "duration": 65,
    "start_time": "2021-07-13T12:17:32.500Z"
   },
   {
    "duration": 15,
    "start_time": "2021-07-13T12:17:32.567Z"
   },
   {
    "duration": 688,
    "start_time": "2021-07-13T12:17:32.585Z"
   },
   {
    "duration": 9,
    "start_time": "2021-07-13T12:17:33.275Z"
   },
   {
    "duration": 51,
    "start_time": "2021-07-13T12:17:33.286Z"
   },
   {
    "duration": 14,
    "start_time": "2021-07-13T12:17:33.339Z"
   },
   {
    "duration": 32,
    "start_time": "2021-07-13T12:17:33.355Z"
   },
   {
    "duration": 33,
    "start_time": "2021-07-13T12:17:33.389Z"
   },
   {
    "duration": 1226,
    "start_time": "2021-07-13T12:17:33.425Z"
   },
   {
    "duration": 7,
    "start_time": "2021-07-13T12:17:34.661Z"
   },
   {
    "duration": 64,
    "start_time": "2021-07-13T12:17:34.670Z"
   },
   {
    "duration": 89,
    "start_time": "2021-07-13T12:17:34.737Z"
   },
   {
    "duration": 88,
    "start_time": "2021-07-13T12:17:34.829Z"
   },
   {
    "duration": 587,
    "start_time": "2021-07-13T12:17:34.919Z"
   },
   {
    "duration": 6,
    "start_time": "2021-07-13T12:17:35.508Z"
   },
   {
    "duration": 25,
    "start_time": "2021-07-13T12:17:35.516Z"
   },
   {
    "duration": 331,
    "start_time": "2021-07-13T12:17:35.544Z"
   },
   {
    "duration": 13,
    "start_time": "2021-07-13T12:17:35.877Z"
   },
   {
    "duration": 23,
    "start_time": "2021-07-13T12:17:35.892Z"
   },
   {
    "duration": 92,
    "start_time": "2021-07-13T12:17:35.917Z"
   },
   {
    "duration": 102,
    "start_time": "2021-07-13T12:17:36.011Z"
   },
   {
    "duration": 80,
    "start_time": "2021-07-13T12:17:36.115Z"
   },
   {
    "duration": 7,
    "start_time": "2021-07-13T12:17:36.198Z"
   },
   {
    "duration": 49,
    "start_time": "2021-07-13T12:17:36.208Z"
   },
   {
    "duration": 1313,
    "start_time": "2021-07-13T12:17:36.260Z"
   },
   {
    "duration": 10,
    "start_time": "2021-07-13T12:17:37.576Z"
   },
   {
    "duration": 54,
    "start_time": "2021-07-13T12:17:37.589Z"
   },
   {
    "duration": 831,
    "start_time": "2021-07-13T12:17:37.645Z"
   },
   {
    "duration": 288,
    "start_time": "2021-07-13T12:17:38.479Z"
   },
   {
    "duration": 22,
    "start_time": "2021-07-13T12:17:38.770Z"
   },
   {
    "duration": 7,
    "start_time": "2021-07-13T12:17:38.795Z"
   },
   {
    "duration": 13,
    "start_time": "2021-07-13T12:17:38.805Z"
   },
   {
    "duration": 46,
    "start_time": "2021-07-13T12:17:38.821Z"
   },
   {
    "duration": 10,
    "start_time": "2021-07-13T12:17:38.870Z"
   },
   {
    "duration": 9,
    "start_time": "2021-07-13T12:17:38.883Z"
   },
   {
    "duration": 138,
    "start_time": "2021-07-13T12:17:38.904Z"
   },
   {
    "duration": 52,
    "start_time": "2021-07-13T12:17:39.046Z"
   },
   {
    "duration": 1245,
    "start_time": "2021-07-13T12:17:39.101Z"
   },
   {
    "duration": 16,
    "start_time": "2021-07-13T12:17:40.349Z"
   },
   {
    "duration": 294,
    "start_time": "2021-07-13T12:17:40.367Z"
   },
   {
    "duration": 322,
    "start_time": "2021-07-13T12:17:40.664Z"
   },
   {
    "duration": 16,
    "start_time": "2021-07-13T12:17:40.988Z"
   },
   {
    "duration": 28,
    "start_time": "2021-07-13T12:17:41.006Z"
   },
   {
    "duration": 494,
    "start_time": "2021-07-13T12:17:41.036Z"
   },
   {
    "duration": 10,
    "start_time": "2021-07-13T12:17:41.533Z"
   },
   {
    "duration": 71,
    "start_time": "2021-07-13T12:17:41.545Z"
   },
   {
    "duration": 8,
    "start_time": "2021-07-13T12:17:41.619Z"
   },
   {
    "duration": 414,
    "start_time": "2021-07-13T12:17:41.630Z"
   },
   {
    "duration": 18,
    "start_time": "2021-07-13T12:17:42.047Z"
   },
   {
    "duration": 875,
    "start_time": "2021-07-13T12:17:42.068Z"
   },
   {
    "duration": 22,
    "start_time": "2021-07-13T12:17:42.946Z"
   },
   {
    "duration": 12,
    "start_time": "2021-07-13T12:17:42.971Z"
   },
   {
    "duration": 7,
    "start_time": "2021-07-13T12:17:42.985Z"
   },
   {
    "duration": 467,
    "start_time": "2021-07-13T12:17:42.995Z"
   },
   {
    "duration": 865,
    "start_time": "2021-07-13T12:17:43.466Z"
   },
   {
    "duration": 8,
    "start_time": "2021-07-13T12:26:50.914Z"
   },
   {
    "duration": 470,
    "start_time": "2021-07-13T12:27:02.097Z"
   },
   {
    "duration": 289,
    "start_time": "2021-07-13T12:27:09.505Z"
   },
   {
    "duration": 330,
    "start_time": "2021-07-13T12:27:16.953Z"
   },
   {
    "duration": 27,
    "start_time": "2021-07-13T12:27:25.657Z"
   },
   {
    "duration": 590,
    "start_time": "2021-07-13T12:27:41.976Z"
   },
   {
    "duration": 26,
    "start_time": "2021-07-13T12:27:43.458Z"
   },
   {
    "duration": 582,
    "start_time": "2021-07-13T12:27:49.072Z"
   },
   {
    "duration": 1156,
    "start_time": "2021-07-14T04:16:11.390Z"
   },
   {
    "duration": 4,
    "start_time": "2021-07-14T04:16:12.548Z"
   },
   {
    "duration": 840,
    "start_time": "2021-07-14T04:16:12.554Z"
   },
   {
    "duration": 13,
    "start_time": "2021-07-14T04:16:13.396Z"
   },
   {
    "duration": 53,
    "start_time": "2021-07-14T04:16:13.410Z"
   },
   {
    "duration": 4,
    "start_time": "2021-07-14T04:16:13.465Z"
   },
   {
    "duration": 311,
    "start_time": "2021-07-14T04:16:13.471Z"
   },
   {
    "duration": 81,
    "start_time": "2021-07-14T04:16:13.786Z"
   },
   {
    "duration": 10,
    "start_time": "2021-07-14T04:16:13.870Z"
   },
   {
    "duration": 12,
    "start_time": "2021-07-14T04:16:13.892Z"
   },
   {
    "duration": 3,
    "start_time": "2021-07-14T04:16:13.906Z"
   },
   {
    "duration": 18,
    "start_time": "2021-07-14T04:16:13.911Z"
   },
   {
    "duration": 7,
    "start_time": "2021-07-14T04:16:13.931Z"
   },
   {
    "duration": 6,
    "start_time": "2021-07-14T04:16:13.940Z"
   },
   {
    "duration": 8,
    "start_time": "2021-07-14T04:16:13.948Z"
   },
   {
    "duration": 37,
    "start_time": "2021-07-14T04:16:13.958Z"
   },
   {
    "duration": 7,
    "start_time": "2021-07-14T04:16:13.997Z"
   },
   {
    "duration": 107,
    "start_time": "2021-07-14T04:16:14.006Z"
   },
   {
    "duration": 11,
    "start_time": "2021-07-14T04:16:14.115Z"
   },
   {
    "duration": 1522,
    "start_time": "2021-07-14T04:16:14.128Z"
   },
   {
    "duration": 228,
    "start_time": "2021-07-14T04:16:15.651Z"
   },
   {
    "duration": 13,
    "start_time": "2021-07-14T04:16:15.881Z"
   },
   {
    "duration": 220,
    "start_time": "2021-07-14T04:16:15.900Z"
   },
   {
    "duration": 5,
    "start_time": "2021-07-14T04:16:16.122Z"
   },
   {
    "duration": 197,
    "start_time": "2021-07-14T04:16:16.129Z"
   },
   {
    "duration": 445,
    "start_time": "2021-07-14T04:16:16.327Z"
   },
   {
    "duration": 231,
    "start_time": "2021-07-14T04:16:16.774Z"
   },
   {
    "duration": 322,
    "start_time": "2021-07-14T04:16:17.007Z"
   },
   {
    "duration": 8,
    "start_time": "2021-07-14T04:16:17.331Z"
   },
   {
    "duration": 408,
    "start_time": "2021-07-14T04:16:17.341Z"
   },
   {
    "duration": 3,
    "start_time": "2021-07-14T04:16:17.750Z"
   },
   {
    "duration": 265,
    "start_time": "2021-07-14T04:16:17.754Z"
   },
   {
    "duration": 34,
    "start_time": "2021-07-14T04:16:18.021Z"
   },
   {
    "duration": 11,
    "start_time": "2021-07-14T04:16:18.057Z"
   },
   {
    "duration": 452,
    "start_time": "2021-07-14T04:16:18.070Z"
   },
   {
    "duration": 6,
    "start_time": "2021-07-14T04:16:18.524Z"
   },
   {
    "duration": 8,
    "start_time": "2021-07-14T04:16:18.531Z"
   },
   {
    "duration": 5,
    "start_time": "2021-07-14T04:16:18.540Z"
   },
   {
    "duration": 15,
    "start_time": "2021-07-14T04:16:18.547Z"
   },
   {
    "duration": 324,
    "start_time": "2021-07-14T04:16:33.813Z"
   },
   {
    "duration": 11,
    "start_time": "2021-07-14T04:16:38.744Z"
   },
   {
    "duration": 8,
    "start_time": "2021-07-14T04:16:53.401Z"
   },
   {
    "duration": 9,
    "start_time": "2021-07-14T04:17:27.239Z"
   },
   {
    "duration": 9,
    "start_time": "2021-07-14T04:17:33.068Z"
   },
   {
    "duration": 1111,
    "start_time": "2021-07-14T04:19:03.906Z"
   },
   {
    "duration": 4,
    "start_time": "2021-07-14T04:19:05.018Z"
   },
   {
    "duration": 830,
    "start_time": "2021-07-14T04:19:05.023Z"
   },
   {
    "duration": 9,
    "start_time": "2021-07-14T04:19:05.857Z"
   },
   {
    "duration": 63,
    "start_time": "2021-07-14T04:19:05.868Z"
   },
   {
    "duration": 2,
    "start_time": "2021-07-14T04:19:05.933Z"
   },
   {
    "duration": 187,
    "start_time": "2021-07-14T04:19:05.937Z"
   },
   {
    "duration": 52,
    "start_time": "2021-07-14T04:19:06.126Z"
   },
   {
    "duration": 17,
    "start_time": "2021-07-14T04:19:06.180Z"
   },
   {
    "duration": 15,
    "start_time": "2021-07-14T04:19:06.199Z"
   },
   {
    "duration": 3,
    "start_time": "2021-07-14T04:19:06.216Z"
   },
   {
    "duration": 16,
    "start_time": "2021-07-14T04:19:06.220Z"
   },
   {
    "duration": 6,
    "start_time": "2021-07-14T04:19:06.238Z"
   },
   {
    "duration": 6,
    "start_time": "2021-07-14T04:19:06.246Z"
   },
   {
    "duration": 39,
    "start_time": "2021-07-14T04:19:06.253Z"
   },
   {
    "duration": 7,
    "start_time": "2021-07-14T04:19:06.293Z"
   },
   {
    "duration": 11,
    "start_time": "2021-07-14T04:19:06.301Z"
   },
   {
    "duration": 115,
    "start_time": "2021-07-14T04:19:06.313Z"
   },
   {
    "duration": 11,
    "start_time": "2021-07-14T04:19:06.430Z"
   },
   {
    "duration": 1306,
    "start_time": "2021-07-14T04:19:06.443Z"
   },
   {
    "duration": 225,
    "start_time": "2021-07-14T04:19:07.750Z"
   },
   {
    "duration": 15,
    "start_time": "2021-07-14T04:19:07.976Z"
   },
   {
    "duration": 219,
    "start_time": "2021-07-14T04:19:07.994Z"
   },
   {
    "duration": 5,
    "start_time": "2021-07-14T04:19:08.214Z"
   },
   {
    "duration": 198,
    "start_time": "2021-07-14T04:19:08.220Z"
   },
   {
    "duration": 442,
    "start_time": "2021-07-14T04:19:08.419Z"
   },
   {
    "duration": 235,
    "start_time": "2021-07-14T04:19:08.863Z"
   },
   {
    "duration": 328,
    "start_time": "2021-07-14T04:19:09.101Z"
   },
   {
    "duration": 10,
    "start_time": "2021-07-14T04:19:09.430Z"
   },
   {
    "duration": 388,
    "start_time": "2021-07-14T04:19:09.441Z"
   },
   {
    "duration": 2,
    "start_time": "2021-07-14T04:19:09.831Z"
   },
   {
    "duration": 259,
    "start_time": "2021-07-14T04:19:09.835Z"
   },
   {
    "duration": 38,
    "start_time": "2021-07-14T04:19:10.095Z"
   },
   {
    "duration": 11,
    "start_time": "2021-07-14T04:19:10.134Z"
   },
   {
    "duration": 437,
    "start_time": "2021-07-14T04:19:10.147Z"
   },
   {
    "duration": 6,
    "start_time": "2021-07-14T04:19:10.586Z"
   },
   {
    "duration": 7,
    "start_time": "2021-07-14T04:19:10.594Z"
   },
   {
    "duration": 7,
    "start_time": "2021-07-14T04:19:10.604Z"
   },
   {
    "duration": 7,
    "start_time": "2021-07-14T04:19:10.613Z"
   },
   {
    "duration": 11,
    "start_time": "2021-07-14T04:19:33.857Z"
   },
   {
    "duration": 15,
    "start_time": "2021-07-14T04:19:41.872Z"
   },
   {
    "duration": 19,
    "start_time": "2021-07-14T04:19:44.367Z"
   },
   {
    "duration": 1086,
    "start_time": "2021-07-14T04:26:33.360Z"
   },
   {
    "duration": 3,
    "start_time": "2021-07-14T04:26:34.448Z"
   },
   {
    "duration": 856,
    "start_time": "2021-07-14T04:26:34.452Z"
   },
   {
    "duration": 11,
    "start_time": "2021-07-14T04:26:35.310Z"
   },
   {
    "duration": 51,
    "start_time": "2021-07-14T04:26:35.322Z"
   },
   {
    "duration": 2,
    "start_time": "2021-07-14T04:26:35.375Z"
   },
   {
    "duration": 207,
    "start_time": "2021-07-14T04:26:35.379Z"
   },
   {
    "duration": 58,
    "start_time": "2021-07-14T04:26:35.588Z"
   },
   {
    "duration": 6,
    "start_time": "2021-07-14T04:26:35.649Z"
   },
   {
    "duration": 9,
    "start_time": "2021-07-14T04:26:35.657Z"
   },
   {
    "duration": 24,
    "start_time": "2021-07-14T04:26:35.668Z"
   },
   {
    "duration": 22,
    "start_time": "2021-07-14T04:26:35.694Z"
   },
   {
    "duration": 7,
    "start_time": "2021-07-14T04:26:35.718Z"
   },
   {
    "duration": 6,
    "start_time": "2021-07-14T04:26:35.727Z"
   },
   {
    "duration": 10,
    "start_time": "2021-07-14T04:26:35.734Z"
   },
   {
    "duration": 7,
    "start_time": "2021-07-14T04:26:35.746Z"
   },
   {
    "duration": 11,
    "start_time": "2021-07-14T04:26:35.755Z"
   },
   {
    "duration": 110,
    "start_time": "2021-07-14T04:26:35.768Z"
   },
   {
    "duration": 18,
    "start_time": "2021-07-14T04:26:35.880Z"
   },
   {
    "duration": 1272,
    "start_time": "2021-07-14T04:26:35.900Z"
   },
   {
    "duration": 238,
    "start_time": "2021-07-14T04:26:37.174Z"
   },
   {
    "duration": 5,
    "start_time": "2021-07-14T04:26:37.413Z"
   },
   {
    "duration": 229,
    "start_time": "2021-07-14T04:26:37.420Z"
   },
   {
    "duration": 6,
    "start_time": "2021-07-14T04:26:37.651Z"
   },
   {
    "duration": 213,
    "start_time": "2021-07-14T04:26:37.658Z"
   },
   {
    "duration": 434,
    "start_time": "2021-07-14T04:26:37.873Z"
   },
   {
    "duration": 227,
    "start_time": "2021-07-14T04:26:38.309Z"
   },
   {
    "duration": 322,
    "start_time": "2021-07-14T04:26:38.537Z"
   },
   {
    "duration": 8,
    "start_time": "2021-07-14T04:26:38.861Z"
   },
   {
    "duration": 379,
    "start_time": "2021-07-14T04:26:38.870Z"
   },
   {
    "duration": 2,
    "start_time": "2021-07-14T04:26:39.251Z"
   },
   {
    "duration": 268,
    "start_time": "2021-07-14T04:26:39.254Z"
   },
   {
    "duration": 35,
    "start_time": "2021-07-14T04:26:39.524Z"
   },
   {
    "duration": 13,
    "start_time": "2021-07-14T04:26:39.561Z"
   },
   {
    "duration": 487,
    "start_time": "2021-07-14T04:26:39.575Z"
   },
   {
    "duration": 5,
    "start_time": "2021-07-14T04:26:40.064Z"
   },
   {
    "duration": 18,
    "start_time": "2021-07-14T04:26:40.071Z"
   },
   {
    "duration": 18,
    "start_time": "2021-07-14T04:26:40.091Z"
   },
   {
    "duration": 24,
    "start_time": "2021-07-14T04:26:40.110Z"
   },
   {
    "duration": 12,
    "start_time": "2021-07-14T04:26:43.708Z"
   },
   {
    "duration": 793,
    "start_time": "2021-07-14T04:26:48.842Z"
   },
   {
    "duration": 5,
    "start_time": "2021-07-14T04:27:14.967Z"
   },
   {
    "duration": 35,
    "start_time": "2021-07-14T04:27:53.821Z"
   },
   {
    "duration": 5,
    "start_time": "2021-07-14T04:27:54.181Z"
   },
   {
    "duration": 52,
    "start_time": "2021-07-14T04:27:54.469Z"
   },
   {
    "duration": 350,
    "start_time": "2021-07-14T04:27:55.099Z"
   },
   {
    "duration": 5,
    "start_time": "2021-07-14T04:27:56.053Z"
   },
   {
    "duration": 7,
    "start_time": "2021-07-14T04:27:56.769Z"
   },
   {
    "duration": 196,
    "start_time": "2021-07-14T04:27:57.395Z"
   },
   {
    "duration": 9,
    "start_time": "2021-07-14T04:27:57.766Z"
   },
   {
    "duration": 7,
    "start_time": "2021-07-14T04:27:58.188Z"
   },
   {
    "duration": 50,
    "start_time": "2021-07-14T04:28:00.412Z"
   },
   {
    "duration": 51,
    "start_time": "2021-07-14T04:28:14.719Z"
   },
   {
    "duration": 68,
    "start_time": "2021-07-14T04:28:29.525Z"
   },
   {
    "duration": 48,
    "start_time": "2021-07-14T04:28:44.709Z"
   },
   {
    "duration": 204,
    "start_time": "2021-07-14T04:29:05.924Z"
   },
   {
    "duration": 56,
    "start_time": "2021-07-14T04:29:25.772Z"
   },
   {
    "duration": 58,
    "start_time": "2021-07-14T04:30:18.386Z"
   },
   {
    "duration": 42,
    "start_time": "2021-07-14T04:30:19.015Z"
   },
   {
    "duration": 4,
    "start_time": "2021-07-14T04:30:19.842Z"
   },
   {
    "duration": 16,
    "start_time": "2021-07-14T04:30:20.841Z"
   },
   {
    "duration": 812,
    "start_time": "2021-07-14T04:30:21.259Z"
   },
   {
    "duration": 5,
    "start_time": "2021-07-14T04:30:34.410Z"
   },
   {
    "duration": 163,
    "start_time": "2021-07-14T04:30:39.287Z"
   },
   {
    "duration": 151,
    "start_time": "2021-07-14T04:31:42.028Z"
   },
   {
    "duration": 1310,
    "start_time": "2021-07-14T04:31:49.820Z"
   },
   {
    "duration": 1416,
    "start_time": "2021-07-14T04:31:53.833Z"
   },
   {
    "duration": 17,
    "start_time": "2021-07-14T04:32:24.096Z"
   },
   {
    "duration": 85,
    "start_time": "2021-07-14T04:32:47.432Z"
   },
   {
    "duration": 7748,
    "start_time": "2021-07-14T04:32:52.136Z"
   },
   {
    "duration": 329,
    "start_time": "2021-07-14T04:33:18.729Z"
   },
   {
    "duration": 1578,
    "start_time": "2021-07-16T05:06:48.059Z"
   },
   {
    "duration": 6,
    "start_time": "2021-07-16T05:06:49.639Z"
   },
   {
    "duration": 1152,
    "start_time": "2021-07-16T05:06:49.648Z"
   },
   {
    "duration": 16,
    "start_time": "2021-07-16T05:06:50.803Z"
   },
   {
    "duration": 73,
    "start_time": "2021-07-16T05:06:50.822Z"
   },
   {
    "duration": 4,
    "start_time": "2021-07-16T05:06:50.897Z"
   },
   {
    "duration": 278,
    "start_time": "2021-07-16T05:06:50.903Z"
   },
   {
    "duration": 71,
    "start_time": "2021-07-16T05:06:51.184Z"
   },
   {
    "duration": 11,
    "start_time": "2021-07-16T05:06:51.269Z"
   },
   {
    "duration": 11,
    "start_time": "2021-07-16T05:06:51.282Z"
   },
   {
    "duration": 3,
    "start_time": "2021-07-16T05:06:51.296Z"
   },
   {
    "duration": 28,
    "start_time": "2021-07-16T05:06:51.301Z"
   },
   {
    "duration": 39,
    "start_time": "2021-07-16T05:06:51.332Z"
   },
   {
    "duration": 10,
    "start_time": "2021-07-16T05:06:51.374Z"
   },
   {
    "duration": 11,
    "start_time": "2021-07-16T05:06:51.386Z"
   },
   {
    "duration": 8,
    "start_time": "2021-07-16T05:06:51.399Z"
   },
   {
    "duration": 12,
    "start_time": "2021-07-16T05:06:51.409Z"
   },
   {
    "duration": 190,
    "start_time": "2021-07-16T05:06:51.424Z"
   },
   {
    "duration": 18,
    "start_time": "2021-07-16T05:06:51.617Z"
   },
   {
    "duration": 1772,
    "start_time": "2021-07-16T05:06:51.638Z"
   },
   {
    "duration": 404,
    "start_time": "2021-07-16T05:06:53.412Z"
   },
   {
    "duration": 7,
    "start_time": "2021-07-16T05:06:53.818Z"
   },
   {
    "duration": 400,
    "start_time": "2021-07-16T05:06:53.830Z"
   },
   {
    "duration": 7,
    "start_time": "2021-07-16T05:06:54.233Z"
   },
   {
    "duration": 346,
    "start_time": "2021-07-16T05:06:54.243Z"
   },
   {
    "duration": 622,
    "start_time": "2021-07-16T05:06:54.592Z"
   },
   {
    "duration": 400,
    "start_time": "2021-07-16T05:06:55.217Z"
   },
   {
    "duration": 582,
    "start_time": "2021-07-16T05:06:55.620Z"
   },
   {
    "duration": 14,
    "start_time": "2021-07-16T05:06:56.204Z"
   },
   {
    "duration": 585,
    "start_time": "2021-07-16T05:06:56.221Z"
   },
   {
    "duration": 3,
    "start_time": "2021-07-16T05:06:56.808Z"
   },
   {
    "duration": 388,
    "start_time": "2021-07-16T05:06:56.813Z"
   },
   {
    "duration": 63,
    "start_time": "2021-07-16T05:06:57.204Z"
   },
   {
    "duration": 15,
    "start_time": "2021-07-16T05:06:57.270Z"
   },
   {
    "duration": 608,
    "start_time": "2021-07-16T05:06:57.287Z"
   },
   {
    "duration": 8,
    "start_time": "2021-07-16T05:06:57.897Z"
   },
   {
    "duration": 11,
    "start_time": "2021-07-16T05:06:57.907Z"
   },
   {
    "duration": 7,
    "start_time": "2021-07-16T05:06:57.920Z"
   },
   {
    "duration": 50,
    "start_time": "2021-07-16T05:06:57.929Z"
   },
   {
    "duration": 22,
    "start_time": "2021-07-16T05:06:57.981Z"
   },
   {
    "duration": 1269,
    "start_time": "2021-07-16T05:06:58.005Z"
   },
   {
    "duration": 8,
    "start_time": "2021-07-16T05:06:59.276Z"
   },
   {
    "duration": 61,
    "start_time": "2021-07-16T05:06:59.286Z"
   },
   {
    "duration": 7,
    "start_time": "2021-07-16T05:06:59.368Z"
   },
   {
    "duration": 94,
    "start_time": "2021-07-16T05:06:59.377Z"
   },
   {
    "duration": 597,
    "start_time": "2021-07-16T05:06:59.473Z"
   },
   {
    "duration": 5,
    "start_time": "2021-07-16T05:07:00.072Z"
   },
   {
    "duration": 24,
    "start_time": "2021-07-16T05:07:00.079Z"
   },
   {
    "duration": 335,
    "start_time": "2021-07-16T05:07:00.105Z"
   },
   {
    "duration": 12,
    "start_time": "2021-07-16T05:07:00.443Z"
   },
   {
    "duration": 7,
    "start_time": "2021-07-16T05:07:00.466Z"
   },
   {
    "duration": 88,
    "start_time": "2021-07-16T05:07:00.476Z"
   },
   {
    "duration": 20,
    "start_time": "2021-07-16T05:07:15.251Z"
   },
   {
    "duration": 20,
    "start_time": "2021-07-16T05:07:59.094Z"
   },
   {
    "duration": 23,
    "start_time": "2021-07-16T05:08:45.892Z"
   },
   {
    "duration": 282,
    "start_time": "2021-07-16T05:11:27.801Z"
   },
   {
    "duration": 20,
    "start_time": "2021-07-16T05:12:49.967Z"
   },
   {
    "duration": 32,
    "start_time": "2021-07-16T05:12:53.511Z"
   },
   {
    "duration": 6,
    "start_time": "2021-07-16T05:13:02.856Z"
   },
   {
    "duration": 8,
    "start_time": "2021-07-16T05:13:38.712Z"
   },
   {
    "duration": 6,
    "start_time": "2021-07-16T05:14:02.685Z"
   },
   {
    "duration": 6,
    "start_time": "2021-07-16T05:14:10.158Z"
   },
   {
    "duration": 6,
    "start_time": "2021-07-16T05:14:33.877Z"
   },
   {
    "duration": 296,
    "start_time": "2021-07-16T05:16:17.348Z"
   },
   {
    "duration": 1113,
    "start_time": "2021-07-17T07:49:58.365Z"
   },
   {
    "duration": 3,
    "start_time": "2021-07-17T07:49:59.480Z"
   },
   {
    "duration": 839,
    "start_time": "2021-07-17T07:49:59.485Z"
   },
   {
    "duration": 10,
    "start_time": "2021-07-17T07:50:00.326Z"
   },
   {
    "duration": 60,
    "start_time": "2021-07-17T07:50:00.338Z"
   },
   {
    "duration": 5,
    "start_time": "2021-07-17T07:50:00.400Z"
   },
   {
    "duration": 197,
    "start_time": "2021-07-17T07:50:00.406Z"
   },
   {
    "duration": 55,
    "start_time": "2021-07-17T07:50:00.605Z"
   },
   {
    "duration": 7,
    "start_time": "2021-07-17T07:50:00.661Z"
   },
   {
    "duration": 21,
    "start_time": "2021-07-17T07:50:00.669Z"
   },
   {
    "duration": 15,
    "start_time": "2021-07-17T07:50:00.691Z"
   },
   {
    "duration": 31,
    "start_time": "2021-07-17T07:50:00.707Z"
   },
   {
    "duration": 18,
    "start_time": "2021-07-17T07:50:00.740Z"
   },
   {
    "duration": 11,
    "start_time": "2021-07-17T07:50:00.759Z"
   },
   {
    "duration": 17,
    "start_time": "2021-07-17T07:50:00.771Z"
   },
   {
    "duration": 19,
    "start_time": "2021-07-17T07:50:00.790Z"
   },
   {
    "duration": 15,
    "start_time": "2021-07-17T07:50:00.810Z"
   },
   {
    "duration": 13,
    "start_time": "2021-07-17T07:51:23.871Z"
   },
   {
    "duration": 5,
    "start_time": "2021-07-17T07:51:51.327Z"
   },
   {
    "duration": 110,
    "start_time": "2021-07-17T07:57:37.695Z"
   },
   {
    "duration": 10,
    "start_time": "2021-07-17T07:58:17.615Z"
   },
   {
    "duration": 131,
    "start_time": "2021-07-17T07:58:45.332Z"
   },
   {
    "duration": 110,
    "start_time": "2021-07-17T07:58:54.701Z"
   },
   {
    "duration": 10,
    "start_time": "2021-07-17T07:59:19.121Z"
   },
   {
    "duration": 114,
    "start_time": "2021-07-17T08:01:00.824Z"
   },
   {
    "duration": 120,
    "start_time": "2021-07-17T08:02:39.329Z"
   },
   {
    "duration": 54,
    "start_time": "2021-07-17T08:03:53.413Z"
   },
   {
    "duration": 46,
    "start_time": "2021-07-17T08:04:32.282Z"
   },
   {
    "duration": 45,
    "start_time": "2021-07-17T08:04:40.078Z"
   },
   {
    "duration": 52,
    "start_time": "2021-07-17T08:04:57.057Z"
   },
   {
    "duration": 58,
    "start_time": "2021-07-17T08:05:09.513Z"
   },
   {
    "duration": 45,
    "start_time": "2021-07-17T08:05:52.362Z"
   },
   {
    "duration": 56,
    "start_time": "2021-07-17T08:06:00.068Z"
   },
   {
    "duration": 9,
    "start_time": "2021-07-17T08:06:23.453Z"
   },
   {
    "duration": 10,
    "start_time": "2021-07-17T08:06:28.616Z"
   },
   {
    "duration": 126,
    "start_time": "2021-07-17T08:07:22.621Z"
   },
   {
    "duration": 7048,
    "start_time": "2021-07-17T08:10:20.047Z"
   },
   {
    "duration": 1038,
    "start_time": "2021-07-17T08:10:47.749Z"
   },
   {
    "duration": 4,
    "start_time": "2021-07-17T08:10:48.788Z"
   },
   {
    "duration": 851,
    "start_time": "2021-07-17T08:10:48.794Z"
   },
   {
    "duration": 10,
    "start_time": "2021-07-17T08:10:49.647Z"
   },
   {
    "duration": 50,
    "start_time": "2021-07-17T08:10:49.658Z"
   },
   {
    "duration": 2,
    "start_time": "2021-07-17T08:10:49.710Z"
   },
   {
    "duration": 188,
    "start_time": "2021-07-17T08:10:49.714Z"
   },
   {
    "duration": 58,
    "start_time": "2021-07-17T08:10:49.904Z"
   },
   {
    "duration": 136,
    "start_time": "2021-07-17T08:10:49.964Z"
   },
   {
    "duration": 7,
    "start_time": "2021-07-17T08:10:50.102Z"
   },
   {
    "duration": 20,
    "start_time": "2021-07-17T08:10:50.110Z"
   },
   {
    "duration": 11,
    "start_time": "2021-07-17T08:10:50.132Z"
   },
   {
    "duration": 39,
    "start_time": "2021-07-17T08:10:50.144Z"
   },
   {
    "duration": 17,
    "start_time": "2021-07-17T08:10:50.185Z"
   },
   {
    "duration": 6456,
    "start_time": "2021-07-17T08:10:54.808Z"
   },
   {
    "duration": 19,
    "start_time": "2021-07-17T08:11:22.490Z"
   },
   {
    "duration": 8,
    "start_time": "2021-07-17T08:12:40.097Z"
   },
   {
    "duration": 6,
    "start_time": "2021-07-17T08:12:45.961Z"
   },
   {
    "duration": 5,
    "start_time": "2021-07-17T08:12:47.113Z"
   },
   {
    "duration": 6,
    "start_time": "2021-07-17T08:12:48.620Z"
   },
   {
    "duration": 9,
    "start_time": "2021-07-17T08:13:13.517Z"
   },
   {
    "duration": 134,
    "start_time": "2021-07-17T08:20:30.326Z"
   },
   {
    "duration": 11,
    "start_time": "2021-07-17T08:20:30.713Z"
   },
   {
    "duration": 1287,
    "start_time": "2021-07-17T08:20:33.669Z"
   },
   {
    "duration": 301,
    "start_time": "2021-07-17T08:21:10.255Z"
   },
   {
    "duration": 260,
    "start_time": "2021-07-17T08:21:18.091Z"
   },
   {
    "duration": 5,
    "start_time": "2021-07-17T08:21:27.959Z"
   },
   {
    "duration": 3,
    "start_time": "2021-07-17T08:21:45.707Z"
   },
   {
    "duration": 5,
    "start_time": "2021-07-17T08:22:05.720Z"
   },
   {
    "duration": 227,
    "start_time": "2021-07-17T08:22:28.560Z"
   },
   {
    "duration": 5,
    "start_time": "2021-07-17T08:22:30.114Z"
   },
   {
    "duration": 209,
    "start_time": "2021-07-17T08:22:30.625Z"
   },
   {
    "duration": 5,
    "start_time": "2021-07-17T08:22:32.409Z"
   },
   {
    "duration": 183,
    "start_time": "2021-07-17T08:22:33.090Z"
   },
   {
    "duration": 11,
    "start_time": "2021-07-17T08:23:08.339Z"
   },
   {
    "duration": 9,
    "start_time": "2021-07-17T08:25:28.581Z"
   },
   {
    "duration": 444,
    "start_time": "2021-07-17T08:26:37.945Z"
   },
   {
    "duration": 229,
    "start_time": "2021-07-17T08:26:43.969Z"
   },
   {
    "duration": 433,
    "start_time": "2021-07-17T08:26:55.407Z"
   },
   {
    "duration": 229,
    "start_time": "2021-07-17T08:26:57.156Z"
   },
   {
    "duration": 1155,
    "start_time": "2021-07-17T08:27:53.321Z"
   },
   {
    "duration": 4,
    "start_time": "2021-07-17T08:27:54.478Z"
   },
   {
    "duration": 826,
    "start_time": "2021-07-17T08:27:54.484Z"
   },
   {
    "duration": 10,
    "start_time": "2021-07-17T08:27:55.312Z"
   },
   {
    "duration": 51,
    "start_time": "2021-07-17T08:27:55.324Z"
   },
   {
    "duration": 2,
    "start_time": "2021-07-17T08:27:55.377Z"
   },
   {
    "duration": 182,
    "start_time": "2021-07-17T08:27:55.381Z"
   },
   {
    "duration": 52,
    "start_time": "2021-07-17T08:27:55.565Z"
   },
   {
    "duration": 146,
    "start_time": "2021-07-17T08:27:55.619Z"
   },
   {
    "duration": 7,
    "start_time": "2021-07-17T08:27:55.766Z"
   },
   {
    "duration": 9,
    "start_time": "2021-07-17T08:27:55.775Z"
   },
   {
    "duration": 3,
    "start_time": "2021-07-17T08:27:55.786Z"
   },
   {
    "duration": 20,
    "start_time": "2021-07-17T08:27:55.790Z"
   },
   {
    "duration": 34,
    "start_time": "2021-07-17T08:27:55.811Z"
   },
   {
    "duration": 20,
    "start_time": "2021-07-17T08:27:55.847Z"
   },
   {
    "duration": 7,
    "start_time": "2021-07-17T08:27:55.869Z"
   },
   {
    "duration": 9,
    "start_time": "2021-07-17T08:27:55.877Z"
   },
   {
    "duration": 10,
    "start_time": "2021-07-17T08:27:55.887Z"
   },
   {
    "duration": 13,
    "start_time": "2021-07-17T08:27:55.899Z"
   },
   {
    "duration": 33,
    "start_time": "2021-07-17T08:27:55.913Z"
   },
   {
    "duration": 115,
    "start_time": "2021-07-17T08:27:55.948Z"
   },
   {
    "duration": 13,
    "start_time": "2021-07-17T08:27:56.064Z"
   },
   {
    "duration": 1276,
    "start_time": "2021-07-17T08:27:56.081Z"
   },
   {
    "duration": 5,
    "start_time": "2021-07-17T08:27:57.359Z"
   },
   {
    "duration": 228,
    "start_time": "2021-07-17T08:27:57.365Z"
   },
   {
    "duration": 5,
    "start_time": "2021-07-17T08:27:57.595Z"
   },
   {
    "duration": 218,
    "start_time": "2021-07-17T08:27:57.601Z"
   },
   {
    "duration": 4,
    "start_time": "2021-07-17T08:27:57.821Z"
   },
   {
    "duration": 203,
    "start_time": "2021-07-17T08:27:57.827Z"
   },
   {
    "duration": 440,
    "start_time": "2021-07-17T08:28:33.940Z"
   },
   {
    "duration": 234,
    "start_time": "2021-07-17T08:28:37.347Z"
   },
   {
    "duration": 10,
    "start_time": "2021-07-17T08:28:47.223Z"
   },
   {
    "duration": 191,
    "start_time": "2021-07-17T08:29:06.242Z"
   },
   {
    "duration": 219,
    "start_time": "2021-07-17T08:29:21.370Z"
   },
   {
    "duration": 369,
    "start_time": "2021-07-17T08:39:45.498Z"
   },
   {
    "duration": 9,
    "start_time": "2021-07-17T08:39:46.426Z"
   },
   {
    "duration": 365,
    "start_time": "2021-07-17T08:39:48.350Z"
   },
   {
    "duration": 2,
    "start_time": "2021-07-17T08:39:48.721Z"
   },
   {
    "duration": 237,
    "start_time": "2021-07-17T08:39:49.124Z"
   },
   {
    "duration": 37,
    "start_time": "2021-07-17T08:39:49.407Z"
   },
   {
    "duration": 13,
    "start_time": "2021-07-17T08:39:49.836Z"
   },
   {
    "duration": 442,
    "start_time": "2021-07-17T08:39:50.520Z"
   },
   {
    "duration": 6,
    "start_time": "2021-07-17T08:39:51.400Z"
   },
   {
    "duration": 6,
    "start_time": "2021-07-17T08:39:51.831Z"
   },
   {
    "duration": 4,
    "start_time": "2021-07-17T08:39:52.814Z"
   },
   {
    "duration": 17,
    "start_time": "2021-07-17T08:39:54.461Z"
   },
   {
    "duration": 14,
    "start_time": "2021-07-17T08:39:54.730Z"
   },
   {
    "duration": 724,
    "start_time": "2021-07-17T08:39:55.250Z"
   },
   {
    "duration": 5,
    "start_time": "2021-07-17T08:39:58.657Z"
   },
   {
    "duration": 5264,
    "start_time": "2021-07-17T08:41:06.296Z"
   },
   {
    "duration": 749,
    "start_time": "2021-07-17T08:41:30.532Z"
   },
   {
    "duration": 28,
    "start_time": "2021-07-17T08:41:53.772Z"
   },
   {
    "duration": 14,
    "start_time": "2021-07-17T08:41:55.726Z"
   },
   {
    "duration": 681,
    "start_time": "2021-07-17T08:41:58.264Z"
   },
   {
    "duration": 4,
    "start_time": "2021-07-17T08:45:37.408Z"
   },
   {
    "duration": 15,
    "start_time": "2021-07-17T08:45:38.658Z"
   },
   {
    "duration": 12,
    "start_time": "2021-07-17T08:45:39.440Z"
   },
   {
    "duration": 595,
    "start_time": "2021-07-17T08:45:41.058Z"
   },
   {
    "duration": 37,
    "start_time": "2021-07-17T08:46:43.208Z"
   },
   {
    "duration": 5,
    "start_time": "2021-07-17T08:46:43.632Z"
   },
   {
    "duration": 40,
    "start_time": "2021-07-17T08:46:43.915Z"
   },
   {
    "duration": 388,
    "start_time": "2021-07-17T08:46:49.097Z"
   },
   {
    "duration": 558,
    "start_time": "2021-07-17T08:48:16.105Z"
   },
   {
    "duration": 555,
    "start_time": "2021-07-17T08:54:11.949Z"
   },
   {
    "duration": 312,
    "start_time": "2021-07-17T08:54:33.979Z"
   },
   {
    "duration": 537,
    "start_time": "2021-07-17T08:55:43.078Z"
   },
   {
    "duration": 313,
    "start_time": "2021-07-17T08:55:52.228Z"
   },
   {
    "duration": 391,
    "start_time": "2021-07-17T08:56:09.196Z"
   },
   {
    "duration": 546,
    "start_time": "2021-07-17T08:56:23.897Z"
   },
   {
    "duration": 311,
    "start_time": "2021-07-17T08:56:28.570Z"
   },
   {
    "duration": 4,
    "start_time": "2021-07-17T08:56:57.048Z"
   },
   {
    "duration": 7,
    "start_time": "2021-07-17T08:56:57.639Z"
   },
   {
    "duration": 183,
    "start_time": "2021-07-17T08:56:58.045Z"
   },
   {
    "duration": 9,
    "start_time": "2021-07-17T08:56:58.278Z"
   },
   {
    "duration": 5,
    "start_time": "2021-07-17T08:56:58.453Z"
   },
   {
    "duration": 51,
    "start_time": "2021-07-17T08:57:10.306Z"
   },
   {
    "duration": 174,
    "start_time": "2021-07-17T09:00:04.427Z"
   },
   {
    "duration": 5,
    "start_time": "2021-07-17T09:00:04.757Z"
   },
   {
    "duration": 5,
    "start_time": "2021-07-17T09:00:05.090Z"
   },
   {
    "duration": 12,
    "start_time": "2021-07-17T09:00:29.713Z"
   },
   {
    "duration": 219,
    "start_time": "2021-07-17T09:00:38.428Z"
   },
   {
    "duration": 249,
    "start_time": "2021-07-17T09:01:00.486Z"
   },
   {
    "duration": 12,
    "start_time": "2021-07-17T09:01:48.224Z"
   },
   {
    "duration": 347,
    "start_time": "2021-07-17T09:04:00.578Z"
   },
   {
    "duration": 263,
    "start_time": "2021-07-17T09:04:42.406Z"
   },
   {
    "duration": 181,
    "start_time": "2021-07-17T09:05:05.060Z"
   },
   {
    "duration": 256,
    "start_time": "2021-07-17T09:05:22.338Z"
   },
   {
    "duration": 234,
    "start_time": "2021-07-17T09:06:47.418Z"
   },
   {
    "duration": 249,
    "start_time": "2021-07-17T09:06:56.711Z"
   },
   {
    "duration": 184,
    "start_time": "2021-07-17T09:09:21.503Z"
   },
   {
    "duration": 459,
    "start_time": "2021-07-17T09:13:34.389Z"
   },
   {
    "duration": 191,
    "start_time": "2021-07-17T09:14:24.894Z"
   },
   {
    "duration": 189,
    "start_time": "2021-07-17T09:14:28.607Z"
   },
   {
    "duration": 9,
    "start_time": "2021-07-17T09:19:45.938Z"
   },
   {
    "duration": 27,
    "start_time": "2021-07-17T09:19:46.138Z"
   },
   {
    "duration": 571,
    "start_time": "2021-07-17T09:19:46.603Z"
   },
   {
    "duration": 126,
    "start_time": "2021-07-17T09:19:47.175Z"
   },
   {
    "duration": 10,
    "start_time": "2021-07-17T09:19:47.303Z"
   },
   {
    "duration": 4,
    "start_time": "2021-07-17T09:19:47.661Z"
   },
   {
    "duration": 6,
    "start_time": "2021-07-17T09:19:47.889Z"
   },
   {
    "duration": 7,
    "start_time": "2021-07-17T09:19:48.118Z"
   },
   {
    "duration": 5,
    "start_time": "2021-07-17T09:19:48.554Z"
   },
   {
    "duration": 3,
    "start_time": "2021-07-17T09:19:49.335Z"
   },
   {
    "duration": 54,
    "start_time": "2021-07-17T09:19:50.094Z"
   },
   {
    "duration": 21,
    "start_time": "2021-07-17T09:19:50.579Z"
   },
   {
    "duration": 563,
    "start_time": "2021-07-17T09:19:51.899Z"
   },
   {
    "duration": 3,
    "start_time": "2021-07-17T09:20:40.321Z"
   },
   {
    "duration": 51,
    "start_time": "2021-07-17T09:20:42.287Z"
   },
   {
    "duration": 16,
    "start_time": "2021-07-17T09:20:42.765Z"
   },
   {
    "duration": 531,
    "start_time": "2021-07-17T09:20:43.579Z"
   },
   {
    "duration": 273,
    "start_time": "2021-07-17T09:21:53.841Z"
   },
   {
    "duration": 14,
    "start_time": "2021-07-17T09:21:57.314Z"
   },
   {
    "duration": 6,
    "start_time": "2021-07-17T09:22:07.135Z"
   },
   {
    "duration": 4,
    "start_time": "2021-07-17T09:22:37.226Z"
   },
   {
    "duration": 4,
    "start_time": "2021-07-17T09:23:42.025Z"
   },
   {
    "duration": 12,
    "start_time": "2021-07-17T09:30:41.305Z"
   },
   {
    "duration": 16,
    "start_time": "2021-07-17T09:31:06.933Z"
   },
   {
    "duration": 256,
    "start_time": "2021-07-17T09:32:28.667Z"
   },
   {
    "duration": 5,
    "start_time": "2021-07-17T09:32:40.060Z"
   },
   {
    "duration": 5,
    "start_time": "2021-07-17T09:32:45.912Z"
   },
   {
    "duration": 285,
    "start_time": "2021-07-17T09:32:52.896Z"
   },
   {
    "duration": 5,
    "start_time": "2021-07-17T09:33:03.559Z"
   },
   {
    "duration": 4,
    "start_time": "2021-07-17T09:33:07.046Z"
   },
   {
    "duration": 4,
    "start_time": "2021-07-17T09:33:14.130Z"
   },
   {
    "duration": 6,
    "start_time": "2021-07-17T09:33:37.799Z"
   },
   {
    "duration": 9,
    "start_time": "2021-07-17T09:34:41.275Z"
   },
   {
    "duration": 6,
    "start_time": "2021-07-17T09:36:01.131Z"
   },
   {
    "duration": 89,
    "start_time": "2021-07-17T09:37:18.042Z"
   },
   {
    "duration": 6,
    "start_time": "2021-07-17T09:37:20.724Z"
   },
   {
    "duration": 5,
    "start_time": "2021-07-17T09:37:30.901Z"
   },
   {
    "duration": 5,
    "start_time": "2021-07-17T09:39:16.998Z"
   },
   {
    "duration": 4,
    "start_time": "2021-07-17T09:39:17.785Z"
   },
   {
    "duration": 115,
    "start_time": "2021-07-17T09:39:18.579Z"
   },
   {
    "duration": 160,
    "start_time": "2021-07-17T09:39:19.299Z"
   },
   {
    "duration": 11,
    "start_time": "2021-07-17T09:39:19.978Z"
   },
   {
    "duration": 4,
    "start_time": "2021-07-17T09:39:20.464Z"
   },
   {
    "duration": 270,
    "start_time": "2021-07-17T09:39:20.701Z"
   },
   {
    "duration": 8,
    "start_time": "2021-07-17T09:39:22.355Z"
   },
   {
    "duration": 38,
    "start_time": "2021-07-17T09:39:22.580Z"
   },
   {
    "duration": 6,
    "start_time": "2021-07-17T09:39:23.247Z"
   },
   {
    "duration": 171,
    "start_time": "2021-07-17T09:39:23.688Z"
   },
   {
    "duration": 5,
    "start_time": "2021-07-17T09:39:24.323Z"
   },
   {
    "duration": 435,
    "start_time": "2021-07-17T09:39:25.396Z"
   },
   {
    "duration": 8,
    "start_time": "2021-07-17T09:39:25.833Z"
   },
   {
    "duration": 4,
    "start_time": "2021-07-17T09:39:25.899Z"
   },
   {
    "duration": 17,
    "start_time": "2021-07-17T09:39:42.796Z"
   },
   {
    "duration": 4,
    "start_time": "2021-07-17T09:40:28.155Z"
   },
   {
    "duration": 265,
    "start_time": "2021-07-17T09:41:27.617Z"
   },
   {
    "duration": 3,
    "start_time": "2021-07-17T09:41:34.184Z"
   },
   {
    "duration": 84,
    "start_time": "2021-07-17T09:42:19.483Z"
   },
   {
    "duration": 9,
    "start_time": "2021-07-17T09:42:24.731Z"
   },
   {
    "duration": 3,
    "start_time": "2021-07-17T09:43:30.986Z"
   },
   {
    "duration": 244,
    "start_time": "2021-07-17T09:43:31.945Z"
   },
   {
    "duration": 8,
    "start_time": "2021-07-17T09:43:32.632Z"
   },
   {
    "duration": 278,
    "start_time": "2021-07-17T09:43:49.050Z"
   },
   {
    "duration": 8,
    "start_time": "2021-07-17T09:44:18.475Z"
   },
   {
    "duration": 9,
    "start_time": "2021-07-17T09:44:26.270Z"
   },
   {
    "duration": 9,
    "start_time": "2021-07-17T09:45:06.814Z"
   },
   {
    "duration": 9,
    "start_time": "2021-07-17T09:45:17.706Z"
   },
   {
    "duration": 479,
    "start_time": "2021-07-17T09:45:32.012Z"
   },
   {
    "duration": 250,
    "start_time": "2021-07-17T09:53:31.080Z"
   },
   {
    "duration": 370,
    "start_time": "2021-07-17T09:53:34.481Z"
   },
   {
    "duration": 9,
    "start_time": "2021-07-17T09:53:37.995Z"
   },
   {
    "duration": 265,
    "start_time": "2021-07-17T09:53:50.701Z"
   },
   {
    "duration": 320,
    "start_time": "2021-07-17T09:54:13.221Z"
   },
   {
    "duration": 11,
    "start_time": "2021-07-17T09:54:16.667Z"
   },
   {
    "duration": 37,
    "start_time": "2021-07-17T09:55:14.360Z"
   },
   {
    "duration": 32,
    "start_time": "2021-07-17T09:55:39.468Z"
   },
   {
    "duration": 33,
    "start_time": "2021-07-17T09:56:31.271Z"
   },
   {
    "duration": 28,
    "start_time": "2021-07-17T09:57:02.391Z"
   },
   {
    "duration": 36,
    "start_time": "2021-07-17T09:57:09.192Z"
   },
   {
    "duration": 22,
    "start_time": "2021-07-17T09:57:22.120Z"
   },
   {
    "duration": 24,
    "start_time": "2021-07-17T09:57:25.795Z"
   },
   {
    "duration": 37,
    "start_time": "2021-07-17T09:57:45.468Z"
   },
   {
    "duration": 41,
    "start_time": "2021-07-17T09:58:00.373Z"
   },
   {
    "duration": 38,
    "start_time": "2021-07-17T09:58:25.887Z"
   },
   {
    "duration": 1202,
    "start_time": "2021-07-17T10:08:01.250Z"
   },
   {
    "duration": 3,
    "start_time": "2021-07-17T10:08:02.454Z"
   },
   {
    "duration": 910,
    "start_time": "2021-07-17T10:08:02.459Z"
   },
   {
    "duration": 11,
    "start_time": "2021-07-17T10:08:03.371Z"
   },
   {
    "duration": 58,
    "start_time": "2021-07-17T10:08:03.384Z"
   },
   {
    "duration": 5,
    "start_time": "2021-07-17T10:08:03.444Z"
   },
   {
    "duration": 201,
    "start_time": "2021-07-17T10:08:03.451Z"
   },
   {
    "duration": 54,
    "start_time": "2021-07-17T10:08:03.654Z"
   },
   {
    "duration": 173,
    "start_time": "2021-07-17T10:08:03.710Z"
   },
   {
    "duration": 7,
    "start_time": "2021-07-17T10:08:03.885Z"
   },
   {
    "duration": 20,
    "start_time": "2021-07-17T10:08:03.893Z"
   },
   {
    "duration": 26,
    "start_time": "2021-07-17T10:08:03.915Z"
   },
   {
    "duration": 27,
    "start_time": "2021-07-17T10:08:03.943Z"
   },
   {
    "duration": 9,
    "start_time": "2021-07-17T10:08:03.972Z"
   },
   {
    "duration": 25,
    "start_time": "2021-07-17T10:08:03.983Z"
   },
   {
    "duration": 7,
    "start_time": "2021-07-17T10:08:04.010Z"
   },
   {
    "duration": 15,
    "start_time": "2021-07-17T10:08:04.018Z"
   },
   {
    "duration": 11,
    "start_time": "2021-07-17T10:08:04.034Z"
   },
   {
    "duration": 16,
    "start_time": "2021-07-17T10:08:04.047Z"
   },
   {
    "duration": 12,
    "start_time": "2021-07-17T10:08:04.065Z"
   },
   {
    "duration": 109,
    "start_time": "2021-07-17T10:08:04.079Z"
   },
   {
    "duration": 11,
    "start_time": "2021-07-17T10:08:04.190Z"
   },
   {
    "duration": 1501,
    "start_time": "2021-07-17T10:08:04.205Z"
   },
   {
    "duration": 5,
    "start_time": "2021-07-17T10:08:05.708Z"
   },
   {
    "duration": 232,
    "start_time": "2021-07-17T10:08:05.714Z"
   },
   {
    "duration": 5,
    "start_time": "2021-07-17T10:08:05.948Z"
   },
   {
    "duration": 219,
    "start_time": "2021-07-17T10:08:05.954Z"
   },
   {
    "duration": 4,
    "start_time": "2021-07-17T10:08:06.175Z"
   },
   {
    "duration": 201,
    "start_time": "2021-07-17T10:08:06.181Z"
   },
   {
    "duration": 456,
    "start_time": "2021-07-17T10:08:06.384Z"
   },
   {
    "duration": 230,
    "start_time": "2021-07-17T10:08:06.842Z"
   },
   {
    "duration": 327,
    "start_time": "2021-07-17T10:08:07.074Z"
   },
   {
    "duration": 8,
    "start_time": "2021-07-17T10:08:07.403Z"
   },
   {
    "duration": 404,
    "start_time": "2021-07-17T10:08:07.413Z"
   },
   {
    "duration": 3,
    "start_time": "2021-07-17T10:08:07.819Z"
   },
   {
    "duration": 427,
    "start_time": "2021-07-17T10:08:07.823Z"
   },
   {
    "duration": 36,
    "start_time": "2021-07-17T10:08:08.252Z"
   },
   {
    "duration": 13,
    "start_time": "2021-07-17T10:08:08.289Z"
   },
   {
    "duration": 572,
    "start_time": "2021-07-17T10:08:08.304Z"
   },
   {
    "duration": 6,
    "start_time": "2021-07-17T10:08:08.878Z"
   },
   {
    "duration": 8,
    "start_time": "2021-07-17T10:08:08.886Z"
   },
   {
    "duration": 5,
    "start_time": "2021-07-17T10:08:08.896Z"
   },
   {
    "duration": 5,
    "start_time": "2021-07-17T10:08:08.903Z"
   },
   {
    "duration": 38,
    "start_time": "2021-07-17T10:08:08.909Z"
   },
   {
    "duration": 13,
    "start_time": "2021-07-17T10:08:08.948Z"
   },
   {
    "duration": 686,
    "start_time": "2021-07-17T10:08:08.963Z"
   },
   {
    "duration": 6,
    "start_time": "2021-07-17T10:08:09.651Z"
   },
   {
    "duration": 38,
    "start_time": "2021-07-17T10:08:09.659Z"
   },
   {
    "duration": 5,
    "start_time": "2021-07-17T10:08:09.699Z"
   },
   {
    "duration": 69,
    "start_time": "2021-07-17T10:08:09.706Z"
   },
   {
    "duration": 331,
    "start_time": "2021-07-17T10:08:09.777Z"
   },
   {
    "duration": 4,
    "start_time": "2021-07-17T10:08:10.110Z"
   },
   {
    "duration": 7,
    "start_time": "2021-07-17T10:08:10.115Z"
   },
   {
    "duration": 201,
    "start_time": "2021-07-17T10:08:10.124Z"
   },
   {
    "duration": 17,
    "start_time": "2021-07-17T10:08:10.327Z"
   },
   {
    "duration": 4,
    "start_time": "2021-07-17T10:08:10.346Z"
   },
   {
    "duration": 53,
    "start_time": "2021-07-17T10:08:10.352Z"
   },
   {
    "duration": 221,
    "start_time": "2021-07-17T10:08:10.406Z"
   },
   {
    "duration": 16,
    "start_time": "2021-07-17T10:08:10.629Z"
   },
   {
    "duration": 28,
    "start_time": "2021-07-17T10:08:10.647Z"
   },
   {
    "duration": 620,
    "start_time": "2021-07-17T10:08:10.676Z"
   },
   {
    "duration": 135,
    "start_time": "2021-07-17T10:08:11.298Z"
   },
   {
    "duration": 9,
    "start_time": "2021-07-17T10:08:11.435Z"
   },
   {
    "duration": 5,
    "start_time": "2021-07-17T10:08:11.446Z"
   },
   {
    "duration": 8,
    "start_time": "2021-07-17T10:08:11.453Z"
   },
   {
    "duration": 7,
    "start_time": "2021-07-17T10:08:11.462Z"
   },
   {
    "duration": 4,
    "start_time": "2021-07-17T10:08:11.471Z"
   },
   {
    "duration": 7,
    "start_time": "2021-07-17T10:08:11.479Z"
   },
   {
    "duration": 85,
    "start_time": "2021-07-17T10:08:11.487Z"
   },
   {
    "duration": 17,
    "start_time": "2021-07-17T10:08:11.573Z"
   },
   {
    "duration": 513,
    "start_time": "2021-07-17T10:08:11.591Z"
   },
   {
    "duration": 5,
    "start_time": "2021-07-17T10:08:12.105Z"
   },
   {
    "duration": 7,
    "start_time": "2021-07-17T10:08:12.112Z"
   },
   {
    "duration": 126,
    "start_time": "2021-07-17T10:08:12.120Z"
   },
   {
    "duration": 176,
    "start_time": "2021-07-17T10:08:12.248Z"
   },
   {
    "duration": 19,
    "start_time": "2021-07-17T10:08:12.425Z"
   },
   {
    "duration": 2,
    "start_time": "2021-07-17T10:08:12.446Z"
   },
   {
    "duration": 273,
    "start_time": "2021-07-17T10:08:12.450Z"
   },
   {
    "duration": 8,
    "start_time": "2021-07-17T10:08:12.725Z"
   },
   {
    "duration": 39,
    "start_time": "2021-07-17T10:08:12.741Z"
   },
   {
    "duration": 7,
    "start_time": "2021-07-17T10:08:12.781Z"
   },
   {
    "duration": 259,
    "start_time": "2021-07-17T10:08:12.790Z"
   },
   {
    "duration": 4,
    "start_time": "2021-07-17T10:08:13.051Z"
   },
   {
    "duration": 10,
    "start_time": "2021-07-17T10:08:13.057Z"
   },
   {
    "duration": 454,
    "start_time": "2021-07-17T10:08:13.068Z"
   },
   {
    "duration": 6,
    "start_time": "2021-07-17T10:08:13.523Z"
   },
   {
    "duration": 11,
    "start_time": "2021-07-17T10:08:13.530Z"
   },
   {
    "duration": 5,
    "start_time": "2021-07-17T10:08:13.542Z"
   },
   {
    "duration": 299,
    "start_time": "2021-07-17T10:08:13.549Z"
   },
   {
    "duration": 10,
    "start_time": "2021-07-17T10:08:13.850Z"
   },
   {
    "duration": 530,
    "start_time": "2021-07-17T10:08:13.863Z"
   },
   {
    "duration": 1687,
    "start_time": "2021-07-18T10:02:26.167Z"
   },
   {
    "duration": 4,
    "start_time": "2021-07-18T10:02:27.856Z"
   },
   {
    "duration": 797,
    "start_time": "2021-07-18T10:02:27.861Z"
   },
   {
    "duration": 11,
    "start_time": "2021-07-18T10:02:28.660Z"
   },
   {
    "duration": 52,
    "start_time": "2021-07-18T10:02:28.673Z"
   },
   {
    "duration": 3,
    "start_time": "2021-07-18T10:02:28.727Z"
   },
   {
    "duration": 198,
    "start_time": "2021-07-18T10:02:28.731Z"
   },
   {
    "duration": 62,
    "start_time": "2021-07-18T10:02:28.932Z"
   },
   {
    "duration": 138,
    "start_time": "2021-07-18T10:02:28.996Z"
   },
   {
    "duration": 7,
    "start_time": "2021-07-18T10:02:29.135Z"
   },
   {
    "duration": 21,
    "start_time": "2021-07-18T10:02:29.144Z"
   },
   {
    "duration": 4,
    "start_time": "2021-07-18T10:02:29.166Z"
   },
   {
    "duration": 20,
    "start_time": "2021-07-18T10:02:29.172Z"
   },
   {
    "duration": 7,
    "start_time": "2021-07-18T10:02:29.194Z"
   },
   {
    "duration": 22,
    "start_time": "2021-07-18T10:02:29.203Z"
   },
   {
    "duration": 7,
    "start_time": "2021-07-18T10:02:29.226Z"
   },
   {
    "duration": 14,
    "start_time": "2021-07-18T10:02:29.235Z"
   },
   {
    "duration": 9,
    "start_time": "2021-07-18T10:02:29.250Z"
   },
   {
    "duration": 28,
    "start_time": "2021-07-18T10:02:29.260Z"
   },
   {
    "duration": 9,
    "start_time": "2021-07-18T10:02:29.289Z"
   },
   {
    "duration": 112,
    "start_time": "2021-07-18T10:02:29.299Z"
   },
   {
    "duration": 12,
    "start_time": "2021-07-18T10:02:29.413Z"
   },
   {
    "duration": 1311,
    "start_time": "2021-07-18T10:02:29.428Z"
   },
   {
    "duration": 4,
    "start_time": "2021-07-18T10:02:30.742Z"
   },
   {
    "duration": 243,
    "start_time": "2021-07-18T10:02:30.748Z"
   },
   {
    "duration": 5,
    "start_time": "2021-07-18T10:02:30.993Z"
   },
   {
    "duration": 240,
    "start_time": "2021-07-18T10:02:31.000Z"
   },
   {
    "duration": 5,
    "start_time": "2021-07-18T10:02:31.242Z"
   },
   {
    "duration": 210,
    "start_time": "2021-07-18T10:02:31.249Z"
   },
   {
    "duration": 426,
    "start_time": "2021-07-18T10:02:31.460Z"
   },
   {
    "duration": 245,
    "start_time": "2021-07-18T10:02:31.888Z"
   },
   {
    "duration": 348,
    "start_time": "2021-07-18T10:02:32.135Z"
   },
   {
    "duration": 9,
    "start_time": "2021-07-18T10:02:32.485Z"
   },
   {
    "duration": 352,
    "start_time": "2021-07-18T10:02:32.495Z"
   },
   {
    "duration": 2,
    "start_time": "2021-07-18T10:02:32.849Z"
   },
   {
    "duration": 266,
    "start_time": "2021-07-18T10:02:32.852Z"
   },
   {
    "duration": 36,
    "start_time": "2021-07-18T10:02:33.120Z"
   },
   {
    "duration": 27,
    "start_time": "2021-07-18T10:02:33.158Z"
   },
   {
    "duration": 451,
    "start_time": "2021-07-18T10:02:33.187Z"
   },
   {
    "duration": 6,
    "start_time": "2021-07-18T10:02:33.640Z"
   },
   {
    "duration": 8,
    "start_time": "2021-07-18T10:02:33.647Z"
   },
   {
    "duration": 4,
    "start_time": "2021-07-18T10:02:33.657Z"
   },
   {
    "duration": 5,
    "start_time": "2021-07-18T10:02:33.663Z"
   },
   {
    "duration": 25,
    "start_time": "2021-07-18T10:02:33.670Z"
   },
   {
    "duration": 13,
    "start_time": "2021-07-18T10:02:33.696Z"
   },
   {
    "duration": 745,
    "start_time": "2021-07-18T10:02:33.710Z"
   },
   {
    "duration": 5,
    "start_time": "2021-07-18T10:02:34.457Z"
   },
   {
    "duration": 50,
    "start_time": "2021-07-18T10:02:34.463Z"
   },
   {
    "duration": 5,
    "start_time": "2021-07-18T10:02:34.515Z"
   },
   {
    "duration": 41,
    "start_time": "2021-07-18T10:02:34.522Z"
   },
   {
    "duration": 367,
    "start_time": "2021-07-18T10:02:34.565Z"
   },
   {
    "duration": 4,
    "start_time": "2021-07-18T10:02:34.934Z"
   },
   {
    "duration": 6,
    "start_time": "2021-07-18T10:02:34.940Z"
   },
   {
    "duration": 217,
    "start_time": "2021-07-18T10:02:34.948Z"
   },
   {
    "duration": 19,
    "start_time": "2021-07-18T10:02:35.167Z"
   },
   {
    "duration": 6,
    "start_time": "2021-07-18T10:02:35.187Z"
   },
   {
    "duration": 63,
    "start_time": "2021-07-18T10:02:35.194Z"
   },
   {
    "duration": 222,
    "start_time": "2021-07-18T10:02:35.258Z"
   },
   {
    "duration": 8,
    "start_time": "2021-07-18T10:02:35.485Z"
   },
   {
    "duration": 36,
    "start_time": "2021-07-18T10:02:35.494Z"
   },
   {
    "duration": 594,
    "start_time": "2021-07-18T10:02:35.531Z"
   },
   {
    "duration": 146,
    "start_time": "2021-07-18T10:02:36.127Z"
   },
   {
    "duration": 15,
    "start_time": "2021-07-18T10:02:36.275Z"
   },
   {
    "duration": 19,
    "start_time": "2021-07-18T10:02:36.291Z"
   },
   {
    "duration": 35,
    "start_time": "2021-07-18T10:02:36.311Z"
   },
   {
    "duration": 23,
    "start_time": "2021-07-18T10:02:36.347Z"
   },
   {
    "duration": 16,
    "start_time": "2021-07-18T10:02:36.371Z"
   },
   {
    "duration": 27,
    "start_time": "2021-07-18T10:02:36.392Z"
   },
   {
    "duration": 64,
    "start_time": "2021-07-18T10:02:36.421Z"
   },
   {
    "duration": 16,
    "start_time": "2021-07-18T10:02:36.487Z"
   },
   {
    "duration": 537,
    "start_time": "2021-07-18T10:02:36.504Z"
   },
   {
    "duration": 5,
    "start_time": "2021-07-18T10:02:37.043Z"
   },
   {
    "duration": 14,
    "start_time": "2021-07-18T10:02:37.049Z"
   },
   {
    "duration": 152,
    "start_time": "2021-07-18T10:02:37.065Z"
   },
   {
    "duration": 179,
    "start_time": "2021-07-18T10:02:37.219Z"
   },
   {
    "duration": 11,
    "start_time": "2021-07-18T10:02:37.400Z"
   },
   {
    "duration": 27,
    "start_time": "2021-07-18T10:02:37.413Z"
   },
   {
    "duration": 288,
    "start_time": "2021-07-18T10:02:37.442Z"
   },
   {
    "duration": 7,
    "start_time": "2021-07-18T10:02:37.731Z"
   },
   {
    "duration": 54,
    "start_time": "2021-07-18T10:02:37.740Z"
   },
   {
    "duration": 5,
    "start_time": "2021-07-18T10:02:37.796Z"
   },
   {
    "duration": 266,
    "start_time": "2021-07-18T10:02:37.803Z"
   },
   {
    "duration": 3,
    "start_time": "2021-07-18T10:02:38.071Z"
   },
   {
    "duration": 25,
    "start_time": "2021-07-18T10:02:38.075Z"
   },
   {
    "duration": 418,
    "start_time": "2021-07-18T10:02:38.101Z"
   },
   {
    "duration": 7,
    "start_time": "2021-07-18T10:02:38.520Z"
   },
   {
    "duration": 26,
    "start_time": "2021-07-18T10:02:38.528Z"
   },
   {
    "duration": 14,
    "start_time": "2021-07-18T10:02:38.556Z"
   },
   {
    "duration": 315,
    "start_time": "2021-07-18T10:02:38.572Z"
   },
   {
    "duration": 10,
    "start_time": "2021-07-18T10:02:38.888Z"
   },
   {
    "duration": 533,
    "start_time": "2021-07-18T10:02:38.899Z"
   },
   {
    "duration": 4283,
    "start_time": "2021-07-18T10:11:37.116Z"
   },
   {
    "duration": 5,
    "start_time": "2021-07-18T10:11:57.381Z"
   },
   {
    "duration": 5,
    "start_time": "2021-07-18T10:15:24.645Z"
   }
  ],
  "kernelspec": {
   "display_name": "Python 3",
   "language": "python",
   "name": "python3"
  },
  "language_info": {
   "codemirror_mode": {
    "name": "ipython",
    "version": 3
   },
   "file_extension": ".py",
   "mimetype": "text/x-python",
   "name": "python",
   "nbconvert_exporter": "python",
   "pygments_lexer": "ipython3",
   "version": "3.7.10"
  },
  "toc": {
   "base_numbering": 1,
   "nav_menu": {},
   "number_sections": true,
   "sideBar": true,
   "skip_h1_title": true,
   "title_cell": "Table of Contents",
   "title_sidebar": "Contents",
   "toc_cell": false,
   "toc_position": {},
   "toc_section_display": true,
   "toc_window_display": false
  }
 },
 "nbformat": 4,
 "nbformat_minor": 5
}
